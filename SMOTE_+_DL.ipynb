{
  "nbformat": 4,
  "nbformat_minor": 0,
  "metadata": {
    "colab": {
      "provenance": []
    },
    "kernelspec": {
      "name": "python3",
      "display_name": "Python 3"
    },
    "language_info": {
      "name": "python"
    }
  },
  "cells": [
    {
      "cell_type": "markdown",
      "source": [
        "# **SMOTE**"
      ],
      "metadata": {
        "id": "kmpHigQnmnUP"
      }
    },
    {
      "cell_type": "code",
      "execution_count": null,
      "metadata": {
        "id": "v55RBY-pVroE"
      },
      "outputs": [],
      "source": [
        "import pandas as pd\n",
        "from imblearn.over_sampling import SMOTE\n",
        "data = pd.read_csv('impckd.csv')"
      ]
    },
    {
      "cell_type": "code",
      "source": [
        "classes = data['class'].unique()\n",
        "class_counts = data['class'].value_counts()\n",
        "class_counts"
      ],
      "metadata": {
        "colab": {
          "base_uri": "https://localhost:8080/"
        },
        "id": "IO4esFh4ZEPR",
        "outputId": "aa3a6ffe-6d9c-4eb1-fac4-83a45e433a4a"
      },
      "execution_count": null,
      "outputs": [
        {
          "output_type": "execute_result",
          "data": {
            "text/plain": [
              "1    250\n",
              "0    150\n",
              "Name: class, dtype: int64"
            ]
          },
          "metadata": {},
          "execution_count": 2
        }
      ]
    },
    {
      "cell_type": "code",
      "source": [
        "X = data.drop('class', axis=1)\n",
        "y = data['class']\n",
        "smote = SMOTE(random_state=42)\n",
        "X_smote, y_smote = smote.fit_resample(X, y)\n",
        "print(\"Original data shape:\", X.shape, y.shape)\n",
        "print(\"Resampled data shape:\", X_smote.shape, y_smote.shape)"
      ],
      "metadata": {
        "colab": {
          "base_uri": "https://localhost:8080/"
        },
        "id": "pfP5XlmDXVs4",
        "outputId": "042b1694-0b4e-4b9c-a26b-819db27e3776"
      },
      "execution_count": null,
      "outputs": [
        {
          "output_type": "stream",
          "name": "stdout",
          "text": [
            "Original data shape: (400, 24) (400,)\n",
            "Resampled data shape: (500, 24) (500,)\n"
          ]
        }
      ]
    },
    {
      "cell_type": "code",
      "source": [
        "X_smote\n",
        "type(X_smote)"
      ],
      "metadata": {
        "colab": {
          "base_uri": "https://localhost:8080/"
        },
        "id": "HY2yd5xBZwCR",
        "outputId": "e0891ace-0be1-4311-d5aa-f2c44313148f"
      },
      "execution_count": null,
      "outputs": [
        {
          "output_type": "execute_result",
          "data": {
            "text/plain": [
              "pandas.core.frame.DataFrame"
            ]
          },
          "metadata": {},
          "execution_count": 5
        }
      ]
    },
    {
      "cell_type": "code",
      "source": [
        "df3=pd.concat([x_smote,y_smote],axis=1)\n",
        "df3.head()"
      ],
      "metadata": {
        "colab": {
          "base_uri": "https://localhost:8080/",
          "height": 235
        },
        "id": "ehAOpiLwWKbg",
        "outputId": "2518df8a-1dc8-4451-ddc2-b05817691cd7"
      },
      "execution_count": null,
      "outputs": [
        {
          "output_type": "execute_result",
          "data": {
            "text/plain": [
              "    age    bp     sg   al   su       rbc   pc  pcc   ba         bgr  ...  \\\n",
              "0  48.0  80.0  1.020  1.0  0.0  0.810484  1.0  0.0  0.0  121.000000  ...   \n",
              "1   7.0  50.0  1.020  4.0  0.0  0.810484  1.0  0.0  0.0  148.036517  ...   \n",
              "2  62.0  80.0  1.010  2.0  3.0  1.000000  1.0  0.0  0.0  423.000000  ...   \n",
              "3  48.0  70.0  1.005  4.0  0.0  1.000000  0.0  1.0  0.0  117.000000  ...   \n",
              "4  51.0  80.0  1.010  2.0  0.0  1.000000  1.0  0.0  0.0  106.000000  ...   \n",
              "\n",
              "    pcv    wbcc      rbcc  htn   dm  cad  appet   pe  ane  class  \n",
              "0  44.0  7800.0  5.200000  1.0  1.0  0.0    1.0  0.0  0.0      1  \n",
              "1  38.0  6000.0  4.707435  0.0  0.0  0.0    1.0  0.0  0.0      1  \n",
              "2  31.0  7500.0  4.707435  0.0  1.0  0.0    0.0  0.0  1.0      1  \n",
              "3  32.0  6700.0  3.900000  1.0  0.0  0.0    0.0  1.0  1.0      1  \n",
              "4  35.0  7300.0  4.600000  0.0  0.0  0.0    1.0  0.0  0.0      1  \n",
              "\n",
              "[5 rows x 25 columns]"
            ],
            "text/html": [
              "\n",
              "  <div id=\"df-b29cfc01-813c-4492-acdb-5fead1f9a8f6\">\n",
              "    <div class=\"colab-df-container\">\n",
              "      <div>\n",
              "<style scoped>\n",
              "    .dataframe tbody tr th:only-of-type {\n",
              "        vertical-align: middle;\n",
              "    }\n",
              "\n",
              "    .dataframe tbody tr th {\n",
              "        vertical-align: top;\n",
              "    }\n",
              "\n",
              "    .dataframe thead th {\n",
              "        text-align: right;\n",
              "    }\n",
              "</style>\n",
              "<table border=\"1\" class=\"dataframe\">\n",
              "  <thead>\n",
              "    <tr style=\"text-align: right;\">\n",
              "      <th></th>\n",
              "      <th>age</th>\n",
              "      <th>bp</th>\n",
              "      <th>sg</th>\n",
              "      <th>al</th>\n",
              "      <th>su</th>\n",
              "      <th>rbc</th>\n",
              "      <th>pc</th>\n",
              "      <th>pcc</th>\n",
              "      <th>ba</th>\n",
              "      <th>bgr</th>\n",
              "      <th>...</th>\n",
              "      <th>pcv</th>\n",
              "      <th>wbcc</th>\n",
              "      <th>rbcc</th>\n",
              "      <th>htn</th>\n",
              "      <th>dm</th>\n",
              "      <th>cad</th>\n",
              "      <th>appet</th>\n",
              "      <th>pe</th>\n",
              "      <th>ane</th>\n",
              "      <th>class</th>\n",
              "    </tr>\n",
              "  </thead>\n",
              "  <tbody>\n",
              "    <tr>\n",
              "      <th>0</th>\n",
              "      <td>48.0</td>\n",
              "      <td>80.0</td>\n",
              "      <td>1.020</td>\n",
              "      <td>1.0</td>\n",
              "      <td>0.0</td>\n",
              "      <td>0.810484</td>\n",
              "      <td>1.0</td>\n",
              "      <td>0.0</td>\n",
              "      <td>0.0</td>\n",
              "      <td>121.000000</td>\n",
              "      <td>...</td>\n",
              "      <td>44.0</td>\n",
              "      <td>7800.0</td>\n",
              "      <td>5.200000</td>\n",
              "      <td>1.0</td>\n",
              "      <td>1.0</td>\n",
              "      <td>0.0</td>\n",
              "      <td>1.0</td>\n",
              "      <td>0.0</td>\n",
              "      <td>0.0</td>\n",
              "      <td>1</td>\n",
              "    </tr>\n",
              "    <tr>\n",
              "      <th>1</th>\n",
              "      <td>7.0</td>\n",
              "      <td>50.0</td>\n",
              "      <td>1.020</td>\n",
              "      <td>4.0</td>\n",
              "      <td>0.0</td>\n",
              "      <td>0.810484</td>\n",
              "      <td>1.0</td>\n",
              "      <td>0.0</td>\n",
              "      <td>0.0</td>\n",
              "      <td>148.036517</td>\n",
              "      <td>...</td>\n",
              "      <td>38.0</td>\n",
              "      <td>6000.0</td>\n",
              "      <td>4.707435</td>\n",
              "      <td>0.0</td>\n",
              "      <td>0.0</td>\n",
              "      <td>0.0</td>\n",
              "      <td>1.0</td>\n",
              "      <td>0.0</td>\n",
              "      <td>0.0</td>\n",
              "      <td>1</td>\n",
              "    </tr>\n",
              "    <tr>\n",
              "      <th>2</th>\n",
              "      <td>62.0</td>\n",
              "      <td>80.0</td>\n",
              "      <td>1.010</td>\n",
              "      <td>2.0</td>\n",
              "      <td>3.0</td>\n",
              "      <td>1.000000</td>\n",
              "      <td>1.0</td>\n",
              "      <td>0.0</td>\n",
              "      <td>0.0</td>\n",
              "      <td>423.000000</td>\n",
              "      <td>...</td>\n",
              "      <td>31.0</td>\n",
              "      <td>7500.0</td>\n",
              "      <td>4.707435</td>\n",
              "      <td>0.0</td>\n",
              "      <td>1.0</td>\n",
              "      <td>0.0</td>\n",
              "      <td>0.0</td>\n",
              "      <td>0.0</td>\n",
              "      <td>1.0</td>\n",
              "      <td>1</td>\n",
              "    </tr>\n",
              "    <tr>\n",
              "      <th>3</th>\n",
              "      <td>48.0</td>\n",
              "      <td>70.0</td>\n",
              "      <td>1.005</td>\n",
              "      <td>4.0</td>\n",
              "      <td>0.0</td>\n",
              "      <td>1.000000</td>\n",
              "      <td>0.0</td>\n",
              "      <td>1.0</td>\n",
              "      <td>0.0</td>\n",
              "      <td>117.000000</td>\n",
              "      <td>...</td>\n",
              "      <td>32.0</td>\n",
              "      <td>6700.0</td>\n",
              "      <td>3.900000</td>\n",
              "      <td>1.0</td>\n",
              "      <td>0.0</td>\n",
              "      <td>0.0</td>\n",
              "      <td>0.0</td>\n",
              "      <td>1.0</td>\n",
              "      <td>1.0</td>\n",
              "      <td>1</td>\n",
              "    </tr>\n",
              "    <tr>\n",
              "      <th>4</th>\n",
              "      <td>51.0</td>\n",
              "      <td>80.0</td>\n",
              "      <td>1.010</td>\n",
              "      <td>2.0</td>\n",
              "      <td>0.0</td>\n",
              "      <td>1.000000</td>\n",
              "      <td>1.0</td>\n",
              "      <td>0.0</td>\n",
              "      <td>0.0</td>\n",
              "      <td>106.000000</td>\n",
              "      <td>...</td>\n",
              "      <td>35.0</td>\n",
              "      <td>7300.0</td>\n",
              "      <td>4.600000</td>\n",
              "      <td>0.0</td>\n",
              "      <td>0.0</td>\n",
              "      <td>0.0</td>\n",
              "      <td>1.0</td>\n",
              "      <td>0.0</td>\n",
              "      <td>0.0</td>\n",
              "      <td>1</td>\n",
              "    </tr>\n",
              "  </tbody>\n",
              "</table>\n",
              "<p>5 rows × 25 columns</p>\n",
              "</div>\n",
              "      <button class=\"colab-df-convert\" onclick=\"convertToInteractive('df-b29cfc01-813c-4492-acdb-5fead1f9a8f6')\"\n",
              "              title=\"Convert this dataframe to an interactive table.\"\n",
              "              style=\"display:none;\">\n",
              "        \n",
              "  <svg xmlns=\"http://www.w3.org/2000/svg\" height=\"24px\"viewBox=\"0 0 24 24\"\n",
              "       width=\"24px\">\n",
              "    <path d=\"M0 0h24v24H0V0z\" fill=\"none\"/>\n",
              "    <path d=\"M18.56 5.44l.94 2.06.94-2.06 2.06-.94-2.06-.94-.94-2.06-.94 2.06-2.06.94zm-11 1L8.5 8.5l.94-2.06 2.06-.94-2.06-.94L8.5 2.5l-.94 2.06-2.06.94zm10 10l.94 2.06.94-2.06 2.06-.94-2.06-.94-.94-2.06-.94 2.06-2.06.94z\"/><path d=\"M17.41 7.96l-1.37-1.37c-.4-.4-.92-.59-1.43-.59-.52 0-1.04.2-1.43.59L10.3 9.45l-7.72 7.72c-.78.78-.78 2.05 0 2.83L4 21.41c.39.39.9.59 1.41.59.51 0 1.02-.2 1.41-.59l7.78-7.78 2.81-2.81c.8-.78.8-2.07 0-2.86zM5.41 20L4 18.59l7.72-7.72 1.47 1.35L5.41 20z\"/>\n",
              "  </svg>\n",
              "      </button>\n",
              "      \n",
              "  <style>\n",
              "    .colab-df-container {\n",
              "      display:flex;\n",
              "      flex-wrap:wrap;\n",
              "      gap: 12px;\n",
              "    }\n",
              "\n",
              "    .colab-df-convert {\n",
              "      background-color: #E8F0FE;\n",
              "      border: none;\n",
              "      border-radius: 50%;\n",
              "      cursor: pointer;\n",
              "      display: none;\n",
              "      fill: #1967D2;\n",
              "      height: 32px;\n",
              "      padding: 0 0 0 0;\n",
              "      width: 32px;\n",
              "    }\n",
              "\n",
              "    .colab-df-convert:hover {\n",
              "      background-color: #E2EBFA;\n",
              "      box-shadow: 0px 1px 2px rgba(60, 64, 67, 0.3), 0px 1px 3px 1px rgba(60, 64, 67, 0.15);\n",
              "      fill: #174EA6;\n",
              "    }\n",
              "\n",
              "    [theme=dark] .colab-df-convert {\n",
              "      background-color: #3B4455;\n",
              "      fill: #D2E3FC;\n",
              "    }\n",
              "\n",
              "    [theme=dark] .colab-df-convert:hover {\n",
              "      background-color: #434B5C;\n",
              "      box-shadow: 0px 1px 3px 1px rgba(0, 0, 0, 0.15);\n",
              "      filter: drop-shadow(0px 1px 2px rgba(0, 0, 0, 0.3));\n",
              "      fill: #FFFFFF;\n",
              "    }\n",
              "  </style>\n",
              "\n",
              "      <script>\n",
              "        const buttonEl =\n",
              "          document.querySelector('#df-b29cfc01-813c-4492-acdb-5fead1f9a8f6 button.colab-df-convert');\n",
              "        buttonEl.style.display =\n",
              "          google.colab.kernel.accessAllowed ? 'block' : 'none';\n",
              "\n",
              "        async function convertToInteractive(key) {\n",
              "          const element = document.querySelector('#df-b29cfc01-813c-4492-acdb-5fead1f9a8f6');\n",
              "          const dataTable =\n",
              "            await google.colab.kernel.invokeFunction('convertToInteractive',\n",
              "                                                     [key], {});\n",
              "          if (!dataTable) return;\n",
              "\n",
              "          const docLinkHtml = 'Like what you see? Visit the ' +\n",
              "            '<a target=\"_blank\" href=https://colab.research.google.com/notebooks/data_table.ipynb>data table notebook</a>'\n",
              "            + ' to learn more about interactive tables.';\n",
              "          element.innerHTML = '';\n",
              "          dataTable['output_type'] = 'display_data';\n",
              "          await google.colab.output.renderOutput(dataTable, element);\n",
              "          const docLink = document.createElement('div');\n",
              "          docLink.innerHTML = docLinkHtml;\n",
              "          element.appendChild(docLink);\n",
              "        }\n",
              "      </script>\n",
              "    </div>\n",
              "  </div>\n",
              "  "
            ]
          },
          "metadata": {},
          "execution_count": 8
        }
      ]
    },
    {
      "cell_type": "code",
      "source": [
        "sm= df3['class'].unique()\n",
        "sm_counts = df3['class'].value_counts()\n",
        "sm_counts"
      ],
      "metadata": {
        "colab": {
          "base_uri": "https://localhost:8080/"
        },
        "id": "DurJqkaxW7Sr",
        "outputId": "67a6525f-7d89-4879-d2d5-d13572e50dc9"
      },
      "execution_count": null,
      "outputs": [
        {
          "output_type": "execute_result",
          "data": {
            "text/plain": [
              "1    250\n",
              "0    250\n",
              "Name: class, dtype: int64"
            ]
          },
          "metadata": {},
          "execution_count": 9
        }
      ]
    },
    {
      "cell_type": "code",
      "source": [
        "df3.to_csv(\"smote.csv\")"
      ],
      "metadata": {
        "id": "YJXakj-RWrvL"
      },
      "execution_count": null,
      "outputs": []
    },
    {
      "cell_type": "markdown",
      "source": [
        "# **SVM**"
      ],
      "metadata": {
        "id": "1gMCIZEfYEeP"
      }
    },
    {
      "cell_type": "code",
      "execution_count": null,
      "metadata": {
        "id": "xLwc_Qn5G97b"
      },
      "outputs": [],
      "source": [
        "import pandas as pd\n",
        "from sklearn.model_selection import train_test_split\n",
        "from sklearn.svm import LinearSVC"
      ]
    },
    {
      "cell_type": "code",
      "source": [
        "dataset = pd.read_csv('smote.csv')"
      ],
      "metadata": {
        "id": "rPaQ7tFdHR16"
      },
      "execution_count": null,
      "outputs": []
    },
    {
      "cell_type": "code",
      "source": [
        "X = dataset.iloc[:, :-1].values\n",
        "y = dataset.iloc[:, -1].values"
      ],
      "metadata": {
        "id": "uolHSsGzHVJ4"
      },
      "execution_count": null,
      "outputs": []
    },
    {
      "cell_type": "code",
      "source": [
        "X_train, X_test, y_train, y_test = train_test_split(X, y, test_size=0.2, random_state=42)"
      ],
      "metadata": {
        "id": "aG5AsdMDHYwA"
      },
      "execution_count": null,
      "outputs": []
    },
    {
      "cell_type": "code",
      "source": [
        "svm_model = LinearSVC(penalty='l1', dual=False)\n",
        "svm_model.fit(X_train, y_train)"
      ],
      "metadata": {
        "colab": {
          "base_uri": "https://localhost:8080/",
          "height": 74
        },
        "id": "UUFAAggPHmfT",
        "outputId": "a994a6c5-5015-45f7-c838-ceed6c65203b"
      },
      "execution_count": null,
      "outputs": [
        {
          "output_type": "execute_result",
          "data": {
            "text/plain": [
              "LinearSVC(dual=False, penalty='l1')"
            ],
            "text/html": [
              "<style>#sk-container-id-1 {color: black;background-color: white;}#sk-container-id-1 pre{padding: 0;}#sk-container-id-1 div.sk-toggleable {background-color: white;}#sk-container-id-1 label.sk-toggleable__label {cursor: pointer;display: block;width: 100%;margin-bottom: 0;padding: 0.3em;box-sizing: border-box;text-align: center;}#sk-container-id-1 label.sk-toggleable__label-arrow:before {content: \"▸\";float: left;margin-right: 0.25em;color: #696969;}#sk-container-id-1 label.sk-toggleable__label-arrow:hover:before {color: black;}#sk-container-id-1 div.sk-estimator:hover label.sk-toggleable__label-arrow:before {color: black;}#sk-container-id-1 div.sk-toggleable__content {max-height: 0;max-width: 0;overflow: hidden;text-align: left;background-color: #f0f8ff;}#sk-container-id-1 div.sk-toggleable__content pre {margin: 0.2em;color: black;border-radius: 0.25em;background-color: #f0f8ff;}#sk-container-id-1 input.sk-toggleable__control:checked~div.sk-toggleable__content {max-height: 200px;max-width: 100%;overflow: auto;}#sk-container-id-1 input.sk-toggleable__control:checked~label.sk-toggleable__label-arrow:before {content: \"▾\";}#sk-container-id-1 div.sk-estimator input.sk-toggleable__control:checked~label.sk-toggleable__label {background-color: #d4ebff;}#sk-container-id-1 div.sk-label input.sk-toggleable__control:checked~label.sk-toggleable__label {background-color: #d4ebff;}#sk-container-id-1 input.sk-hidden--visually {border: 0;clip: rect(1px 1px 1px 1px);clip: rect(1px, 1px, 1px, 1px);height: 1px;margin: -1px;overflow: hidden;padding: 0;position: absolute;width: 1px;}#sk-container-id-1 div.sk-estimator {font-family: monospace;background-color: #f0f8ff;border: 1px dotted black;border-radius: 0.25em;box-sizing: border-box;margin-bottom: 0.5em;}#sk-container-id-1 div.sk-estimator:hover {background-color: #d4ebff;}#sk-container-id-1 div.sk-parallel-item::after {content: \"\";width: 100%;border-bottom: 1px solid gray;flex-grow: 1;}#sk-container-id-1 div.sk-label:hover label.sk-toggleable__label {background-color: #d4ebff;}#sk-container-id-1 div.sk-serial::before {content: \"\";position: absolute;border-left: 1px solid gray;box-sizing: border-box;top: 0;bottom: 0;left: 50%;z-index: 0;}#sk-container-id-1 div.sk-serial {display: flex;flex-direction: column;align-items: center;background-color: white;padding-right: 0.2em;padding-left: 0.2em;position: relative;}#sk-container-id-1 div.sk-item {position: relative;z-index: 1;}#sk-container-id-1 div.sk-parallel {display: flex;align-items: stretch;justify-content: center;background-color: white;position: relative;}#sk-container-id-1 div.sk-item::before, #sk-container-id-1 div.sk-parallel-item::before {content: \"\";position: absolute;border-left: 1px solid gray;box-sizing: border-box;top: 0;bottom: 0;left: 50%;z-index: -1;}#sk-container-id-1 div.sk-parallel-item {display: flex;flex-direction: column;z-index: 1;position: relative;background-color: white;}#sk-container-id-1 div.sk-parallel-item:first-child::after {align-self: flex-end;width: 50%;}#sk-container-id-1 div.sk-parallel-item:last-child::after {align-self: flex-start;width: 50%;}#sk-container-id-1 div.sk-parallel-item:only-child::after {width: 0;}#sk-container-id-1 div.sk-dashed-wrapped {border: 1px dashed gray;margin: 0 0.4em 0.5em 0.4em;box-sizing: border-box;padding-bottom: 0.4em;background-color: white;}#sk-container-id-1 div.sk-label label {font-family: monospace;font-weight: bold;display: inline-block;line-height: 1.2em;}#sk-container-id-1 div.sk-label-container {text-align: center;}#sk-container-id-1 div.sk-container {/* jupyter's `normalize.less` sets `[hidden] { display: none; }` but bootstrap.min.css set `[hidden] { display: none !important; }` so we also need the `!important` here to be able to override the default hidden behavior on the sphinx rendered scikit-learn.org. See: https://github.com/scikit-learn/scikit-learn/issues/21755 */display: inline-block !important;position: relative;}#sk-container-id-1 div.sk-text-repr-fallback {display: none;}</style><div id=\"sk-container-id-1\" class=\"sk-top-container\"><div class=\"sk-text-repr-fallback\"><pre>LinearSVC(dual=False, penalty=&#x27;l1&#x27;)</pre><b>In a Jupyter environment, please rerun this cell to show the HTML representation or trust the notebook. <br />On GitHub, the HTML representation is unable to render, please try loading this page with nbviewer.org.</b></div><div class=\"sk-container\" hidden><div class=\"sk-item\"><div class=\"sk-estimator sk-toggleable\"><input class=\"sk-toggleable__control sk-hidden--visually\" id=\"sk-estimator-id-1\" type=\"checkbox\" checked><label for=\"sk-estimator-id-1\" class=\"sk-toggleable__label sk-toggleable__label-arrow\">LinearSVC</label><div class=\"sk-toggleable__content\"><pre>LinearSVC(dual=False, penalty=&#x27;l1&#x27;)</pre></div></div></div></div></div>"
            ]
          },
          "metadata": {},
          "execution_count": 16
        }
      ]
    },
    {
      "cell_type": "code",
      "source": [
        "y_pred = svm_model.predict(X_test)"
      ],
      "metadata": {
        "id": "SlX7SGmbH8RR"
      },
      "execution_count": null,
      "outputs": []
    },
    {
      "cell_type": "code",
      "source": [
        "from sklearn.metrics import accuracy_score,precision_score,f1_score,roc_auc_score, recall_score\n",
        "accuracy = accuracy_score(y_test, y_pred)\n",
        "precision = precision_score(y_test, y_pred, pos_label=1)\n",
        "recall = recall_score(y_test, y_pred)\n",
        "f_measure = f1_score(y_test, y_pred)\n",
        "auc = roc_auc_score(y_test, y_pred)\n",
        "gini_coefficient = 2 * roc_auc_score(y_test, y_pred) - 1\n",
        "print(\"Accuracy: \", accuracy*100)\n",
        "print(\"Precision: \", precision*100)\n",
        "print(\"Recall: \", recall*100)\n",
        "print(\"F-measure: \", round(f_measure*100,2))\n",
        "print(\"AUC: \", round(auc*100,2))\n",
        "print(\"Gini coefficient: \", round(gini_coefficient*100,2))"
      ],
      "metadata": {
        "colab": {
          "base_uri": "https://localhost:8080/"
        },
        "id": "vbnt6o1eH__Z",
        "outputId": "7cbc5776-c3de-4137-d0bc-9493fe3f5050"
      },
      "execution_count": null,
      "outputs": [
        {
          "output_type": "stream",
          "name": "stdout",
          "text": [
            "Accuracy:  100.0\n",
            "Precision:  100.0\n",
            "Recall:  100.0\n",
            "F-measure:  100.0\n",
            "AUC:  100.0\n",
            "Gini coefficient:  100.0\n"
          ]
        }
      ]
    },
    {
      "cell_type": "code",
      "source": [
        "#svm with L2 penalty\n",
        "svm_model1 = LinearSVC(penalty='l2', dual=False)\n",
        "svm_model1.fit(X_train, y_train)\n",
        "y_pred = svm_model1.predict(X_test)"
      ],
      "metadata": {
        "id": "VsYD_dOFIErt"
      },
      "execution_count": null,
      "outputs": []
    },
    {
      "cell_type": "code",
      "source": [
        "from sklearn.metrics import accuracy_score,precision_score,f1_score,roc_auc_score, recall_score\n",
        "accuracy = accuracy_score(y_test, y_pred)\n",
        "precision = precision_score(y_test, y_pred, pos_label=1)\n",
        "recall = recall_score(y_test, y_pred)\n",
        "f_measure = f1_score(y_test, y_pred)\n",
        "auc = roc_auc_score(y_test, y_pred)\n",
        "gini_coefficient = 2 * roc_auc_score(y_test, y_pred) - 1\n",
        "print(\"Accuracy: \", accuracy*100)\n",
        "print(\"Precision: \", precision*100)\n",
        "print(\"Recall: \", recall*100)\n",
        "print(\"F-measure: \", round(f_measure*100,2))\n",
        "print(\"AUC: \", round(auc*100,2))\n",
        "print(\"Gini coefficient: \", round(gini_coefficient*100,2))"
      ],
      "metadata": {
        "colab": {
          "base_uri": "https://localhost:8080/"
        },
        "id": "0Yh_2GKNIwGf",
        "outputId": "c4bfbfb6-d0f6-40db-a2d3-fc8ca80789ec"
      },
      "execution_count": null,
      "outputs": [
        {
          "output_type": "stream",
          "name": "stdout",
          "text": [
            "Accuracy:  99.0\n",
            "Precision:  100.0\n",
            "Recall:  97.82608695652173\n",
            "F-measure:  98.9\n",
            "AUC:  98.91\n",
            "Gini coefficient:  97.83\n"
          ]
        }
      ]
    },
    {
      "cell_type": "markdown",
      "source": [
        "# **LOGISTIC REGRESSION**"
      ],
      "metadata": {
        "id": "FFNz5BXAYb14"
      }
    },
    {
      "cell_type": "code",
      "execution_count": null,
      "metadata": {
        "id": "3XoRZrSpFhir"
      },
      "outputs": [],
      "source": [
        "import pandas as pd\n",
        "from sklearn.linear_model import LogisticRegression\n",
        "from sklearn.model_selection import train_test_split"
      ]
    },
    {
      "cell_type": "code",
      "source": [
        "dataset = pd.read_csv('smote.csv')"
      ],
      "metadata": {
        "id": "DWvnw4K7FpsL"
      },
      "execution_count": null,
      "outputs": []
    },
    {
      "cell_type": "code",
      "source": [
        "X = dataset.iloc[:, :-1].values\n",
        "y = dataset.iloc[:, -1].values"
      ],
      "metadata": {
        "id": "uLOZ2eYNFu-C"
      },
      "execution_count": null,
      "outputs": []
    },
    {
      "cell_type": "code",
      "source": [
        "X_train, X_test, y_train, y_test = train_test_split(X, y, test_size=0.4, random_state=123)"
      ],
      "metadata": {
        "id": "wbVdu5dBFx0v"
      },
      "execution_count": null,
      "outputs": []
    },
    {
      "cell_type": "code",
      "source": [
        "lr = LogisticRegression()"
      ],
      "metadata": {
        "id": "OAfBoWHDF1DK"
      },
      "execution_count": null,
      "outputs": []
    },
    {
      "cell_type": "code",
      "source": [
        "lr.fit(X_train, y_train)"
      ],
      "metadata": {
        "colab": {
          "base_uri": "https://localhost:8080/",
          "height": 213
        },
        "id": "8OEWSNApF36n",
        "outputId": "da74a040-b731-45af-e8ce-799c14306360"
      },
      "execution_count": null,
      "outputs": [
        {
          "output_type": "stream",
          "name": "stderr",
          "text": [
            "/usr/local/lib/python3.10/dist-packages/sklearn/linear_model/_logistic.py:458: ConvergenceWarning: lbfgs failed to converge (status=1):\n",
            "STOP: TOTAL NO. of ITERATIONS REACHED LIMIT.\n",
            "\n",
            "Increase the number of iterations (max_iter) or scale the data as shown in:\n",
            "    https://scikit-learn.org/stable/modules/preprocessing.html\n",
            "Please also refer to the documentation for alternative solver options:\n",
            "    https://scikit-learn.org/stable/modules/linear_model.html#logistic-regression\n",
            "  n_iter_i = _check_optimize_result(\n"
          ]
        },
        {
          "output_type": "execute_result",
          "data": {
            "text/plain": [
              "LogisticRegression()"
            ],
            "text/html": [
              "<style>#sk-container-id-2 {color: black;background-color: white;}#sk-container-id-2 pre{padding: 0;}#sk-container-id-2 div.sk-toggleable {background-color: white;}#sk-container-id-2 label.sk-toggleable__label {cursor: pointer;display: block;width: 100%;margin-bottom: 0;padding: 0.3em;box-sizing: border-box;text-align: center;}#sk-container-id-2 label.sk-toggleable__label-arrow:before {content: \"▸\";float: left;margin-right: 0.25em;color: #696969;}#sk-container-id-2 label.sk-toggleable__label-arrow:hover:before {color: black;}#sk-container-id-2 div.sk-estimator:hover label.sk-toggleable__label-arrow:before {color: black;}#sk-container-id-2 div.sk-toggleable__content {max-height: 0;max-width: 0;overflow: hidden;text-align: left;background-color: #f0f8ff;}#sk-container-id-2 div.sk-toggleable__content pre {margin: 0.2em;color: black;border-radius: 0.25em;background-color: #f0f8ff;}#sk-container-id-2 input.sk-toggleable__control:checked~div.sk-toggleable__content {max-height: 200px;max-width: 100%;overflow: auto;}#sk-container-id-2 input.sk-toggleable__control:checked~label.sk-toggleable__label-arrow:before {content: \"▾\";}#sk-container-id-2 div.sk-estimator input.sk-toggleable__control:checked~label.sk-toggleable__label {background-color: #d4ebff;}#sk-container-id-2 div.sk-label input.sk-toggleable__control:checked~label.sk-toggleable__label {background-color: #d4ebff;}#sk-container-id-2 input.sk-hidden--visually {border: 0;clip: rect(1px 1px 1px 1px);clip: rect(1px, 1px, 1px, 1px);height: 1px;margin: -1px;overflow: hidden;padding: 0;position: absolute;width: 1px;}#sk-container-id-2 div.sk-estimator {font-family: monospace;background-color: #f0f8ff;border: 1px dotted black;border-radius: 0.25em;box-sizing: border-box;margin-bottom: 0.5em;}#sk-container-id-2 div.sk-estimator:hover {background-color: #d4ebff;}#sk-container-id-2 div.sk-parallel-item::after {content: \"\";width: 100%;border-bottom: 1px solid gray;flex-grow: 1;}#sk-container-id-2 div.sk-label:hover label.sk-toggleable__label {background-color: #d4ebff;}#sk-container-id-2 div.sk-serial::before {content: \"\";position: absolute;border-left: 1px solid gray;box-sizing: border-box;top: 0;bottom: 0;left: 50%;z-index: 0;}#sk-container-id-2 div.sk-serial {display: flex;flex-direction: column;align-items: center;background-color: white;padding-right: 0.2em;padding-left: 0.2em;position: relative;}#sk-container-id-2 div.sk-item {position: relative;z-index: 1;}#sk-container-id-2 div.sk-parallel {display: flex;align-items: stretch;justify-content: center;background-color: white;position: relative;}#sk-container-id-2 div.sk-item::before, #sk-container-id-2 div.sk-parallel-item::before {content: \"\";position: absolute;border-left: 1px solid gray;box-sizing: border-box;top: 0;bottom: 0;left: 50%;z-index: -1;}#sk-container-id-2 div.sk-parallel-item {display: flex;flex-direction: column;z-index: 1;position: relative;background-color: white;}#sk-container-id-2 div.sk-parallel-item:first-child::after {align-self: flex-end;width: 50%;}#sk-container-id-2 div.sk-parallel-item:last-child::after {align-self: flex-start;width: 50%;}#sk-container-id-2 div.sk-parallel-item:only-child::after {width: 0;}#sk-container-id-2 div.sk-dashed-wrapped {border: 1px dashed gray;margin: 0 0.4em 0.5em 0.4em;box-sizing: border-box;padding-bottom: 0.4em;background-color: white;}#sk-container-id-2 div.sk-label label {font-family: monospace;font-weight: bold;display: inline-block;line-height: 1.2em;}#sk-container-id-2 div.sk-label-container {text-align: center;}#sk-container-id-2 div.sk-container {/* jupyter's `normalize.less` sets `[hidden] { display: none; }` but bootstrap.min.css set `[hidden] { display: none !important; }` so we also need the `!important` here to be able to override the default hidden behavior on the sphinx rendered scikit-learn.org. See: https://github.com/scikit-learn/scikit-learn/issues/21755 */display: inline-block !important;position: relative;}#sk-container-id-2 div.sk-text-repr-fallback {display: none;}</style><div id=\"sk-container-id-2\" class=\"sk-top-container\"><div class=\"sk-text-repr-fallback\"><pre>LogisticRegression()</pre><b>In a Jupyter environment, please rerun this cell to show the HTML representation or trust the notebook. <br />On GitHub, the HTML representation is unable to render, please try loading this page with nbviewer.org.</b></div><div class=\"sk-container\" hidden><div class=\"sk-item\"><div class=\"sk-estimator sk-toggleable\"><input class=\"sk-toggleable__control sk-hidden--visually\" id=\"sk-estimator-id-2\" type=\"checkbox\" checked><label for=\"sk-estimator-id-2\" class=\"sk-toggleable__label sk-toggleable__label-arrow\">LogisticRegression</label><div class=\"sk-toggleable__content\"><pre>LogisticRegression()</pre></div></div></div></div></div>"
            ]
          },
          "metadata": {},
          "execution_count": 26
        }
      ]
    },
    {
      "cell_type": "code",
      "source": [
        "y_pred = lr.predict(X_test)"
      ],
      "metadata": {
        "id": "PQ3hjctHF6za"
      },
      "execution_count": null,
      "outputs": []
    },
    {
      "cell_type": "code",
      "source": [
        "from sklearn.metrics import accuracy_score,precision_score,f1_score,roc_auc_score\n",
        "accuracy = accuracy_score(y_test, y_pred)\n",
        "precision = precision_score(y_test, y_pred, pos_label=1)\n",
        "f_measure = f1_score(y_test, y_pred)\n",
        "auc = roc_auc_score(y_test, y_pred)\n",
        "gini_coefficient = 2 * roc_auc_score(y_test, y_pred) - 1\n",
        "print(\"Accuracy: \", round(accuracy*100,2))\n",
        "print(\"Precision: \", round(precision*100,2))\n",
        "print(\"F-measure: \", round(f_measure*100,2))\n",
        "print(\"AUC: \", round(auc*100,2))\n",
        "print(\"Gini coefficient: \", round(gini_coefficient*100,2))"
      ],
      "metadata": {
        "colab": {
          "base_uri": "https://localhost:8080/"
        },
        "id": "fws2XjkBGBq8",
        "outputId": "5c6306c6-4128-4c1e-9928-ff4c8f26faa8"
      },
      "execution_count": null,
      "outputs": [
        {
          "output_type": "stream",
          "name": "stdout",
          "text": [
            "Accuracy:  99.5\n",
            "Precision:  98.99\n",
            "F-measure:  99.49\n",
            "AUC:  99.51\n",
            "Gini coefficient:  99.02\n"
          ]
        }
      ]
    },
    {
      "cell_type": "markdown",
      "source": [
        "# **ANN**"
      ],
      "metadata": {
        "id": "W0Ib6dAeYpW1"
      }
    },
    {
      "cell_type": "code",
      "execution_count": null,
      "metadata": {
        "id": "hMfGNZgrMXxq"
      },
      "outputs": [],
      "source": [
        "import glob\n",
        "from keras.models import Sequential, load_model\n",
        "import numpy as np\n",
        "import pandas as pd\n",
        "import keras as k\n",
        "from keras.layers import Dense\n",
        "from sklearn.model_selection import train_test_split\n",
        "from sklearn.preprocessing import MinMaxScaler\n",
        "import matplotlib.pyplot as plt"
      ]
    },
    {
      "cell_type": "code",
      "source": [
        "df=pd.read_csv(\"smote.csv\")\n",
        "df.head()"
      ],
      "metadata": {
        "colab": {
          "base_uri": "https://localhost:8080/",
          "height": 235
        },
        "id": "3IchxUpCM898",
        "outputId": "36de0685-03c5-465c-dd7d-0571cf70b78e"
      },
      "execution_count": null,
      "outputs": [
        {
          "output_type": "execute_result",
          "data": {
            "text/plain": [
              "   Unnamed: 0   age    bp     sg   al   su       rbc   pc  pcc   ba  ...  \\\n",
              "0           0  48.0  80.0  1.020  1.0  0.0  0.810484  1.0  0.0  0.0  ...   \n",
              "1           1   7.0  50.0  1.020  4.0  0.0  0.810484  1.0  0.0  0.0  ...   \n",
              "2           2  62.0  80.0  1.010  2.0  3.0  1.000000  1.0  0.0  0.0  ...   \n",
              "3           3  48.0  70.0  1.005  4.0  0.0  1.000000  0.0  1.0  0.0  ...   \n",
              "4           4  51.0  80.0  1.010  2.0  0.0  1.000000  1.0  0.0  0.0  ...   \n",
              "\n",
              "    pcv    wbcc      rbcc  htn   dm  cad  appet   pe  ane  class  \n",
              "0  44.0  7800.0  5.200000  1.0  1.0  0.0    1.0  0.0  0.0      1  \n",
              "1  38.0  6000.0  4.707435  0.0  0.0  0.0    1.0  0.0  0.0      1  \n",
              "2  31.0  7500.0  4.707435  0.0  1.0  0.0    0.0  0.0  1.0      1  \n",
              "3  32.0  6700.0  3.900000  1.0  0.0  0.0    0.0  1.0  1.0      1  \n",
              "4  35.0  7300.0  4.600000  0.0  0.0  0.0    1.0  0.0  0.0      1  \n",
              "\n",
              "[5 rows x 26 columns]"
            ],
            "text/html": [
              "\n",
              "  <div id=\"df-c822651f-f3a0-4222-be3a-793803be7866\">\n",
              "    <div class=\"colab-df-container\">\n",
              "      <div>\n",
              "<style scoped>\n",
              "    .dataframe tbody tr th:only-of-type {\n",
              "        vertical-align: middle;\n",
              "    }\n",
              "\n",
              "    .dataframe tbody tr th {\n",
              "        vertical-align: top;\n",
              "    }\n",
              "\n",
              "    .dataframe thead th {\n",
              "        text-align: right;\n",
              "    }\n",
              "</style>\n",
              "<table border=\"1\" class=\"dataframe\">\n",
              "  <thead>\n",
              "    <tr style=\"text-align: right;\">\n",
              "      <th></th>\n",
              "      <th>Unnamed: 0</th>\n",
              "      <th>age</th>\n",
              "      <th>bp</th>\n",
              "      <th>sg</th>\n",
              "      <th>al</th>\n",
              "      <th>su</th>\n",
              "      <th>rbc</th>\n",
              "      <th>pc</th>\n",
              "      <th>pcc</th>\n",
              "      <th>ba</th>\n",
              "      <th>...</th>\n",
              "      <th>pcv</th>\n",
              "      <th>wbcc</th>\n",
              "      <th>rbcc</th>\n",
              "      <th>htn</th>\n",
              "      <th>dm</th>\n",
              "      <th>cad</th>\n",
              "      <th>appet</th>\n",
              "      <th>pe</th>\n",
              "      <th>ane</th>\n",
              "      <th>class</th>\n",
              "    </tr>\n",
              "  </thead>\n",
              "  <tbody>\n",
              "    <tr>\n",
              "      <th>0</th>\n",
              "      <td>0</td>\n",
              "      <td>48.0</td>\n",
              "      <td>80.0</td>\n",
              "      <td>1.020</td>\n",
              "      <td>1.0</td>\n",
              "      <td>0.0</td>\n",
              "      <td>0.810484</td>\n",
              "      <td>1.0</td>\n",
              "      <td>0.0</td>\n",
              "      <td>0.0</td>\n",
              "      <td>...</td>\n",
              "      <td>44.0</td>\n",
              "      <td>7800.0</td>\n",
              "      <td>5.200000</td>\n",
              "      <td>1.0</td>\n",
              "      <td>1.0</td>\n",
              "      <td>0.0</td>\n",
              "      <td>1.0</td>\n",
              "      <td>0.0</td>\n",
              "      <td>0.0</td>\n",
              "      <td>1</td>\n",
              "    </tr>\n",
              "    <tr>\n",
              "      <th>1</th>\n",
              "      <td>1</td>\n",
              "      <td>7.0</td>\n",
              "      <td>50.0</td>\n",
              "      <td>1.020</td>\n",
              "      <td>4.0</td>\n",
              "      <td>0.0</td>\n",
              "      <td>0.810484</td>\n",
              "      <td>1.0</td>\n",
              "      <td>0.0</td>\n",
              "      <td>0.0</td>\n",
              "      <td>...</td>\n",
              "      <td>38.0</td>\n",
              "      <td>6000.0</td>\n",
              "      <td>4.707435</td>\n",
              "      <td>0.0</td>\n",
              "      <td>0.0</td>\n",
              "      <td>0.0</td>\n",
              "      <td>1.0</td>\n",
              "      <td>0.0</td>\n",
              "      <td>0.0</td>\n",
              "      <td>1</td>\n",
              "    </tr>\n",
              "    <tr>\n",
              "      <th>2</th>\n",
              "      <td>2</td>\n",
              "      <td>62.0</td>\n",
              "      <td>80.0</td>\n",
              "      <td>1.010</td>\n",
              "      <td>2.0</td>\n",
              "      <td>3.0</td>\n",
              "      <td>1.000000</td>\n",
              "      <td>1.0</td>\n",
              "      <td>0.0</td>\n",
              "      <td>0.0</td>\n",
              "      <td>...</td>\n",
              "      <td>31.0</td>\n",
              "      <td>7500.0</td>\n",
              "      <td>4.707435</td>\n",
              "      <td>0.0</td>\n",
              "      <td>1.0</td>\n",
              "      <td>0.0</td>\n",
              "      <td>0.0</td>\n",
              "      <td>0.0</td>\n",
              "      <td>1.0</td>\n",
              "      <td>1</td>\n",
              "    </tr>\n",
              "    <tr>\n",
              "      <th>3</th>\n",
              "      <td>3</td>\n",
              "      <td>48.0</td>\n",
              "      <td>70.0</td>\n",
              "      <td>1.005</td>\n",
              "      <td>4.0</td>\n",
              "      <td>0.0</td>\n",
              "      <td>1.000000</td>\n",
              "      <td>0.0</td>\n",
              "      <td>1.0</td>\n",
              "      <td>0.0</td>\n",
              "      <td>...</td>\n",
              "      <td>32.0</td>\n",
              "      <td>6700.0</td>\n",
              "      <td>3.900000</td>\n",
              "      <td>1.0</td>\n",
              "      <td>0.0</td>\n",
              "      <td>0.0</td>\n",
              "      <td>0.0</td>\n",
              "      <td>1.0</td>\n",
              "      <td>1.0</td>\n",
              "      <td>1</td>\n",
              "    </tr>\n",
              "    <tr>\n",
              "      <th>4</th>\n",
              "      <td>4</td>\n",
              "      <td>51.0</td>\n",
              "      <td>80.0</td>\n",
              "      <td>1.010</td>\n",
              "      <td>2.0</td>\n",
              "      <td>0.0</td>\n",
              "      <td>1.000000</td>\n",
              "      <td>1.0</td>\n",
              "      <td>0.0</td>\n",
              "      <td>0.0</td>\n",
              "      <td>...</td>\n",
              "      <td>35.0</td>\n",
              "      <td>7300.0</td>\n",
              "      <td>4.600000</td>\n",
              "      <td>0.0</td>\n",
              "      <td>0.0</td>\n",
              "      <td>0.0</td>\n",
              "      <td>1.0</td>\n",
              "      <td>0.0</td>\n",
              "      <td>0.0</td>\n",
              "      <td>1</td>\n",
              "    </tr>\n",
              "  </tbody>\n",
              "</table>\n",
              "<p>5 rows × 26 columns</p>\n",
              "</div>\n",
              "      <button class=\"colab-df-convert\" onclick=\"convertToInteractive('df-c822651f-f3a0-4222-be3a-793803be7866')\"\n",
              "              title=\"Convert this dataframe to an interactive table.\"\n",
              "              style=\"display:none;\">\n",
              "        \n",
              "  <svg xmlns=\"http://www.w3.org/2000/svg\" height=\"24px\"viewBox=\"0 0 24 24\"\n",
              "       width=\"24px\">\n",
              "    <path d=\"M0 0h24v24H0V0z\" fill=\"none\"/>\n",
              "    <path d=\"M18.56 5.44l.94 2.06.94-2.06 2.06-.94-2.06-.94-.94-2.06-.94 2.06-2.06.94zm-11 1L8.5 8.5l.94-2.06 2.06-.94-2.06-.94L8.5 2.5l-.94 2.06-2.06.94zm10 10l.94 2.06.94-2.06 2.06-.94-2.06-.94-.94-2.06-.94 2.06-2.06.94z\"/><path d=\"M17.41 7.96l-1.37-1.37c-.4-.4-.92-.59-1.43-.59-.52 0-1.04.2-1.43.59L10.3 9.45l-7.72 7.72c-.78.78-.78 2.05 0 2.83L4 21.41c.39.39.9.59 1.41.59.51 0 1.02-.2 1.41-.59l7.78-7.78 2.81-2.81c.8-.78.8-2.07 0-2.86zM5.41 20L4 18.59l7.72-7.72 1.47 1.35L5.41 20z\"/>\n",
              "  </svg>\n",
              "      </button>\n",
              "      \n",
              "  <style>\n",
              "    .colab-df-container {\n",
              "      display:flex;\n",
              "      flex-wrap:wrap;\n",
              "      gap: 12px;\n",
              "    }\n",
              "\n",
              "    .colab-df-convert {\n",
              "      background-color: #E8F0FE;\n",
              "      border: none;\n",
              "      border-radius: 50%;\n",
              "      cursor: pointer;\n",
              "      display: none;\n",
              "      fill: #1967D2;\n",
              "      height: 32px;\n",
              "      padding: 0 0 0 0;\n",
              "      width: 32px;\n",
              "    }\n",
              "\n",
              "    .colab-df-convert:hover {\n",
              "      background-color: #E2EBFA;\n",
              "      box-shadow: 0px 1px 2px rgba(60, 64, 67, 0.3), 0px 1px 3px 1px rgba(60, 64, 67, 0.15);\n",
              "      fill: #174EA6;\n",
              "    }\n",
              "\n",
              "    [theme=dark] .colab-df-convert {\n",
              "      background-color: #3B4455;\n",
              "      fill: #D2E3FC;\n",
              "    }\n",
              "\n",
              "    [theme=dark] .colab-df-convert:hover {\n",
              "      background-color: #434B5C;\n",
              "      box-shadow: 0px 1px 3px 1px rgba(0, 0, 0, 0.15);\n",
              "      filter: drop-shadow(0px 1px 2px rgba(0, 0, 0, 0.3));\n",
              "      fill: #FFFFFF;\n",
              "    }\n",
              "  </style>\n",
              "\n",
              "      <script>\n",
              "        const buttonEl =\n",
              "          document.querySelector('#df-c822651f-f3a0-4222-be3a-793803be7866 button.colab-df-convert');\n",
              "        buttonEl.style.display =\n",
              "          google.colab.kernel.accessAllowed ? 'block' : 'none';\n",
              "\n",
              "        async function convertToInteractive(key) {\n",
              "          const element = document.querySelector('#df-c822651f-f3a0-4222-be3a-793803be7866');\n",
              "          const dataTable =\n",
              "            await google.colab.kernel.invokeFunction('convertToInteractive',\n",
              "                                                     [key], {});\n",
              "          if (!dataTable) return;\n",
              "\n",
              "          const docLinkHtml = 'Like what you see? Visit the ' +\n",
              "            '<a target=\"_blank\" href=https://colab.research.google.com/notebooks/data_table.ipynb>data table notebook</a>'\n",
              "            + ' to learn more about interactive tables.';\n",
              "          element.innerHTML = '';\n",
              "          dataTable['output_type'] = 'display_data';\n",
              "          await google.colab.output.renderOutput(dataTable, element);\n",
              "          const docLink = document.createElement('div');\n",
              "          docLink.innerHTML = docLinkHtml;\n",
              "          element.appendChild(docLink);\n",
              "        }\n",
              "      </script>\n",
              "    </div>\n",
              "  </div>\n",
              "  "
            ]
          },
          "metadata": {},
          "execution_count": 30
        }
      ]
    },
    {
      "cell_type": "code",
      "source": [
        "X = df.drop([\"class\"], axis=1)\n",
        "y = df[\"class\"]"
      ],
      "metadata": {
        "id": "uR7ezCVcM9BZ"
      },
      "execution_count": null,
      "outputs": []
    },
    {
      "cell_type": "code",
      "source": [
        "x_scaler = MinMaxScaler()\n",
        "x_scaler.fit(X)\n",
        "column_names = X.columns\n",
        "X[column_names] = x_scaler.transform(X)"
      ],
      "metadata": {
        "id": "cf_ZkLVdM9fC"
      },
      "execution_count": null,
      "outputs": []
    },
    {
      "cell_type": "code",
      "source": [
        "X_train,  X_test, y_train, y_test = train_test_split(X, y, test_size= 0.2, random_state=42)"
      ],
      "metadata": {
        "id": "cnmPNXTKNdcQ"
      },
      "execution_count": null,
      "outputs": []
    },
    {
      "cell_type": "code",
      "source": [
        "model = Sequential()\n",
        "model.add(Dense(256, input_dim=len(X.columns),              kernel_initializer=k.initializers.random_normal(seed=13), activation=\"relu\"))\n",
        "model.add(Dense(1, activation=\"hard_sigmoid\"))"
      ],
      "metadata": {
        "id": "4PtwN-yFNiZA"
      },
      "execution_count": null,
      "outputs": []
    },
    {
      "cell_type": "code",
      "source": [
        "model.compile(loss='binary_crossentropy',optimizer='adam', metrics=['accuracy'])"
      ],
      "metadata": {
        "id": "zVeTuSrYNiBb"
      },
      "execution_count": null,
      "outputs": []
    },
    {
      "cell_type": "code",
      "source": [
        "history = model.fit(X_train, y_train,\n",
        "                    epochs=50,\n",
        "                    batch_size=X_train.shape[0])"
      ],
      "metadata": {
        "colab": {
          "base_uri": "https://localhost:8080/"
        },
        "id": "lyidEkRvNr6T",
        "outputId": "6f07b707-dc25-4e5b-8090-4b4e478c5601"
      },
      "execution_count": null,
      "outputs": [
        {
          "output_type": "stream",
          "name": "stdout",
          "text": [
            "Epoch 1/50\n",
            "1/1 [==============================] - 1s 822ms/step - loss: 0.6878 - accuracy: 0.4875\n",
            "Epoch 2/50\n",
            "1/1 [==============================] - 0s 7ms/step - loss: 0.6708 - accuracy: 0.9125\n",
            "Epoch 3/50\n",
            "1/1 [==============================] - 0s 10ms/step - loss: 0.6544 - accuracy: 0.9050\n",
            "Epoch 4/50\n",
            "1/1 [==============================] - 0s 10ms/step - loss: 0.6388 - accuracy: 0.8775\n",
            "Epoch 5/50\n",
            "1/1 [==============================] - 0s 11ms/step - loss: 0.6238 - accuracy: 0.8650\n",
            "Epoch 6/50\n",
            "1/1 [==============================] - 0s 8ms/step - loss: 0.6092 - accuracy: 0.8600\n",
            "Epoch 7/50\n",
            "1/1 [==============================] - 0s 9ms/step - loss: 0.5950 - accuracy: 0.8575\n",
            "Epoch 8/50\n",
            "1/1 [==============================] - 0s 10ms/step - loss: 0.5812 - accuracy: 0.8600\n",
            "Epoch 9/50\n",
            "1/1 [==============================] - 0s 10ms/step - loss: 0.5679 - accuracy: 0.8625\n",
            "Epoch 10/50\n",
            "1/1 [==============================] - 0s 11ms/step - loss: 0.5550 - accuracy: 0.8650\n",
            "Epoch 11/50\n",
            "1/1 [==============================] - 0s 10ms/step - loss: 0.5424 - accuracy: 0.8650\n",
            "Epoch 12/50\n",
            "1/1 [==============================] - 0s 10ms/step - loss: 0.5300 - accuracy: 0.8650\n",
            "Epoch 13/50\n",
            "1/1 [==============================] - 0s 10ms/step - loss: 0.5176 - accuracy: 0.8675\n",
            "Epoch 14/50\n",
            "1/1 [==============================] - 0s 9ms/step - loss: 0.5052 - accuracy: 0.8725\n",
            "Epoch 15/50\n",
            "1/1 [==============================] - 0s 10ms/step - loss: 0.4927 - accuracy: 0.8775\n",
            "Epoch 16/50\n",
            "1/1 [==============================] - 0s 9ms/step - loss: 0.4803 - accuracy: 0.8850\n",
            "Epoch 17/50\n",
            "1/1 [==============================] - 0s 9ms/step - loss: 0.4678 - accuracy: 0.8850\n",
            "Epoch 18/50\n",
            "1/1 [==============================] - 0s 9ms/step - loss: 0.4553 - accuracy: 0.8925\n",
            "Epoch 19/50\n",
            "1/1 [==============================] - 0s 8ms/step - loss: 0.4428 - accuracy: 0.8925\n",
            "Epoch 20/50\n",
            "1/1 [==============================] - 0s 8ms/step - loss: 0.4302 - accuracy: 0.8950\n",
            "Epoch 21/50\n",
            "1/1 [==============================] - 0s 9ms/step - loss: 0.4177 - accuracy: 0.8975\n",
            "Epoch 22/50\n",
            "1/1 [==============================] - 0s 8ms/step - loss: 0.4052 - accuracy: 0.9000\n",
            "Epoch 23/50\n",
            "1/1 [==============================] - 0s 8ms/step - loss: 0.3928 - accuracy: 0.9050\n",
            "Epoch 24/50\n",
            "1/1 [==============================] - 0s 8ms/step - loss: 0.3805 - accuracy: 0.9075\n",
            "Epoch 25/50\n",
            "1/1 [==============================] - 0s 12ms/step - loss: 0.3683 - accuracy: 0.9100\n",
            "Epoch 26/50\n",
            "1/1 [==============================] - 0s 9ms/step - loss: 0.3560 - accuracy: 0.9150\n",
            "Epoch 27/50\n",
            "1/1 [==============================] - 0s 8ms/step - loss: 0.3441 - accuracy: 0.9175\n",
            "Epoch 28/50\n",
            "1/1 [==============================] - 0s 9ms/step - loss: 0.3325 - accuracy: 0.9200\n",
            "Epoch 29/50\n",
            "1/1 [==============================] - 0s 8ms/step - loss: 0.3213 - accuracy: 0.9225\n",
            "Epoch 30/50\n",
            "1/1 [==============================] - 0s 8ms/step - loss: 0.3104 - accuracy: 0.9225\n",
            "Epoch 31/50\n",
            "1/1 [==============================] - 0s 10ms/step - loss: 0.2997 - accuracy: 0.9225\n",
            "Epoch 32/50\n",
            "1/1 [==============================] - 0s 8ms/step - loss: 0.2892 - accuracy: 0.9225\n",
            "Epoch 33/50\n",
            "1/1 [==============================] - 0s 9ms/step - loss: 0.2791 - accuracy: 0.9225\n",
            "Epoch 34/50\n",
            "1/1 [==============================] - 0s 8ms/step - loss: 0.2692 - accuracy: 0.9225\n",
            "Epoch 35/50\n",
            "1/1 [==============================] - 0s 8ms/step - loss: 0.2594 - accuracy: 0.9225\n",
            "Epoch 36/50\n",
            "1/1 [==============================] - 0s 8ms/step - loss: 0.2498 - accuracy: 0.9225\n",
            "Epoch 37/50\n",
            "1/1 [==============================] - 0s 8ms/step - loss: 0.2405 - accuracy: 0.9225\n",
            "Epoch 38/50\n",
            "1/1 [==============================] - 0s 8ms/step - loss: 0.2313 - accuracy: 0.9225\n",
            "Epoch 39/50\n",
            "1/1 [==============================] - 0s 7ms/step - loss: 0.2223 - accuracy: 0.9225\n",
            "Epoch 40/50\n",
            "1/1 [==============================] - 0s 8ms/step - loss: 0.2135 - accuracy: 0.9200\n",
            "Epoch 41/50\n",
            "1/1 [==============================] - 0s 7ms/step - loss: 0.2049 - accuracy: 0.9200\n",
            "Epoch 42/50\n",
            "1/1 [==============================] - 0s 8ms/step - loss: 0.1966 - accuracy: 0.9200\n",
            "Epoch 43/50\n",
            "1/1 [==============================] - 0s 9ms/step - loss: 0.1888 - accuracy: 0.9200\n",
            "Epoch 44/50\n",
            "1/1 [==============================] - 0s 8ms/step - loss: 0.1816 - accuracy: 0.9225\n",
            "Epoch 45/50\n",
            "1/1 [==============================] - 0s 8ms/step - loss: 0.1752 - accuracy: 0.9225\n",
            "Epoch 46/50\n",
            "1/1 [==============================] - 0s 8ms/step - loss: 0.1693 - accuracy: 0.9225\n",
            "Epoch 47/50\n",
            "1/1 [==============================] - 0s 8ms/step - loss: 0.1634 - accuracy: 0.9250\n",
            "Epoch 48/50\n",
            "1/1 [==============================] - 0s 11ms/step - loss: 0.1576 - accuracy: 0.9250\n",
            "Epoch 49/50\n",
            "1/1 [==============================] - 0s 10ms/step - loss: 0.1522 - accuracy: 0.9300\n",
            "Epoch 50/50\n",
            "1/1 [==============================] - 0s 7ms/step - loss: 0.1472 - accuracy: 0.9325\n"
          ]
        }
      ]
    },
    {
      "cell_type": "code",
      "source": [
        "model.save(\"ckd.model\")"
      ],
      "metadata": {
        "id": "3U3r5zuBODhw",
        "colab": {
          "base_uri": "https://localhost:8080/"
        },
        "outputId": "f5c07ba3-b2fb-4ed7-b1aa-f7b9e53242b8"
      },
      "execution_count": null,
      "outputs": [
        {
          "output_type": "stream",
          "name": "stderr",
          "text": [
            "WARNING:absl:Found untraced functions such as _update_step_xla while saving (showing 1 of 1). These functions will not be directly callable after loading.\n"
          ]
        }
      ]
    },
    {
      "cell_type": "code",
      "source": [
        "y_pred=model.predict(X_test)\n"
      ],
      "metadata": {
        "id": "Iu93Zjv1N_FD",
        "colab": {
          "base_uri": "https://localhost:8080/"
        },
        "outputId": "59f97787-dcd8-4ad2-8261-eacccd95852d"
      },
      "execution_count": null,
      "outputs": [
        {
          "output_type": "stream",
          "name": "stdout",
          "text": [
            "4/4 [==============================] - 0s 2ms/step\n"
          ]
        }
      ]
    },
    {
      "cell_type": "code",
      "source": [
        "y_pred = (y_pred >= 0.5).astype(int)\n"
      ],
      "metadata": {
        "id": "3QHyRz-tSQbO"
      },
      "execution_count": null,
      "outputs": []
    },
    {
      "cell_type": "code",
      "source": [
        "for i in y_pred:\n",
        "  if i<=0.5:\n",
        "    y_pred[i]=0"
      ],
      "metadata": {
        "id": "97hokWxXRxq3"
      },
      "execution_count": null,
      "outputs": []
    },
    {
      "cell_type": "code",
      "source": [
        "from sklearn.metrics import accuracy_score,precision_score,f1_score,roc_auc_score, recall_score\n",
        "accuracy = accuracy_score(y_test, y_pred)\n",
        "precision = precision_score(y_test, y_pred, pos_label=1)\n",
        "recall = recall_score(y_test, y_pred)\n",
        "f_measure = f1_score(y_test, y_pred)\n",
        "auc = roc_auc_score(y_test, y_pred)\n",
        "gini_coefficient = 2 * roc_auc_score(y_test, y_pred) - 1\n",
        "print(\"Accuracy: \", accuracy*100)\n",
        "print(\"Precision: \", precision*100)\n",
        "print(\"Recall: \", recall*100)\n",
        "print(\"F-measure: \", round(f_measure*100,2))\n",
        "print(\"AUC: \", round(auc*100,2))\n",
        "print(\"Gini coefficient: \", round(gini_coefficient*100,2))"
      ],
      "metadata": {
        "id": "VohU21CdNvGL",
        "colab": {
          "base_uri": "https://localhost:8080/"
        },
        "outputId": "8ffab2d0-9520-4297-eb9c-a72e3c1a3d7f"
      },
      "execution_count": null,
      "outputs": [
        {
          "output_type": "stream",
          "name": "stdout",
          "text": [
            "Accuracy:  94.0\n",
            "Precision:  100.0\n",
            "Recall:  86.95652173913044\n",
            "F-measure:  93.02\n",
            "AUC:  93.48\n",
            "Gini coefficient:  86.96\n"
          ]
        }
      ]
    },
    {
      "cell_type": "markdown",
      "source": [
        "# **CHAID**"
      ],
      "metadata": {
        "id": "QZ0JMXQTY_N-"
      }
    },
    {
      "cell_type": "code",
      "source": [
        "import pandas as pd\n",
        "train = pd.read_csv(\"smote.csv\")"
      ],
      "metadata": {
        "id": "kdrypIDxZ0vI"
      },
      "execution_count": null,
      "outputs": []
    },
    {
      "cell_type": "code",
      "source": [
        "import numpy as np\n",
        "X = train.drop('class', axis=1)\n",
        "y = train['class']\n",
        "X = np.array(X)\n",
        "y = np.array(y)"
      ],
      "metadata": {
        "id": "-LNPMsPEZzTM"
      },
      "execution_count": null,
      "outputs": []
    },
    {
      "cell_type": "code",
      "source": [
        "import numpy as np\n",
        "\n",
        "class Node:\n",
        "\n",
        "    def __init__(self, feature=None, threshold=None, chi2=None, left=None, right=None, value=None):\n",
        "        self.feature = feature\n",
        "        self.threshold = threshold\n",
        "        self.chi2 = chi2\n",
        "        self.left = left\n",
        "        self.right = right\n",
        "        self.value = value"
      ],
      "metadata": {
        "id": "CaWbbTVCcMRe"
      },
      "execution_count": null,
      "outputs": []
    },
    {
      "cell_type": "code",
      "source": [
        "class DecisionTree:\n",
        "\n",
        "    def __init__(self, alpha=0.05, min_samples=3,max_depth=7):\n",
        "        self.alpha = alpha\n",
        "        self.min_samples = min_samples\n",
        "        self.max_depth = max_depth\n",
        "        self.tree = None\n",
        "\n",
        "    def fit(self, X, y):\n",
        "        self.tree = self._build_tree(X, y)\n",
        "\n",
        "\n",
        "    def predict(self, X):\n",
        "        y_pred = np.apply_along_axis(lambda x: self._traverse_tree(self.tree, x), 1, X)\n",
        "        return y_pred\n",
        "\n",
        "    def _traverse_tree(self, node, x):\n",
        "        if node.feature is None:\n",
        "            return node.value\n",
        "        if x[node.feature] <= node.threshold:\n",
        "            return self._traverse_tree(node.left, x)\n",
        "        else:\n",
        "            return self._traverse_tree(node.right, x)\n",
        "\n",
        "    def _build_tree(self, X, y):\n",
        "        if X.shape[0] <= self.min_samples:\n",
        "            return Node(value=self._get_leaf_value(y))\n",
        "\n",
        "        # Split the data into two branches\n",
        "        best_feature, best_threshold, best_chi2 = self._get_best_split(X, y)\n",
        "        if best_feature is None:\n",
        "            return Node(value=self._get_leaf_value(y))\n",
        "\n",
        "        left_mask = X[:, best_feature] <= best_threshold\n",
        "        right_mask = ~left_mask\n",
        "        left_tree = self._build_tree(X[left_mask], y[left_mask])\n",
        "        right_tree = self._build_tree(X[right_mask], y[right_mask])\n",
        "\n",
        "        return Node(feature=best_feature, threshold=best_threshold, chi2=best_chi2, left=left_tree, right=right_tree)\n",
        "    def _get_best_split(self, X, y):\n",
        "        best = (None, None, 0)\n",
        "        thresholds_func = lambda sorted_X: (sorted_X[1:] + sorted_X[:-1]) / 2\n",
        "\n",
        "        for feature in range(X.shape[1]):\n",
        "            sorted_X = np.sort(X[:, feature])\n",
        "            thresholds = thresholds_func(sorted_X)\n",
        "            for threshold in thresholds:\n",
        "                left_mask = X[:, feature] <= threshold\n",
        "                right_mask = ~left_mask\n",
        "                if left_mask.sum() < self.min_samples or right_mask.sum() < self.min_samples:\n",
        "                    continue\n",
        "                chi2 = self._get_chi2(y, left_mask, right_mask)\n",
        "                if chi2 > best[2]:\n",
        "                    best = (feature, threshold, chi2)\n",
        "\n",
        "        return best if best[0] is not None else (None, None, None)\n",
        "\n",
        "\n",
        "    def _get_chi2(self, y, left_mask, right_mask):\n",
        "        observed = np.array([\n",
        "            [np.sum(y[left_mask] == 0), np.sum(y[left_mask] == 1)],\n",
        "            [np.sum(y[right_mask] == 0), np.sum(y[right_mask] == 1)]\n",
        "        ])\n",
        "        expected = np.array([\n",
        "            [np.sum(left_mask) * np.sum(y == 0), np.sum(left_mask) * np.sum(y == 1)],\n",
        "            [np.sum(right_mask) * np.sum(y == 0), np.sum(right_mask) * np.sum(y == 1)]\n",
        "        ]) / y.shape[0]\n",
        "        chi2 = np.sum((observed - expected) ** 2 / expected)\n",
        "        return chi2\n",
        "\n",
        "    def _get_leaf_value(self, y):\n",
        "        return np.bincount(y).argmax()"
      ],
      "metadata": {
        "id": "Bjl_r4_FcMQG"
      },
      "execution_count": null,
      "outputs": []
    },
    {
      "cell_type": "code",
      "source": [
        "def train_test_split(X, y, test_size=0.3, random_state=None):\n",
        "    if random_state:\n",
        "        np.random.seed(random_state)\n",
        "    shuffle_indices = np.random.permutation(len(X))\n",
        "    test_size = int(test_size * len(X))\n",
        "    test_indices = shuffle_indices[:test_size]\n",
        "    train_indices = shuffle_indices[test_size:]\n",
        "    X_train = X[train_indices]\n",
        "    y_train = y[train_indices]\n",
        "    X_test = X[test_indices]\n",
        "    y_test = y[test_indices]\n",
        "    return X_train, X_test, y_train, y_test\n",
        "\n",
        "X_train, X_test, y_train, y_test = train_test_split(X, y, test_size=0.30, random_state=42)"
      ],
      "metadata": {
        "id": "DP0TZoqDcMMd"
      },
      "execution_count": null,
      "outputs": []
    },
    {
      "cell_type": "code",
      "source": [
        "classifier = DecisionTree()"
      ],
      "metadata": {
        "id": "AcrbqT5ucMKL"
      },
      "execution_count": null,
      "outputs": []
    },
    {
      "cell_type": "code",
      "source": [
        "classifier.fit(X_train , y_train)"
      ],
      "metadata": {
        "colab": {
          "base_uri": "https://localhost:8080/"
        },
        "id": "EEoquhXmcMHT",
        "outputId": "a7f5cd44-8068-4a8b-f742-c4a63fd644ee"
      },
      "execution_count": null,
      "outputs": [
        {
          "output_type": "stream",
          "name": "stderr",
          "text": [
            "<ipython-input-45-fe3e5a910934>:68: RuntimeWarning: invalid value encountered in true_divide\n",
            "  chi2 = np.sum((observed - expected) ** 2 / expected)\n"
          ]
        }
      ]
    },
    {
      "cell_type": "code",
      "source": [
        "y_pred = classifier.predict(X_test)"
      ],
      "metadata": {
        "id": "S5JRB4EvcME4"
      },
      "execution_count": null,
      "outputs": []
    },
    {
      "cell_type": "code",
      "source": [
        "y_pred"
      ],
      "metadata": {
        "colab": {
          "base_uri": "https://localhost:8080/"
        },
        "id": "i_ak4fc5cMCT",
        "outputId": "4916e5df-15c4-4871-85e9-350a66551194"
      },
      "execution_count": null,
      "outputs": [
        {
          "output_type": "execute_result",
          "data": {
            "text/plain": [
              "array([0, 1, 0, 1, 1, 0, 0, 1, 1, 0, 1, 1, 0, 1, 0, 0, 0, 1, 0, 0, 0, 0,\n",
              "       0, 0, 1, 0, 0, 1, 1, 0, 0, 0, 0, 1, 1, 0, 0, 1, 1, 1, 0, 1, 0, 1,\n",
              "       1, 1, 1, 1, 0, 1, 1, 1, 1, 0, 1, 1, 1, 1, 1, 1, 0, 0, 0, 0, 1, 1,\n",
              "       0, 1, 1, 0, 0, 0, 0, 0, 0, 0, 0, 1, 0, 0, 1, 1, 0, 1, 0, 1, 1, 0,\n",
              "       0, 0, 0, 0, 0, 0, 0, 0, 1, 1, 0, 1, 1, 0, 1, 0, 0, 1, 0, 1, 0, 1,\n",
              "       1, 0, 0, 1, 0, 0, 1, 1, 1, 1, 1, 1, 0, 1, 1, 1, 0, 1, 1, 0, 1, 1,\n",
              "       0, 0, 1, 1, 1, 1, 1, 0, 1, 1, 0, 1, 0, 0, 1, 1, 0, 0])"
            ]
          },
          "metadata": {},
          "execution_count": 50
        }
      ]
    },
    {
      "cell_type": "code",
      "source": [
        "# Calculate TP, FP, FN, TN\n",
        "TP = np.sum((y_test == 1) & (y_pred == 1))\n",
        "FP = np.sum((y_test == 0) & (y_pred == 1))\n",
        "FN = np.sum((y_test == 1) & (y_pred == 0))\n",
        "TN = np.sum((y_test == 0) & (y_pred == 0))\n",
        "\n",
        "# Create confusion matrix\n",
        "confusion_matrix = np.array([[TP, FP], [FN, TN]])\n",
        "print(confusion_matrix)\n",
        "\n",
        "# Calculate accuracy, recall, precision, and F-score\n",
        "accuracy= (TP + TN) / (TP + TN + FP + FN)\n",
        "recall = TP / (TP + FN)\n",
        "precision = TP / (TP + FP)\n",
        "fscore = 2 * (precision * recall) / (precision + recall)\n",
        "\n",
        "print(\"Accuracy\",accuracy*100,\"%\")\n",
        "print(\"Recall:\", recall)\n",
        "print(\"Precision:\", precision)\n",
        "print(\"F-score:\", fscore)"
      ],
      "metadata": {
        "colab": {
          "base_uri": "https://localhost:8080/"
        },
        "id": "mLVMhVTYcL_d",
        "outputId": "11a75401-1b46-4346-9c44-1130ea5b073b"
      },
      "execution_count": null,
      "outputs": [
        {
          "output_type": "stream",
          "name": "stdout",
          "text": [
            "[[76  0]\n",
            " [ 0 74]]\n",
            "Accuracy 100.0 %\n",
            "Recall: 1.0\n",
            "Precision: 1.0\n",
            "F-score: 1.0\n"
          ]
        }
      ]
    },
    {
      "cell_type": "markdown",
      "source": [
        "# **C5.0**"
      ],
      "metadata": {
        "id": "4AYA5kOtZNph"
      }
    },
    {
      "cell_type": "code",
      "execution_count": null,
      "metadata": {
        "id": "AqAo7eRCIRfL"
      },
      "outputs": [],
      "source": [
        "# Import Libraries\n",
        "import pandas as pd\n",
        "import numpy as np\n",
        "import matplotlib.pyplot as plt\n",
        "from sklearn import datasets\n",
        "from sklearn import tree\n",
        "from sklearn.tree import DecisionTreeClassifier\n",
        "from sklearn.preprocessing import LabelEncoder\n",
        "from sklearn.metrics import classification_report\n",
        "from sklearn.model_selection import train_test_split"
      ]
    },
    {
      "cell_type": "code",
      "source": [
        "# Import Dataset\n",
        "d=pd.read_csv('smote.csv')\n",
        "d"
      ],
      "metadata": {
        "colab": {
          "base_uri": "https://localhost:8080/",
          "height": 485
        },
        "id": "XwDjLXj6IUtW",
        "outputId": "71f58b03-47b0-4a16-80ba-8a44aa2886d6"
      },
      "execution_count": null,
      "outputs": [
        {
          "output_type": "execute_result",
          "data": {
            "text/plain": [
              "     Unnamed: 0        age         bp        sg   al   su       rbc   pc  pcc  \\\n",
              "0             0  48.000000  80.000000  1.020000  1.0  0.0  0.810484  1.0  0.0   \n",
              "1             1   7.000000  50.000000  1.020000  4.0  0.0  0.810484  1.0  0.0   \n",
              "2             2  62.000000  80.000000  1.010000  2.0  3.0  1.000000  1.0  0.0   \n",
              "3             3  48.000000  70.000000  1.005000  4.0  0.0  1.000000  0.0  1.0   \n",
              "4             4  51.000000  80.000000  1.010000  2.0  0.0  1.000000  1.0  0.0   \n",
              "..          ...        ...        ...       ...  ...  ...       ...  ...  ...   \n",
              "495         495  47.630564  76.011756  1.021994  0.0  0.0  1.000000  1.0  0.0   \n",
              "496         496  25.753522  80.000000  1.024082  0.0  0.0  1.000000  1.0  0.0   \n",
              "497         497  45.991726  80.000000  1.020000  0.0  0.0  1.000000  1.0  0.0   \n",
              "498         498  53.492825  80.000000  1.025000  0.0  0.0  1.000000  1.0  0.0   \n",
              "499         499  37.377018  80.000000  1.025000  0.0  0.0  1.000000  1.0  0.0   \n",
              "\n",
              "      ba  ...        pcv         wbcc      rbcc  htn   dm  cad  appet   pe  \\\n",
              "0    0.0  ...  44.000000  7800.000000  5.200000  1.0  1.0  0.0    1.0  0.0   \n",
              "1    0.0  ...  38.000000  6000.000000  4.707435  0.0  0.0  0.0    1.0  0.0   \n",
              "2    0.0  ...  31.000000  7500.000000  4.707435  0.0  1.0  0.0    0.0  0.0   \n",
              "3    0.0  ...  32.000000  6700.000000  3.900000  1.0  0.0  0.0    0.0  1.0   \n",
              "4    0.0  ...  35.000000  7300.000000  4.600000  0.0  0.0  0.0    1.0  0.0   \n",
              "..   ...  ...        ...          ...       ...  ...  ...  ...    ...  ...   \n",
              "495  0.0  ...  47.208229  6700.000000  6.260705  0.0  0.0  0.0    1.0  0.0   \n",
              "496  0.0  ...  41.550704  7218.356813  5.256995  0.0  0.0  0.0    1.0  0.0   \n",
              "497  0.0  ...  39.916064  8404.887827  4.867260  0.0  0.0  0.0    1.0  0.0   \n",
              "498  0.0  ...  41.753588  9100.000000  5.804067  0.0  0.0  0.0    1.0  0.0   \n",
              "499  0.0  ...  43.967205  9049.180122  4.598360  0.0  0.0  0.0    1.0  0.0   \n",
              "\n",
              "     ane  class  \n",
              "0    0.0      1  \n",
              "1    0.0      1  \n",
              "2    1.0      1  \n",
              "3    1.0      1  \n",
              "4    0.0      1  \n",
              "..   ...    ...  \n",
              "495  0.0      0  \n",
              "496  0.0      0  \n",
              "497  0.0      0  \n",
              "498  0.0      0  \n",
              "499  0.0      0  \n",
              "\n",
              "[500 rows x 26 columns]"
            ],
            "text/html": [
              "\n",
              "  <div id=\"df-95f81a8d-9772-4feb-8b9c-b782014b8e23\">\n",
              "    <div class=\"colab-df-container\">\n",
              "      <div>\n",
              "<style scoped>\n",
              "    .dataframe tbody tr th:only-of-type {\n",
              "        vertical-align: middle;\n",
              "    }\n",
              "\n",
              "    .dataframe tbody tr th {\n",
              "        vertical-align: top;\n",
              "    }\n",
              "\n",
              "    .dataframe thead th {\n",
              "        text-align: right;\n",
              "    }\n",
              "</style>\n",
              "<table border=\"1\" class=\"dataframe\">\n",
              "  <thead>\n",
              "    <tr style=\"text-align: right;\">\n",
              "      <th></th>\n",
              "      <th>Unnamed: 0</th>\n",
              "      <th>age</th>\n",
              "      <th>bp</th>\n",
              "      <th>sg</th>\n",
              "      <th>al</th>\n",
              "      <th>su</th>\n",
              "      <th>rbc</th>\n",
              "      <th>pc</th>\n",
              "      <th>pcc</th>\n",
              "      <th>ba</th>\n",
              "      <th>...</th>\n",
              "      <th>pcv</th>\n",
              "      <th>wbcc</th>\n",
              "      <th>rbcc</th>\n",
              "      <th>htn</th>\n",
              "      <th>dm</th>\n",
              "      <th>cad</th>\n",
              "      <th>appet</th>\n",
              "      <th>pe</th>\n",
              "      <th>ane</th>\n",
              "      <th>class</th>\n",
              "    </tr>\n",
              "  </thead>\n",
              "  <tbody>\n",
              "    <tr>\n",
              "      <th>0</th>\n",
              "      <td>0</td>\n",
              "      <td>48.000000</td>\n",
              "      <td>80.000000</td>\n",
              "      <td>1.020000</td>\n",
              "      <td>1.0</td>\n",
              "      <td>0.0</td>\n",
              "      <td>0.810484</td>\n",
              "      <td>1.0</td>\n",
              "      <td>0.0</td>\n",
              "      <td>0.0</td>\n",
              "      <td>...</td>\n",
              "      <td>44.000000</td>\n",
              "      <td>7800.000000</td>\n",
              "      <td>5.200000</td>\n",
              "      <td>1.0</td>\n",
              "      <td>1.0</td>\n",
              "      <td>0.0</td>\n",
              "      <td>1.0</td>\n",
              "      <td>0.0</td>\n",
              "      <td>0.0</td>\n",
              "      <td>1</td>\n",
              "    </tr>\n",
              "    <tr>\n",
              "      <th>1</th>\n",
              "      <td>1</td>\n",
              "      <td>7.000000</td>\n",
              "      <td>50.000000</td>\n",
              "      <td>1.020000</td>\n",
              "      <td>4.0</td>\n",
              "      <td>0.0</td>\n",
              "      <td>0.810484</td>\n",
              "      <td>1.0</td>\n",
              "      <td>0.0</td>\n",
              "      <td>0.0</td>\n",
              "      <td>...</td>\n",
              "      <td>38.000000</td>\n",
              "      <td>6000.000000</td>\n",
              "      <td>4.707435</td>\n",
              "      <td>0.0</td>\n",
              "      <td>0.0</td>\n",
              "      <td>0.0</td>\n",
              "      <td>1.0</td>\n",
              "      <td>0.0</td>\n",
              "      <td>0.0</td>\n",
              "      <td>1</td>\n",
              "    </tr>\n",
              "    <tr>\n",
              "      <th>2</th>\n",
              "      <td>2</td>\n",
              "      <td>62.000000</td>\n",
              "      <td>80.000000</td>\n",
              "      <td>1.010000</td>\n",
              "      <td>2.0</td>\n",
              "      <td>3.0</td>\n",
              "      <td>1.000000</td>\n",
              "      <td>1.0</td>\n",
              "      <td>0.0</td>\n",
              "      <td>0.0</td>\n",
              "      <td>...</td>\n",
              "      <td>31.000000</td>\n",
              "      <td>7500.000000</td>\n",
              "      <td>4.707435</td>\n",
              "      <td>0.0</td>\n",
              "      <td>1.0</td>\n",
              "      <td>0.0</td>\n",
              "      <td>0.0</td>\n",
              "      <td>0.0</td>\n",
              "      <td>1.0</td>\n",
              "      <td>1</td>\n",
              "    </tr>\n",
              "    <tr>\n",
              "      <th>3</th>\n",
              "      <td>3</td>\n",
              "      <td>48.000000</td>\n",
              "      <td>70.000000</td>\n",
              "      <td>1.005000</td>\n",
              "      <td>4.0</td>\n",
              "      <td>0.0</td>\n",
              "      <td>1.000000</td>\n",
              "      <td>0.0</td>\n",
              "      <td>1.0</td>\n",
              "      <td>0.0</td>\n",
              "      <td>...</td>\n",
              "      <td>32.000000</td>\n",
              "      <td>6700.000000</td>\n",
              "      <td>3.900000</td>\n",
              "      <td>1.0</td>\n",
              "      <td>0.0</td>\n",
              "      <td>0.0</td>\n",
              "      <td>0.0</td>\n",
              "      <td>1.0</td>\n",
              "      <td>1.0</td>\n",
              "      <td>1</td>\n",
              "    </tr>\n",
              "    <tr>\n",
              "      <th>4</th>\n",
              "      <td>4</td>\n",
              "      <td>51.000000</td>\n",
              "      <td>80.000000</td>\n",
              "      <td>1.010000</td>\n",
              "      <td>2.0</td>\n",
              "      <td>0.0</td>\n",
              "      <td>1.000000</td>\n",
              "      <td>1.0</td>\n",
              "      <td>0.0</td>\n",
              "      <td>0.0</td>\n",
              "      <td>...</td>\n",
              "      <td>35.000000</td>\n",
              "      <td>7300.000000</td>\n",
              "      <td>4.600000</td>\n",
              "      <td>0.0</td>\n",
              "      <td>0.0</td>\n",
              "      <td>0.0</td>\n",
              "      <td>1.0</td>\n",
              "      <td>0.0</td>\n",
              "      <td>0.0</td>\n",
              "      <td>1</td>\n",
              "    </tr>\n",
              "    <tr>\n",
              "      <th>...</th>\n",
              "      <td>...</td>\n",
              "      <td>...</td>\n",
              "      <td>...</td>\n",
              "      <td>...</td>\n",
              "      <td>...</td>\n",
              "      <td>...</td>\n",
              "      <td>...</td>\n",
              "      <td>...</td>\n",
              "      <td>...</td>\n",
              "      <td>...</td>\n",
              "      <td>...</td>\n",
              "      <td>...</td>\n",
              "      <td>...</td>\n",
              "      <td>...</td>\n",
              "      <td>...</td>\n",
              "      <td>...</td>\n",
              "      <td>...</td>\n",
              "      <td>...</td>\n",
              "      <td>...</td>\n",
              "      <td>...</td>\n",
              "      <td>...</td>\n",
              "    </tr>\n",
              "    <tr>\n",
              "      <th>495</th>\n",
              "      <td>495</td>\n",
              "      <td>47.630564</td>\n",
              "      <td>76.011756</td>\n",
              "      <td>1.021994</td>\n",
              "      <td>0.0</td>\n",
              "      <td>0.0</td>\n",
              "      <td>1.000000</td>\n",
              "      <td>1.0</td>\n",
              "      <td>0.0</td>\n",
              "      <td>0.0</td>\n",
              "      <td>...</td>\n",
              "      <td>47.208229</td>\n",
              "      <td>6700.000000</td>\n",
              "      <td>6.260705</td>\n",
              "      <td>0.0</td>\n",
              "      <td>0.0</td>\n",
              "      <td>0.0</td>\n",
              "      <td>1.0</td>\n",
              "      <td>0.0</td>\n",
              "      <td>0.0</td>\n",
              "      <td>0</td>\n",
              "    </tr>\n",
              "    <tr>\n",
              "      <th>496</th>\n",
              "      <td>496</td>\n",
              "      <td>25.753522</td>\n",
              "      <td>80.000000</td>\n",
              "      <td>1.024082</td>\n",
              "      <td>0.0</td>\n",
              "      <td>0.0</td>\n",
              "      <td>1.000000</td>\n",
              "      <td>1.0</td>\n",
              "      <td>0.0</td>\n",
              "      <td>0.0</td>\n",
              "      <td>...</td>\n",
              "      <td>41.550704</td>\n",
              "      <td>7218.356813</td>\n",
              "      <td>5.256995</td>\n",
              "      <td>0.0</td>\n",
              "      <td>0.0</td>\n",
              "      <td>0.0</td>\n",
              "      <td>1.0</td>\n",
              "      <td>0.0</td>\n",
              "      <td>0.0</td>\n",
              "      <td>0</td>\n",
              "    </tr>\n",
              "    <tr>\n",
              "      <th>497</th>\n",
              "      <td>497</td>\n",
              "      <td>45.991726</td>\n",
              "      <td>80.000000</td>\n",
              "      <td>1.020000</td>\n",
              "      <td>0.0</td>\n",
              "      <td>0.0</td>\n",
              "      <td>1.000000</td>\n",
              "      <td>1.0</td>\n",
              "      <td>0.0</td>\n",
              "      <td>0.0</td>\n",
              "      <td>...</td>\n",
              "      <td>39.916064</td>\n",
              "      <td>8404.887827</td>\n",
              "      <td>4.867260</td>\n",
              "      <td>0.0</td>\n",
              "      <td>0.0</td>\n",
              "      <td>0.0</td>\n",
              "      <td>1.0</td>\n",
              "      <td>0.0</td>\n",
              "      <td>0.0</td>\n",
              "      <td>0</td>\n",
              "    </tr>\n",
              "    <tr>\n",
              "      <th>498</th>\n",
              "      <td>498</td>\n",
              "      <td>53.492825</td>\n",
              "      <td>80.000000</td>\n",
              "      <td>1.025000</td>\n",
              "      <td>0.0</td>\n",
              "      <td>0.0</td>\n",
              "      <td>1.000000</td>\n",
              "      <td>1.0</td>\n",
              "      <td>0.0</td>\n",
              "      <td>0.0</td>\n",
              "      <td>...</td>\n",
              "      <td>41.753588</td>\n",
              "      <td>9100.000000</td>\n",
              "      <td>5.804067</td>\n",
              "      <td>0.0</td>\n",
              "      <td>0.0</td>\n",
              "      <td>0.0</td>\n",
              "      <td>1.0</td>\n",
              "      <td>0.0</td>\n",
              "      <td>0.0</td>\n",
              "      <td>0</td>\n",
              "    </tr>\n",
              "    <tr>\n",
              "      <th>499</th>\n",
              "      <td>499</td>\n",
              "      <td>37.377018</td>\n",
              "      <td>80.000000</td>\n",
              "      <td>1.025000</td>\n",
              "      <td>0.0</td>\n",
              "      <td>0.0</td>\n",
              "      <td>1.000000</td>\n",
              "      <td>1.0</td>\n",
              "      <td>0.0</td>\n",
              "      <td>0.0</td>\n",
              "      <td>...</td>\n",
              "      <td>43.967205</td>\n",
              "      <td>9049.180122</td>\n",
              "      <td>4.598360</td>\n",
              "      <td>0.0</td>\n",
              "      <td>0.0</td>\n",
              "      <td>0.0</td>\n",
              "      <td>1.0</td>\n",
              "      <td>0.0</td>\n",
              "      <td>0.0</td>\n",
              "      <td>0</td>\n",
              "    </tr>\n",
              "  </tbody>\n",
              "</table>\n",
              "<p>500 rows × 26 columns</p>\n",
              "</div>\n",
              "      <button class=\"colab-df-convert\" onclick=\"convertToInteractive('df-95f81a8d-9772-4feb-8b9c-b782014b8e23')\"\n",
              "              title=\"Convert this dataframe to an interactive table.\"\n",
              "              style=\"display:none;\">\n",
              "        \n",
              "  <svg xmlns=\"http://www.w3.org/2000/svg\" height=\"24px\"viewBox=\"0 0 24 24\"\n",
              "       width=\"24px\">\n",
              "    <path d=\"M0 0h24v24H0V0z\" fill=\"none\"/>\n",
              "    <path d=\"M18.56 5.44l.94 2.06.94-2.06 2.06-.94-2.06-.94-.94-2.06-.94 2.06-2.06.94zm-11 1L8.5 8.5l.94-2.06 2.06-.94-2.06-.94L8.5 2.5l-.94 2.06-2.06.94zm10 10l.94 2.06.94-2.06 2.06-.94-2.06-.94-.94-2.06-.94 2.06-2.06.94z\"/><path d=\"M17.41 7.96l-1.37-1.37c-.4-.4-.92-.59-1.43-.59-.52 0-1.04.2-1.43.59L10.3 9.45l-7.72 7.72c-.78.78-.78 2.05 0 2.83L4 21.41c.39.39.9.59 1.41.59.51 0 1.02-.2 1.41-.59l7.78-7.78 2.81-2.81c.8-.78.8-2.07 0-2.86zM5.41 20L4 18.59l7.72-7.72 1.47 1.35L5.41 20z\"/>\n",
              "  </svg>\n",
              "      </button>\n",
              "      \n",
              "  <style>\n",
              "    .colab-df-container {\n",
              "      display:flex;\n",
              "      flex-wrap:wrap;\n",
              "      gap: 12px;\n",
              "    }\n",
              "\n",
              "    .colab-df-convert {\n",
              "      background-color: #E8F0FE;\n",
              "      border: none;\n",
              "      border-radius: 50%;\n",
              "      cursor: pointer;\n",
              "      display: none;\n",
              "      fill: #1967D2;\n",
              "      height: 32px;\n",
              "      padding: 0 0 0 0;\n",
              "      width: 32px;\n",
              "    }\n",
              "\n",
              "    .colab-df-convert:hover {\n",
              "      background-color: #E2EBFA;\n",
              "      box-shadow: 0px 1px 2px rgba(60, 64, 67, 0.3), 0px 1px 3px 1px rgba(60, 64, 67, 0.15);\n",
              "      fill: #174EA6;\n",
              "    }\n",
              "\n",
              "    [theme=dark] .colab-df-convert {\n",
              "      background-color: #3B4455;\n",
              "      fill: #D2E3FC;\n",
              "    }\n",
              "\n",
              "    [theme=dark] .colab-df-convert:hover {\n",
              "      background-color: #434B5C;\n",
              "      box-shadow: 0px 1px 3px 1px rgba(0, 0, 0, 0.15);\n",
              "      filter: drop-shadow(0px 1px 2px rgba(0, 0, 0, 0.3));\n",
              "      fill: #FFFFFF;\n",
              "    }\n",
              "  </style>\n",
              "\n",
              "      <script>\n",
              "        const buttonEl =\n",
              "          document.querySelector('#df-95f81a8d-9772-4feb-8b9c-b782014b8e23 button.colab-df-convert');\n",
              "        buttonEl.style.display =\n",
              "          google.colab.kernel.accessAllowed ? 'block' : 'none';\n",
              "\n",
              "        async function convertToInteractive(key) {\n",
              "          const element = document.querySelector('#df-95f81a8d-9772-4feb-8b9c-b782014b8e23');\n",
              "          const dataTable =\n",
              "            await google.colab.kernel.invokeFunction('convertToInteractive',\n",
              "                                                     [key], {});\n",
              "          if (!dataTable) return;\n",
              "\n",
              "          const docLinkHtml = 'Like what you see? Visit the ' +\n",
              "            '<a target=\"_blank\" href=https://colab.research.google.com/notebooks/data_table.ipynb>data table notebook</a>'\n",
              "            + ' to learn more about interactive tables.';\n",
              "          element.innerHTML = '';\n",
              "          dataTable['output_type'] = 'display_data';\n",
              "          await google.colab.output.renderOutput(dataTable, element);\n",
              "          const docLink = document.createElement('div');\n",
              "          docLink.innerHTML = docLinkHtml;\n",
              "          element.appendChild(docLink);\n",
              "        }\n",
              "      </script>\n",
              "    </div>\n",
              "  </div>\n",
              "  "
            ]
          },
          "metadata": {},
          "execution_count": 53
        }
      ]
    },
    {
      "cell_type": "code",
      "source": [
        "d.info()"
      ],
      "metadata": {
        "colab": {
          "base_uri": "https://localhost:8080/"
        },
        "id": "0cJ5KrUNIUnk",
        "outputId": "e85f1313-e301-4a58-b76c-1d76bbf5f112"
      },
      "execution_count": null,
      "outputs": [
        {
          "output_type": "stream",
          "name": "stdout",
          "text": [
            "<class 'pandas.core.frame.DataFrame'>\n",
            "RangeIndex: 500 entries, 0 to 499\n",
            "Data columns (total 26 columns):\n",
            " #   Column      Non-Null Count  Dtype  \n",
            "---  ------      --------------  -----  \n",
            " 0   Unnamed: 0  500 non-null    int64  \n",
            " 1   age         500 non-null    float64\n",
            " 2   bp          500 non-null    float64\n",
            " 3   sg          500 non-null    float64\n",
            " 4   al          500 non-null    float64\n",
            " 5   su          500 non-null    float64\n",
            " 6   rbc         500 non-null    float64\n",
            " 7   pc          500 non-null    float64\n",
            " 8   pcc         500 non-null    float64\n",
            " 9   ba          500 non-null    float64\n",
            " 10  bgr         500 non-null    float64\n",
            " 11  bu          500 non-null    float64\n",
            " 12  sc          500 non-null    float64\n",
            " 13  sod         500 non-null    float64\n",
            " 14  pot         500 non-null    float64\n",
            " 15  hemo        500 non-null    float64\n",
            " 16  pcv         500 non-null    float64\n",
            " 17  wbcc        500 non-null    float64\n",
            " 18  rbcc        500 non-null    float64\n",
            " 19  htn         500 non-null    float64\n",
            " 20  dm          500 non-null    float64\n",
            " 21  cad         500 non-null    float64\n",
            " 22  appet       500 non-null    float64\n",
            " 23  pe          500 non-null    float64\n",
            " 24  ane         500 non-null    float64\n",
            " 25  class       500 non-null    int64  \n",
            "dtypes: float64(24), int64(2)\n",
            "memory usage: 101.7 KB\n"
          ]
        }
      ]
    },
    {
      "cell_type": "code",
      "source": [
        "d['class'].unique()"
      ],
      "metadata": {
        "colab": {
          "base_uri": "https://localhost:8080/"
        },
        "id": "_NKmKWA0IUk7",
        "outputId": "da7bbff4-55ca-454e-c946-13a37d5c5dbb"
      },
      "execution_count": null,
      "outputs": [
        {
          "output_type": "execute_result",
          "data": {
            "text/plain": [
              "array([1, 0])"
            ]
          },
          "metadata": {},
          "execution_count": 55
        }
      ]
    },
    {
      "cell_type": "code",
      "source": [
        "d['class'].value_counts()"
      ],
      "metadata": {
        "colab": {
          "base_uri": "https://localhost:8080/"
        },
        "id": "1kkSwgpZIUio",
        "outputId": "259df96e-a69e-4e5c-8d23-884600d4aae0"
      },
      "execution_count": null,
      "outputs": [
        {
          "output_type": "execute_result",
          "data": {
            "text/plain": [
              "1    250\n",
              "0    250\n",
              "Name: class, dtype: int64"
            ]
          },
          "metadata": {},
          "execution_count": 56
        }
      ]
    },
    {
      "cell_type": "code",
      "source": [
        "# Apply Label Encoding\n",
        "le=LabelEncoder()\n",
        "d['class']=le.fit_transform(d['class'])\n",
        "d['class']"
      ],
      "metadata": {
        "colab": {
          "base_uri": "https://localhost:8080/"
        },
        "id": "TjRjOZh-IUfo",
        "outputId": "37d6e7c2-be73-4912-aed0-c19fee7d811a"
      },
      "execution_count": null,
      "outputs": [
        {
          "output_type": "execute_result",
          "data": {
            "text/plain": [
              "0      1\n",
              "1      1\n",
              "2      1\n",
              "3      1\n",
              "4      1\n",
              "      ..\n",
              "495    0\n",
              "496    0\n",
              "497    0\n",
              "498    0\n",
              "499    0\n",
              "Name: class, Length: 500, dtype: int64"
            ]
          },
          "metadata": {},
          "execution_count": 57
        }
      ]
    },
    {
      "cell_type": "code",
      "source": [
        "d['class'].value_counts()"
      ],
      "metadata": {
        "colab": {
          "base_uri": "https://localhost:8080/"
        },
        "id": "4Y6cfYMUIUdc",
        "outputId": "cdd84b3d-75e5-4347-c574-5f7d217d2f18"
      },
      "execution_count": null,
      "outputs": [
        {
          "output_type": "execute_result",
          "data": {
            "text/plain": [
              "1    250\n",
              "0    250\n",
              "Name: class, dtype: int64"
            ]
          },
          "metadata": {},
          "execution_count": 58
        }
      ]
    },
    {
      "cell_type": "code",
      "source": [
        "# Optionally list down column names\n",
        "col_names=list(d.columns)\n",
        "col_names"
      ],
      "metadata": {
        "colab": {
          "base_uri": "https://localhost:8080/"
        },
        "id": "tW2adofWIUa8",
        "outputId": "cedfa09f-524a-4f3b-8267-d5616ad228b8"
      },
      "execution_count": null,
      "outputs": [
        {
          "output_type": "execute_result",
          "data": {
            "text/plain": [
              "['Unnamed: 0',\n",
              " 'age',\n",
              " 'bp',\n",
              " 'sg',\n",
              " 'al',\n",
              " 'su',\n",
              " 'rbc',\n",
              " 'pc',\n",
              " 'pcc',\n",
              " 'ba',\n",
              " 'bgr',\n",
              " 'bu',\n",
              " 'sc',\n",
              " 'sod',\n",
              " 'pot',\n",
              " 'hemo',\n",
              " 'pcv',\n",
              " 'wbcc',\n",
              " 'rbcc',\n",
              " 'htn',\n",
              " 'dm',\n",
              " 'cad',\n",
              " 'appet',\n",
              " 'pe',\n",
              " 'ane',\n",
              " 'class']"
            ]
          },
          "metadata": {},
          "execution_count": 59
        }
      ]
    },
    {
      "cell_type": "code",
      "source": [
        "d.shape"
      ],
      "metadata": {
        "colab": {
          "base_uri": "https://localhost:8080/"
        },
        "id": "Rgblc5pmM3gd",
        "outputId": "45c3fa52-1b09-44b1-f1d5-7e24090af3eb"
      },
      "execution_count": null,
      "outputs": [
        {
          "output_type": "execute_result",
          "data": {
            "text/plain": [
              "(500, 26)"
            ]
          },
          "metadata": {},
          "execution_count": 60
        }
      ]
    },
    {
      "cell_type": "code",
      "source": [
        "x=d.iloc[:,0:12]\n",
        "x"
      ],
      "metadata": {
        "colab": {
          "base_uri": "https://localhost:8080/",
          "height": 423
        },
        "id": "zCMhvK04IUX_",
        "outputId": "63500138-5a0b-453e-ec70-e1cf36cef6cb"
      },
      "execution_count": null,
      "outputs": [
        {
          "output_type": "execute_result",
          "data": {
            "text/plain": [
              "     Unnamed: 0        age         bp        sg   al   su       rbc   pc  pcc  \\\n",
              "0             0  48.000000  80.000000  1.020000  1.0  0.0  0.810484  1.0  0.0   \n",
              "1             1   7.000000  50.000000  1.020000  4.0  0.0  0.810484  1.0  0.0   \n",
              "2             2  62.000000  80.000000  1.010000  2.0  3.0  1.000000  1.0  0.0   \n",
              "3             3  48.000000  70.000000  1.005000  4.0  0.0  1.000000  0.0  1.0   \n",
              "4             4  51.000000  80.000000  1.010000  2.0  0.0  1.000000  1.0  0.0   \n",
              "..          ...        ...        ...       ...  ...  ...       ...  ...  ...   \n",
              "495         495  47.630564  76.011756  1.021994  0.0  0.0  1.000000  1.0  0.0   \n",
              "496         496  25.753522  80.000000  1.024082  0.0  0.0  1.000000  1.0  0.0   \n",
              "497         497  45.991726  80.000000  1.020000  0.0  0.0  1.000000  1.0  0.0   \n",
              "498         498  53.492825  80.000000  1.025000  0.0  0.0  1.000000  1.0  0.0   \n",
              "499         499  37.377018  80.000000  1.025000  0.0  0.0  1.000000  1.0  0.0   \n",
              "\n",
              "      ba         bgr         bu  \n",
              "0    0.0  121.000000  36.000000  \n",
              "1    0.0  148.036517  18.000000  \n",
              "2    0.0  423.000000  53.000000  \n",
              "3    0.0  117.000000  56.000000  \n",
              "4    0.0  106.000000  26.000000  \n",
              "..   ...         ...        ...  \n",
              "495  0.0  100.000000  41.624687  \n",
              "496  0.0  108.797182  31.246478  \n",
              "497  0.0   95.604965  31.975177  \n",
              "498  0.0  122.765558  49.849282  \n",
              "499  0.0   89.114783  36.803229  \n",
              "\n",
              "[500 rows x 12 columns]"
            ],
            "text/html": [
              "\n",
              "  <div id=\"df-b8d84255-2bf1-4757-bdbf-56687ec3f8cd\">\n",
              "    <div class=\"colab-df-container\">\n",
              "      <div>\n",
              "<style scoped>\n",
              "    .dataframe tbody tr th:only-of-type {\n",
              "        vertical-align: middle;\n",
              "    }\n",
              "\n",
              "    .dataframe tbody tr th {\n",
              "        vertical-align: top;\n",
              "    }\n",
              "\n",
              "    .dataframe thead th {\n",
              "        text-align: right;\n",
              "    }\n",
              "</style>\n",
              "<table border=\"1\" class=\"dataframe\">\n",
              "  <thead>\n",
              "    <tr style=\"text-align: right;\">\n",
              "      <th></th>\n",
              "      <th>Unnamed: 0</th>\n",
              "      <th>age</th>\n",
              "      <th>bp</th>\n",
              "      <th>sg</th>\n",
              "      <th>al</th>\n",
              "      <th>su</th>\n",
              "      <th>rbc</th>\n",
              "      <th>pc</th>\n",
              "      <th>pcc</th>\n",
              "      <th>ba</th>\n",
              "      <th>bgr</th>\n",
              "      <th>bu</th>\n",
              "    </tr>\n",
              "  </thead>\n",
              "  <tbody>\n",
              "    <tr>\n",
              "      <th>0</th>\n",
              "      <td>0</td>\n",
              "      <td>48.000000</td>\n",
              "      <td>80.000000</td>\n",
              "      <td>1.020000</td>\n",
              "      <td>1.0</td>\n",
              "      <td>0.0</td>\n",
              "      <td>0.810484</td>\n",
              "      <td>1.0</td>\n",
              "      <td>0.0</td>\n",
              "      <td>0.0</td>\n",
              "      <td>121.000000</td>\n",
              "      <td>36.000000</td>\n",
              "    </tr>\n",
              "    <tr>\n",
              "      <th>1</th>\n",
              "      <td>1</td>\n",
              "      <td>7.000000</td>\n",
              "      <td>50.000000</td>\n",
              "      <td>1.020000</td>\n",
              "      <td>4.0</td>\n",
              "      <td>0.0</td>\n",
              "      <td>0.810484</td>\n",
              "      <td>1.0</td>\n",
              "      <td>0.0</td>\n",
              "      <td>0.0</td>\n",
              "      <td>148.036517</td>\n",
              "      <td>18.000000</td>\n",
              "    </tr>\n",
              "    <tr>\n",
              "      <th>2</th>\n",
              "      <td>2</td>\n",
              "      <td>62.000000</td>\n",
              "      <td>80.000000</td>\n",
              "      <td>1.010000</td>\n",
              "      <td>2.0</td>\n",
              "      <td>3.0</td>\n",
              "      <td>1.000000</td>\n",
              "      <td>1.0</td>\n",
              "      <td>0.0</td>\n",
              "      <td>0.0</td>\n",
              "      <td>423.000000</td>\n",
              "      <td>53.000000</td>\n",
              "    </tr>\n",
              "    <tr>\n",
              "      <th>3</th>\n",
              "      <td>3</td>\n",
              "      <td>48.000000</td>\n",
              "      <td>70.000000</td>\n",
              "      <td>1.005000</td>\n",
              "      <td>4.0</td>\n",
              "      <td>0.0</td>\n",
              "      <td>1.000000</td>\n",
              "      <td>0.0</td>\n",
              "      <td>1.0</td>\n",
              "      <td>0.0</td>\n",
              "      <td>117.000000</td>\n",
              "      <td>56.000000</td>\n",
              "    </tr>\n",
              "    <tr>\n",
              "      <th>4</th>\n",
              "      <td>4</td>\n",
              "      <td>51.000000</td>\n",
              "      <td>80.000000</td>\n",
              "      <td>1.010000</td>\n",
              "      <td>2.0</td>\n",
              "      <td>0.0</td>\n",
              "      <td>1.000000</td>\n",
              "      <td>1.0</td>\n",
              "      <td>0.0</td>\n",
              "      <td>0.0</td>\n",
              "      <td>106.000000</td>\n",
              "      <td>26.000000</td>\n",
              "    </tr>\n",
              "    <tr>\n",
              "      <th>...</th>\n",
              "      <td>...</td>\n",
              "      <td>...</td>\n",
              "      <td>...</td>\n",
              "      <td>...</td>\n",
              "      <td>...</td>\n",
              "      <td>...</td>\n",
              "      <td>...</td>\n",
              "      <td>...</td>\n",
              "      <td>...</td>\n",
              "      <td>...</td>\n",
              "      <td>...</td>\n",
              "      <td>...</td>\n",
              "    </tr>\n",
              "    <tr>\n",
              "      <th>495</th>\n",
              "      <td>495</td>\n",
              "      <td>47.630564</td>\n",
              "      <td>76.011756</td>\n",
              "      <td>1.021994</td>\n",
              "      <td>0.0</td>\n",
              "      <td>0.0</td>\n",
              "      <td>1.000000</td>\n",
              "      <td>1.0</td>\n",
              "      <td>0.0</td>\n",
              "      <td>0.0</td>\n",
              "      <td>100.000000</td>\n",
              "      <td>41.624687</td>\n",
              "    </tr>\n",
              "    <tr>\n",
              "      <th>496</th>\n",
              "      <td>496</td>\n",
              "      <td>25.753522</td>\n",
              "      <td>80.000000</td>\n",
              "      <td>1.024082</td>\n",
              "      <td>0.0</td>\n",
              "      <td>0.0</td>\n",
              "      <td>1.000000</td>\n",
              "      <td>1.0</td>\n",
              "      <td>0.0</td>\n",
              "      <td>0.0</td>\n",
              "      <td>108.797182</td>\n",
              "      <td>31.246478</td>\n",
              "    </tr>\n",
              "    <tr>\n",
              "      <th>497</th>\n",
              "      <td>497</td>\n",
              "      <td>45.991726</td>\n",
              "      <td>80.000000</td>\n",
              "      <td>1.020000</td>\n",
              "      <td>0.0</td>\n",
              "      <td>0.0</td>\n",
              "      <td>1.000000</td>\n",
              "      <td>1.0</td>\n",
              "      <td>0.0</td>\n",
              "      <td>0.0</td>\n",
              "      <td>95.604965</td>\n",
              "      <td>31.975177</td>\n",
              "    </tr>\n",
              "    <tr>\n",
              "      <th>498</th>\n",
              "      <td>498</td>\n",
              "      <td>53.492825</td>\n",
              "      <td>80.000000</td>\n",
              "      <td>1.025000</td>\n",
              "      <td>0.0</td>\n",
              "      <td>0.0</td>\n",
              "      <td>1.000000</td>\n",
              "      <td>1.0</td>\n",
              "      <td>0.0</td>\n",
              "      <td>0.0</td>\n",
              "      <td>122.765558</td>\n",
              "      <td>49.849282</td>\n",
              "    </tr>\n",
              "    <tr>\n",
              "      <th>499</th>\n",
              "      <td>499</td>\n",
              "      <td>37.377018</td>\n",
              "      <td>80.000000</td>\n",
              "      <td>1.025000</td>\n",
              "      <td>0.0</td>\n",
              "      <td>0.0</td>\n",
              "      <td>1.000000</td>\n",
              "      <td>1.0</td>\n",
              "      <td>0.0</td>\n",
              "      <td>0.0</td>\n",
              "      <td>89.114783</td>\n",
              "      <td>36.803229</td>\n",
              "    </tr>\n",
              "  </tbody>\n",
              "</table>\n",
              "<p>500 rows × 12 columns</p>\n",
              "</div>\n",
              "      <button class=\"colab-df-convert\" onclick=\"convertToInteractive('df-b8d84255-2bf1-4757-bdbf-56687ec3f8cd')\"\n",
              "              title=\"Convert this dataframe to an interactive table.\"\n",
              "              style=\"display:none;\">\n",
              "        \n",
              "  <svg xmlns=\"http://www.w3.org/2000/svg\" height=\"24px\"viewBox=\"0 0 24 24\"\n",
              "       width=\"24px\">\n",
              "    <path d=\"M0 0h24v24H0V0z\" fill=\"none\"/>\n",
              "    <path d=\"M18.56 5.44l.94 2.06.94-2.06 2.06-.94-2.06-.94-.94-2.06-.94 2.06-2.06.94zm-11 1L8.5 8.5l.94-2.06 2.06-.94-2.06-.94L8.5 2.5l-.94 2.06-2.06.94zm10 10l.94 2.06.94-2.06 2.06-.94-2.06-.94-.94-2.06-.94 2.06-2.06.94z\"/><path d=\"M17.41 7.96l-1.37-1.37c-.4-.4-.92-.59-1.43-.59-.52 0-1.04.2-1.43.59L10.3 9.45l-7.72 7.72c-.78.78-.78 2.05 0 2.83L4 21.41c.39.39.9.59 1.41.59.51 0 1.02-.2 1.41-.59l7.78-7.78 2.81-2.81c.8-.78.8-2.07 0-2.86zM5.41 20L4 18.59l7.72-7.72 1.47 1.35L5.41 20z\"/>\n",
              "  </svg>\n",
              "      </button>\n",
              "      \n",
              "  <style>\n",
              "    .colab-df-container {\n",
              "      display:flex;\n",
              "      flex-wrap:wrap;\n",
              "      gap: 12px;\n",
              "    }\n",
              "\n",
              "    .colab-df-convert {\n",
              "      background-color: #E8F0FE;\n",
              "      border: none;\n",
              "      border-radius: 50%;\n",
              "      cursor: pointer;\n",
              "      display: none;\n",
              "      fill: #1967D2;\n",
              "      height: 32px;\n",
              "      padding: 0 0 0 0;\n",
              "      width: 32px;\n",
              "    }\n",
              "\n",
              "    .colab-df-convert:hover {\n",
              "      background-color: #E2EBFA;\n",
              "      box-shadow: 0px 1px 2px rgba(60, 64, 67, 0.3), 0px 1px 3px 1px rgba(60, 64, 67, 0.15);\n",
              "      fill: #174EA6;\n",
              "    }\n",
              "\n",
              "    [theme=dark] .colab-df-convert {\n",
              "      background-color: #3B4455;\n",
              "      fill: #D2E3FC;\n",
              "    }\n",
              "\n",
              "    [theme=dark] .colab-df-convert:hover {\n",
              "      background-color: #434B5C;\n",
              "      box-shadow: 0px 1px 3px 1px rgba(0, 0, 0, 0.15);\n",
              "      filter: drop-shadow(0px 1px 2px rgba(0, 0, 0, 0.3));\n",
              "      fill: #FFFFFF;\n",
              "    }\n",
              "  </style>\n",
              "\n",
              "      <script>\n",
              "        const buttonEl =\n",
              "          document.querySelector('#df-b8d84255-2bf1-4757-bdbf-56687ec3f8cd button.colab-df-convert');\n",
              "        buttonEl.style.display =\n",
              "          google.colab.kernel.accessAllowed ? 'block' : 'none';\n",
              "\n",
              "        async function convertToInteractive(key) {\n",
              "          const element = document.querySelector('#df-b8d84255-2bf1-4757-bdbf-56687ec3f8cd');\n",
              "          const dataTable =\n",
              "            await google.colab.kernel.invokeFunction('convertToInteractive',\n",
              "                                                     [key], {});\n",
              "          if (!dataTable) return;\n",
              "\n",
              "          const docLinkHtml = 'Like what you see? Visit the ' +\n",
              "            '<a target=\"_blank\" href=https://colab.research.google.com/notebooks/data_table.ipynb>data table notebook</a>'\n",
              "            + ' to learn more about interactive tables.';\n",
              "          element.innerHTML = '';\n",
              "          dataTable['output_type'] = 'display_data';\n",
              "          await google.colab.output.renderOutput(dataTable, element);\n",
              "          const docLink = document.createElement('div');\n",
              "          docLink.innerHTML = docLinkHtml;\n",
              "          element.appendChild(docLink);\n",
              "        }\n",
              "      </script>\n",
              "    </div>\n",
              "  </div>\n",
              "  "
            ]
          },
          "metadata": {},
          "execution_count": 61
        }
      ]
    },
    {
      "cell_type": "code",
      "source": [
        "y=d['class']\n",
        "y"
      ],
      "metadata": {
        "colab": {
          "base_uri": "https://localhost:8080/"
        },
        "id": "tjl6UWuoIUVN",
        "outputId": "8fd410fa-e8c7-4f3b-809e-120659bc315f"
      },
      "execution_count": null,
      "outputs": [
        {
          "output_type": "execute_result",
          "data": {
            "text/plain": [
              "0      1\n",
              "1      1\n",
              "2      1\n",
              "3      1\n",
              "4      1\n",
              "      ..\n",
              "495    0\n",
              "496    0\n",
              "497    0\n",
              "498    0\n",
              "499    0\n",
              "Name: class, Length: 500, dtype: int64"
            ]
          },
          "metadata": {},
          "execution_count": 62
        }
      ]
    },
    {
      "cell_type": "code",
      "source": [
        "# Splitting data into training and testing dataset\n",
        "x_train,x_test,y_train,y_test=train_test_split(x,y,test_size=0.2,random_state=2)"
      ],
      "metadata": {
        "id": "yKUpLkfdIUTI"
      },
      "execution_count": null,
      "outputs": []
    },
    {
      "cell_type": "code",
      "source": [
        "# C5.0 Entropy - Training the Model\n",
        "model_entropy=DecisionTreeClassifier(criterion='entropy',max_depth=3)\n",
        "model_entropy.fit(x_train,y_train)"
      ],
      "metadata": {
        "colab": {
          "base_uri": "https://localhost:8080/",
          "height": 74
        },
        "id": "RJ8OA-XBIUQZ",
        "outputId": "34435e15-8fce-42f1-dc86-8db9b85d6115"
      },
      "execution_count": null,
      "outputs": [
        {
          "output_type": "execute_result",
          "data": {
            "text/plain": [
              "DecisionTreeClassifier(criterion='entropy', max_depth=3)"
            ],
            "text/html": [
              "<style>#sk-container-id-3 {color: black;background-color: white;}#sk-container-id-3 pre{padding: 0;}#sk-container-id-3 div.sk-toggleable {background-color: white;}#sk-container-id-3 label.sk-toggleable__label {cursor: pointer;display: block;width: 100%;margin-bottom: 0;padding: 0.3em;box-sizing: border-box;text-align: center;}#sk-container-id-3 label.sk-toggleable__label-arrow:before {content: \"▸\";float: left;margin-right: 0.25em;color: #696969;}#sk-container-id-3 label.sk-toggleable__label-arrow:hover:before {color: black;}#sk-container-id-3 div.sk-estimator:hover label.sk-toggleable__label-arrow:before {color: black;}#sk-container-id-3 div.sk-toggleable__content {max-height: 0;max-width: 0;overflow: hidden;text-align: left;background-color: #f0f8ff;}#sk-container-id-3 div.sk-toggleable__content pre {margin: 0.2em;color: black;border-radius: 0.25em;background-color: #f0f8ff;}#sk-container-id-3 input.sk-toggleable__control:checked~div.sk-toggleable__content {max-height: 200px;max-width: 100%;overflow: auto;}#sk-container-id-3 input.sk-toggleable__control:checked~label.sk-toggleable__label-arrow:before {content: \"▾\";}#sk-container-id-3 div.sk-estimator input.sk-toggleable__control:checked~label.sk-toggleable__label {background-color: #d4ebff;}#sk-container-id-3 div.sk-label input.sk-toggleable__control:checked~label.sk-toggleable__label {background-color: #d4ebff;}#sk-container-id-3 input.sk-hidden--visually {border: 0;clip: rect(1px 1px 1px 1px);clip: rect(1px, 1px, 1px, 1px);height: 1px;margin: -1px;overflow: hidden;padding: 0;position: absolute;width: 1px;}#sk-container-id-3 div.sk-estimator {font-family: monospace;background-color: #f0f8ff;border: 1px dotted black;border-radius: 0.25em;box-sizing: border-box;margin-bottom: 0.5em;}#sk-container-id-3 div.sk-estimator:hover {background-color: #d4ebff;}#sk-container-id-3 div.sk-parallel-item::after {content: \"\";width: 100%;border-bottom: 1px solid gray;flex-grow: 1;}#sk-container-id-3 div.sk-label:hover label.sk-toggleable__label {background-color: #d4ebff;}#sk-container-id-3 div.sk-serial::before {content: \"\";position: absolute;border-left: 1px solid gray;box-sizing: border-box;top: 0;bottom: 0;left: 50%;z-index: 0;}#sk-container-id-3 div.sk-serial {display: flex;flex-direction: column;align-items: center;background-color: white;padding-right: 0.2em;padding-left: 0.2em;position: relative;}#sk-container-id-3 div.sk-item {position: relative;z-index: 1;}#sk-container-id-3 div.sk-parallel {display: flex;align-items: stretch;justify-content: center;background-color: white;position: relative;}#sk-container-id-3 div.sk-item::before, #sk-container-id-3 div.sk-parallel-item::before {content: \"\";position: absolute;border-left: 1px solid gray;box-sizing: border-box;top: 0;bottom: 0;left: 50%;z-index: -1;}#sk-container-id-3 div.sk-parallel-item {display: flex;flex-direction: column;z-index: 1;position: relative;background-color: white;}#sk-container-id-3 div.sk-parallel-item:first-child::after {align-self: flex-end;width: 50%;}#sk-container-id-3 div.sk-parallel-item:last-child::after {align-self: flex-start;width: 50%;}#sk-container-id-3 div.sk-parallel-item:only-child::after {width: 0;}#sk-container-id-3 div.sk-dashed-wrapped {border: 1px dashed gray;margin: 0 0.4em 0.5em 0.4em;box-sizing: border-box;padding-bottom: 0.4em;background-color: white;}#sk-container-id-3 div.sk-label label {font-family: monospace;font-weight: bold;display: inline-block;line-height: 1.2em;}#sk-container-id-3 div.sk-label-container {text-align: center;}#sk-container-id-3 div.sk-container {/* jupyter's `normalize.less` sets `[hidden] { display: none; }` but bootstrap.min.css set `[hidden] { display: none !important; }` so we also need the `!important` here to be able to override the default hidden behavior on the sphinx rendered scikit-learn.org. See: https://github.com/scikit-learn/scikit-learn/issues/21755 */display: inline-block !important;position: relative;}#sk-container-id-3 div.sk-text-repr-fallback {display: none;}</style><div id=\"sk-container-id-3\" class=\"sk-top-container\"><div class=\"sk-text-repr-fallback\"><pre>DecisionTreeClassifier(criterion=&#x27;entropy&#x27;, max_depth=3)</pre><b>In a Jupyter environment, please rerun this cell to show the HTML representation or trust the notebook. <br />On GitHub, the HTML representation is unable to render, please try loading this page with nbviewer.org.</b></div><div class=\"sk-container\" hidden><div class=\"sk-item\"><div class=\"sk-estimator sk-toggleable\"><input class=\"sk-toggleable__control sk-hidden--visually\" id=\"sk-estimator-id-3\" type=\"checkbox\" checked><label for=\"sk-estimator-id-3\" class=\"sk-toggleable__label sk-toggleable__label-arrow\">DecisionTreeClassifier</label><div class=\"sk-toggleable__content\"><pre>DecisionTreeClassifier(criterion=&#x27;entropy&#x27;, max_depth=3)</pre></div></div></div></div></div>"
            ]
          },
          "metadata": {},
          "execution_count": 64
        }
      ]
    },
    {
      "cell_type": "code",
      "source": [
        "# C5.0 Entropy - Trained Model Accuracy\n",
        "model_entropy.score(x_train,y_train)"
      ],
      "metadata": {
        "colab": {
          "base_uri": "https://localhost:8080/"
        },
        "id": "cLQgHrrzIUOM",
        "outputId": "a315a9b0-193a-4747-8ca4-54a72984ee71"
      },
      "execution_count": null,
      "outputs": [
        {
          "output_type": "execute_result",
          "data": {
            "text/plain": [
              "1.0"
            ]
          },
          "metadata": {},
          "execution_count": 65
        }
      ]
    },
    {
      "cell_type": "code",
      "source": [
        "# Plot the decision tree\n",
        "tree.plot_tree(model_entropy)"
      ],
      "metadata": {
        "colab": {
          "base_uri": "https://localhost:8080/",
          "height": 458
        },
        "id": "eM6j03SQIULc",
        "outputId": "08d191d8-04bd-4ca3-913e-8600d672c42a"
      },
      "execution_count": null,
      "outputs": [
        {
          "output_type": "execute_result",
          "data": {
            "text/plain": [
              "[Text(0.5, 0.75, 'x[0] <= 249.5\\nentropy = 1.0\\nsamples = 400\\nvalue = [198, 202]'),\n",
              " Text(0.25, 0.25, 'entropy = 0.0\\nsamples = 202\\nvalue = [0, 202]'),\n",
              " Text(0.75, 0.25, 'entropy = 0.0\\nsamples = 198\\nvalue = [198, 0]')]"
            ]
          },
          "metadata": {},
          "execution_count": 66
        },
        {
          "output_type": "display_data",
          "data": {
            "text/plain": [
              "<Figure size 640x480 with 1 Axes>"
            ],
            "image/png": "[encoded data removed]"
          },
          "metadata": {}
        }
      ]
    },
    {
      "cell_type": "code",
      "source": [
        "# For better visualization of Decision Tree\n",
        "fig=plt.figure(figsize=(4,4),dpi=300)\n",
        "fn=['age', 'bp', 'sg', 'al','su','rbc','pc','pcc','ba','bgr','bu','sc','sod','pot','hemo','pcv','wbcc','rbcc','htn','dm','cad','appet','pe','ane', 'class']\n",
        "cn=['ckd', 'notckd']\n",
        "tree.plot_tree(model_entropy,feature_names=fn,class_names=cn,filled=True)"
      ],
      "metadata": {
        "colab": {
          "base_uri": "https://localhost:8080/",
          "height": 1000
        },
        "id": "VQKvhR2PIUJI",
        "outputId": "7dcfe6fc-0aa4-475f-e599-fa6b750b944c"
      },
      "execution_count": null,
      "outputs": [
        {
          "output_type": "execute_result",
          "data": {
            "text/plain": [
              "[Text(0.5, 0.75, 'age <= 249.5\\nentropy = 1.0\\nsamples = 400\\nvalue = [198, 202]\\nclass = notckd'),\n",
              " Text(0.25, 0.25, 'entropy = 0.0\\nsamples = 202\\nvalue = [0, 202]\\nclass = notckd'),\n",
              " Text(0.75, 0.25, 'entropy = 0.0\\nsamples = 198\\nvalue = [198, 0]\\nclass = ckd')]"
            ]
          },
          "metadata": {},
          "execution_count": 67
        },
        {
          "output_type": "display_data",
          "data": {
            "text/plain": [
              "<Figure size 1200x1200 with 1 Axes>"
            ],
            "image/png": "[encoded data removed]"
          },
          "metadata": {}
        }
      ]
    },
    {
      "cell_type": "code",
      "source": [
        "# Predicting on test data\n",
        "pred=model_entropy.predict(x_test)\n",
        "pred"
      ],
      "metadata": {
        "colab": {
          "base_uri": "https://localhost:8080/"
        },
        "id": "S4vLyfZiIUGe",
        "outputId": "55bdae9b-be2b-488b-d8b5-4f3cd795f42e"
      },
      "execution_count": null,
      "outputs": [
        {
          "output_type": "execute_result",
          "data": {
            "text/plain": [
              "array([1, 0, 0, 0, 1, 0, 1, 0, 0, 0, 0, 0, 1, 1, 0, 1, 0, 0, 0, 1, 0, 1,\n",
              "       0, 0, 1, 1, 1, 0, 0, 1, 1, 1, 0, 1, 1, 1, 1, 0, 1, 0, 1, 1, 0, 1,\n",
              "       1, 0, 0, 1, 1, 0, 0, 0, 0, 1, 0, 0, 1, 1, 0, 0, 0, 0, 1, 0, 0, 0,\n",
              "       1, 1, 1, 0, 1, 1, 0, 1, 0, 1, 1, 1, 0, 0, 0, 1, 0, 1, 1, 1, 0, 0,\n",
              "       1, 0, 1, 1, 0, 1, 0, 0, 1, 0, 0, 1])"
            ]
          },
          "metadata": {},
          "execution_count": 68
        }
      ]
    },
    {
      "cell_type": "code",
      "source": [
        "pd.Series(pred).value_counts() # For value_count of array"
      ],
      "metadata": {
        "colab": {
          "base_uri": "https://localhost:8080/"
        },
        "id": "Jhs0yxLVPld6",
        "outputId": "e631cc7d-b520-4e3a-beb8-4693856530c8"
      },
      "execution_count": null,
      "outputs": [
        {
          "output_type": "execute_result",
          "data": {
            "text/plain": [
              "0    52\n",
              "1    48\n",
              "dtype: int64"
            ]
          },
          "metadata": {},
          "execution_count": 69
        }
      ]
    },
    {
      "cell_type": "code",
      "source": [
        "y_test.value_counts()"
      ],
      "metadata": {
        "colab": {
          "base_uri": "https://localhost:8080/"
        },
        "id": "12Y3Lr_gPnCi",
        "outputId": "4e8ea3fd-fe18-4751-f143-8642ae2e394f"
      },
      "execution_count": null,
      "outputs": [
        {
          "output_type": "execute_result",
          "data": {
            "text/plain": [
              "0    52\n",
              "1    48\n",
              "Name: class, dtype: int64"
            ]
          },
          "metadata": {},
          "execution_count": 70
        }
      ]
    },
    {
      "cell_type": "code",
      "source": [
        "# getting the 2 way table to understand the correct and wrong predictions\n",
        "pd.crosstab(y_test,pred)"
      ],
      "metadata": {
        "colab": {
          "base_uri": "https://localhost:8080/",
          "height": 143
        },
        "id": "Zk8iOnxkPpDx",
        "outputId": "6679e3ae-9c5e-4d29-9f6f-794282952f10"
      },
      "execution_count": null,
      "outputs": [
        {
          "output_type": "execute_result",
          "data": {
            "text/plain": [
              "col_0   0   1\n",
              "class        \n",
              "0      52   0\n",
              "1       0  48"
            ],
            "text/html": [
              "\n",
              "  <div id=\"df-ad1c1b2b-00de-455f-abdb-719fff6b06a7\">\n",
              "    <div class=\"colab-df-container\">\n",
              "      <div>\n",
              "<style scoped>\n",
              "    .dataframe tbody tr th:only-of-type {\n",
              "        vertical-align: middle;\n",
              "    }\n",
              "\n",
              "    .dataframe tbody tr th {\n",
              "        vertical-align: top;\n",
              "    }\n",
              "\n",
              "    .dataframe thead th {\n",
              "        text-align: right;\n",
              "    }\n",
              "</style>\n",
              "<table border=\"1\" class=\"dataframe\">\n",
              "  <thead>\n",
              "    <tr style=\"text-align: right;\">\n",
              "      <th>col_0</th>\n",
              "      <th>0</th>\n",
              "      <th>1</th>\n",
              "    </tr>\n",
              "    <tr>\n",
              "      <th>class</th>\n",
              "      <th></th>\n",
              "      <th></th>\n",
              "    </tr>\n",
              "  </thead>\n",
              "  <tbody>\n",
              "    <tr>\n",
              "      <th>0</th>\n",
              "      <td>52</td>\n",
              "      <td>0</td>\n",
              "    </tr>\n",
              "    <tr>\n",
              "      <th>1</th>\n",
              "      <td>0</td>\n",
              "      <td>48</td>\n",
              "    </tr>\n",
              "  </tbody>\n",
              "</table>\n",
              "</div>\n",
              "      <button class=\"colab-df-convert\" onclick=\"convertToInteractive('df-ad1c1b2b-00de-455f-abdb-719fff6b06a7')\"\n",
              "              title=\"Convert this dataframe to an interactive table.\"\n",
              "              style=\"display:none;\">\n",
              "        \n",
              "  <svg xmlns=\"http://www.w3.org/2000/svg\" height=\"24px\"viewBox=\"0 0 24 24\"\n",
              "       width=\"24px\">\n",
              "    <path d=\"M0 0h24v24H0V0z\" fill=\"none\"/>\n",
              "    <path d=\"M18.56 5.44l.94 2.06.94-2.06 2.06-.94-2.06-.94-.94-2.06-.94 2.06-2.06.94zm-11 1L8.5 8.5l.94-2.06 2.06-.94-2.06-.94L8.5 2.5l-.94 2.06-2.06.94zm10 10l.94 2.06.94-2.06 2.06-.94-2.06-.94-.94-2.06-.94 2.06-2.06.94z\"/><path d=\"M17.41 7.96l-1.37-1.37c-.4-.4-.92-.59-1.43-.59-.52 0-1.04.2-1.43.59L10.3 9.45l-7.72 7.72c-.78.78-.78 2.05 0 2.83L4 21.41c.39.39.9.59 1.41.59.51 0 1.02-.2 1.41-.59l7.78-7.78 2.81-2.81c.8-.78.8-2.07 0-2.86zM5.41 20L4 18.59l7.72-7.72 1.47 1.35L5.41 20z\"/>\n",
              "  </svg>\n",
              "      </button>\n",
              "      \n",
              "  <style>\n",
              "    .colab-df-container {\n",
              "      display:flex;\n",
              "      flex-wrap:wrap;\n",
              "      gap: 12px;\n",
              "    }\n",
              "\n",
              "    .colab-df-convert {\n",
              "      background-color: #E8F0FE;\n",
              "      border: none;\n",
              "      border-radius: 50%;\n",
              "      cursor: pointer;\n",
              "      display: none;\n",
              "      fill: #1967D2;\n",
              "      height: 32px;\n",
              "      padding: 0 0 0 0;\n",
              "      width: 32px;\n",
              "    }\n",
              "\n",
              "    .colab-df-convert:hover {\n",
              "      background-color: #E2EBFA;\n",
              "      box-shadow: 0px 1px 2px rgba(60, 64, 67, 0.3), 0px 1px 3px 1px rgba(60, 64, 67, 0.15);\n",
              "      fill: #174EA6;\n",
              "    }\n",
              "\n",
              "    [theme=dark] .colab-df-convert {\n",
              "      background-color: #3B4455;\n",
              "      fill: #D2E3FC;\n",
              "    }\n",
              "\n",
              "    [theme=dark] .colab-df-convert:hover {\n",
              "      background-color: #434B5C;\n",
              "      box-shadow: 0px 1px 3px 1px rgba(0, 0, 0, 0.15);\n",
              "      filter: drop-shadow(0px 1px 2px rgba(0, 0, 0, 0.3));\n",
              "      fill: #FFFFFF;\n",
              "    }\n",
              "  </style>\n",
              "\n",
              "      <script>\n",
              "        const buttonEl =\n",
              "          document.querySelector('#df-ad1c1b2b-00de-455f-abdb-719fff6b06a7 button.colab-df-convert');\n",
              "        buttonEl.style.display =\n",
              "          google.colab.kernel.accessAllowed ? 'block' : 'none';\n",
              "\n",
              "        async function convertToInteractive(key) {\n",
              "          const element = document.querySelector('#df-ad1c1b2b-00de-455f-abdb-719fff6b06a7');\n",
              "          const dataTable =\n",
              "            await google.colab.kernel.invokeFunction('convertToInteractive',\n",
              "                                                     [key], {});\n",
              "          if (!dataTable) return;\n",
              "\n",
              "          const docLinkHtml = 'Like what you see? Visit the ' +\n",
              "            '<a target=\"_blank\" href=https://colab.research.google.com/notebooks/data_table.ipynb>data table notebook</a>'\n",
              "            + ' to learn more about interactive tables.';\n",
              "          element.innerHTML = '';\n",
              "          dataTable['output_type'] = 'display_data';\n",
              "          await google.colab.output.renderOutput(dataTable, element);\n",
              "          const docLink = document.createElement('div');\n",
              "          docLink.innerHTML = docLinkHtml;\n",
              "          element.appendChild(docLink);\n",
              "        }\n",
              "      </script>\n",
              "    </div>\n",
              "  </div>\n",
              "  "
            ]
          },
          "metadata": {},
          "execution_count": 71
        }
      ]
    },
    {
      "cell_type": "code",
      "source": [
        "# C5.0 Entropy - Test Model Accuracy\n",
        "acc = model_entropy.score(x_test,y_test)"
      ],
      "metadata": {
        "id": "DirI7jVtPq0H"
      },
      "execution_count": null,
      "outputs": []
    },
    {
      "cell_type": "code",
      "source": [
        "print(\"Accuracy : \",acc*100,'%')"
      ],
      "metadata": {
        "colab": {
          "base_uri": "https://localhost:8080/"
        },
        "id": "FbG9DakMPwyf",
        "outputId": "fb88689b-1023-4807-a0cb-6c4a1f6a941f"
      },
      "execution_count": null,
      "outputs": [
        {
          "output_type": "stream",
          "name": "stdout",
          "text": [
            "Accuracy :  100.0 %\n"
          ]
        }
      ]
    },
    {
      "cell_type": "code",
      "source": [
        "from sklearn.metrics import accuracy_score,precision_score,f1_score,roc_auc_score, recall_score\n",
        "accuracy = accuracy_score(y_test, pred)\n",
        "precision = precision_score(y_test, pred, pos_label=1)\n",
        "recall = recall_score(y_test, pred)\n",
        "f_measure = f1_score(y_test, pred)\n",
        "auc = roc_auc_score(y_test, pred)\n",
        "gini_coefficient = 2 * roc_auc_score(y_test, pred) - 1\n",
        "print(\"Accuracy: \", accuracy*100)\n",
        "print(\"Precision: \", precision*100)\n",
        "print(\"Recall: \", recall*100)\n",
        "print(\"F-measure: \", round(f_measure*100,2))\n",
        "print(\"AUC: \", round(auc*100,2))\n",
        "print(\"Gini coefficient: \", round(gini_coefficient*100,2))"
      ],
      "metadata": {
        "colab": {
          "base_uri": "https://localhost:8080/"
        },
        "id": "oDIazLrmsWW1",
        "outputId": "55c8d48c-7173-4837-91c2-5d0ef926854b"
      },
      "execution_count": null,
      "outputs": [
        {
          "output_type": "stream",
          "name": "stdout",
          "text": [
            "Accuracy:  100.0\n",
            "Precision:  100.0\n",
            "Recall:  100.0\n",
            "F-measure:  100.0\n",
            "AUC:  100.0\n",
            "Gini coefficient:  100.0\n"
          ]
        }
      ]
    },
    {
      "cell_type": "markdown",
      "source": [
        "# **KNN**"
      ],
      "metadata": {
        "id": "FFf-RwrZZZl-"
      }
    },
    {
      "cell_type": "code",
      "execution_count": null,
      "metadata": {
        "id": "4duFL3QxngSD"
      },
      "outputs": [],
      "source": [
        "import pandas as pd\n",
        "from sklearn.model_selection import train_test_split\n",
        "from sklearn.preprocessing import StandardScaler\n",
        "from sklearn.neighbors import KNeighborsClassifier\n"
      ]
    },
    {
      "cell_type": "code",
      "source": [
        "df=pd.read_csv(\"smote.csv\")\n",
        "df.head()"
      ],
      "metadata": {
        "colab": {
          "base_uri": "https://localhost:8080/",
          "height": 235
        },
        "id": "y5h4a0Gfoa9L",
        "outputId": "18f1678b-d9b1-45b3-f3ec-73f4f42b117a"
      },
      "execution_count": null,
      "outputs": [
        {
          "output_type": "execute_result",
          "data": {
            "text/plain": [
              "   Unnamed: 0   age    bp     sg   al   su       rbc   pc  pcc   ba  ...  \\\n",
              "0           0  48.0  80.0  1.020  1.0  0.0  0.810484  1.0  0.0  0.0  ...   \n",
              "1           1   7.0  50.0  1.020  4.0  0.0  0.810484  1.0  0.0  0.0  ...   \n",
              "2           2  62.0  80.0  1.010  2.0  3.0  1.000000  1.0  0.0  0.0  ...   \n",
              "3           3  48.0  70.0  1.005  4.0  0.0  1.000000  0.0  1.0  0.0  ...   \n",
              "4           4  51.0  80.0  1.010  2.0  0.0  1.000000  1.0  0.0  0.0  ...   \n",
              "\n",
              "    pcv    wbcc      rbcc  htn   dm  cad  appet   pe  ane  class  \n",
              "0  44.0  7800.0  5.200000  1.0  1.0  0.0    1.0  0.0  0.0      1  \n",
              "1  38.0  6000.0  4.707435  0.0  0.0  0.0    1.0  0.0  0.0      1  \n",
              "2  31.0  7500.0  4.707435  0.0  1.0  0.0    0.0  0.0  1.0      1  \n",
              "3  32.0  6700.0  3.900000  1.0  0.0  0.0    0.0  1.0  1.0      1  \n",
              "4  35.0  7300.0  4.600000  0.0  0.0  0.0    1.0  0.0  0.0      1  \n",
              "\n",
              "[5 rows x 26 columns]"
            ],
            "text/html": [
              "\n",
              "  <div id=\"df-f38dc1b4-d80a-4425-bdb9-cc7dfe197e8c\">\n",
              "    <div class=\"colab-df-container\">\n",
              "      <div>\n",
              "<style scoped>\n",
              "    .dataframe tbody tr th:only-of-type {\n",
              "        vertical-align: middle;\n",
              "    }\n",
              "\n",
              "    .dataframe tbody tr th {\n",
              "        vertical-align: top;\n",
              "    }\n",
              "\n",
              "    .dataframe thead th {\n",
              "        text-align: right;\n",
              "    }\n",
              "</style>\n",
              "<table border=\"1\" class=\"dataframe\">\n",
              "  <thead>\n",
              "    <tr style=\"text-align: right;\">\n",
              "      <th></th>\n",
              "      <th>Unnamed: 0</th>\n",
              "      <th>age</th>\n",
              "      <th>bp</th>\n",
              "      <th>sg</th>\n",
              "      <th>al</th>\n",
              "      <th>su</th>\n",
              "      <th>rbc</th>\n",
              "      <th>pc</th>\n",
              "      <th>pcc</th>\n",
              "      <th>ba</th>\n",
              "      <th>...</th>\n",
              "      <th>pcv</th>\n",
              "      <th>wbcc</th>\n",
              "      <th>rbcc</th>\n",
              "      <th>htn</th>\n",
              "      <th>dm</th>\n",
              "      <th>cad</th>\n",
              "      <th>appet</th>\n",
              "      <th>pe</th>\n",
              "      <th>ane</th>\n",
              "      <th>class</th>\n",
              "    </tr>\n",
              "  </thead>\n",
              "  <tbody>\n",
              "    <tr>\n",
              "      <th>0</th>\n",
              "      <td>0</td>\n",
              "      <td>48.0</td>\n",
              "      <td>80.0</td>\n",
              "      <td>1.020</td>\n",
              "      <td>1.0</td>\n",
              "      <td>0.0</td>\n",
              "      <td>0.810484</td>\n",
              "      <td>1.0</td>\n",
              "      <td>0.0</td>\n",
              "      <td>0.0</td>\n",
              "      <td>...</td>\n",
              "      <td>44.0</td>\n",
              "      <td>7800.0</td>\n",
              "      <td>5.200000</td>\n",
              "      <td>1.0</td>\n",
              "      <td>1.0</td>\n",
              "      <td>0.0</td>\n",
              "      <td>1.0</td>\n",
              "      <td>0.0</td>\n",
              "      <td>0.0</td>\n",
              "      <td>1</td>\n",
              "    </tr>\n",
              "    <tr>\n",
              "      <th>1</th>\n",
              "      <td>1</td>\n",
              "      <td>7.0</td>\n",
              "      <td>50.0</td>\n",
              "      <td>1.020</td>\n",
              "      <td>4.0</td>\n",
              "      <td>0.0</td>\n",
              "      <td>0.810484</td>\n",
              "      <td>1.0</td>\n",
              "      <td>0.0</td>\n",
              "      <td>0.0</td>\n",
              "      <td>...</td>\n",
              "      <td>38.0</td>\n",
              "      <td>6000.0</td>\n",
              "      <td>4.707435</td>\n",
              "      <td>0.0</td>\n",
              "      <td>0.0</td>\n",
              "      <td>0.0</td>\n",
              "      <td>1.0</td>\n",
              "      <td>0.0</td>\n",
              "      <td>0.0</td>\n",
              "      <td>1</td>\n",
              "    </tr>\n",
              "    <tr>\n",
              "      <th>2</th>\n",
              "      <td>2</td>\n",
              "      <td>62.0</td>\n",
              "      <td>80.0</td>\n",
              "      <td>1.010</td>\n",
              "      <td>2.0</td>\n",
              "      <td>3.0</td>\n",
              "      <td>1.000000</td>\n",
              "      <td>1.0</td>\n",
              "      <td>0.0</td>\n",
              "      <td>0.0</td>\n",
              "      <td>...</td>\n",
              "      <td>31.0</td>\n",
              "      <td>7500.0</td>\n",
              "      <td>4.707435</td>\n",
              "      <td>0.0</td>\n",
              "      <td>1.0</td>\n",
              "      <td>0.0</td>\n",
              "      <td>0.0</td>\n",
              "      <td>0.0</td>\n",
              "      <td>1.0</td>\n",
              "      <td>1</td>\n",
              "    </tr>\n",
              "    <tr>\n",
              "      <th>3</th>\n",
              "      <td>3</td>\n",
              "      <td>48.0</td>\n",
              "      <td>70.0</td>\n",
              "      <td>1.005</td>\n",
              "      <td>4.0</td>\n",
              "      <td>0.0</td>\n",
              "      <td>1.000000</td>\n",
              "      <td>0.0</td>\n",
              "      <td>1.0</td>\n",
              "      <td>0.0</td>\n",
              "      <td>...</td>\n",
              "      <td>32.0</td>\n",
              "      <td>6700.0</td>\n",
              "      <td>3.900000</td>\n",
              "      <td>1.0</td>\n",
              "      <td>0.0</td>\n",
              "      <td>0.0</td>\n",
              "      <td>0.0</td>\n",
              "      <td>1.0</td>\n",
              "      <td>1.0</td>\n",
              "      <td>1</td>\n",
              "    </tr>\n",
              "    <tr>\n",
              "      <th>4</th>\n",
              "      <td>4</td>\n",
              "      <td>51.0</td>\n",
              "      <td>80.0</td>\n",
              "      <td>1.010</td>\n",
              "      <td>2.0</td>\n",
              "      <td>0.0</td>\n",
              "      <td>1.000000</td>\n",
              "      <td>1.0</td>\n",
              "      <td>0.0</td>\n",
              "      <td>0.0</td>\n",
              "      <td>...</td>\n",
              "      <td>35.0</td>\n",
              "      <td>7300.0</td>\n",
              "      <td>4.600000</td>\n",
              "      <td>0.0</td>\n",
              "      <td>0.0</td>\n",
              "      <td>0.0</td>\n",
              "      <td>1.0</td>\n",
              "      <td>0.0</td>\n",
              "      <td>0.0</td>\n",
              "      <td>1</td>\n",
              "    </tr>\n",
              "  </tbody>\n",
              "</table>\n",
              "<p>5 rows × 26 columns</p>\n",
              "</div>\n",
              "      <button class=\"colab-df-convert\" onclick=\"convertToInteractive('df-f38dc1b4-d80a-4425-bdb9-cc7dfe197e8c')\"\n",
              "              title=\"Convert this dataframe to an interactive table.\"\n",
              "              style=\"display:none;\">\n",
              "        \n",
              "  <svg xmlns=\"http://www.w3.org/2000/svg\" height=\"24px\"viewBox=\"0 0 24 24\"\n",
              "       width=\"24px\">\n",
              "    <path d=\"M0 0h24v24H0V0z\" fill=\"none\"/>\n",
              "    <path d=\"M18.56 5.44l.94 2.06.94-2.06 2.06-.94-2.06-.94-.94-2.06-.94 2.06-2.06.94zm-11 1L8.5 8.5l.94-2.06 2.06-.94-2.06-.94L8.5 2.5l-.94 2.06-2.06.94zm10 10l.94 2.06.94-2.06 2.06-.94-2.06-.94-.94-2.06-.94 2.06-2.06.94z\"/><path d=\"M17.41 7.96l-1.37-1.37c-.4-.4-.92-.59-1.43-.59-.52 0-1.04.2-1.43.59L10.3 9.45l-7.72 7.72c-.78.78-.78 2.05 0 2.83L4 21.41c.39.39.9.59 1.41.59.51 0 1.02-.2 1.41-.59l7.78-7.78 2.81-2.81c.8-.78.8-2.07 0-2.86zM5.41 20L4 18.59l7.72-7.72 1.47 1.35L5.41 20z\"/>\n",
              "  </svg>\n",
              "      </button>\n",
              "      \n",
              "  <style>\n",
              "    .colab-df-container {\n",
              "      display:flex;\n",
              "      flex-wrap:wrap;\n",
              "      gap: 12px;\n",
              "    }\n",
              "\n",
              "    .colab-df-convert {\n",
              "      background-color: #E8F0FE;\n",
              "      border: none;\n",
              "      border-radius: 50%;\n",
              "      cursor: pointer;\n",
              "      display: none;\n",
              "      fill: #1967D2;\n",
              "      height: 32px;\n",
              "      padding: 0 0 0 0;\n",
              "      width: 32px;\n",
              "    }\n",
              "\n",
              "    .colab-df-convert:hover {\n",
              "      background-color: #E2EBFA;\n",
              "      box-shadow: 0px 1px 2px rgba(60, 64, 67, 0.3), 0px 1px 3px 1px rgba(60, 64, 67, 0.15);\n",
              "      fill: #174EA6;\n",
              "    }\n",
              "\n",
              "    [theme=dark] .colab-df-convert {\n",
              "      background-color: #3B4455;\n",
              "      fill: #D2E3FC;\n",
              "    }\n",
              "\n",
              "    [theme=dark] .colab-df-convert:hover {\n",
              "      background-color: #434B5C;\n",
              "      box-shadow: 0px 1px 3px 1px rgba(0, 0, 0, 0.15);\n",
              "      filter: drop-shadow(0px 1px 2px rgba(0, 0, 0, 0.3));\n",
              "      fill: #FFFFFF;\n",
              "    }\n",
              "  </style>\n",
              "\n",
              "      <script>\n",
              "        const buttonEl =\n",
              "          document.querySelector('#df-f38dc1b4-d80a-4425-bdb9-cc7dfe197e8c button.colab-df-convert');\n",
              "        buttonEl.style.display =\n",
              "          google.colab.kernel.accessAllowed ? 'block' : 'none';\n",
              "\n",
              "        async function convertToInteractive(key) {\n",
              "          const element = document.querySelector('#df-f38dc1b4-d80a-4425-bdb9-cc7dfe197e8c');\n",
              "          const dataTable =\n",
              "            await google.colab.kernel.invokeFunction('convertToInteractive',\n",
              "                                                     [key], {});\n",
              "          if (!dataTable) return;\n",
              "\n",
              "          const docLinkHtml = 'Like what you see? Visit the ' +\n",
              "            '<a target=\"_blank\" href=https://colab.research.google.com/notebooks/data_table.ipynb>data table notebook</a>'\n",
              "            + ' to learn more about interactive tables.';\n",
              "          element.innerHTML = '';\n",
              "          dataTable['output_type'] = 'display_data';\n",
              "          await google.colab.output.renderOutput(dataTable, element);\n",
              "          const docLink = document.createElement('div');\n",
              "          docLink.innerHTML = docLinkHtml;\n",
              "          element.appendChild(docLink);\n",
              "        }\n",
              "      </script>\n",
              "    </div>\n",
              "  </div>\n",
              "  "
            ]
          },
          "metadata": {},
          "execution_count": 76
        }
      ]
    },
    {
      "cell_type": "code",
      "source": [
        "df.shape"
      ],
      "metadata": {
        "colab": {
          "base_uri": "https://localhost:8080/"
        },
        "id": "3gHgo8VCK5FV",
        "outputId": "116a646d-b487-40d5-a2ab-c7895c01e428"
      },
      "execution_count": null,
      "outputs": [
        {
          "output_type": "execute_result",
          "data": {
            "text/plain": [
              "(500, 26)"
            ]
          },
          "metadata": {},
          "execution_count": 77
        }
      ]
    },
    {
      "cell_type": "code",
      "source": [],
      "metadata": {
        "id": "gLnzTPI6Ky3A"
      },
      "execution_count": null,
      "outputs": []
    },
    {
      "cell_type": "code",
      "source": [
        "x=df.drop([\"class\"],axis=1)\n",
        "y=df[\"class\"]"
      ],
      "metadata": {
        "id": "wHiwReEdo7jz"
      },
      "execution_count": null,
      "outputs": []
    },
    {
      "cell_type": "code",
      "source": [
        "x_train,x_test,y_train,y_test = train_test_split(x,y,test_size=0.2,random_state=0)"
      ],
      "metadata": {
        "id": "Jn3Nf74HpVD0"
      },
      "execution_count": null,
      "outputs": []
    },
    {
      "cell_type": "code",
      "source": [
        "classifier=KNeighborsClassifier(n_neighbors=5,p=2,metric='euclidean')"
      ],
      "metadata": {
        "id": "fXi8s-yOpyhX"
      },
      "execution_count": null,
      "outputs": []
    },
    {
      "cell_type": "code",
      "source": [
        "classifier.fit(x_train,y_train)"
      ],
      "metadata": {
        "colab": {
          "base_uri": "https://localhost:8080/",
          "height": 74
        },
        "id": "WWrHm9ojqHiV",
        "outputId": "17492e14-7f8b-4cc8-f0be-23575c6cdada"
      },
      "execution_count": null,
      "outputs": [
        {
          "output_type": "execute_result",
          "data": {
            "text/plain": [
              "KNeighborsClassifier(metric='euclidean')"
            ],
            "text/html": [
              "<style>#sk-container-id-4 {color: black;background-color: white;}#sk-container-id-4 pre{padding: 0;}#sk-container-id-4 div.sk-toggleable {background-color: white;}#sk-container-id-4 label.sk-toggleable__label {cursor: pointer;display: block;width: 100%;margin-bottom: 0;padding: 0.3em;box-sizing: border-box;text-align: center;}#sk-container-id-4 label.sk-toggleable__label-arrow:before {content: \"▸\";float: left;margin-right: 0.25em;color: #696969;}#sk-container-id-4 label.sk-toggleable__label-arrow:hover:before {color: black;}#sk-container-id-4 div.sk-estimator:hover label.sk-toggleable__label-arrow:before {color: black;}#sk-container-id-4 div.sk-toggleable__content {max-height: 0;max-width: 0;overflow: hidden;text-align: left;background-color: #f0f8ff;}#sk-container-id-4 div.sk-toggleable__content pre {margin: 0.2em;color: black;border-radius: 0.25em;background-color: #f0f8ff;}#sk-container-id-4 input.sk-toggleable__control:checked~div.sk-toggleable__content {max-height: 200px;max-width: 100%;overflow: auto;}#sk-container-id-4 input.sk-toggleable__control:checked~label.sk-toggleable__label-arrow:before {content: \"▾\";}#sk-container-id-4 div.sk-estimator input.sk-toggleable__control:checked~label.sk-toggleable__label {background-color: #d4ebff;}#sk-container-id-4 div.sk-label input.sk-toggleable__control:checked~label.sk-toggleable__label {background-color: #d4ebff;}#sk-container-id-4 input.sk-hidden--visually {border: 0;clip: rect(1px 1px 1px 1px);clip: rect(1px, 1px, 1px, 1px);height: 1px;margin: -1px;overflow: hidden;padding: 0;position: absolute;width: 1px;}#sk-container-id-4 div.sk-estimator {font-family: monospace;background-color: #f0f8ff;border: 1px dotted black;border-radius: 0.25em;box-sizing: border-box;margin-bottom: 0.5em;}#sk-container-id-4 div.sk-estimator:hover {background-color: #d4ebff;}#sk-container-id-4 div.sk-parallel-item::after {content: \"\";width: 100%;border-bottom: 1px solid gray;flex-grow: 1;}#sk-container-id-4 div.sk-label:hover label.sk-toggleable__label {background-color: #d4ebff;}#sk-container-id-4 div.sk-serial::before {content: \"\";position: absolute;border-left: 1px solid gray;box-sizing: border-box;top: 0;bottom: 0;left: 50%;z-index: 0;}#sk-container-id-4 div.sk-serial {display: flex;flex-direction: column;align-items: center;background-color: white;padding-right: 0.2em;padding-left: 0.2em;position: relative;}#sk-container-id-4 div.sk-item {position: relative;z-index: 1;}#sk-container-id-4 div.sk-parallel {display: flex;align-items: stretch;justify-content: center;background-color: white;position: relative;}#sk-container-id-4 div.sk-item::before, #sk-container-id-4 div.sk-parallel-item::before {content: \"\";position: absolute;border-left: 1px solid gray;box-sizing: border-box;top: 0;bottom: 0;left: 50%;z-index: -1;}#sk-container-id-4 div.sk-parallel-item {display: flex;flex-direction: column;z-index: 1;position: relative;background-color: white;}#sk-container-id-4 div.sk-parallel-item:first-child::after {align-self: flex-end;width: 50%;}#sk-container-id-4 div.sk-parallel-item:last-child::after {align-self: flex-start;width: 50%;}#sk-container-id-4 div.sk-parallel-item:only-child::after {width: 0;}#sk-container-id-4 div.sk-dashed-wrapped {border: 1px dashed gray;margin: 0 0.4em 0.5em 0.4em;box-sizing: border-box;padding-bottom: 0.4em;background-color: white;}#sk-container-id-4 div.sk-label label {font-family: monospace;font-weight: bold;display: inline-block;line-height: 1.2em;}#sk-container-id-4 div.sk-label-container {text-align: center;}#sk-container-id-4 div.sk-container {/* jupyter's `normalize.less` sets `[hidden] { display: none; }` but bootstrap.min.css set `[hidden] { display: none !important; }` so we also need the `!important` here to be able to override the default hidden behavior on the sphinx rendered scikit-learn.org. See: https://github.com/scikit-learn/scikit-learn/issues/21755 */display: inline-block !important;position: relative;}#sk-container-id-4 div.sk-text-repr-fallback {display: none;}</style><div id=\"sk-container-id-4\" class=\"sk-top-container\"><div class=\"sk-text-repr-fallback\"><pre>KNeighborsClassifier(metric=&#x27;euclidean&#x27;)</pre><b>In a Jupyter environment, please rerun this cell to show the HTML representation or trust the notebook. <br />On GitHub, the HTML representation is unable to render, please try loading this page with nbviewer.org.</b></div><div class=\"sk-container\" hidden><div class=\"sk-item\"><div class=\"sk-estimator sk-toggleable\"><input class=\"sk-toggleable__control sk-hidden--visually\" id=\"sk-estimator-id-4\" type=\"checkbox\" checked><label for=\"sk-estimator-id-4\" class=\"sk-toggleable__label sk-toggleable__label-arrow\">KNeighborsClassifier</label><div class=\"sk-toggleable__content\"><pre>KNeighborsClassifier(metric=&#x27;euclidean&#x27;)</pre></div></div></div></div></div>"
            ]
          },
          "metadata": {},
          "execution_count": 81
        }
      ]
    },
    {
      "cell_type": "code",
      "source": [
        "y_pred=classifier.predict(x_test)"
      ],
      "metadata": {
        "id": "A0T7Lf5TqU0P"
      },
      "execution_count": null,
      "outputs": []
    },
    {
      "cell_type": "code",
      "source": [
        "print(y_pred)"
      ],
      "metadata": {
        "colab": {
          "base_uri": "https://localhost:8080/"
        },
        "id": "smBkYQ64qcgR",
        "outputId": "b57d904b-dd45-4d5b-d7e7-1de5fade5592"
      },
      "execution_count": null,
      "outputs": [
        {
          "output_type": "stream",
          "name": "stdout",
          "text": [
            "[1 0 0 0 0 1 0 0 1 1 0 0 0 0 1 0 0 0 1 1 1 0 0 1 1 0 1 0 1 1 0 1 0 0 0 0 0\n",
            " 0 0 1 0 1 0 1 0 1 0 0 0 1 0 1 0 0 1 1 0 0 1 0 1 0 0 0 0 1 1 0 0 1 1 1 0 0\n",
            " 1 0 0 1 0 0 0 0 0 0 0 0 0 1 0 1 0 0 0 0 1 0 1 0 1 1]\n"
          ]
        }
      ]
    },
    {
      "cell_type": "code",
      "source": [
        "from sklearn.metrics import accuracy_score,precision_score,f1_score,roc_auc_score, recall_score\n",
        "accuracy = accuracy_score(y_test, y_pred)\n",
        "precision = precision_score(y_test, y_pred, pos_label=1)\n",
        "recall = recall_score(y_test, y_pred)\n",
        "f_measure = f1_score(y_test, y_pred)\n",
        "auc = roc_auc_score(y_test, y_pred)\n",
        "gini_coefficient = 2 * roc_auc_score(y_test, y_pred) - 1\n",
        "print(\"Accuracy: \", accuracy*100)\n",
        "print(\"Precision: \", precision*100)\n",
        "print(\"Recall: \", recall*100)\n",
        "print(\"F-measure: \", round(f_measure*100,2))\n",
        "print(\"AUC: \", round(auc*100,2))\n",
        "print(\"Gini coefficient: \", round(gini_coefficient*100,2))"
      ],
      "metadata": {
        "colab": {
          "base_uri": "https://localhost:8080/"
        },
        "id": "7wH2w4Q6qi4A",
        "outputId": "7e272e09-4a75-466e-bb9e-f9001449ba95"
      },
      "execution_count": null,
      "outputs": [
        {
          "output_type": "stream",
          "name": "stdout",
          "text": [
            "Accuracy:  88.0\n",
            "Precision:  100.0\n",
            "Recall:  75.51020408163265\n",
            "F-measure:  86.05\n",
            "AUC:  87.76\n",
            "Gini coefficient:  75.51\n"
          ]
        }
      ]
    },
    {
      "cell_type": "markdown",
      "source": [
        "# **RANDOM TREE**"
      ],
      "metadata": {
        "id": "oowl84nXZng2"
      }
    },
    {
      "cell_type": "code",
      "execution_count": null,
      "metadata": {
        "id": "8q7YRi8wPm_k"
      },
      "outputs": [],
      "source": [
        "import pandas as pd\n",
        "from sklearn.model_selection import train_test_split\n",
        "from sklearn.tree import DecisionTreeClassifier"
      ]
    },
    {
      "cell_type": "code",
      "source": [
        "df=pd.read_csv(\"smote.csv\")"
      ],
      "metadata": {
        "id": "5JozV-CZPsvw"
      },
      "execution_count": null,
      "outputs": []
    },
    {
      "cell_type": "code",
      "source": [
        "X = df.iloc[:, :-1].values\n",
        "y = df.iloc[:, -1].values"
      ],
      "metadata": {
        "id": "VhLx-iqdRIBJ"
      },
      "execution_count": null,
      "outputs": []
    },
    {
      "cell_type": "code",
      "source": [
        "X_train, X_test, y_train, y_test = train_test_split(X,y, test_size=0.2, random_state=0)"
      ],
      "metadata": {
        "id": "8C_5LcyKQKxQ"
      },
      "execution_count": null,
      "outputs": []
    },
    {
      "cell_type": "code",
      "source": [
        "tree = DecisionTreeClassifier(max_depth=5, random_state=1)"
      ],
      "metadata": {
        "id": "XWScbhwqQeYF"
      },
      "execution_count": null,
      "outputs": []
    },
    {
      "cell_type": "code",
      "source": [
        "tree.fit(X_train, y_train)"
      ],
      "metadata": {
        "colab": {
          "base_uri": "https://localhost:8080/",
          "height": 74
        },
        "id": "HBIxsrr8QiL8",
        "outputId": "2ddeaba2-bb02-401c-ee1c-e5c686c8d782"
      },
      "execution_count": null,
      "outputs": [
        {
          "output_type": "execute_result",
          "data": {
            "text/plain": [
              "DecisionTreeClassifier(max_depth=5, random_state=1)"
            ],
            "text/html": [
              "<style>#sk-container-id-5 {color: black;background-color: white;}#sk-container-id-5 pre{padding: 0;}#sk-container-id-5 div.sk-toggleable {background-color: white;}#sk-container-id-5 label.sk-toggleable__label {cursor: pointer;display: block;width: 100%;margin-bottom: 0;padding: 0.3em;box-sizing: border-box;text-align: center;}#sk-container-id-5 label.sk-toggleable__label-arrow:before {content: \"▸\";float: left;margin-right: 0.25em;color: #696969;}#sk-container-id-5 label.sk-toggleable__label-arrow:hover:before {color: black;}#sk-container-id-5 div.sk-estimator:hover label.sk-toggleable__label-arrow:before {color: black;}#sk-container-id-5 div.sk-toggleable__content {max-height: 0;max-width: 0;overflow: hidden;text-align: left;background-color: #f0f8ff;}#sk-container-id-5 div.sk-toggleable__content pre {margin: 0.2em;color: black;border-radius: 0.25em;background-color: #f0f8ff;}#sk-container-id-5 input.sk-toggleable__control:checked~div.sk-toggleable__content {max-height: 200px;max-width: 100%;overflow: auto;}#sk-container-id-5 input.sk-toggleable__control:checked~label.sk-toggleable__label-arrow:before {content: \"▾\";}#sk-container-id-5 div.sk-estimator input.sk-toggleable__control:checked~label.sk-toggleable__label {background-color: #d4ebff;}#sk-container-id-5 div.sk-label input.sk-toggleable__control:checked~label.sk-toggleable__label {background-color: #d4ebff;}#sk-container-id-5 input.sk-hidden--visually {border: 0;clip: rect(1px 1px 1px 1px);clip: rect(1px, 1px, 1px, 1px);height: 1px;margin: -1px;overflow: hidden;padding: 0;position: absolute;width: 1px;}#sk-container-id-5 div.sk-estimator {font-family: monospace;background-color: #f0f8ff;border: 1px dotted black;border-radius: 0.25em;box-sizing: border-box;margin-bottom: 0.5em;}#sk-container-id-5 div.sk-estimator:hover {background-color: #d4ebff;}#sk-container-id-5 div.sk-parallel-item::after {content: \"\";width: 100%;border-bottom: 1px solid gray;flex-grow: 1;}#sk-container-id-5 div.sk-label:hover label.sk-toggleable__label {background-color: #d4ebff;}#sk-container-id-5 div.sk-serial::before {content: \"\";position: absolute;border-left: 1px solid gray;box-sizing: border-box;top: 0;bottom: 0;left: 50%;z-index: 0;}#sk-container-id-5 div.sk-serial {display: flex;flex-direction: column;align-items: center;background-color: white;padding-right: 0.2em;padding-left: 0.2em;position: relative;}#sk-container-id-5 div.sk-item {position: relative;z-index: 1;}#sk-container-id-5 div.sk-parallel {display: flex;align-items: stretch;justify-content: center;background-color: white;position: relative;}#sk-container-id-5 div.sk-item::before, #sk-container-id-5 div.sk-parallel-item::before {content: \"\";position: absolute;border-left: 1px solid gray;box-sizing: border-box;top: 0;bottom: 0;left: 50%;z-index: -1;}#sk-container-id-5 div.sk-parallel-item {display: flex;flex-direction: column;z-index: 1;position: relative;background-color: white;}#sk-container-id-5 div.sk-parallel-item:first-child::after {align-self: flex-end;width: 50%;}#sk-container-id-5 div.sk-parallel-item:last-child::after {align-self: flex-start;width: 50%;}#sk-container-id-5 div.sk-parallel-item:only-child::after {width: 0;}#sk-container-id-5 div.sk-dashed-wrapped {border: 1px dashed gray;margin: 0 0.4em 0.5em 0.4em;box-sizing: border-box;padding-bottom: 0.4em;background-color: white;}#sk-container-id-5 div.sk-label label {font-family: monospace;font-weight: bold;display: inline-block;line-height: 1.2em;}#sk-container-id-5 div.sk-label-container {text-align: center;}#sk-container-id-5 div.sk-container {/* jupyter's `normalize.less` sets `[hidden] { display: none; }` but bootstrap.min.css set `[hidden] { display: none !important; }` so we also need the `!important` here to be able to override the default hidden behavior on the sphinx rendered scikit-learn.org. See: https://github.com/scikit-learn/scikit-learn/issues/21755 */display: inline-block !important;position: relative;}#sk-container-id-5 div.sk-text-repr-fallback {display: none;}</style><div id=\"sk-container-id-5\" class=\"sk-top-container\"><div class=\"sk-text-repr-fallback\"><pre>DecisionTreeClassifier(max_depth=5, random_state=1)</pre><b>In a Jupyter environment, please rerun this cell to show the HTML representation or trust the notebook. <br />On GitHub, the HTML representation is unable to render, please try loading this page with nbviewer.org.</b></div><div class=\"sk-container\" hidden><div class=\"sk-item\"><div class=\"sk-estimator sk-toggleable\"><input class=\"sk-toggleable__control sk-hidden--visually\" id=\"sk-estimator-id-5\" type=\"checkbox\" checked><label for=\"sk-estimator-id-5\" class=\"sk-toggleable__label sk-toggleable__label-arrow\">DecisionTreeClassifier</label><div class=\"sk-toggleable__content\"><pre>DecisionTreeClassifier(max_depth=5, random_state=1)</pre></div></div></div></div></div>"
            ]
          },
          "metadata": {},
          "execution_count": 90
        }
      ]
    },
    {
      "cell_type": "code",
      "source": [
        "y_pred = tree.predict(X_test)"
      ],
      "metadata": {
        "id": "0PD9cbdJQkvp"
      },
      "execution_count": null,
      "outputs": []
    },
    {
      "cell_type": "code",
      "source": [
        "from sklearn.metrics import accuracy_score,precision_score,f1_score,roc_auc_score, recall_score\n",
        "accuracy = accuracy_score(y_test, y_pred)\n",
        "precision = precision_score(y_test, y_pred, pos_label=1)\n",
        "recall = recall_score(y_test, y_pred)\n",
        "f_measure = f1_score(y_test, y_pred)\n",
        "auc = roc_auc_score(y_test, y_pred)\n",
        "gini_coefficient = 2 * roc_auc_score(y_test, y_pred) - 1\n",
        "print(\"Accuracy: \", accuracy*100)\n",
        "print(\"Precision: \", precision*100)\n",
        "print(\"Recall: \", recall*100)\n",
        "print(\"F-measure: \", round(f_measure*100,2))\n",
        "print(\"AUC: \", round(auc*100,2))\n",
        "print(\"Gini coefficient: \", round(gini_coefficient*100,2))"
      ],
      "metadata": {
        "colab": {
          "base_uri": "https://localhost:8080/"
        },
        "id": "-IVOd4r9Qsn8",
        "outputId": "ed58ec02-0444-458a-cfaa-2aee993ef4e4"
      },
      "execution_count": null,
      "outputs": [
        {
          "output_type": "stream",
          "name": "stdout",
          "text": [
            "Accuracy:  99.0\n",
            "Precision:  98.0\n",
            "Recall:  100.0\n",
            "F-measure:  98.99\n",
            "AUC:  99.02\n",
            "Gini coefficient:  98.04\n"
          ]
        }
      ]
    },
    {
      "cell_type": "markdown",
      "source": [
        "# **SMOTE WITH LASSO**"
      ],
      "metadata": {
        "id": "QxZMWUzQo9G_"
      }
    },
    {
      "cell_type": "code",
      "execution_count": null,
      "metadata": {
        "id": "j5IWcj00o9HA"
      },
      "outputs": [],
      "source": [
        "import pandas as pd\n",
        "from imblearn.over_sampling import SMOTE\n",
        "data = pd.read_csv('LASSOFS.csv')"
      ]
    },
    {
      "cell_type": "code",
      "source": [
        "classes = data['class'].unique()\n",
        "class_counts = data['class'].value_counts()\n",
        "class_counts"
      ],
      "metadata": {
        "colab": {
          "base_uri": "https://localhost:8080/"
        },
        "outputId": "3e453021-361d-4e1f-d594-e1c8b01901ed",
        "id": "A0W5wO6Zo9HB"
      },
      "execution_count": null,
      "outputs": [
        {
          "output_type": "execute_result",
          "data": {
            "text/plain": [
              "1    250\n",
              "0    150\n",
              "Name: class, dtype: int64"
            ]
          },
          "metadata": {},
          "execution_count": 95
        }
      ]
    },
    {
      "cell_type": "code",
      "source": [
        "import matplotlib.pyplot as plt\n",
        "plt.bar(classes, class_counts)\n",
        "plt.xlabel('Class')\n",
        "plt.ylabel('Number of instances')\n",
        "plt.title('Class distribution in the dataset')\n",
        "plt.show()"
      ],
      "metadata": {
        "colab": {
          "base_uri": "https://localhost:8080/",
          "height": 472
        },
        "outputId": "c02f3aaf-7e41-4359-e168-57e254518154",
        "id": "5a8WaKgoo9HB"
      },
      "execution_count": null,
      "outputs": [
        {
          "output_type": "display_data",
          "data": {
            "text/plain": [
              "<Figure size 640x480 with 1 Axes>"
            ],
            "image/png": "[encoded data removed]"
          },
          "metadata": {}
        }
      ]
    },
    {
      "cell_type": "code",
      "source": [
        "X = data.drop('class', axis=1)\n",
        "y = data['class']\n",
        "smote = SMOTE(random_state=42)\n",
        "X_smote, y_smote = smote.fit_resample(X, y)\n",
        "print(\"Original data shape:\", X.shape, y.shape)\n",
        "print(\"Resampled data shape:\", X_smote.shape, y_smote.shape)"
      ],
      "metadata": {
        "colab": {
          "base_uri": "https://localhost:8080/"
        },
        "outputId": "b7f92d13-1506-4927-dc6e-be146f9fb264",
        "id": "qnT4Ubq6o9HK"
      },
      "execution_count": null,
      "outputs": [
        {
          "output_type": "stream",
          "name": "stdout",
          "text": [
            "Original data shape: (400, 12) (400,)\n",
            "Resampled data shape: (500, 12) (500,)\n"
          ]
        }
      ]
    },
    {
      "cell_type": "code",
      "source": [
        "X_smote\n",
        "type(X_smote)"
      ],
      "metadata": {
        "colab": {
          "base_uri": "https://localhost:8080/"
        },
        "outputId": "fc4e417c-50db-4fb9-b3d2-c2dc218b4a1a",
        "id": "frogs8NOo9HL"
      },
      "execution_count": null,
      "outputs": [
        {
          "output_type": "execute_result",
          "data": {
            "text/plain": [
              "pandas.core.frame.DataFrame"
            ]
          },
          "metadata": {},
          "execution_count": 98
        }
      ]
    },
    {
      "cell_type": "code",
      "source": [
        "data = (X_smote)\n",
        "df = pd.DataFrame(data)\n",
        "df"
      ],
      "metadata": {
        "colab": {
          "base_uri": "https://localhost:8080/",
          "height": 423
        },
        "outputId": "79cc7d0a-8d0c-490c-b96f-17a91e010983",
        "id": "0aFFcN5_o9HL"
      },
      "execution_count": null,
      "outputs": [
        {
          "output_type": "execute_result",
          "data": {
            "text/plain": [
              "           sg   al   su       rbc         bgr        sc         sod  \\\n",
              "0    1.020000  1.0  0.0  0.810484  121.000000  1.200000  137.528754   \n",
              "1    1.020000  4.0  0.0  0.810484  148.036517  0.800000  137.528754   \n",
              "2    1.010000  2.0  3.0  1.000000  423.000000  1.800000  137.528754   \n",
              "3    1.005000  4.0  0.0  1.000000  117.000000  3.800000  111.000000   \n",
              "4    1.010000  2.0  0.0  1.000000  106.000000  1.400000  137.528754   \n",
              "..        ...  ...  ...       ...         ...       ...         ...   \n",
              "495  1.020000  0.0  0.0  1.000000   98.005878  0.920823  139.202351   \n",
              "496  1.024082  0.0  0.0  1.000000   99.816432  0.989859  142.917841   \n",
              "497  1.023992  0.0  0.0  1.000000   99.596690  0.979007  141.596690   \n",
              "498  1.025000  0.0  0.0  1.000000  130.150718  1.109569  146.698565   \n",
              "499  1.025000  0.0  0.0  1.000000   81.491801  0.549180  143.950807   \n",
              "\n",
              "          hemo        pcv  htn   dm   pe  \n",
              "0    15.400000  44.000000  1.0  1.0  0.0  \n",
              "1    11.300000  38.000000  0.0  0.0  0.0  \n",
              "2     9.600000  31.000000  0.0  1.0  0.0  \n",
              "3    11.200000  32.000000  1.0  0.0  1.0  \n",
              "4    11.600000  35.000000  0.0  0.0  0.0  \n",
              "..         ...        ...  ...  ...  ...  \n",
              "495  14.398824  50.000000  0.0  0.0  0.0  \n",
              "496  14.171502  43.183568  0.0  0.0  0.0  \n",
              "497  14.219338  43.201655  0.0  0.0  0.0  \n",
              "498  15.515072  41.000000  0.0  0.0  0.0  \n",
              "499  15.442621  46.000000  0.0  0.0  0.0  \n",
              "\n",
              "[500 rows x 12 columns]"
            ],
            "text/html": [
              "\n",
              "  <div id=\"df-ae2d66cd-43a9-49fb-8a46-ce8db8b91711\">\n",
              "    <div class=\"colab-df-container\">\n",
              "      <div>\n",
              "<style scoped>\n",
              "    .dataframe tbody tr th:only-of-type {\n",
              "        vertical-align: middle;\n",
              "    }\n",
              "\n",
              "    .dataframe tbody tr th {\n",
              "        vertical-align: top;\n",
              "    }\n",
              "\n",
              "    .dataframe thead th {\n",
              "        text-align: right;\n",
              "    }\n",
              "</style>\n",
              "<table border=\"1\" class=\"dataframe\">\n",
              "  <thead>\n",
              "    <tr style=\"text-align: right;\">\n",
              "      <th></th>\n",
              "      <th>sg</th>\n",
              "      <th>al</th>\n",
              "      <th>su</th>\n",
              "      <th>rbc</th>\n",
              "      <th>bgr</th>\n",
              "      <th>sc</th>\n",
              "      <th>sod</th>\n",
              "      <th>hemo</th>\n",
              "      <th>pcv</th>\n",
              "      <th>htn</th>\n",
              "      <th>dm</th>\n",
              "      <th>pe</th>\n",
              "    </tr>\n",
              "  </thead>\n",
              "  <tbody>\n",
              "    <tr>\n",
              "      <th>0</th>\n",
              "      <td>1.020000</td>\n",
              "      <td>1.0</td>\n",
              "      <td>0.0</td>\n",
              "      <td>0.810484</td>\n",
              "      <td>121.000000</td>\n",
              "      <td>1.200000</td>\n",
              "      <td>137.528754</td>\n",
              "      <td>15.400000</td>\n",
              "      <td>44.000000</td>\n",
              "      <td>1.0</td>\n",
              "      <td>1.0</td>\n",
              "      <td>0.0</td>\n",
              "    </tr>\n",
              "    <tr>\n",
              "      <th>1</th>\n",
              "      <td>1.020000</td>\n",
              "      <td>4.0</td>\n",
              "      <td>0.0</td>\n",
              "      <td>0.810484</td>\n",
              "      <td>148.036517</td>\n",
              "      <td>0.800000</td>\n",
              "      <td>137.528754</td>\n",
              "      <td>11.300000</td>\n",
              "      <td>38.000000</td>\n",
              "      <td>0.0</td>\n",
              "      <td>0.0</td>\n",
              "      <td>0.0</td>\n",
              "    </tr>\n",
              "    <tr>\n",
              "      <th>2</th>\n",
              "      <td>1.010000</td>\n",
              "      <td>2.0</td>\n",
              "      <td>3.0</td>\n",
              "      <td>1.000000</td>\n",
              "      <td>423.000000</td>\n",
              "      <td>1.800000</td>\n",
              "      <td>137.528754</td>\n",
              "      <td>9.600000</td>\n",
              "      <td>31.000000</td>\n",
              "      <td>0.0</td>\n",
              "      <td>1.0</td>\n",
              "      <td>0.0</td>\n",
              "    </tr>\n",
              "    <tr>\n",
              "      <th>3</th>\n",
              "      <td>1.005000</td>\n",
              "      <td>4.0</td>\n",
              "      <td>0.0</td>\n",
              "      <td>1.000000</td>\n",
              "      <td>117.000000</td>\n",
              "      <td>3.800000</td>\n",
              "      <td>111.000000</td>\n",
              "      <td>11.200000</td>\n",
              "      <td>32.000000</td>\n",
              "      <td>1.0</td>\n",
              "      <td>0.0</td>\n",
              "      <td>1.0</td>\n",
              "    </tr>\n",
              "    <tr>\n",
              "      <th>4</th>\n",
              "      <td>1.010000</td>\n",
              "      <td>2.0</td>\n",
              "      <td>0.0</td>\n",
              "      <td>1.000000</td>\n",
              "      <td>106.000000</td>\n",
              "      <td>1.400000</td>\n",
              "      <td>137.528754</td>\n",
              "      <td>11.600000</td>\n",
              "      <td>35.000000</td>\n",
              "      <td>0.0</td>\n",
              "      <td>0.0</td>\n",
              "      <td>0.0</td>\n",
              "    </tr>\n",
              "    <tr>\n",
              "      <th>...</th>\n",
              "      <td>...</td>\n",
              "      <td>...</td>\n",
              "      <td>...</td>\n",
              "      <td>...</td>\n",
              "      <td>...</td>\n",
              "      <td>...</td>\n",
              "      <td>...</td>\n",
              "      <td>...</td>\n",
              "      <td>...</td>\n",
              "      <td>...</td>\n",
              "      <td>...</td>\n",
              "      <td>...</td>\n",
              "    </tr>\n",
              "    <tr>\n",
              "      <th>495</th>\n",
              "      <td>1.020000</td>\n",
              "      <td>0.0</td>\n",
              "      <td>0.0</td>\n",
              "      <td>1.000000</td>\n",
              "      <td>98.005878</td>\n",
              "      <td>0.920823</td>\n",
              "      <td>139.202351</td>\n",
              "      <td>14.398824</td>\n",
              "      <td>50.000000</td>\n",
              "      <td>0.0</td>\n",
              "      <td>0.0</td>\n",
              "      <td>0.0</td>\n",
              "    </tr>\n",
              "    <tr>\n",
              "      <th>496</th>\n",
              "      <td>1.024082</td>\n",
              "      <td>0.0</td>\n",
              "      <td>0.0</td>\n",
              "      <td>1.000000</td>\n",
              "      <td>99.816432</td>\n",
              "      <td>0.989859</td>\n",
              "      <td>142.917841</td>\n",
              "      <td>14.171502</td>\n",
              "      <td>43.183568</td>\n",
              "      <td>0.0</td>\n",
              "      <td>0.0</td>\n",
              "      <td>0.0</td>\n",
              "    </tr>\n",
              "    <tr>\n",
              "      <th>497</th>\n",
              "      <td>1.023992</td>\n",
              "      <td>0.0</td>\n",
              "      <td>0.0</td>\n",
              "      <td>1.000000</td>\n",
              "      <td>99.596690</td>\n",
              "      <td>0.979007</td>\n",
              "      <td>141.596690</td>\n",
              "      <td>14.219338</td>\n",
              "      <td>43.201655</td>\n",
              "      <td>0.0</td>\n",
              "      <td>0.0</td>\n",
              "      <td>0.0</td>\n",
              "    </tr>\n",
              "    <tr>\n",
              "      <th>498</th>\n",
              "      <td>1.025000</td>\n",
              "      <td>0.0</td>\n",
              "      <td>0.0</td>\n",
              "      <td>1.000000</td>\n",
              "      <td>130.150718</td>\n",
              "      <td>1.109569</td>\n",
              "      <td>146.698565</td>\n",
              "      <td>15.515072</td>\n",
              "      <td>41.000000</td>\n",
              "      <td>0.0</td>\n",
              "      <td>0.0</td>\n",
              "      <td>0.0</td>\n",
              "    </tr>\n",
              "    <tr>\n",
              "      <th>499</th>\n",
              "      <td>1.025000</td>\n",
              "      <td>0.0</td>\n",
              "      <td>0.0</td>\n",
              "      <td>1.000000</td>\n",
              "      <td>81.491801</td>\n",
              "      <td>0.549180</td>\n",
              "      <td>143.950807</td>\n",
              "      <td>15.442621</td>\n",
              "      <td>46.000000</td>\n",
              "      <td>0.0</td>\n",
              "      <td>0.0</td>\n",
              "      <td>0.0</td>\n",
              "    </tr>\n",
              "  </tbody>\n",
              "</table>\n",
              "<p>500 rows × 12 columns</p>\n",
              "</div>\n",
              "      <button class=\"colab-df-convert\" onclick=\"convertToInteractive('df-ae2d66cd-43a9-49fb-8a46-ce8db8b91711')\"\n",
              "              title=\"Convert this dataframe to an interactive table.\"\n",
              "              style=\"display:none;\">\n",
              "        \n",
              "  <svg xmlns=\"http://www.w3.org/2000/svg\" height=\"24px\"viewBox=\"0 0 24 24\"\n",
              "       width=\"24px\">\n",
              "    <path d=\"M0 0h24v24H0V0z\" fill=\"none\"/>\n",
              "    <path d=\"M18.56 5.44l.94 2.06.94-2.06 2.06-.94-2.06-.94-.94-2.06-.94 2.06-2.06.94zm-11 1L8.5 8.5l.94-2.06 2.06-.94-2.06-.94L8.5 2.5l-.94 2.06-2.06.94zm10 10l.94 2.06.94-2.06 2.06-.94-2.06-.94-.94-2.06-.94 2.06-2.06.94z\"/><path d=\"M17.41 7.96l-1.37-1.37c-.4-.4-.92-.59-1.43-.59-.52 0-1.04.2-1.43.59L10.3 9.45l-7.72 7.72c-.78.78-.78 2.05 0 2.83L4 21.41c.39.39.9.59 1.41.59.51 0 1.02-.2 1.41-.59l7.78-7.78 2.81-2.81c.8-.78.8-2.07 0-2.86zM5.41 20L4 18.59l7.72-7.72 1.47 1.35L5.41 20z\"/>\n",
              "  </svg>\n",
              "      </button>\n",
              "      \n",
              "  <style>\n",
              "    .colab-df-container {\n",
              "      display:flex;\n",
              "      flex-wrap:wrap;\n",
              "      gap: 12px;\n",
              "    }\n",
              "\n",
              "    .colab-df-convert {\n",
              "      background-color: #E8F0FE;\n",
              "      border: none;\n",
              "      border-radius: 50%;\n",
              "      cursor: pointer;\n",
              "      display: none;\n",
              "      fill: #1967D2;\n",
              "      height: 32px;\n",
              "      padding: 0 0 0 0;\n",
              "      width: 32px;\n",
              "    }\n",
              "\n",
              "    .colab-df-convert:hover {\n",
              "      background-color: #E2EBFA;\n",
              "      box-shadow: 0px 1px 2px rgba(60, 64, 67, 0.3), 0px 1px 3px 1px rgba(60, 64, 67, 0.15);\n",
              "      fill: #174EA6;\n",
              "    }\n",
              "\n",
              "    [theme=dark] .colab-df-convert {\n",
              "      background-color: #3B4455;\n",
              "      fill: #D2E3FC;\n",
              "    }\n",
              "\n",
              "    [theme=dark] .colab-df-convert:hover {\n",
              "      background-color: #434B5C;\n",
              "      box-shadow: 0px 1px 3px 1px rgba(0, 0, 0, 0.15);\n",
              "      filter: drop-shadow(0px 1px 2px rgba(0, 0, 0, 0.3));\n",
              "      fill: #FFFFFF;\n",
              "    }\n",
              "  </style>\n",
              "\n",
              "      <script>\n",
              "        const buttonEl =\n",
              "          document.querySelector('#df-ae2d66cd-43a9-49fb-8a46-ce8db8b91711 button.colab-df-convert');\n",
              "        buttonEl.style.display =\n",
              "          google.colab.kernel.accessAllowed ? 'block' : 'none';\n",
              "\n",
              "        async function convertToInteractive(key) {\n",
              "          const element = document.querySelector('#df-ae2d66cd-43a9-49fb-8a46-ce8db8b91711');\n",
              "          const dataTable =\n",
              "            await google.colab.kernel.invokeFunction('convertToInteractive',\n",
              "                                                     [key], {});\n",
              "          if (!dataTable) return;\n",
              "\n",
              "          const docLinkHtml = 'Like what you see? Visit the ' +\n",
              "            '<a target=\"_blank\" href=https://colab.research.google.com/notebooks/data_table.ipynb>data table notebook</a>'\n",
              "            + ' to learn more about interactive tables.';\n",
              "          element.innerHTML = '';\n",
              "          dataTable['output_type'] = 'display_data';\n",
              "          await google.colab.output.renderOutput(dataTable, element);\n",
              "          const docLink = document.createElement('div');\n",
              "          docLink.innerHTML = docLinkHtml;\n",
              "          element.appendChild(docLink);\n",
              "        }\n",
              "      </script>\n",
              "    </div>\n",
              "  </div>\n",
              "  "
            ]
          },
          "metadata": {},
          "execution_count": 99
        }
      ]
    },
    {
      "cell_type": "code",
      "source": [
        "data2 = (y_smote)\n",
        "df2 = pd.DataFrame(data2)\n",
        "df2"
      ],
      "metadata": {
        "colab": {
          "base_uri": "https://localhost:8080/",
          "height": 423
        },
        "outputId": "2e209051-70f7-461b-8277-73415c31674f",
        "id": "HmBuIkY1o9HM"
      },
      "execution_count": null,
      "outputs": [
        {
          "output_type": "execute_result",
          "data": {
            "text/plain": [
              "     class\n",
              "0        1\n",
              "1        1\n",
              "2        1\n",
              "3        1\n",
              "4        1\n",
              "..     ...\n",
              "495      0\n",
              "496      0\n",
              "497      0\n",
              "498      0\n",
              "499      0\n",
              "\n",
              "[500 rows x 1 columns]"
            ],
            "text/html": [
              "\n",
              "  <div id=\"df-5ed59f93-485f-437c-a015-a3388db9f76b\">\n",
              "    <div class=\"colab-df-container\">\n",
              "      <div>\n",
              "<style scoped>\n",
              "    .dataframe tbody tr th:only-of-type {\n",
              "        vertical-align: middle;\n",
              "    }\n",
              "\n",
              "    .dataframe tbody tr th {\n",
              "        vertical-align: top;\n",
              "    }\n",
              "\n",
              "    .dataframe thead th {\n",
              "        text-align: right;\n",
              "    }\n",
              "</style>\n",
              "<table border=\"1\" class=\"dataframe\">\n",
              "  <thead>\n",
              "    <tr style=\"text-align: right;\">\n",
              "      <th></th>\n",
              "      <th>class</th>\n",
              "    </tr>\n",
              "  </thead>\n",
              "  <tbody>\n",
              "    <tr>\n",
              "      <th>0</th>\n",
              "      <td>1</td>\n",
              "    </tr>\n",
              "    <tr>\n",
              "      <th>1</th>\n",
              "      <td>1</td>\n",
              "    </tr>\n",
              "    <tr>\n",
              "      <th>2</th>\n",
              "      <td>1</td>\n",
              "    </tr>\n",
              "    <tr>\n",
              "      <th>3</th>\n",
              "      <td>1</td>\n",
              "    </tr>\n",
              "    <tr>\n",
              "      <th>4</th>\n",
              "      <td>1</td>\n",
              "    </tr>\n",
              "    <tr>\n",
              "      <th>...</th>\n",
              "      <td>...</td>\n",
              "    </tr>\n",
              "    <tr>\n",
              "      <th>495</th>\n",
              "      <td>0</td>\n",
              "    </tr>\n",
              "    <tr>\n",
              "      <th>496</th>\n",
              "      <td>0</td>\n",
              "    </tr>\n",
              "    <tr>\n",
              "      <th>497</th>\n",
              "      <td>0</td>\n",
              "    </tr>\n",
              "    <tr>\n",
              "      <th>498</th>\n",
              "      <td>0</td>\n",
              "    </tr>\n",
              "    <tr>\n",
              "      <th>499</th>\n",
              "      <td>0</td>\n",
              "    </tr>\n",
              "  </tbody>\n",
              "</table>\n",
              "<p>500 rows × 1 columns</p>\n",
              "</div>\n",
              "      <button class=\"colab-df-convert\" onclick=\"convertToInteractive('df-5ed59f93-485f-437c-a015-a3388db9f76b')\"\n",
              "              title=\"Convert this dataframe to an interactive table.\"\n",
              "              style=\"display:none;\">\n",
              "        \n",
              "  <svg xmlns=\"http://www.w3.org/2000/svg\" height=\"24px\"viewBox=\"0 0 24 24\"\n",
              "       width=\"24px\">\n",
              "    <path d=\"M0 0h24v24H0V0z\" fill=\"none\"/>\n",
              "    <path d=\"M18.56 5.44l.94 2.06.94-2.06 2.06-.94-2.06-.94-.94-2.06-.94 2.06-2.06.94zm-11 1L8.5 8.5l.94-2.06 2.06-.94-2.06-.94L8.5 2.5l-.94 2.06-2.06.94zm10 10l.94 2.06.94-2.06 2.06-.94-2.06-.94-.94-2.06-.94 2.06-2.06.94z\"/><path d=\"M17.41 7.96l-1.37-1.37c-.4-.4-.92-.59-1.43-.59-.52 0-1.04.2-1.43.59L10.3 9.45l-7.72 7.72c-.78.78-.78 2.05 0 2.83L4 21.41c.39.39.9.59 1.41.59.51 0 1.02-.2 1.41-.59l7.78-7.78 2.81-2.81c.8-.78.8-2.07 0-2.86zM5.41 20L4 18.59l7.72-7.72 1.47 1.35L5.41 20z\"/>\n",
              "  </svg>\n",
              "      </button>\n",
              "      \n",
              "  <style>\n",
              "    .colab-df-container {\n",
              "      display:flex;\n",
              "      flex-wrap:wrap;\n",
              "      gap: 12px;\n",
              "    }\n",
              "\n",
              "    .colab-df-convert {\n",
              "      background-color: #E8F0FE;\n",
              "      border: none;\n",
              "      border-radius: 50%;\n",
              "      cursor: pointer;\n",
              "      display: none;\n",
              "      fill: #1967D2;\n",
              "      height: 32px;\n",
              "      padding: 0 0 0 0;\n",
              "      width: 32px;\n",
              "    }\n",
              "\n",
              "    .colab-df-convert:hover {\n",
              "      background-color: #E2EBFA;\n",
              "      box-shadow: 0px 1px 2px rgba(60, 64, 67, 0.3), 0px 1px 3px 1px rgba(60, 64, 67, 0.15);\n",
              "      fill: #174EA6;\n",
              "    }\n",
              "\n",
              "    [theme=dark] .colab-df-convert {\n",
              "      background-color: #3B4455;\n",
              "      fill: #D2E3FC;\n",
              "    }\n",
              "\n",
              "    [theme=dark] .colab-df-convert:hover {\n",
              "      background-color: #434B5C;\n",
              "      box-shadow: 0px 1px 3px 1px rgba(0, 0, 0, 0.15);\n",
              "      filter: drop-shadow(0px 1px 2px rgba(0, 0, 0, 0.3));\n",
              "      fill: #FFFFFF;\n",
              "    }\n",
              "  </style>\n",
              "\n",
              "      <script>\n",
              "        const buttonEl =\n",
              "          document.querySelector('#df-5ed59f93-485f-437c-a015-a3388db9f76b button.colab-df-convert');\n",
              "        buttonEl.style.display =\n",
              "          google.colab.kernel.accessAllowed ? 'block' : 'none';\n",
              "\n",
              "        async function convertToInteractive(key) {\n",
              "          const element = document.querySelector('#df-5ed59f93-485f-437c-a015-a3388db9f76b');\n",
              "          const dataTable =\n",
              "            await google.colab.kernel.invokeFunction('convertToInteractive',\n",
              "                                                     [key], {});\n",
              "          if (!dataTable) return;\n",
              "\n",
              "          const docLinkHtml = 'Like what you see? Visit the ' +\n",
              "            '<a target=\"_blank\" href=https://colab.research.google.com/notebooks/data_table.ipynb>data table notebook</a>'\n",
              "            + ' to learn more about interactive tables.';\n",
              "          element.innerHTML = '';\n",
              "          dataTable['output_type'] = 'display_data';\n",
              "          await google.colab.output.renderOutput(dataTable, element);\n",
              "          const docLink = document.createElement('div');\n",
              "          docLink.innerHTML = docLinkHtml;\n",
              "          element.appendChild(docLink);\n",
              "        }\n",
              "      </script>\n",
              "    </div>\n",
              "  </div>\n",
              "  "
            ]
          },
          "metadata": {},
          "execution_count": 100
        }
      ]
    },
    {
      "cell_type": "code",
      "source": [
        "df3=pd.concat([df,df2],axis=1)\n",
        "df3.head()"
      ],
      "metadata": {
        "colab": {
          "base_uri": "https://localhost:8080/",
          "height": 206
        },
        "outputId": "5019c172-8917-42ca-a65c-292c281c1291",
        "id": "5yImSx5Xo9HM"
      },
      "execution_count": null,
      "outputs": [
        {
          "output_type": "execute_result",
          "data": {
            "text/plain": [
              "      sg   al   su       rbc         bgr   sc         sod  hemo   pcv  htn  \\\n",
              "0  1.020  1.0  0.0  0.810484  121.000000  1.2  137.528754  15.4  44.0  1.0   \n",
              "1  1.020  4.0  0.0  0.810484  148.036517  0.8  137.528754  11.3  38.0  0.0   \n",
              "2  1.010  2.0  3.0  1.000000  423.000000  1.8  137.528754   9.6  31.0  0.0   \n",
              "3  1.005  4.0  0.0  1.000000  117.000000  3.8  111.000000  11.2  32.0  1.0   \n",
              "4  1.010  2.0  0.0  1.000000  106.000000  1.4  137.528754  11.6  35.0  0.0   \n",
              "\n",
              "    dm   pe  class  \n",
              "0  1.0  0.0      1  \n",
              "1  0.0  0.0      1  \n",
              "2  1.0  0.0      1  \n",
              "3  0.0  1.0      1  \n",
              "4  0.0  0.0      1  "
            ],
            "text/html": [
              "\n",
              "  <div id=\"df-d948b2af-fd9d-4c17-b0b2-65f53e65b48c\">\n",
              "    <div class=\"colab-df-container\">\n",
              "      <div>\n",
              "<style scoped>\n",
              "    .dataframe tbody tr th:only-of-type {\n",
              "        vertical-align: middle;\n",
              "    }\n",
              "\n",
              "    .dataframe tbody tr th {\n",
              "        vertical-align: top;\n",
              "    }\n",
              "\n",
              "    .dataframe thead th {\n",
              "        text-align: right;\n",
              "    }\n",
              "</style>\n",
              "<table border=\"1\" class=\"dataframe\">\n",
              "  <thead>\n",
              "    <tr style=\"text-align: right;\">\n",
              "      <th></th>\n",
              "      <th>sg</th>\n",
              "      <th>al</th>\n",
              "      <th>su</th>\n",
              "      <th>rbc</th>\n",
              "      <th>bgr</th>\n",
              "      <th>sc</th>\n",
              "      <th>sod</th>\n",
              "      <th>hemo</th>\n",
              "      <th>pcv</th>\n",
              "      <th>htn</th>\n",
              "      <th>dm</th>\n",
              "      <th>pe</th>\n",
              "      <th>class</th>\n",
              "    </tr>\n",
              "  </thead>\n",
              "  <tbody>\n",
              "    <tr>\n",
              "      <th>0</th>\n",
              "      <td>1.020</td>\n",
              "      <td>1.0</td>\n",
              "      <td>0.0</td>\n",
              "      <td>0.810484</td>\n",
              "      <td>121.000000</td>\n",
              "      <td>1.2</td>\n",
              "      <td>137.528754</td>\n",
              "      <td>15.4</td>\n",
              "      <td>44.0</td>\n",
              "      <td>1.0</td>\n",
              "      <td>1.0</td>\n",
              "      <td>0.0</td>\n",
              "      <td>1</td>\n",
              "    </tr>\n",
              "    <tr>\n",
              "      <th>1</th>\n",
              "      <td>1.020</td>\n",
              "      <td>4.0</td>\n",
              "      <td>0.0</td>\n",
              "      <td>0.810484</td>\n",
              "      <td>148.036517</td>\n",
              "      <td>0.8</td>\n",
              "      <td>137.528754</td>\n",
              "      <td>11.3</td>\n",
              "      <td>38.0</td>\n",
              "      <td>0.0</td>\n",
              "      <td>0.0</td>\n",
              "      <td>0.0</td>\n",
              "      <td>1</td>\n",
              "    </tr>\n",
              "    <tr>\n",
              "      <th>2</th>\n",
              "      <td>1.010</td>\n",
              "      <td>2.0</td>\n",
              "      <td>3.0</td>\n",
              "      <td>1.000000</td>\n",
              "      <td>423.000000</td>\n",
              "      <td>1.8</td>\n",
              "      <td>137.528754</td>\n",
              "      <td>9.6</td>\n",
              "      <td>31.0</td>\n",
              "      <td>0.0</td>\n",
              "      <td>1.0</td>\n",
              "      <td>0.0</td>\n",
              "      <td>1</td>\n",
              "    </tr>\n",
              "    <tr>\n",
              "      <th>3</th>\n",
              "      <td>1.005</td>\n",
              "      <td>4.0</td>\n",
              "      <td>0.0</td>\n",
              "      <td>1.000000</td>\n",
              "      <td>117.000000</td>\n",
              "      <td>3.8</td>\n",
              "      <td>111.000000</td>\n",
              "      <td>11.2</td>\n",
              "      <td>32.0</td>\n",
              "      <td>1.0</td>\n",
              "      <td>0.0</td>\n",
              "      <td>1.0</td>\n",
              "      <td>1</td>\n",
              "    </tr>\n",
              "    <tr>\n",
              "      <th>4</th>\n",
              "      <td>1.010</td>\n",
              "      <td>2.0</td>\n",
              "      <td>0.0</td>\n",
              "      <td>1.000000</td>\n",
              "      <td>106.000000</td>\n",
              "      <td>1.4</td>\n",
              "      <td>137.528754</td>\n",
              "      <td>11.6</td>\n",
              "      <td>35.0</td>\n",
              "      <td>0.0</td>\n",
              "      <td>0.0</td>\n",
              "      <td>0.0</td>\n",
              "      <td>1</td>\n",
              "    </tr>\n",
              "  </tbody>\n",
              "</table>\n",
              "</div>\n",
              "      <button class=\"colab-df-convert\" onclick=\"convertToInteractive('df-d948b2af-fd9d-4c17-b0b2-65f53e65b48c')\"\n",
              "              title=\"Convert this dataframe to an interactive table.\"\n",
              "              style=\"display:none;\">\n",
              "        \n",
              "  <svg xmlns=\"http://www.w3.org/2000/svg\" height=\"24px\"viewBox=\"0 0 24 24\"\n",
              "       width=\"24px\">\n",
              "    <path d=\"M0 0h24v24H0V0z\" fill=\"none\"/>\n",
              "    <path d=\"M18.56 5.44l.94 2.06.94-2.06 2.06-.94-2.06-.94-.94-2.06-.94 2.06-2.06.94zm-11 1L8.5 8.5l.94-2.06 2.06-.94-2.06-.94L8.5 2.5l-.94 2.06-2.06.94zm10 10l.94 2.06.94-2.06 2.06-.94-2.06-.94-.94-2.06-.94 2.06-2.06.94z\"/><path d=\"M17.41 7.96l-1.37-1.37c-.4-.4-.92-.59-1.43-.59-.52 0-1.04.2-1.43.59L10.3 9.45l-7.72 7.72c-.78.78-.78 2.05 0 2.83L4 21.41c.39.39.9.59 1.41.59.51 0 1.02-.2 1.41-.59l7.78-7.78 2.81-2.81c.8-.78.8-2.07 0-2.86zM5.41 20L4 18.59l7.72-7.72 1.47 1.35L5.41 20z\"/>\n",
              "  </svg>\n",
              "      </button>\n",
              "      \n",
              "  <style>\n",
              "    .colab-df-container {\n",
              "      display:flex;\n",
              "      flex-wrap:wrap;\n",
              "      gap: 12px;\n",
              "    }\n",
              "\n",
              "    .colab-df-convert {\n",
              "      background-color: #E8F0FE;\n",
              "      border: none;\n",
              "      border-radius: 50%;\n",
              "      cursor: pointer;\n",
              "      display: none;\n",
              "      fill: #1967D2;\n",
              "      height: 32px;\n",
              "      padding: 0 0 0 0;\n",
              "      width: 32px;\n",
              "    }\n",
              "\n",
              "    .colab-df-convert:hover {\n",
              "      background-color: #E2EBFA;\n",
              "      box-shadow: 0px 1px 2px rgba(60, 64, 67, 0.3), 0px 1px 3px 1px rgba(60, 64, 67, 0.15);\n",
              "      fill: #174EA6;\n",
              "    }\n",
              "\n",
              "    [theme=dark] .colab-df-convert {\n",
              "      background-color: #3B4455;\n",
              "      fill: #D2E3FC;\n",
              "    }\n",
              "\n",
              "    [theme=dark] .colab-df-convert:hover {\n",
              "      background-color: #434B5C;\n",
              "      box-shadow: 0px 1px 3px 1px rgba(0, 0, 0, 0.15);\n",
              "      filter: drop-shadow(0px 1px 2px rgba(0, 0, 0, 0.3));\n",
              "      fill: #FFFFFF;\n",
              "    }\n",
              "  </style>\n",
              "\n",
              "      <script>\n",
              "        const buttonEl =\n",
              "          document.querySelector('#df-d948b2af-fd9d-4c17-b0b2-65f53e65b48c button.colab-df-convert');\n",
              "        buttonEl.style.display =\n",
              "          google.colab.kernel.accessAllowed ? 'block' : 'none';\n",
              "\n",
              "        async function convertToInteractive(key) {\n",
              "          const element = document.querySelector('#df-d948b2af-fd9d-4c17-b0b2-65f53e65b48c');\n",
              "          const dataTable =\n",
              "            await google.colab.kernel.invokeFunction('convertToInteractive',\n",
              "                                                     [key], {});\n",
              "          if (!dataTable) return;\n",
              "\n",
              "          const docLinkHtml = 'Like what you see? Visit the ' +\n",
              "            '<a target=\"_blank\" href=https://colab.research.google.com/notebooks/data_table.ipynb>data table notebook</a>'\n",
              "            + ' to learn more about interactive tables.';\n",
              "          element.innerHTML = '';\n",
              "          dataTable['output_type'] = 'display_data';\n",
              "          await google.colab.output.renderOutput(dataTable, element);\n",
              "          const docLink = document.createElement('div');\n",
              "          docLink.innerHTML = docLinkHtml;\n",
              "          element.appendChild(docLink);\n",
              "        }\n",
              "      </script>\n",
              "    </div>\n",
              "  </div>\n",
              "  "
            ]
          },
          "metadata": {},
          "execution_count": 101
        }
      ]
    },
    {
      "cell_type": "code",
      "source": [
        "sm= df3['class'].unique()\n",
        "sm_counts = df3['class'].value_counts()\n",
        "sm_counts"
      ],
      "metadata": {
        "colab": {
          "base_uri": "https://localhost:8080/"
        },
        "outputId": "b4e35c84-053d-4311-fb97-9d3b49eb0604",
        "id": "TlJB064Bo9HM"
      },
      "execution_count": null,
      "outputs": [
        {
          "output_type": "execute_result",
          "data": {
            "text/plain": [
              "1    250\n",
              "0    250\n",
              "Name: class, dtype: int64"
            ]
          },
          "metadata": {},
          "execution_count": 102
        }
      ]
    },
    {
      "cell_type": "code",
      "source": [
        "plt.bar(sm, sm_counts)\n",
        "plt.xlabel('Class')\n",
        "plt.ylabel('Number of instances')\n",
        "plt.title('Class distribution in the dataset')\n",
        "plt.show()"
      ],
      "metadata": {
        "colab": {
          "base_uri": "https://localhost:8080/",
          "height": 472
        },
        "outputId": "cf0e4c75-51d4-4ebb-c3d3-342d53ad41c4",
        "id": "jr6rTNs9o9HM"
      },
      "execution_count": null,
      "outputs": [
        {
          "output_type": "display_data",
          "data": {
            "text/plain": [
              "<Figure size 640x480 with 1 Axes>"
            ],
            "image/png": "[encoded data removed]"
          },
          "metadata": {}
        }
      ]
    },
    {
      "cell_type": "code",
      "source": [
        "df3.to_csv(\"Lasso_smote.csv\")"
      ],
      "metadata": {
        "id": "HuNter48o9HN"
      },
      "execution_count": null,
      "outputs": []
    },
    {
      "cell_type": "code",
      "source": [],
      "metadata": {
        "id": "XHyaMn0rth53"
      },
      "execution_count": null,
      "outputs": []
    },
    {
      "cell_type": "markdown",
      "source": [
        "# **SVM**"
      ],
      "metadata": {
        "id": "WFKzXDyguJ3O"
      }
    },
    {
      "cell_type": "code",
      "execution_count": null,
      "metadata": {
        "id": "VMfjI9YquJ3O"
      },
      "outputs": [],
      "source": [
        "import pandas as pd\n",
        "from sklearn.model_selection import train_test_split\n",
        "from sklearn.svm import LinearSVC"
      ]
    },
    {
      "cell_type": "code",
      "source": [
        "dataset = pd.read_csv('Lasso_smote.csv')"
      ],
      "metadata": {
        "id": "_nGWrgB5uJ3O"
      },
      "execution_count": null,
      "outputs": []
    },
    {
      "cell_type": "code",
      "source": [
        "X = dataset.iloc[:, :-1].values\n",
        "y = dataset.iloc[:, -1].values"
      ],
      "metadata": {
        "id": "ebM2ThZ-uJ3O"
      },
      "execution_count": null,
      "outputs": []
    },
    {
      "cell_type": "code",
      "source": [
        "X_train, X_test, y_train, y_test = train_test_split(X, y, test_size=0.2, random_state=42)"
      ],
      "metadata": {
        "id": "pgTcSrZCuJ3P"
      },
      "execution_count": null,
      "outputs": []
    },
    {
      "cell_type": "code",
      "source": [
        "svm_model = LinearSVC(penalty='l1', dual=False)\n",
        "svm_model.fit(X_train, y_train)"
      ],
      "metadata": {
        "colab": {
          "base_uri": "https://localhost:8080/",
          "height": 129
        },
        "outputId": "728fd39d-e10c-4736-da4b-b155d839280b",
        "id": "n8ZS33v_uJ3P"
      },
      "execution_count": null,
      "outputs": [
        {
          "output_type": "stream",
          "name": "stderr",
          "text": [
            "/usr/local/lib/python3.10/dist-packages/sklearn/svm/_base.py:1244: ConvergenceWarning: Liblinear failed to converge, increase the number of iterations.\n",
            "  warnings.warn(\n"
          ]
        },
        {
          "output_type": "execute_result",
          "data": {
            "text/plain": [
              "LinearSVC(dual=False, penalty='l1')"
            ],
            "text/html": [
              "<style>#sk-container-id-6 {color: black;background-color: white;}#sk-container-id-6 pre{padding: 0;}#sk-container-id-6 div.sk-toggleable {background-color: white;}#sk-container-id-6 label.sk-toggleable__label {cursor: pointer;display: block;width: 100%;margin-bottom: 0;padding: 0.3em;box-sizing: border-box;text-align: center;}#sk-container-id-6 label.sk-toggleable__label-arrow:before {content: \"▸\";float: left;margin-right: 0.25em;color: #696969;}#sk-container-id-6 label.sk-toggleable__label-arrow:hover:before {color: black;}#sk-container-id-6 div.sk-estimator:hover label.sk-toggleable__label-arrow:before {color: black;}#sk-container-id-6 div.sk-toggleable__content {max-height: 0;max-width: 0;overflow: hidden;text-align: left;background-color: #f0f8ff;}#sk-container-id-6 div.sk-toggleable__content pre {margin: 0.2em;color: black;border-radius: 0.25em;background-color: #f0f8ff;}#sk-container-id-6 input.sk-toggleable__control:checked~div.sk-toggleable__content {max-height: 200px;max-width: 100%;overflow: auto;}#sk-container-id-6 input.sk-toggleable__control:checked~label.sk-toggleable__label-arrow:before {content: \"▾\";}#sk-container-id-6 div.sk-estimator input.sk-toggleable__control:checked~label.sk-toggleable__label {background-color: #d4ebff;}#sk-container-id-6 div.sk-label input.sk-toggleable__control:checked~label.sk-toggleable__label {background-color: #d4ebff;}#sk-container-id-6 input.sk-hidden--visually {border: 0;clip: rect(1px 1px 1px 1px);clip: rect(1px, 1px, 1px, 1px);height: 1px;margin: -1px;overflow: hidden;padding: 0;position: absolute;width: 1px;}#sk-container-id-6 div.sk-estimator {font-family: monospace;background-color: #f0f8ff;border: 1px dotted black;border-radius: 0.25em;box-sizing: border-box;margin-bottom: 0.5em;}#sk-container-id-6 div.sk-estimator:hover {background-color: #d4ebff;}#sk-container-id-6 div.sk-parallel-item::after {content: \"\";width: 100%;border-bottom: 1px solid gray;flex-grow: 1;}#sk-container-id-6 div.sk-label:hover label.sk-toggleable__label {background-color: #d4ebff;}#sk-container-id-6 div.sk-serial::before {content: \"\";position: absolute;border-left: 1px solid gray;box-sizing: border-box;top: 0;bottom: 0;left: 50%;z-index: 0;}#sk-container-id-6 div.sk-serial {display: flex;flex-direction: column;align-items: center;background-color: white;padding-right: 0.2em;padding-left: 0.2em;position: relative;}#sk-container-id-6 div.sk-item {position: relative;z-index: 1;}#sk-container-id-6 div.sk-parallel {display: flex;align-items: stretch;justify-content: center;background-color: white;position: relative;}#sk-container-id-6 div.sk-item::before, #sk-container-id-6 div.sk-parallel-item::before {content: \"\";position: absolute;border-left: 1px solid gray;box-sizing: border-box;top: 0;bottom: 0;left: 50%;z-index: -1;}#sk-container-id-6 div.sk-parallel-item {display: flex;flex-direction: column;z-index: 1;position: relative;background-color: white;}#sk-container-id-6 div.sk-parallel-item:first-child::after {align-self: flex-end;width: 50%;}#sk-container-id-6 div.sk-parallel-item:last-child::after {align-self: flex-start;width: 50%;}#sk-container-id-6 div.sk-parallel-item:only-child::after {width: 0;}#sk-container-id-6 div.sk-dashed-wrapped {border: 1px dashed gray;margin: 0 0.4em 0.5em 0.4em;box-sizing: border-box;padding-bottom: 0.4em;background-color: white;}#sk-container-id-6 div.sk-label label {font-family: monospace;font-weight: bold;display: inline-block;line-height: 1.2em;}#sk-container-id-6 div.sk-label-container {text-align: center;}#sk-container-id-6 div.sk-container {/* jupyter's `normalize.less` sets `[hidden] { display: none; }` but bootstrap.min.css set `[hidden] { display: none !important; }` so we also need the `!important` here to be able to override the default hidden behavior on the sphinx rendered scikit-learn.org. See: https://github.com/scikit-learn/scikit-learn/issues/21755 */display: inline-block !important;position: relative;}#sk-container-id-6 div.sk-text-repr-fallback {display: none;}</style><div id=\"sk-container-id-6\" class=\"sk-top-container\"><div class=\"sk-text-repr-fallback\"><pre>LinearSVC(dual=False, penalty=&#x27;l1&#x27;)</pre><b>In a Jupyter environment, please rerun this cell to show the HTML representation or trust the notebook. <br />On GitHub, the HTML representation is unable to render, please try loading this page with nbviewer.org.</b></div><div class=\"sk-container\" hidden><div class=\"sk-item\"><div class=\"sk-estimator sk-toggleable\"><input class=\"sk-toggleable__control sk-hidden--visually\" id=\"sk-estimator-id-6\" type=\"checkbox\" checked><label for=\"sk-estimator-id-6\" class=\"sk-toggleable__label sk-toggleable__label-arrow\">LinearSVC</label><div class=\"sk-toggleable__content\"><pre>LinearSVC(dual=False, penalty=&#x27;l1&#x27;)</pre></div></div></div></div></div>"
            ]
          },
          "metadata": {},
          "execution_count": 109
        }
      ]
    },
    {
      "cell_type": "code",
      "source": [
        "y_pred = svm_model.predict(X_test)"
      ],
      "metadata": {
        "id": "yxB0lU6puJ3P"
      },
      "execution_count": null,
      "outputs": []
    },
    {
      "cell_type": "code",
      "source": [
        "from sklearn.metrics import accuracy_score,precision_score,f1_score,roc_auc_score, recall_score\n",
        "accuracy = accuracy_score(y_test, y_pred)\n",
        "precision = precision_score(y_test, y_pred, pos_label=1)\n",
        "recall = recall_score(y_test, y_pred)\n",
        "f_measure = f1_score(y_test, y_pred)\n",
        "auc = roc_auc_score(y_test, y_pred)\n",
        "gini_coefficient = 2 * roc_auc_score(y_test, y_pred) - 1\n",
        "print(\"Accuracy: \", accuracy*100)\n",
        "print(\"Precision: \", precision*100)\n",
        "print(\"Recall: \", recall*100)\n",
        "print(\"F-measure: \", round(f_measure*100,2))\n",
        "print(\"AUC: \", round(auc*100,2))\n",
        "print(\"Gini coefficient: \", round(gini_coefficient*100,2))"
      ],
      "metadata": {
        "colab": {
          "base_uri": "https://localhost:8080/"
        },
        "outputId": "0fc3b0ba-2be9-4d57-ec51-1239ee6cc486",
        "id": "gDJG52bhuJ3P"
      },
      "execution_count": null,
      "outputs": [
        {
          "output_type": "stream",
          "name": "stdout",
          "text": [
            "Accuracy:  100.0\n",
            "Precision:  100.0\n",
            "Recall:  100.0\n",
            "F-measure:  100.0\n",
            "AUC:  100.0\n",
            "Gini coefficient:  100.0\n"
          ]
        }
      ]
    },
    {
      "cell_type": "code",
      "source": [
        "#svm with L2 penalty\n",
        "svm_model1 = LinearSVC(penalty='l2', dual=False)\n",
        "svm_model1.fit(X_train, y_train)\n",
        "y_pred = svm_model1.predict(X_test)"
      ],
      "metadata": {
        "id": "uN62k8eeuJ3P"
      },
      "execution_count": null,
      "outputs": []
    },
    {
      "cell_type": "code",
      "source": [
        "from sklearn.metrics import accuracy_score,precision_score,f1_score,roc_auc_score, recall_score\n",
        "accuracy = accuracy_score(y_test, y_pred)\n",
        "precision = precision_score(y_test, y_pred, pos_label=1)\n",
        "recall = recall_score(y_test, y_pred)\n",
        "f_measure = f1_score(y_test, y_pred)\n",
        "auc = roc_auc_score(y_test, y_pred)\n",
        "gini_coefficient = 2 * roc_auc_score(y_test, y_pred) - 1\n",
        "print(\"Accuracy: \", accuracy*100)\n",
        "print(\"Precision: \", precision*100)\n",
        "print(\"Recall: \", recall*100)\n",
        "print(\"F-measure: \", round(f_measure*100,2))\n",
        "print(\"AUC: \", round(auc*100,2))\n",
        "print(\"Gini coefficient: \", round(gini_coefficient*100,2))"
      ],
      "metadata": {
        "colab": {
          "base_uri": "https://localhost:8080/"
        },
        "outputId": "4c48b18a-eed6-4150-8dd6-7b5a045004f7",
        "id": "DVS92mONuJ3P"
      },
      "execution_count": null,
      "outputs": [
        {
          "output_type": "stream",
          "name": "stdout",
          "text": [
            "Accuracy:  100.0\n",
            "Precision:  100.0\n",
            "Recall:  100.0\n",
            "F-measure:  100.0\n",
            "AUC:  100.0\n",
            "Gini coefficient:  100.0\n"
          ]
        }
      ]
    },
    {
      "cell_type": "markdown",
      "source": [
        "# **LOGISTIC REGRESSION**"
      ],
      "metadata": {
        "id": "EWMeg9n0uJ3P"
      }
    },
    {
      "cell_type": "code",
      "execution_count": null,
      "metadata": {
        "id": "lMrTXmwMuJ3Q"
      },
      "outputs": [],
      "source": [
        "import pandas as pd\n",
        "from sklearn.linear_model import LogisticRegression\n",
        "from sklearn.model_selection import train_test_split"
      ]
    },
    {
      "cell_type": "code",
      "source": [
        "dataset = pd.read_csv('Lasso_smote.csv')"
      ],
      "metadata": {
        "id": "FAl5Ay7tuJ3Q"
      },
      "execution_count": null,
      "outputs": []
    },
    {
      "cell_type": "code",
      "source": [
        "X = dataset.iloc[:, :-1].values\n",
        "y = dataset.iloc[:, -1].values"
      ],
      "metadata": {
        "id": "hbd25rkJuJ3Q"
      },
      "execution_count": null,
      "outputs": []
    },
    {
      "cell_type": "code",
      "source": [
        "X_train, X_test, y_train, y_test = train_test_split(X, y, test_size=0.4, random_state=123)"
      ],
      "metadata": {
        "id": "TNQjCa8muJ3Q"
      },
      "execution_count": null,
      "outputs": []
    },
    {
      "cell_type": "code",
      "source": [
        "lr = LogisticRegression()"
      ],
      "metadata": {
        "id": "mNzDg59nuJ3Q"
      },
      "execution_count": null,
      "outputs": []
    },
    {
      "cell_type": "code",
      "source": [
        "lr.fit(X_train, y_train)"
      ],
      "metadata": {
        "colab": {
          "base_uri": "https://localhost:8080/",
          "height": 213
        },
        "outputId": "fce851b6-e12e-42ed-e680-1b3885471ff9",
        "id": "kMTA1rdiuJ3Q"
      },
      "execution_count": null,
      "outputs": [
        {
          "output_type": "stream",
          "name": "stderr",
          "text": [
            "/usr/local/lib/python3.10/dist-packages/sklearn/linear_model/_logistic.py:458: ConvergenceWarning: lbfgs failed to converge (status=1):\n",
            "STOP: TOTAL NO. of ITERATIONS REACHED LIMIT.\n",
            "\n",
            "Increase the number of iterations (max_iter) or scale the data as shown in:\n",
            "    https://scikit-learn.org/stable/modules/preprocessing.html\n",
            "Please also refer to the documentation for alternative solver options:\n",
            "    https://scikit-learn.org/stable/modules/linear_model.html#logistic-regression\n",
            "  n_iter_i = _check_optimize_result(\n"
          ]
        },
        {
          "output_type": "execute_result",
          "data": {
            "text/plain": [
              "LogisticRegression()"
            ],
            "text/html": [
              "<style>#sk-container-id-7 {color: black;background-color: white;}#sk-container-id-7 pre{padding: 0;}#sk-container-id-7 div.sk-toggleable {background-color: white;}#sk-container-id-7 label.sk-toggleable__label {cursor: pointer;display: block;width: 100%;margin-bottom: 0;padding: 0.3em;box-sizing: border-box;text-align: center;}#sk-container-id-7 label.sk-toggleable__label-arrow:before {content: \"▸\";float: left;margin-right: 0.25em;color: #696969;}#sk-container-id-7 label.sk-toggleable__label-arrow:hover:before {color: black;}#sk-container-id-7 div.sk-estimator:hover label.sk-toggleable__label-arrow:before {color: black;}#sk-container-id-7 div.sk-toggleable__content {max-height: 0;max-width: 0;overflow: hidden;text-align: left;background-color: #f0f8ff;}#sk-container-id-7 div.sk-toggleable__content pre {margin: 0.2em;color: black;border-radius: 0.25em;background-color: #f0f8ff;}#sk-container-id-7 input.sk-toggleable__control:checked~div.sk-toggleable__content {max-height: 200px;max-width: 100%;overflow: auto;}#sk-container-id-7 input.sk-toggleable__control:checked~label.sk-toggleable__label-arrow:before {content: \"▾\";}#sk-container-id-7 div.sk-estimator input.sk-toggleable__control:checked~label.sk-toggleable__label {background-color: #d4ebff;}#sk-container-id-7 div.sk-label input.sk-toggleable__control:checked~label.sk-toggleable__label {background-color: #d4ebff;}#sk-container-id-7 input.sk-hidden--visually {border: 0;clip: rect(1px 1px 1px 1px);clip: rect(1px, 1px, 1px, 1px);height: 1px;margin: -1px;overflow: hidden;padding: 0;position: absolute;width: 1px;}#sk-container-id-7 div.sk-estimator {font-family: monospace;background-color: #f0f8ff;border: 1px dotted black;border-radius: 0.25em;box-sizing: border-box;margin-bottom: 0.5em;}#sk-container-id-7 div.sk-estimator:hover {background-color: #d4ebff;}#sk-container-id-7 div.sk-parallel-item::after {content: \"\";width: 100%;border-bottom: 1px solid gray;flex-grow: 1;}#sk-container-id-7 div.sk-label:hover label.sk-toggleable__label {background-color: #d4ebff;}#sk-container-id-7 div.sk-serial::before {content: \"\";position: absolute;border-left: 1px solid gray;box-sizing: border-box;top: 0;bottom: 0;left: 50%;z-index: 0;}#sk-container-id-7 div.sk-serial {display: flex;flex-direction: column;align-items: center;background-color: white;padding-right: 0.2em;padding-left: 0.2em;position: relative;}#sk-container-id-7 div.sk-item {position: relative;z-index: 1;}#sk-container-id-7 div.sk-parallel {display: flex;align-items: stretch;justify-content: center;background-color: white;position: relative;}#sk-container-id-7 div.sk-item::before, #sk-container-id-7 div.sk-parallel-item::before {content: \"\";position: absolute;border-left: 1px solid gray;box-sizing: border-box;top: 0;bottom: 0;left: 50%;z-index: -1;}#sk-container-id-7 div.sk-parallel-item {display: flex;flex-direction: column;z-index: 1;position: relative;background-color: white;}#sk-container-id-7 div.sk-parallel-item:first-child::after {align-self: flex-end;width: 50%;}#sk-container-id-7 div.sk-parallel-item:last-child::after {align-self: flex-start;width: 50%;}#sk-container-id-7 div.sk-parallel-item:only-child::after {width: 0;}#sk-container-id-7 div.sk-dashed-wrapped {border: 1px dashed gray;margin: 0 0.4em 0.5em 0.4em;box-sizing: border-box;padding-bottom: 0.4em;background-color: white;}#sk-container-id-7 div.sk-label label {font-family: monospace;font-weight: bold;display: inline-block;line-height: 1.2em;}#sk-container-id-7 div.sk-label-container {text-align: center;}#sk-container-id-7 div.sk-container {/* jupyter's `normalize.less` sets `[hidden] { display: none; }` but bootstrap.min.css set `[hidden] { display: none !important; }` so we also need the `!important` here to be able to override the default hidden behavior on the sphinx rendered scikit-learn.org. See: https://github.com/scikit-learn/scikit-learn/issues/21755 */display: inline-block !important;position: relative;}#sk-container-id-7 div.sk-text-repr-fallback {display: none;}</style><div id=\"sk-container-id-7\" class=\"sk-top-container\"><div class=\"sk-text-repr-fallback\"><pre>LogisticRegression()</pre><b>In a Jupyter environment, please rerun this cell to show the HTML representation or trust the notebook. <br />On GitHub, the HTML representation is unable to render, please try loading this page with nbviewer.org.</b></div><div class=\"sk-container\" hidden><div class=\"sk-item\"><div class=\"sk-estimator sk-toggleable\"><input class=\"sk-toggleable__control sk-hidden--visually\" id=\"sk-estimator-id-7\" type=\"checkbox\" checked><label for=\"sk-estimator-id-7\" class=\"sk-toggleable__label sk-toggleable__label-arrow\">LogisticRegression</label><div class=\"sk-toggleable__content\"><pre>LogisticRegression()</pre></div></div></div></div></div>"
            ]
          },
          "metadata": {},
          "execution_count": 119
        }
      ]
    },
    {
      "cell_type": "code",
      "source": [
        "y_pred = lr.predict(X_test)"
      ],
      "metadata": {
        "id": "y8ZAvXz4uJ3Q"
      },
      "execution_count": null,
      "outputs": []
    },
    {
      "cell_type": "code",
      "source": [
        "from sklearn.metrics import accuracy_score,precision_score,f1_score,roc_auc_score\n",
        "accuracy = accuracy_score(y_test, y_pred)\n",
        "precision = precision_score(y_test, y_pred, pos_label=1)\n",
        "f_measure = f1_score(y_test, y_pred)\n",
        "auc = roc_auc_score(y_test, y_pred)\n",
        "gini_coefficient = 2 * roc_auc_score(y_test, y_pred) - 1\n",
        "print(\"Accuracy: \", round(accuracy*100,2))\n",
        "print(\"Precision: \", round(precision*100,2))\n",
        "print(\"F-measure: \", round(f_measure*100,2))\n",
        "print(\"AUC: \", round(auc*100,2))\n",
        "print(\"Gini coefficient: \", round(gini_coefficient*100,2))"
      ],
      "metadata": {
        "colab": {
          "base_uri": "https://localhost:8080/"
        },
        "outputId": "04faf92b-d9e0-4ffa-c94b-b32b05d9e142",
        "id": "rQi0bAtCuJ3Q"
      },
      "execution_count": null,
      "outputs": [
        {
          "output_type": "stream",
          "name": "stdout",
          "text": [
            "Accuracy:  100.0\n",
            "Precision:  100.0\n",
            "F-measure:  100.0\n",
            "AUC:  100.0\n",
            "Gini coefficient:  100.0\n"
          ]
        }
      ]
    },
    {
      "cell_type": "markdown",
      "source": [
        "# **ANN**"
      ],
      "metadata": {
        "id": "_i-EGb0iuJ3Q"
      }
    },
    {
      "cell_type": "code",
      "execution_count": null,
      "metadata": {
        "id": "LEte7ENAuJ3R"
      },
      "outputs": [],
      "source": [
        "import glob\n",
        "from keras.models import Sequential, load_model\n",
        "import numpy as np\n",
        "import pandas as pd\n",
        "import keras as k\n",
        "from keras.layers import Dense\n",
        "from sklearn.model_selection import train_test_split\n",
        "from sklearn.preprocessing import MinMaxScaler\n",
        "import matplotlib.pyplot as plt"
      ]
    },
    {
      "cell_type": "code",
      "source": [
        "df=pd.read_csv(\"Lasso_smote.csv\")\n",
        "df.head()"
      ],
      "metadata": {
        "colab": {
          "base_uri": "https://localhost:8080/",
          "height": 206
        },
        "outputId": "a770c022-685b-47e0-8d96-90046273fb02",
        "id": "xSwDDm7euJ3R"
      },
      "execution_count": null,
      "outputs": [
        {
          "output_type": "execute_result",
          "data": {
            "text/plain": [
              "   Unnamed: 0     sg   al   su       rbc         bgr   sc         sod  hemo  \\\n",
              "0           0  1.020  1.0  0.0  0.810484  121.000000  1.2  137.528754  15.4   \n",
              "1           1  1.020  4.0  0.0  0.810484  148.036517  0.8  137.528754  11.3   \n",
              "2           2  1.010  2.0  3.0  1.000000  423.000000  1.8  137.528754   9.6   \n",
              "3           3  1.005  4.0  0.0  1.000000  117.000000  3.8  111.000000  11.2   \n",
              "4           4  1.010  2.0  0.0  1.000000  106.000000  1.4  137.528754  11.6   \n",
              "\n",
              "    pcv  htn   dm   pe  class  \n",
              "0  44.0  1.0  1.0  0.0      1  \n",
              "1  38.0  0.0  0.0  0.0      1  \n",
              "2  31.0  0.0  1.0  0.0      1  \n",
              "3  32.0  1.0  0.0  1.0      1  \n",
              "4  35.0  0.0  0.0  0.0      1  "
            ],
            "text/html": [
              "\n",
              "  <div id=\"df-6f82edfd-6663-480d-83bf-549969cfed7d\">\n",
              "    <div class=\"colab-df-container\">\n",
              "      <div>\n",
              "<style scoped>\n",
              "    .dataframe tbody tr th:only-of-type {\n",
              "        vertical-align: middle;\n",
              "    }\n",
              "\n",
              "    .dataframe tbody tr th {\n",
              "        vertical-align: top;\n",
              "    }\n",
              "\n",
              "    .dataframe thead th {\n",
              "        text-align: right;\n",
              "    }\n",
              "</style>\n",
              "<table border=\"1\" class=\"dataframe\">\n",
              "  <thead>\n",
              "    <tr style=\"text-align: right;\">\n",
              "      <th></th>\n",
              "      <th>Unnamed: 0</th>\n",
              "      <th>sg</th>\n",
              "      <th>al</th>\n",
              "      <th>su</th>\n",
              "      <th>rbc</th>\n",
              "      <th>bgr</th>\n",
              "      <th>sc</th>\n",
              "      <th>sod</th>\n",
              "      <th>hemo</th>\n",
              "      <th>pcv</th>\n",
              "      <th>htn</th>\n",
              "      <th>dm</th>\n",
              "      <th>pe</th>\n",
              "      <th>class</th>\n",
              "    </tr>\n",
              "  </thead>\n",
              "  <tbody>\n",
              "    <tr>\n",
              "      <th>0</th>\n",
              "      <td>0</td>\n",
              "      <td>1.020</td>\n",
              "      <td>1.0</td>\n",
              "      <td>0.0</td>\n",
              "      <td>0.810484</td>\n",
              "      <td>121.000000</td>\n",
              "      <td>1.2</td>\n",
              "      <td>137.528754</td>\n",
              "      <td>15.4</td>\n",
              "      <td>44.0</td>\n",
              "      <td>1.0</td>\n",
              "      <td>1.0</td>\n",
              "      <td>0.0</td>\n",
              "      <td>1</td>\n",
              "    </tr>\n",
              "    <tr>\n",
              "      <th>1</th>\n",
              "      <td>1</td>\n",
              "      <td>1.020</td>\n",
              "      <td>4.0</td>\n",
              "      <td>0.0</td>\n",
              "      <td>0.810484</td>\n",
              "      <td>148.036517</td>\n",
              "      <td>0.8</td>\n",
              "      <td>137.528754</td>\n",
              "      <td>11.3</td>\n",
              "      <td>38.0</td>\n",
              "      <td>0.0</td>\n",
              "      <td>0.0</td>\n",
              "      <td>0.0</td>\n",
              "      <td>1</td>\n",
              "    </tr>\n",
              "    <tr>\n",
              "      <th>2</th>\n",
              "      <td>2</td>\n",
              "      <td>1.010</td>\n",
              "      <td>2.0</td>\n",
              "      <td>3.0</td>\n",
              "      <td>1.000000</td>\n",
              "      <td>423.000000</td>\n",
              "      <td>1.8</td>\n",
              "      <td>137.528754</td>\n",
              "      <td>9.6</td>\n",
              "      <td>31.0</td>\n",
              "      <td>0.0</td>\n",
              "      <td>1.0</td>\n",
              "      <td>0.0</td>\n",
              "      <td>1</td>\n",
              "    </tr>\n",
              "    <tr>\n",
              "      <th>3</th>\n",
              "      <td>3</td>\n",
              "      <td>1.005</td>\n",
              "      <td>4.0</td>\n",
              "      <td>0.0</td>\n",
              "      <td>1.000000</td>\n",
              "      <td>117.000000</td>\n",
              "      <td>3.8</td>\n",
              "      <td>111.000000</td>\n",
              "      <td>11.2</td>\n",
              "      <td>32.0</td>\n",
              "      <td>1.0</td>\n",
              "      <td>0.0</td>\n",
              "      <td>1.0</td>\n",
              "      <td>1</td>\n",
              "    </tr>\n",
              "    <tr>\n",
              "      <th>4</th>\n",
              "      <td>4</td>\n",
              "      <td>1.010</td>\n",
              "      <td>2.0</td>\n",
              "      <td>0.0</td>\n",
              "      <td>1.000000</td>\n",
              "      <td>106.000000</td>\n",
              "      <td>1.4</td>\n",
              "      <td>137.528754</td>\n",
              "      <td>11.6</td>\n",
              "      <td>35.0</td>\n",
              "      <td>0.0</td>\n",
              "      <td>0.0</td>\n",
              "      <td>0.0</td>\n",
              "      <td>1</td>\n",
              "    </tr>\n",
              "  </tbody>\n",
              "</table>\n",
              "</div>\n",
              "      <button class=\"colab-df-convert\" onclick=\"convertToInteractive('df-6f82edfd-6663-480d-83bf-549969cfed7d')\"\n",
              "              title=\"Convert this dataframe to an interactive table.\"\n",
              "              style=\"display:none;\">\n",
              "        \n",
              "  <svg xmlns=\"http://www.w3.org/2000/svg\" height=\"24px\"viewBox=\"0 0 24 24\"\n",
              "       width=\"24px\">\n",
              "    <path d=\"M0 0h24v24H0V0z\" fill=\"none\"/>\n",
              "    <path d=\"M18.56 5.44l.94 2.06.94-2.06 2.06-.94-2.06-.94-.94-2.06-.94 2.06-2.06.94zm-11 1L8.5 8.5l.94-2.06 2.06-.94-2.06-.94L8.5 2.5l-.94 2.06-2.06.94zm10 10l.94 2.06.94-2.06 2.06-.94-2.06-.94-.94-2.06-.94 2.06-2.06.94z\"/><path d=\"M17.41 7.96l-1.37-1.37c-.4-.4-.92-.59-1.43-.59-.52 0-1.04.2-1.43.59L10.3 9.45l-7.72 7.72c-.78.78-.78 2.05 0 2.83L4 21.41c.39.39.9.59 1.41.59.51 0 1.02-.2 1.41-.59l7.78-7.78 2.81-2.81c.8-.78.8-2.07 0-2.86zM5.41 20L4 18.59l7.72-7.72 1.47 1.35L5.41 20z\"/>\n",
              "  </svg>\n",
              "      </button>\n",
              "      \n",
              "  <style>\n",
              "    .colab-df-container {\n",
              "      display:flex;\n",
              "      flex-wrap:wrap;\n",
              "      gap: 12px;\n",
              "    }\n",
              "\n",
              "    .colab-df-convert {\n",
              "      background-color: #E8F0FE;\n",
              "      border: none;\n",
              "      border-radius: 50%;\n",
              "      cursor: pointer;\n",
              "      display: none;\n",
              "      fill: #1967D2;\n",
              "      height: 32px;\n",
              "      padding: 0 0 0 0;\n",
              "      width: 32px;\n",
              "    }\n",
              "\n",
              "    .colab-df-convert:hover {\n",
              "      background-color: #E2EBFA;\n",
              "      box-shadow: 0px 1px 2px rgba(60, 64, 67, 0.3), 0px 1px 3px 1px rgba(60, 64, 67, 0.15);\n",
              "      fill: #174EA6;\n",
              "    }\n",
              "\n",
              "    [theme=dark] .colab-df-convert {\n",
              "      background-color: #3B4455;\n",
              "      fill: #D2E3FC;\n",
              "    }\n",
              "\n",
              "    [theme=dark] .colab-df-convert:hover {\n",
              "      background-color: #434B5C;\n",
              "      box-shadow: 0px 1px 3px 1px rgba(0, 0, 0, 0.15);\n",
              "      filter: drop-shadow(0px 1px 2px rgba(0, 0, 0, 0.3));\n",
              "      fill: #FFFFFF;\n",
              "    }\n",
              "  </style>\n",
              "\n",
              "      <script>\n",
              "        const buttonEl =\n",
              "          document.querySelector('#df-6f82edfd-6663-480d-83bf-549969cfed7d button.colab-df-convert');\n",
              "        buttonEl.style.display =\n",
              "          google.colab.kernel.accessAllowed ? 'block' : 'none';\n",
              "\n",
              "        async function convertToInteractive(key) {\n",
              "          const element = document.querySelector('#df-6f82edfd-6663-480d-83bf-549969cfed7d');\n",
              "          const dataTable =\n",
              "            await google.colab.kernel.invokeFunction('convertToInteractive',\n",
              "                                                     [key], {});\n",
              "          if (!dataTable) return;\n",
              "\n",
              "          const docLinkHtml = 'Like what you see? Visit the ' +\n",
              "            '<a target=\"_blank\" href=https://colab.research.google.com/notebooks/data_table.ipynb>data table notebook</a>'\n",
              "            + ' to learn more about interactive tables.';\n",
              "          element.innerHTML = '';\n",
              "          dataTable['output_type'] = 'display_data';\n",
              "          await google.colab.output.renderOutput(dataTable, element);\n",
              "          const docLink = document.createElement('div');\n",
              "          docLink.innerHTML = docLinkHtml;\n",
              "          element.appendChild(docLink);\n",
              "        }\n",
              "      </script>\n",
              "    </div>\n",
              "  </div>\n",
              "  "
            ]
          },
          "metadata": {},
          "execution_count": 123
        }
      ]
    },
    {
      "cell_type": "code",
      "source": [
        "X = df.drop([\"class\"], axis=1)\n",
        "y = df[\"class\"]"
      ],
      "metadata": {
        "id": "WeFKr2UzuJ3R"
      },
      "execution_count": null,
      "outputs": []
    },
    {
      "cell_type": "code",
      "source": [
        "x_scaler = MinMaxScaler()\n",
        "x_scaler.fit(X)\n",
        "column_names = X.columns\n",
        "X[column_names] = x_scaler.transform(X)"
      ],
      "metadata": {
        "id": "Qh86c995uJ3R"
      },
      "execution_count": null,
      "outputs": []
    },
    {
      "cell_type": "code",
      "source": [
        "X_train,  X_test, y_train, y_test = train_test_split(X, y, test_size= 0.2, random_state=42)"
      ],
      "metadata": {
        "id": "kSIaVtl-uJ3R"
      },
      "execution_count": null,
      "outputs": []
    },
    {
      "cell_type": "code",
      "source": [
        "model = Sequential()\n",
        "model.add(Dense(256, input_dim=len(X.columns),              kernel_initializer=k.initializers.random_normal(seed=13), activation=\"relu\"))\n",
        "model.add(Dense(1, activation=\"hard_sigmoid\"))"
      ],
      "metadata": {
        "id": "93sdNtPbuJ3R"
      },
      "execution_count": null,
      "outputs": []
    },
    {
      "cell_type": "code",
      "source": [
        "model.compile(loss='binary_crossentropy',optimizer='adam', metrics=['accuracy'])"
      ],
      "metadata": {
        "id": "Y0uSHWCJuJ3R"
      },
      "execution_count": null,
      "outputs": []
    },
    {
      "cell_type": "code",
      "source": [
        "history = model.fit(X_train, y_train,\n",
        "                    epochs=50,\n",
        "                    batch_size=X_train.shape[0])"
      ],
      "metadata": {
        "colab": {
          "base_uri": "https://localhost:8080/"
        },
        "outputId": "f2470679-8903-4661-ae67-c9ce20e47980",
        "id": "GogAT6otuJ3R"
      },
      "execution_count": null,
      "outputs": [
        {
          "output_type": "stream",
          "name": "stdout",
          "text": [
            "Epoch 1/50\n",
            "1/1 [==============================] - 0s 456ms/step - loss: 0.7011 - accuracy: 0.4925\n",
            "Epoch 2/50\n",
            "1/1 [==============================] - 0s 12ms/step - loss: 0.6890 - accuracy: 0.5700\n",
            "Epoch 3/50\n",
            "1/1 [==============================] - 0s 7ms/step - loss: 0.6772 - accuracy: 0.6950\n",
            "Epoch 4/50\n",
            "1/1 [==============================] - 0s 8ms/step - loss: 0.6659 - accuracy: 0.7600\n",
            "Epoch 5/50\n",
            "1/1 [==============================] - 0s 8ms/step - loss: 0.6550 - accuracy: 0.7975\n",
            "Epoch 6/50\n",
            "1/1 [==============================] - 0s 8ms/step - loss: 0.6445 - accuracy: 0.8150\n",
            "Epoch 7/50\n",
            "1/1 [==============================] - 0s 8ms/step - loss: 0.6342 - accuracy: 0.8275\n",
            "Epoch 8/50\n",
            "1/1 [==============================] - 0s 7ms/step - loss: 0.6242 - accuracy: 0.8450\n",
            "Epoch 9/50\n",
            "1/1 [==============================] - 0s 7ms/step - loss: 0.6144 - accuracy: 0.8525\n",
            "Epoch 10/50\n",
            "1/1 [==============================] - 0s 8ms/step - loss: 0.6047 - accuracy: 0.8600\n",
            "Epoch 11/50\n",
            "1/1 [==============================] - 0s 8ms/step - loss: 0.5953 - accuracy: 0.8675\n",
            "Epoch 12/50\n",
            "1/1 [==============================] - 0s 7ms/step - loss: 0.5860 - accuracy: 0.8675\n",
            "Epoch 13/50\n",
            "1/1 [==============================] - 0s 7ms/step - loss: 0.5768 - accuracy: 0.8750\n",
            "Epoch 14/50\n",
            "1/1 [==============================] - 0s 7ms/step - loss: 0.5677 - accuracy: 0.8750\n",
            "Epoch 15/50\n",
            "1/1 [==============================] - 0s 9ms/step - loss: 0.5586 - accuracy: 0.8800\n",
            "Epoch 16/50\n",
            "1/1 [==============================] - 0s 7ms/step - loss: 0.5495 - accuracy: 0.8825\n",
            "Epoch 17/50\n",
            "1/1 [==============================] - 0s 7ms/step - loss: 0.5403 - accuracy: 0.8825\n",
            "Epoch 18/50\n",
            "1/1 [==============================] - 0s 7ms/step - loss: 0.5312 - accuracy: 0.8825\n",
            "Epoch 19/50\n",
            "1/1 [==============================] - 0s 8ms/step - loss: 0.5220 - accuracy: 0.8850\n",
            "Epoch 20/50\n",
            "1/1 [==============================] - 0s 8ms/step - loss: 0.5127 - accuracy: 0.8900\n",
            "Epoch 21/50\n",
            "1/1 [==============================] - 0s 8ms/step - loss: 0.5033 - accuracy: 0.8925\n",
            "Epoch 22/50\n",
            "1/1 [==============================] - 0s 8ms/step - loss: 0.4939 - accuracy: 0.8925\n",
            "Epoch 23/50\n",
            "1/1 [==============================] - 0s 8ms/step - loss: 0.4844 - accuracy: 0.8950\n",
            "Epoch 24/50\n",
            "1/1 [==============================] - 0s 10ms/step - loss: 0.4750 - accuracy: 0.9000\n",
            "Epoch 25/50\n",
            "1/1 [==============================] - 0s 10ms/step - loss: 0.4655 - accuracy: 0.9025\n",
            "Epoch 26/50\n",
            "1/1 [==============================] - 0s 8ms/step - loss: 0.4560 - accuracy: 0.9025\n",
            "Epoch 27/50\n",
            "1/1 [==============================] - 0s 8ms/step - loss: 0.4465 - accuracy: 0.9025\n",
            "Epoch 28/50\n",
            "1/1 [==============================] - 0s 8ms/step - loss: 0.4368 - accuracy: 0.9050\n",
            "Epoch 29/50\n",
            "1/1 [==============================] - 0s 7ms/step - loss: 0.4271 - accuracy: 0.9075\n",
            "Epoch 30/50\n",
            "1/1 [==============================] - 0s 7ms/step - loss: 0.4174 - accuracy: 0.9075\n",
            "Epoch 31/50\n",
            "1/1 [==============================] - 0s 10ms/step - loss: 0.4075 - accuracy: 0.9100\n",
            "Epoch 32/50\n",
            "1/1 [==============================] - 0s 11ms/step - loss: 0.3976 - accuracy: 0.9100\n",
            "Epoch 33/50\n",
            "1/1 [==============================] - 0s 10ms/step - loss: 0.3875 - accuracy: 0.9100\n",
            "Epoch 34/50\n",
            "1/1 [==============================] - 0s 8ms/step - loss: 0.3774 - accuracy: 0.9100\n",
            "Epoch 35/50\n",
            "1/1 [==============================] - 0s 8ms/step - loss: 0.3673 - accuracy: 0.9125\n",
            "Epoch 36/50\n",
            "1/1 [==============================] - 0s 8ms/step - loss: 0.3571 - accuracy: 0.9125\n",
            "Epoch 37/50\n",
            "1/1 [==============================] - 0s 9ms/step - loss: 0.3469 - accuracy: 0.9125\n",
            "Epoch 38/50\n",
            "1/1 [==============================] - 0s 8ms/step - loss: 0.3370 - accuracy: 0.9150\n",
            "Epoch 39/50\n",
            "1/1 [==============================] - 0s 9ms/step - loss: 0.3273 - accuracy: 0.9150\n",
            "Epoch 40/50\n",
            "1/1 [==============================] - 0s 8ms/step - loss: 0.3177 - accuracy: 0.9150\n",
            "Epoch 41/50\n",
            "1/1 [==============================] - 0s 7ms/step - loss: 0.3082 - accuracy: 0.9150\n",
            "Epoch 42/50\n",
            "1/1 [==============================] - 0s 8ms/step - loss: 0.2990 - accuracy: 0.9175\n",
            "Epoch 43/50\n",
            "1/1 [==============================] - 0s 9ms/step - loss: 0.2900 - accuracy: 0.9175\n",
            "Epoch 44/50\n",
            "1/1 [==============================] - 0s 8ms/step - loss: 0.2811 - accuracy: 0.9175\n",
            "Epoch 45/50\n",
            "1/1 [==============================] - 0s 8ms/step - loss: 0.2725 - accuracy: 0.9175\n",
            "Epoch 46/50\n",
            "1/1 [==============================] - 0s 8ms/step - loss: 0.2641 - accuracy: 0.9175\n",
            "Epoch 47/50\n",
            "1/1 [==============================] - 0s 9ms/step - loss: 0.2559 - accuracy: 0.9175\n",
            "Epoch 48/50\n",
            "1/1 [==============================] - 0s 8ms/step - loss: 0.2478 - accuracy: 0.9175\n",
            "Epoch 49/50\n",
            "1/1 [==============================] - 0s 8ms/step - loss: 0.2398 - accuracy: 0.9175\n",
            "Epoch 50/50\n",
            "1/1 [==============================] - 0s 7ms/step - loss: 0.2319 - accuracy: 0.9175\n"
          ]
        }
      ]
    },
    {
      "cell_type": "code",
      "source": [
        "model.save(\"ckd.model\")"
      ],
      "metadata": {
        "id": "wVf3d_8IuJ3S",
        "colab": {
          "base_uri": "https://localhost:8080/"
        },
        "outputId": "13f4f2af-2b86-40d0-cd95-78a21f8265a3"
      },
      "execution_count": null,
      "outputs": [
        {
          "output_type": "stream",
          "name": "stderr",
          "text": [
            "WARNING:absl:Found untraced functions such as _update_step_xla while saving (showing 1 of 1). These functions will not be directly callable after loading.\n"
          ]
        }
      ]
    },
    {
      "cell_type": "code",
      "source": [
        "y_pred=model.predict(X_test)\n"
      ],
      "metadata": {
        "id": "eK7xDqmMuJ3S",
        "colab": {
          "base_uri": "https://localhost:8080/"
        },
        "outputId": "3b138e07-f676-499e-dde6-1f36b8942795"
      },
      "execution_count": null,
      "outputs": [
        {
          "output_type": "stream",
          "name": "stdout",
          "text": [
            "4/4 [==============================] - 0s 2ms/step\n"
          ]
        }
      ]
    },
    {
      "cell_type": "code",
      "source": [
        "y_pred = (y_pred >= 0.5).astype(int)\n"
      ],
      "metadata": {
        "id": "oAJVcLbkuJ3S"
      },
      "execution_count": null,
      "outputs": []
    },
    {
      "cell_type": "code",
      "source": [
        "for i in y_pred:\n",
        "  if i<=0.5:\n",
        "    y_pred[i]=0"
      ],
      "metadata": {
        "id": "2PrGuaEfuJ3S"
      },
      "execution_count": null,
      "outputs": []
    },
    {
      "cell_type": "code",
      "source": [
        "from sklearn.metrics import accuracy_score,precision_score,f1_score,roc_auc_score, recall_score\n",
        "accuracy = accuracy_score(y_test, y_pred)\n",
        "precision = precision_score(y_test, y_pred, pos_label=1)\n",
        "recall = recall_score(y_test, y_pred)\n",
        "f_measure = f1_score(y_test, y_pred)\n",
        "auc = roc_auc_score(y_test, y_pred)\n",
        "gini_coefficient = 2 * roc_auc_score(y_test, y_pred) - 1\n",
        "print(\"Accuracy: \", accuracy*100)\n",
        "print(\"Precision: \", precision*100)\n",
        "print(\"Recall: \", recall*100)\n",
        "print(\"F-measure: \", round(f_measure*100,2))\n",
        "print(\"AUC: \", round(auc*100,2))\n",
        "print(\"Gini coefficient: \", round(gini_coefficient*100,2))"
      ],
      "metadata": {
        "id": "s5T1VFuWuJ3S",
        "colab": {
          "base_uri": "https://localhost:8080/"
        },
        "outputId": "c23b575f-f21a-4ff6-ffbb-92524d2f93d1"
      },
      "execution_count": null,
      "outputs": [
        {
          "output_type": "stream",
          "name": "stdout",
          "text": [
            "Accuracy:  91.0\n",
            "Precision:  100.0\n",
            "Recall:  80.43478260869566\n",
            "F-measure:  89.16\n",
            "AUC:  90.22\n",
            "Gini coefficient:  80.43\n"
          ]
        }
      ]
    },
    {
      "cell_type": "markdown",
      "source": [
        "# **CHAID**"
      ],
      "metadata": {
        "id": "nIMaJg9quJ3S"
      }
    },
    {
      "cell_type": "code",
      "source": [
        "import pandas as pd\n",
        "train = pd.read_csv(\"Lasso_smote.csv\")"
      ],
      "metadata": {
        "id": "18_uIu9_uJ3S"
      },
      "execution_count": null,
      "outputs": []
    },
    {
      "cell_type": "code",
      "source": [
        "import numpy as np\n",
        "X = train.drop('class', axis=1)\n",
        "y = train['class']\n",
        "X = np.array(X)\n",
        "y = np.array(y)"
      ],
      "metadata": {
        "id": "dn0il8RCuJ3S"
      },
      "execution_count": null,
      "outputs": []
    },
    {
      "cell_type": "code",
      "source": [
        "import numpy as np\n",
        "\n",
        "class Node:\n",
        "\n",
        "    def __init__(self, feature=None, threshold=None, chi2=None, left=None, right=None, value=None):\n",
        "        self.feature = feature\n",
        "        self.threshold = threshold\n",
        "        self.chi2 = chi2\n",
        "        self.left = left\n",
        "        self.right = right\n",
        "        self.value = value"
      ],
      "metadata": {
        "id": "9_OL6vg5uJ3S"
      },
      "execution_count": null,
      "outputs": []
    },
    {
      "cell_type": "code",
      "source": [
        "class DecisionTree:\n",
        "\n",
        "    def __init__(self, alpha=0.05, min_samples=3,max_depth=7):\n",
        "        self.alpha = alpha\n",
        "        self.min_samples = min_samples\n",
        "        self.max_depth = max_depth\n",
        "        self.tree = None\n",
        "\n",
        "    def fit(self, X, y):\n",
        "        self.tree = self._build_tree(X, y)\n",
        "\n",
        "\n",
        "    def predict(self, X):\n",
        "        y_pred = np.apply_along_axis(lambda x: self._traverse_tree(self.tree, x), 1, X)\n",
        "        return y_pred\n",
        "\n",
        "    def _traverse_tree(self, node, x):\n",
        "        if node.feature is None:\n",
        "            return node.value\n",
        "        if x[node.feature] <= node.threshold:\n",
        "            return self._traverse_tree(node.left, x)\n",
        "        else:\n",
        "            return self._traverse_tree(node.right, x)\n",
        "\n",
        "    def _build_tree(self, X, y):\n",
        "        if X.shape[0] <= self.min_samples:\n",
        "            return Node(value=self._get_leaf_value(y))\n",
        "\n",
        "        # Split the data into two branches\n",
        "        best_feature, best_threshold, best_chi2 = self._get_best_split(X, y)\n",
        "        if best_feature is None:\n",
        "            return Node(value=self._get_leaf_value(y))\n",
        "\n",
        "        left_mask = X[:, best_feature] <= best_threshold\n",
        "        right_mask = ~left_mask\n",
        "        left_tree = self._build_tree(X[left_mask], y[left_mask])\n",
        "        right_tree = self._build_tree(X[right_mask], y[right_mask])\n",
        "\n",
        "        return Node(feature=best_feature, threshold=best_threshold, chi2=best_chi2, left=left_tree, right=right_tree)\n",
        "    def _get_best_split(self, X, y):\n",
        "        best = (None, None, 0)\n",
        "        thresholds_func = lambda sorted_X: (sorted_X[1:] + sorted_X[:-1]) / 2\n",
        "\n",
        "        for feature in range(X.shape[1]):\n",
        "            sorted_X = np.sort(X[:, feature])\n",
        "            thresholds = thresholds_func(sorted_X)\n",
        "            for threshold in thresholds:\n",
        "                left_mask = X[:, feature] <= threshold\n",
        "                right_mask = ~left_mask\n",
        "                if left_mask.sum() < self.min_samples or right_mask.sum() < self.min_samples:\n",
        "                    continue\n",
        "                chi2 = self._get_chi2(y, left_mask, right_mask)\n",
        "                if chi2 > best[2]:\n",
        "                    best = (feature, threshold, chi2)\n",
        "\n",
        "        return best if best[0] is not None else (None, None, None)\n",
        "\n",
        "\n",
        "    def _get_chi2(self, y, left_mask, right_mask):\n",
        "        observed = np.array([\n",
        "            [np.sum(y[left_mask] == 0), np.sum(y[left_mask] == 1)],\n",
        "            [np.sum(y[right_mask] == 0), np.sum(y[right_mask] == 1)]\n",
        "        ])\n",
        "        expected = np.array([\n",
        "            [np.sum(left_mask) * np.sum(y == 0), np.sum(left_mask) * np.sum(y == 1)],\n",
        "            [np.sum(right_mask) * np.sum(y == 0), np.sum(right_mask) * np.sum(y == 1)]\n",
        "        ]) / y.shape[0]\n",
        "        chi2 = np.sum((observed - expected) ** 2 / expected)\n",
        "        return chi2\n",
        "\n",
        "    def _get_leaf_value(self, y):\n",
        "        return np.bincount(y).argmax()"
      ],
      "metadata": {
        "id": "cC1JZxusuJ3S"
      },
      "execution_count": null,
      "outputs": []
    },
    {
      "cell_type": "code",
      "source": [
        "def train_test_split(X, y, test_size=0.3, random_state=None):\n",
        "    if random_state:\n",
        "        np.random.seed(random_state)\n",
        "    shuffle_indices = np.random.permutation(len(X))\n",
        "    test_size = int(test_size * len(X))\n",
        "    test_indices = shuffle_indices[:test_size]\n",
        "    train_indices = shuffle_indices[test_size:]\n",
        "    X_train = X[train_indices]\n",
        "    y_train = y[train_indices]\n",
        "    X_test = X[test_indices]\n",
        "    y_test = y[test_indices]\n",
        "    return X_train, X_test, y_train, y_test\n",
        "\n",
        "X_train, X_test, y_train, y_test = train_test_split(X, y, test_size=0.30, random_state=42)"
      ],
      "metadata": {
        "id": "QLYj8pJ9uJ3T"
      },
      "execution_count": null,
      "outputs": []
    },
    {
      "cell_type": "code",
      "source": [
        "classifier = DecisionTree()"
      ],
      "metadata": {
        "id": "bakfDpguuJ3T"
      },
      "execution_count": null,
      "outputs": []
    },
    {
      "cell_type": "code",
      "source": [
        "classifier.fit(X_train , y_train)"
      ],
      "metadata": {
        "colab": {
          "base_uri": "https://localhost:8080/"
        },
        "outputId": "7af91fec-e857-4dc1-8b94-8c30b5c68b39",
        "id": "Jm9n1z5GuJ3T"
      },
      "execution_count": null,
      "outputs": [
        {
          "output_type": "stream",
          "name": "stderr",
          "text": [
            "<ipython-input-138-fe3e5a910934>:68: RuntimeWarning: invalid value encountered in true_divide\n",
            "  chi2 = np.sum((observed - expected) ** 2 / expected)\n"
          ]
        }
      ]
    },
    {
      "cell_type": "code",
      "source": [
        "y_pred = classifier.predict(X_test)"
      ],
      "metadata": {
        "id": "B14omHJ9uJ3T"
      },
      "execution_count": null,
      "outputs": []
    },
    {
      "cell_type": "code",
      "source": [
        "y_pred"
      ],
      "metadata": {
        "colab": {
          "base_uri": "https://localhost:8080/"
        },
        "outputId": "e63ba994-d594-4704-d9ac-b1642e66f9fa",
        "id": "lRacOUREuJ3T"
      },
      "execution_count": null,
      "outputs": [
        {
          "output_type": "execute_result",
          "data": {
            "text/plain": [
              "array([0, 1, 0, 1, 1, 0, 0, 1, 1, 0, 1, 1, 0, 1, 0, 0, 0, 1, 0, 0, 0, 0,\n",
              "       0, 0, 1, 0, 0, 1, 1, 0, 0, 0, 0, 1, 1, 0, 0, 1, 1, 1, 0, 1, 0, 1,\n",
              "       1, 1, 1, 1, 0, 1, 1, 1, 1, 0, 1, 1, 1, 1, 1, 1, 0, 0, 0, 0, 1, 1,\n",
              "       0, 1, 1, 0, 0, 0, 0, 0, 0, 0, 0, 1, 0, 0, 1, 1, 0, 1, 0, 1, 1, 0,\n",
              "       0, 0, 0, 0, 0, 0, 0, 0, 1, 1, 0, 1, 1, 0, 1, 0, 0, 1, 0, 1, 0, 1,\n",
              "       1, 0, 0, 1, 0, 0, 1, 1, 1, 1, 1, 1, 0, 1, 1, 1, 0, 1, 1, 0, 1, 1,\n",
              "       0, 0, 1, 1, 1, 1, 1, 0, 1, 1, 0, 1, 0, 0, 1, 1, 0, 0])"
            ]
          },
          "metadata": {},
          "execution_count": 143
        }
      ]
    },
    {
      "cell_type": "code",
      "source": [
        "# Calculate TP, FP, FN, TN\n",
        "TP = np.sum((y_test == 1) & (y_pred == 1))\n",
        "FP = np.sum((y_test == 0) & (y_pred == 1))\n",
        "FN = np.sum((y_test == 1) & (y_pred == 0))\n",
        "TN = np.sum((y_test == 0) & (y_pred == 0))\n",
        "\n",
        "# Create confusion matrix\n",
        "confusion_matrix = np.array([[TP, FP], [FN, TN]])\n",
        "print(confusion_matrix)\n",
        "\n",
        "# Calculate accuracy, recall, precision, and F-score\n",
        "accuracy= (TP + TN) / (TP + TN + FP + FN)\n",
        "recall = TP / (TP + FN)\n",
        "precision = TP / (TP + FP)\n",
        "fscore = 2 * (precision * recall) / (precision + recall)\n",
        "\n",
        "print(\"Accuracy\",accuracy*100,\"%\")\n",
        "print(\"Recall:\", recall)\n",
        "print(\"Precision:\", precision)\n",
        "print(\"F-score:\", fscore)"
      ],
      "metadata": {
        "colab": {
          "base_uri": "https://localhost:8080/"
        },
        "outputId": "36536b10-89eb-4d20-cf0b-ce7a7ae80c9f",
        "id": "KFKqFgxAuJ3T"
      },
      "execution_count": null,
      "outputs": [
        {
          "output_type": "stream",
          "name": "stdout",
          "text": [
            "[[76  0]\n",
            " [ 0 74]]\n",
            "Accuracy 100.0 %\n",
            "Recall: 1.0\n",
            "Precision: 1.0\n",
            "F-score: 1.0\n"
          ]
        }
      ]
    },
    {
      "cell_type": "markdown",
      "source": [
        "# **C5.0**"
      ],
      "metadata": {
        "id": "Z5gq-W9suJ3T"
      }
    },
    {
      "cell_type": "code",
      "execution_count": null,
      "metadata": {
        "id": "_0dkkOqsuJ3U"
      },
      "outputs": [],
      "source": [
        "# Import Libraries\n",
        "import pandas as pd\n",
        "import numpy as np\n",
        "import matplotlib.pyplot as plt\n",
        "from sklearn import datasets\n",
        "from sklearn import tree\n",
        "from sklearn.tree import DecisionTreeClassifier\n",
        "from sklearn.preprocessing import LabelEncoder\n",
        "from sklearn.metrics import classification_report\n",
        "from sklearn.model_selection import train_test_split"
      ]
    },
    {
      "cell_type": "code",
      "source": [
        "# Import Dataset\n",
        "d=pd.read_csv('Lasso_smote.csv')\n",
        "d"
      ],
      "metadata": {
        "colab": {
          "base_uri": "https://localhost:8080/",
          "height": 423
        },
        "outputId": "86239a6a-15a1-49c7-d5a9-24787a582df5",
        "id": "XPOMJop3uJ3U"
      },
      "execution_count": null,
      "outputs": [
        {
          "output_type": "execute_result",
          "data": {
            "text/plain": [
              "     Unnamed: 0        sg   al   su       rbc         bgr        sc  \\\n",
              "0             0  1.020000  1.0  0.0  0.810484  121.000000  1.200000   \n",
              "1             1  1.020000  4.0  0.0  0.810484  148.036517  0.800000   \n",
              "2             2  1.010000  2.0  3.0  1.000000  423.000000  1.800000   \n",
              "3             3  1.005000  4.0  0.0  1.000000  117.000000  3.800000   \n",
              "4             4  1.010000  2.0  0.0  1.000000  106.000000  1.400000   \n",
              "..          ...       ...  ...  ...       ...         ...       ...   \n",
              "495         495  1.020000  0.0  0.0  1.000000   98.005878  0.920823   \n",
              "496         496  1.024082  0.0  0.0  1.000000   99.816432  0.989859   \n",
              "497         497  1.023992  0.0  0.0  1.000000   99.596690  0.979007   \n",
              "498         498  1.025000  0.0  0.0  1.000000  130.150718  1.109569   \n",
              "499         499  1.025000  0.0  0.0  1.000000   81.491801  0.549180   \n",
              "\n",
              "            sod       hemo        pcv  htn   dm   pe  class  \n",
              "0    137.528754  15.400000  44.000000  1.0  1.0  0.0      1  \n",
              "1    137.528754  11.300000  38.000000  0.0  0.0  0.0      1  \n",
              "2    137.528754   9.600000  31.000000  0.0  1.0  0.0      1  \n",
              "3    111.000000  11.200000  32.000000  1.0  0.0  1.0      1  \n",
              "4    137.528754  11.600000  35.000000  0.0  0.0  0.0      1  \n",
              "..          ...        ...        ...  ...  ...  ...    ...  \n",
              "495  139.202351  14.398824  50.000000  0.0  0.0  0.0      0  \n",
              "496  142.917841  14.171502  43.183568  0.0  0.0  0.0      0  \n",
              "497  141.596690  14.219338  43.201655  0.0  0.0  0.0      0  \n",
              "498  146.698565  15.515072  41.000000  0.0  0.0  0.0      0  \n",
              "499  143.950807  15.442621  46.000000  0.0  0.0  0.0      0  \n",
              "\n",
              "[500 rows x 14 columns]"
            ],
            "text/html": [
              "\n",
              "  <div id=\"df-41abfff5-1605-4489-ac26-c453fa82061d\">\n",
              "    <div class=\"colab-df-container\">\n",
              "      <div>\n",
              "<style scoped>\n",
              "    .dataframe tbody tr th:only-of-type {\n",
              "        vertical-align: middle;\n",
              "    }\n",
              "\n",
              "    .dataframe tbody tr th {\n",
              "        vertical-align: top;\n",
              "    }\n",
              "\n",
              "    .dataframe thead th {\n",
              "        text-align: right;\n",
              "    }\n",
              "</style>\n",
              "<table border=\"1\" class=\"dataframe\">\n",
              "  <thead>\n",
              "    <tr style=\"text-align: right;\">\n",
              "      <th></th>\n",
              "      <th>Unnamed: 0</th>\n",
              "      <th>sg</th>\n",
              "      <th>al</th>\n",
              "      <th>su</th>\n",
              "      <th>rbc</th>\n",
              "      <th>bgr</th>\n",
              "      <th>sc</th>\n",
              "      <th>sod</th>\n",
              "      <th>hemo</th>\n",
              "      <th>pcv</th>\n",
              "      <th>htn</th>\n",
              "      <th>dm</th>\n",
              "      <th>pe</th>\n",
              "      <th>class</th>\n",
              "    </tr>\n",
              "  </thead>\n",
              "  <tbody>\n",
              "    <tr>\n",
              "      <th>0</th>\n",
              "      <td>0</td>\n",
              "      <td>1.020000</td>\n",
              "      <td>1.0</td>\n",
              "      <td>0.0</td>\n",
              "      <td>0.810484</td>\n",
              "      <td>121.000000</td>\n",
              "      <td>1.200000</td>\n",
              "      <td>137.528754</td>\n",
              "      <td>15.400000</td>\n",
              "      <td>44.000000</td>\n",
              "      <td>1.0</td>\n",
              "      <td>1.0</td>\n",
              "      <td>0.0</td>\n",
              "      <td>1</td>\n",
              "    </tr>\n",
              "    <tr>\n",
              "      <th>1</th>\n",
              "      <td>1</td>\n",
              "      <td>1.020000</td>\n",
              "      <td>4.0</td>\n",
              "      <td>0.0</td>\n",
              "      <td>0.810484</td>\n",
              "      <td>148.036517</td>\n",
              "      <td>0.800000</td>\n",
              "      <td>137.528754</td>\n",
              "      <td>11.300000</td>\n",
              "      <td>38.000000</td>\n",
              "      <td>0.0</td>\n",
              "      <td>0.0</td>\n",
              "      <td>0.0</td>\n",
              "      <td>1</td>\n",
              "    </tr>\n",
              "    <tr>\n",
              "      <th>2</th>\n",
              "      <td>2</td>\n",
              "      <td>1.010000</td>\n",
              "      <td>2.0</td>\n",
              "      <td>3.0</td>\n",
              "      <td>1.000000</td>\n",
              "      <td>423.000000</td>\n",
              "      <td>1.800000</td>\n",
              "      <td>137.528754</td>\n",
              "      <td>9.600000</td>\n",
              "      <td>31.000000</td>\n",
              "      <td>0.0</td>\n",
              "      <td>1.0</td>\n",
              "      <td>0.0</td>\n",
              "      <td>1</td>\n",
              "    </tr>\n",
              "    <tr>\n",
              "      <th>3</th>\n",
              "      <td>3</td>\n",
              "      <td>1.005000</td>\n",
              "      <td>4.0</td>\n",
              "      <td>0.0</td>\n",
              "      <td>1.000000</td>\n",
              "      <td>117.000000</td>\n",
              "      <td>3.800000</td>\n",
              "      <td>111.000000</td>\n",
              "      <td>11.200000</td>\n",
              "      <td>32.000000</td>\n",
              "      <td>1.0</td>\n",
              "      <td>0.0</td>\n",
              "      <td>1.0</td>\n",
              "      <td>1</td>\n",
              "    </tr>\n",
              "    <tr>\n",
              "      <th>4</th>\n",
              "      <td>4</td>\n",
              "      <td>1.010000</td>\n",
              "      <td>2.0</td>\n",
              "      <td>0.0</td>\n",
              "      <td>1.000000</td>\n",
              "      <td>106.000000</td>\n",
              "      <td>1.400000</td>\n",
              "      <td>137.528754</td>\n",
              "      <td>11.600000</td>\n",
              "      <td>35.000000</td>\n",
              "      <td>0.0</td>\n",
              "      <td>0.0</td>\n",
              "      <td>0.0</td>\n",
              "      <td>1</td>\n",
              "    </tr>\n",
              "    <tr>\n",
              "      <th>...</th>\n",
              "      <td>...</td>\n",
              "      <td>...</td>\n",
              "      <td>...</td>\n",
              "      <td>...</td>\n",
              "      <td>...</td>\n",
              "      <td>...</td>\n",
              "      <td>...</td>\n",
              "      <td>...</td>\n",
              "      <td>...</td>\n",
              "      <td>...</td>\n",
              "      <td>...</td>\n",
              "      <td>...</td>\n",
              "      <td>...</td>\n",
              "      <td>...</td>\n",
              "    </tr>\n",
              "    <tr>\n",
              "      <th>495</th>\n",
              "      <td>495</td>\n",
              "      <td>1.020000</td>\n",
              "      <td>0.0</td>\n",
              "      <td>0.0</td>\n",
              "      <td>1.000000</td>\n",
              "      <td>98.005878</td>\n",
              "      <td>0.920823</td>\n",
              "      <td>139.202351</td>\n",
              "      <td>14.398824</td>\n",
              "      <td>50.000000</td>\n",
              "      <td>0.0</td>\n",
              "      <td>0.0</td>\n",
              "      <td>0.0</td>\n",
              "      <td>0</td>\n",
              "    </tr>\n",
              "    <tr>\n",
              "      <th>496</th>\n",
              "      <td>496</td>\n",
              "      <td>1.024082</td>\n",
              "      <td>0.0</td>\n",
              "      <td>0.0</td>\n",
              "      <td>1.000000</td>\n",
              "      <td>99.816432</td>\n",
              "      <td>0.989859</td>\n",
              "      <td>142.917841</td>\n",
              "      <td>14.171502</td>\n",
              "      <td>43.183568</td>\n",
              "      <td>0.0</td>\n",
              "      <td>0.0</td>\n",
              "      <td>0.0</td>\n",
              "      <td>0</td>\n",
              "    </tr>\n",
              "    <tr>\n",
              "      <th>497</th>\n",
              "      <td>497</td>\n",
              "      <td>1.023992</td>\n",
              "      <td>0.0</td>\n",
              "      <td>0.0</td>\n",
              "      <td>1.000000</td>\n",
              "      <td>99.596690</td>\n",
              "      <td>0.979007</td>\n",
              "      <td>141.596690</td>\n",
              "      <td>14.219338</td>\n",
              "      <td>43.201655</td>\n",
              "      <td>0.0</td>\n",
              "      <td>0.0</td>\n",
              "      <td>0.0</td>\n",
              "      <td>0</td>\n",
              "    </tr>\n",
              "    <tr>\n",
              "      <th>498</th>\n",
              "      <td>498</td>\n",
              "      <td>1.025000</td>\n",
              "      <td>0.0</td>\n",
              "      <td>0.0</td>\n",
              "      <td>1.000000</td>\n",
              "      <td>130.150718</td>\n",
              "      <td>1.109569</td>\n",
              "      <td>146.698565</td>\n",
              "      <td>15.515072</td>\n",
              "      <td>41.000000</td>\n",
              "      <td>0.0</td>\n",
              "      <td>0.0</td>\n",
              "      <td>0.0</td>\n",
              "      <td>0</td>\n",
              "    </tr>\n",
              "    <tr>\n",
              "      <th>499</th>\n",
              "      <td>499</td>\n",
              "      <td>1.025000</td>\n",
              "      <td>0.0</td>\n",
              "      <td>0.0</td>\n",
              "      <td>1.000000</td>\n",
              "      <td>81.491801</td>\n",
              "      <td>0.549180</td>\n",
              "      <td>143.950807</td>\n",
              "      <td>15.442621</td>\n",
              "      <td>46.000000</td>\n",
              "      <td>0.0</td>\n",
              "      <td>0.0</td>\n",
              "      <td>0.0</td>\n",
              "      <td>0</td>\n",
              "    </tr>\n",
              "  </tbody>\n",
              "</table>\n",
              "<p>500 rows × 14 columns</p>\n",
              "</div>\n",
              "      <button class=\"colab-df-convert\" onclick=\"convertToInteractive('df-41abfff5-1605-4489-ac26-c453fa82061d')\"\n",
              "              title=\"Convert this dataframe to an interactive table.\"\n",
              "              style=\"display:none;\">\n",
              "        \n",
              "  <svg xmlns=\"http://www.w3.org/2000/svg\" height=\"24px\"viewBox=\"0 0 24 24\"\n",
              "       width=\"24px\">\n",
              "    <path d=\"M0 0h24v24H0V0z\" fill=\"none\"/>\n",
              "    <path d=\"M18.56 5.44l.94 2.06.94-2.06 2.06-.94-2.06-.94-.94-2.06-.94 2.06-2.06.94zm-11 1L8.5 8.5l.94-2.06 2.06-.94-2.06-.94L8.5 2.5l-.94 2.06-2.06.94zm10 10l.94 2.06.94-2.06 2.06-.94-2.06-.94-.94-2.06-.94 2.06-2.06.94z\"/><path d=\"M17.41 7.96l-1.37-1.37c-.4-.4-.92-.59-1.43-.59-.52 0-1.04.2-1.43.59L10.3 9.45l-7.72 7.72c-.78.78-.78 2.05 0 2.83L4 21.41c.39.39.9.59 1.41.59.51 0 1.02-.2 1.41-.59l7.78-7.78 2.81-2.81c.8-.78.8-2.07 0-2.86zM5.41 20L4 18.59l7.72-7.72 1.47 1.35L5.41 20z\"/>\n",
              "  </svg>\n",
              "      </button>\n",
              "      \n",
              "  <style>\n",
              "    .colab-df-container {\n",
              "      display:flex;\n",
              "      flex-wrap:wrap;\n",
              "      gap: 12px;\n",
              "    }\n",
              "\n",
              "    .colab-df-convert {\n",
              "      background-color: #E8F0FE;\n",
              "      border: none;\n",
              "      border-radius: 50%;\n",
              "      cursor: pointer;\n",
              "      display: none;\n",
              "      fill: #1967D2;\n",
              "      height: 32px;\n",
              "      padding: 0 0 0 0;\n",
              "      width: 32px;\n",
              "    }\n",
              "\n",
              "    .colab-df-convert:hover {\n",
              "      background-color: #E2EBFA;\n",
              "      box-shadow: 0px 1px 2px rgba(60, 64, 67, 0.3), 0px 1px 3px 1px rgba(60, 64, 67, 0.15);\n",
              "      fill: #174EA6;\n",
              "    }\n",
              "\n",
              "    [theme=dark] .colab-df-convert {\n",
              "      background-color: #3B4455;\n",
              "      fill: #D2E3FC;\n",
              "    }\n",
              "\n",
              "    [theme=dark] .colab-df-convert:hover {\n",
              "      background-color: #434B5C;\n",
              "      box-shadow: 0px 1px 3px 1px rgba(0, 0, 0, 0.15);\n",
              "      filter: drop-shadow(0px 1px 2px rgba(0, 0, 0, 0.3));\n",
              "      fill: #FFFFFF;\n",
              "    }\n",
              "  </style>\n",
              "\n",
              "      <script>\n",
              "        const buttonEl =\n",
              "          document.querySelector('#df-41abfff5-1605-4489-ac26-c453fa82061d button.colab-df-convert');\n",
              "        buttonEl.style.display =\n",
              "          google.colab.kernel.accessAllowed ? 'block' : 'none';\n",
              "\n",
              "        async function convertToInteractive(key) {\n",
              "          const element = document.querySelector('#df-41abfff5-1605-4489-ac26-c453fa82061d');\n",
              "          const dataTable =\n",
              "            await google.colab.kernel.invokeFunction('convertToInteractive',\n",
              "                                                     [key], {});\n",
              "          if (!dataTable) return;\n",
              "\n",
              "          const docLinkHtml = 'Like what you see? Visit the ' +\n",
              "            '<a target=\"_blank\" href=https://colab.research.google.com/notebooks/data_table.ipynb>data table notebook</a>'\n",
              "            + ' to learn more about interactive tables.';\n",
              "          element.innerHTML = '';\n",
              "          dataTable['output_type'] = 'display_data';\n",
              "          await google.colab.output.renderOutput(dataTable, element);\n",
              "          const docLink = document.createElement('div');\n",
              "          docLink.innerHTML = docLinkHtml;\n",
              "          element.appendChild(docLink);\n",
              "        }\n",
              "      </script>\n",
              "    </div>\n",
              "  </div>\n",
              "  "
            ]
          },
          "metadata": {},
          "execution_count": 146
        }
      ]
    },
    {
      "cell_type": "code",
      "source": [
        "d.info()"
      ],
      "metadata": {
        "colab": {
          "base_uri": "https://localhost:8080/"
        },
        "outputId": "3bb08377-31c7-4fc9-ce96-7ebc697847b0",
        "id": "RnIG0Bv4uJ3U"
      },
      "execution_count": null,
      "outputs": [
        {
          "output_type": "stream",
          "name": "stdout",
          "text": [
            "<class 'pandas.core.frame.DataFrame'>\n",
            "RangeIndex: 500 entries, 0 to 499\n",
            "Data columns (total 14 columns):\n",
            " #   Column      Non-Null Count  Dtype  \n",
            "---  ------      --------------  -----  \n",
            " 0   Unnamed: 0  500 non-null    int64  \n",
            " 1   sg          500 non-null    float64\n",
            " 2   al          500 non-null    float64\n",
            " 3   su          500 non-null    float64\n",
            " 4   rbc         500 non-null    float64\n",
            " 5   bgr         500 non-null    float64\n",
            " 6   sc          500 non-null    float64\n",
            " 7   sod         500 non-null    float64\n",
            " 8   hemo        500 non-null    float64\n",
            " 9   pcv         500 non-null    float64\n",
            " 10  htn         500 non-null    float64\n",
            " 11  dm          500 non-null    float64\n",
            " 12  pe          500 non-null    float64\n",
            " 13  class       500 non-null    int64  \n",
            "dtypes: float64(12), int64(2)\n",
            "memory usage: 54.8 KB\n"
          ]
        }
      ]
    },
    {
      "cell_type": "code",
      "source": [
        "d['class'].unique()"
      ],
      "metadata": {
        "colab": {
          "base_uri": "https://localhost:8080/"
        },
        "outputId": "9528e99e-0f25-4fa1-c5eb-8b6058beab19",
        "id": "WoX3vS5IuJ3U"
      },
      "execution_count": null,
      "outputs": [
        {
          "output_type": "execute_result",
          "data": {
            "text/plain": [
              "array([1, 0])"
            ]
          },
          "metadata": {},
          "execution_count": 148
        }
      ]
    },
    {
      "cell_type": "code",
      "source": [
        "d['class'].value_counts()"
      ],
      "metadata": {
        "colab": {
          "base_uri": "https://localhost:8080/"
        },
        "outputId": "d2fe6f0f-fa1e-4ced-c0e3-6a977de6be2e",
        "id": "xgU48Fp-uJ3U"
      },
      "execution_count": null,
      "outputs": [
        {
          "output_type": "execute_result",
          "data": {
            "text/plain": [
              "1    250\n",
              "0    250\n",
              "Name: class, dtype: int64"
            ]
          },
          "metadata": {},
          "execution_count": 149
        }
      ]
    },
    {
      "cell_type": "code",
      "source": [
        "# Apply Label Encoding\n",
        "le=LabelEncoder()\n",
        "d['class']=le.fit_transform(d['class'])\n",
        "d['class']"
      ],
      "metadata": {
        "colab": {
          "base_uri": "https://localhost:8080/"
        },
        "outputId": "4845bb8a-bf16-471d-cc47-296f347da970",
        "id": "2SVKckF5uJ3X"
      },
      "execution_count": null,
      "outputs": [
        {
          "output_type": "execute_result",
          "data": {
            "text/plain": [
              "0      1\n",
              "1      1\n",
              "2      1\n",
              "3      1\n",
              "4      1\n",
              "      ..\n",
              "495    0\n",
              "496    0\n",
              "497    0\n",
              "498    0\n",
              "499    0\n",
              "Name: class, Length: 500, dtype: int64"
            ]
          },
          "metadata": {},
          "execution_count": 150
        }
      ]
    },
    {
      "cell_type": "code",
      "source": [
        "d['class'].value_counts()"
      ],
      "metadata": {
        "colab": {
          "base_uri": "https://localhost:8080/"
        },
        "outputId": "a3ae14de-7dc2-4afc-d693-872f3c971388",
        "id": "t-SeMpTFuJ3X"
      },
      "execution_count": null,
      "outputs": [
        {
          "output_type": "execute_result",
          "data": {
            "text/plain": [
              "1    250\n",
              "0    250\n",
              "Name: class, dtype: int64"
            ]
          },
          "metadata": {},
          "execution_count": 151
        }
      ]
    },
    {
      "cell_type": "code",
      "source": [
        "# Optionally list down column names\n",
        "col_names=list(d.columns)\n",
        "col_names"
      ],
      "metadata": {
        "colab": {
          "base_uri": "https://localhost:8080/"
        },
        "outputId": "c6108ed1-24e8-4d13-8a8b-dd03de8f78d2",
        "id": "16RCP0INuJ3Y"
      },
      "execution_count": null,
      "outputs": [
        {
          "output_type": "execute_result",
          "data": {
            "text/plain": [
              "['Unnamed: 0',\n",
              " 'sg',\n",
              " 'al',\n",
              " 'su',\n",
              " 'rbc',\n",
              " 'bgr',\n",
              " 'sc',\n",
              " 'sod',\n",
              " 'hemo',\n",
              " 'pcv',\n",
              " 'htn',\n",
              " 'dm',\n",
              " 'pe',\n",
              " 'class']"
            ]
          },
          "metadata": {},
          "execution_count": 152
        }
      ]
    },
    {
      "cell_type": "code",
      "source": [
        "d.shape"
      ],
      "metadata": {
        "colab": {
          "base_uri": "https://localhost:8080/"
        },
        "outputId": "002044c9-2534-4290-ec44-882c47f805a0",
        "id": "SLWxdBjKuJ3Y"
      },
      "execution_count": null,
      "outputs": [
        {
          "output_type": "execute_result",
          "data": {
            "text/plain": [
              "(500, 14)"
            ]
          },
          "metadata": {},
          "execution_count": 153
        }
      ]
    },
    {
      "cell_type": "code",
      "source": [
        "x=d.iloc[:,0:12]\n",
        "x"
      ],
      "metadata": {
        "colab": {
          "base_uri": "https://localhost:8080/",
          "height": 423
        },
        "outputId": "b53239f2-134d-4d95-c3ef-97a0338be15f",
        "id": "JOduBvEzuJ3Y"
      },
      "execution_count": null,
      "outputs": [
        {
          "output_type": "execute_result",
          "data": {
            "text/plain": [
              "     Unnamed: 0        sg   al   su       rbc         bgr        sc  \\\n",
              "0             0  1.020000  1.0  0.0  0.810484  121.000000  1.200000   \n",
              "1             1  1.020000  4.0  0.0  0.810484  148.036517  0.800000   \n",
              "2             2  1.010000  2.0  3.0  1.000000  423.000000  1.800000   \n",
              "3             3  1.005000  4.0  0.0  1.000000  117.000000  3.800000   \n",
              "4             4  1.010000  2.0  0.0  1.000000  106.000000  1.400000   \n",
              "..          ...       ...  ...  ...       ...         ...       ...   \n",
              "495         495  1.020000  0.0  0.0  1.000000   98.005878  0.920823   \n",
              "496         496  1.024082  0.0  0.0  1.000000   99.816432  0.989859   \n",
              "497         497  1.023992  0.0  0.0  1.000000   99.596690  0.979007   \n",
              "498         498  1.025000  0.0  0.0  1.000000  130.150718  1.109569   \n",
              "499         499  1.025000  0.0  0.0  1.000000   81.491801  0.549180   \n",
              "\n",
              "            sod       hemo        pcv  htn   dm  \n",
              "0    137.528754  15.400000  44.000000  1.0  1.0  \n",
              "1    137.528754  11.300000  38.000000  0.0  0.0  \n",
              "2    137.528754   9.600000  31.000000  0.0  1.0  \n",
              "3    111.000000  11.200000  32.000000  1.0  0.0  \n",
              "4    137.528754  11.600000  35.000000  0.0  0.0  \n",
              "..          ...        ...        ...  ...  ...  \n",
              "495  139.202351  14.398824  50.000000  0.0  0.0  \n",
              "496  142.917841  14.171502  43.183568  0.0  0.0  \n",
              "497  141.596690  14.219338  43.201655  0.0  0.0  \n",
              "498  146.698565  15.515072  41.000000  0.0  0.0  \n",
              "499  143.950807  15.442621  46.000000  0.0  0.0  \n",
              "\n",
              "[500 rows x 12 columns]"
            ],
            "text/html": [
              "\n",
              "  <div id=\"df-6beab8f1-6fd8-4b42-a9d8-3d0be338ec8e\">\n",
              "    <div class=\"colab-df-container\">\n",
              "      <div>\n",
              "<style scoped>\n",
              "    .dataframe tbody tr th:only-of-type {\n",
              "        vertical-align: middle;\n",
              "    }\n",
              "\n",
              "    .dataframe tbody tr th {\n",
              "        vertical-align: top;\n",
              "    }\n",
              "\n",
              "    .dataframe thead th {\n",
              "        text-align: right;\n",
              "    }\n",
              "</style>\n",
              "<table border=\"1\" class=\"dataframe\">\n",
              "  <thead>\n",
              "    <tr style=\"text-align: right;\">\n",
              "      <th></th>\n",
              "      <th>Unnamed: 0</th>\n",
              "      <th>sg</th>\n",
              "      <th>al</th>\n",
              "      <th>su</th>\n",
              "      <th>rbc</th>\n",
              "      <th>bgr</th>\n",
              "      <th>sc</th>\n",
              "      <th>sod</th>\n",
              "      <th>hemo</th>\n",
              "      <th>pcv</th>\n",
              "      <th>htn</th>\n",
              "      <th>dm</th>\n",
              "    </tr>\n",
              "  </thead>\n",
              "  <tbody>\n",
              "    <tr>\n",
              "      <th>0</th>\n",
              "      <td>0</td>\n",
              "      <td>1.020000</td>\n",
              "      <td>1.0</td>\n",
              "      <td>0.0</td>\n",
              "      <td>0.810484</td>\n",
              "      <td>121.000000</td>\n",
              "      <td>1.200000</td>\n",
              "      <td>137.528754</td>\n",
              "      <td>15.400000</td>\n",
              "      <td>44.000000</td>\n",
              "      <td>1.0</td>\n",
              "      <td>1.0</td>\n",
              "    </tr>\n",
              "    <tr>\n",
              "      <th>1</th>\n",
              "      <td>1</td>\n",
              "      <td>1.020000</td>\n",
              "      <td>4.0</td>\n",
              "      <td>0.0</td>\n",
              "      <td>0.810484</td>\n",
              "      <td>148.036517</td>\n",
              "      <td>0.800000</td>\n",
              "      <td>137.528754</td>\n",
              "      <td>11.300000</td>\n",
              "      <td>38.000000</td>\n",
              "      <td>0.0</td>\n",
              "      <td>0.0</td>\n",
              "    </tr>\n",
              "    <tr>\n",
              "      <th>2</th>\n",
              "      <td>2</td>\n",
              "      <td>1.010000</td>\n",
              "      <td>2.0</td>\n",
              "      <td>3.0</td>\n",
              "      <td>1.000000</td>\n",
              "      <td>423.000000</td>\n",
              "      <td>1.800000</td>\n",
              "      <td>137.528754</td>\n",
              "      <td>9.600000</td>\n",
              "      <td>31.000000</td>\n",
              "      <td>0.0</td>\n",
              "      <td>1.0</td>\n",
              "    </tr>\n",
              "    <tr>\n",
              "      <th>3</th>\n",
              "      <td>3</td>\n",
              "      <td>1.005000</td>\n",
              "      <td>4.0</td>\n",
              "      <td>0.0</td>\n",
              "      <td>1.000000</td>\n",
              "      <td>117.000000</td>\n",
              "      <td>3.800000</td>\n",
              "      <td>111.000000</td>\n",
              "      <td>11.200000</td>\n",
              "      <td>32.000000</td>\n",
              "      <td>1.0</td>\n",
              "      <td>0.0</td>\n",
              "    </tr>\n",
              "    <tr>\n",
              "      <th>4</th>\n",
              "      <td>4</td>\n",
              "      <td>1.010000</td>\n",
              "      <td>2.0</td>\n",
              "      <td>0.0</td>\n",
              "      <td>1.000000</td>\n",
              "      <td>106.000000</td>\n",
              "      <td>1.400000</td>\n",
              "      <td>137.528754</td>\n",
              "      <td>11.600000</td>\n",
              "      <td>35.000000</td>\n",
              "      <td>0.0</td>\n",
              "      <td>0.0</td>\n",
              "    </tr>\n",
              "    <tr>\n",
              "      <th>...</th>\n",
              "      <td>...</td>\n",
              "      <td>...</td>\n",
              "      <td>...</td>\n",
              "      <td>...</td>\n",
              "      <td>...</td>\n",
              "      <td>...</td>\n",
              "      <td>...</td>\n",
              "      <td>...</td>\n",
              "      <td>...</td>\n",
              "      <td>...</td>\n",
              "      <td>...</td>\n",
              "      <td>...</td>\n",
              "    </tr>\n",
              "    <tr>\n",
              "      <th>495</th>\n",
              "      <td>495</td>\n",
              "      <td>1.020000</td>\n",
              "      <td>0.0</td>\n",
              "      <td>0.0</td>\n",
              "      <td>1.000000</td>\n",
              "      <td>98.005878</td>\n",
              "      <td>0.920823</td>\n",
              "      <td>139.202351</td>\n",
              "      <td>14.398824</td>\n",
              "      <td>50.000000</td>\n",
              "      <td>0.0</td>\n",
              "      <td>0.0</td>\n",
              "    </tr>\n",
              "    <tr>\n",
              "      <th>496</th>\n",
              "      <td>496</td>\n",
              "      <td>1.024082</td>\n",
              "      <td>0.0</td>\n",
              "      <td>0.0</td>\n",
              "      <td>1.000000</td>\n",
              "      <td>99.816432</td>\n",
              "      <td>0.989859</td>\n",
              "      <td>142.917841</td>\n",
              "      <td>14.171502</td>\n",
              "      <td>43.183568</td>\n",
              "      <td>0.0</td>\n",
              "      <td>0.0</td>\n",
              "    </tr>\n",
              "    <tr>\n",
              "      <th>497</th>\n",
              "      <td>497</td>\n",
              "      <td>1.023992</td>\n",
              "      <td>0.0</td>\n",
              "      <td>0.0</td>\n",
              "      <td>1.000000</td>\n",
              "      <td>99.596690</td>\n",
              "      <td>0.979007</td>\n",
              "      <td>141.596690</td>\n",
              "      <td>14.219338</td>\n",
              "      <td>43.201655</td>\n",
              "      <td>0.0</td>\n",
              "      <td>0.0</td>\n",
              "    </tr>\n",
              "    <tr>\n",
              "      <th>498</th>\n",
              "      <td>498</td>\n",
              "      <td>1.025000</td>\n",
              "      <td>0.0</td>\n",
              "      <td>0.0</td>\n",
              "      <td>1.000000</td>\n",
              "      <td>130.150718</td>\n",
              "      <td>1.109569</td>\n",
              "      <td>146.698565</td>\n",
              "      <td>15.515072</td>\n",
              "      <td>41.000000</td>\n",
              "      <td>0.0</td>\n",
              "      <td>0.0</td>\n",
              "    </tr>\n",
              "    <tr>\n",
              "      <th>499</th>\n",
              "      <td>499</td>\n",
              "      <td>1.025000</td>\n",
              "      <td>0.0</td>\n",
              "      <td>0.0</td>\n",
              "      <td>1.000000</td>\n",
              "      <td>81.491801</td>\n",
              "      <td>0.549180</td>\n",
              "      <td>143.950807</td>\n",
              "      <td>15.442621</td>\n",
              "      <td>46.000000</td>\n",
              "      <td>0.0</td>\n",
              "      <td>0.0</td>\n",
              "    </tr>\n",
              "  </tbody>\n",
              "</table>\n",
              "<p>500 rows × 12 columns</p>\n",
              "</div>\n",
              "      <button class=\"colab-df-convert\" onclick=\"convertToInteractive('df-6beab8f1-6fd8-4b42-a9d8-3d0be338ec8e')\"\n",
              "              title=\"Convert this dataframe to an interactive table.\"\n",
              "              style=\"display:none;\">\n",
              "        \n",
              "  <svg xmlns=\"http://www.w3.org/2000/svg\" height=\"24px\"viewBox=\"0 0 24 24\"\n",
              "       width=\"24px\">\n",
              "    <path d=\"M0 0h24v24H0V0z\" fill=\"none\"/>\n",
              "    <path d=\"M18.56 5.44l.94 2.06.94-2.06 2.06-.94-2.06-.94-.94-2.06-.94 2.06-2.06.94zm-11 1L8.5 8.5l.94-2.06 2.06-.94-2.06-.94L8.5 2.5l-.94 2.06-2.06.94zm10 10l.94 2.06.94-2.06 2.06-.94-2.06-.94-.94-2.06-.94 2.06-2.06.94z\"/><path d=\"M17.41 7.96l-1.37-1.37c-.4-.4-.92-.59-1.43-.59-.52 0-1.04.2-1.43.59L10.3 9.45l-7.72 7.72c-.78.78-.78 2.05 0 2.83L4 21.41c.39.39.9.59 1.41.59.51 0 1.02-.2 1.41-.59l7.78-7.78 2.81-2.81c.8-.78.8-2.07 0-2.86zM5.41 20L4 18.59l7.72-7.72 1.47 1.35L5.41 20z\"/>\n",
              "  </svg>\n",
              "      </button>\n",
              "      \n",
              "  <style>\n",
              "    .colab-df-container {\n",
              "      display:flex;\n",
              "      flex-wrap:wrap;\n",
              "      gap: 12px;\n",
              "    }\n",
              "\n",
              "    .colab-df-convert {\n",
              "      background-color: #E8F0FE;\n",
              "      border: none;\n",
              "      border-radius: 50%;\n",
              "      cursor: pointer;\n",
              "      display: none;\n",
              "      fill: #1967D2;\n",
              "      height: 32px;\n",
              "      padding: 0 0 0 0;\n",
              "      width: 32px;\n",
              "    }\n",
              "\n",
              "    .colab-df-convert:hover {\n",
              "      background-color: #E2EBFA;\n",
              "      box-shadow: 0px 1px 2px rgba(60, 64, 67, 0.3), 0px 1px 3px 1px rgba(60, 64, 67, 0.15);\n",
              "      fill: #174EA6;\n",
              "    }\n",
              "\n",
              "    [theme=dark] .colab-df-convert {\n",
              "      background-color: #3B4455;\n",
              "      fill: #D2E3FC;\n",
              "    }\n",
              "\n",
              "    [theme=dark] .colab-df-convert:hover {\n",
              "      background-color: #434B5C;\n",
              "      box-shadow: 0px 1px 3px 1px rgba(0, 0, 0, 0.15);\n",
              "      filter: drop-shadow(0px 1px 2px rgba(0, 0, 0, 0.3));\n",
              "      fill: #FFFFFF;\n",
              "    }\n",
              "  </style>\n",
              "\n",
              "      <script>\n",
              "        const buttonEl =\n",
              "          document.querySelector('#df-6beab8f1-6fd8-4b42-a9d8-3d0be338ec8e button.colab-df-convert');\n",
              "        buttonEl.style.display =\n",
              "          google.colab.kernel.accessAllowed ? 'block' : 'none';\n",
              "\n",
              "        async function convertToInteractive(key) {\n",
              "          const element = document.querySelector('#df-6beab8f1-6fd8-4b42-a9d8-3d0be338ec8e');\n",
              "          const dataTable =\n",
              "            await google.colab.kernel.invokeFunction('convertToInteractive',\n",
              "                                                     [key], {});\n",
              "          if (!dataTable) return;\n",
              "\n",
              "          const docLinkHtml = 'Like what you see? Visit the ' +\n",
              "            '<a target=\"_blank\" href=https://colab.research.google.com/notebooks/data_table.ipynb>data table notebook</a>'\n",
              "            + ' to learn more about interactive tables.';\n",
              "          element.innerHTML = '';\n",
              "          dataTable['output_type'] = 'display_data';\n",
              "          await google.colab.output.renderOutput(dataTable, element);\n",
              "          const docLink = document.createElement('div');\n",
              "          docLink.innerHTML = docLinkHtml;\n",
              "          element.appendChild(docLink);\n",
              "        }\n",
              "      </script>\n",
              "    </div>\n",
              "  </div>\n",
              "  "
            ]
          },
          "metadata": {},
          "execution_count": 154
        }
      ]
    },
    {
      "cell_type": "code",
      "source": [
        "y=d['class']\n",
        "y"
      ],
      "metadata": {
        "colab": {
          "base_uri": "https://localhost:8080/"
        },
        "outputId": "fd69fb8f-0bf3-4282-a304-8e058a6f4c37",
        "id": "pggQT2GeuJ3Y"
      },
      "execution_count": null,
      "outputs": [
        {
          "output_type": "execute_result",
          "data": {
            "text/plain": [
              "0      1\n",
              "1      1\n",
              "2      1\n",
              "3      1\n",
              "4      1\n",
              "      ..\n",
              "495    0\n",
              "496    0\n",
              "497    0\n",
              "498    0\n",
              "499    0\n",
              "Name: class, Length: 500, dtype: int64"
            ]
          },
          "metadata": {},
          "execution_count": 155
        }
      ]
    },
    {
      "cell_type": "code",
      "source": [
        "# Splitting data into training and testing dataset\n",
        "x_train,x_test,y_train,y_test=train_test_split(x,y,test_size=0.2,random_state=2)"
      ],
      "metadata": {
        "id": "MqdN-vP-uJ3Y"
      },
      "execution_count": null,
      "outputs": []
    },
    {
      "cell_type": "code",
      "source": [
        "# C5.0 Entropy - Training the Model\n",
        "model_entropy=DecisionTreeClassifier(criterion='entropy',max_depth=3)\n",
        "model_entropy.fit(x_train,y_train)"
      ],
      "metadata": {
        "colab": {
          "base_uri": "https://localhost:8080/",
          "height": 74
        },
        "outputId": "75685a9b-42f5-4cd8-9eff-dee2d278c8a1",
        "id": "5gq4U61AuJ3Y"
      },
      "execution_count": null,
      "outputs": [
        {
          "output_type": "execute_result",
          "data": {
            "text/plain": [
              "DecisionTreeClassifier(criterion='entropy', max_depth=3)"
            ],
            "text/html": [
              "<style>#sk-container-id-8 {color: black;background-color: white;}#sk-container-id-8 pre{padding: 0;}#sk-container-id-8 div.sk-toggleable {background-color: white;}#sk-container-id-8 label.sk-toggleable__label {cursor: pointer;display: block;width: 100%;margin-bottom: 0;padding: 0.3em;box-sizing: border-box;text-align: center;}#sk-container-id-8 label.sk-toggleable__label-arrow:before {content: \"▸\";float: left;margin-right: 0.25em;color: #696969;}#sk-container-id-8 label.sk-toggleable__label-arrow:hover:before {color: black;}#sk-container-id-8 div.sk-estimator:hover label.sk-toggleable__label-arrow:before {color: black;}#sk-container-id-8 div.sk-toggleable__content {max-height: 0;max-width: 0;overflow: hidden;text-align: left;background-color: #f0f8ff;}#sk-container-id-8 div.sk-toggleable__content pre {margin: 0.2em;color: black;border-radius: 0.25em;background-color: #f0f8ff;}#sk-container-id-8 input.sk-toggleable__control:checked~div.sk-toggleable__content {max-height: 200px;max-width: 100%;overflow: auto;}#sk-container-id-8 input.sk-toggleable__control:checked~label.sk-toggleable__label-arrow:before {content: \"▾\";}#sk-container-id-8 div.sk-estimator input.sk-toggleable__control:checked~label.sk-toggleable__label {background-color: #d4ebff;}#sk-container-id-8 div.sk-label input.sk-toggleable__control:checked~label.sk-toggleable__label {background-color: #d4ebff;}#sk-container-id-8 input.sk-hidden--visually {border: 0;clip: rect(1px 1px 1px 1px);clip: rect(1px, 1px, 1px, 1px);height: 1px;margin: -1px;overflow: hidden;padding: 0;position: absolute;width: 1px;}#sk-container-id-8 div.sk-estimator {font-family: monospace;background-color: #f0f8ff;border: 1px dotted black;border-radius: 0.25em;box-sizing: border-box;margin-bottom: 0.5em;}#sk-container-id-8 div.sk-estimator:hover {background-color: #d4ebff;}#sk-container-id-8 div.sk-parallel-item::after {content: \"\";width: 100%;border-bottom: 1px solid gray;flex-grow: 1;}#sk-container-id-8 div.sk-label:hover label.sk-toggleable__label {background-color: #d4ebff;}#sk-container-id-8 div.sk-serial::before {content: \"\";position: absolute;border-left: 1px solid gray;box-sizing: border-box;top: 0;bottom: 0;left: 50%;z-index: 0;}#sk-container-id-8 div.sk-serial {display: flex;flex-direction: column;align-items: center;background-color: white;padding-right: 0.2em;padding-left: 0.2em;position: relative;}#sk-container-id-8 div.sk-item {position: relative;z-index: 1;}#sk-container-id-8 div.sk-parallel {display: flex;align-items: stretch;justify-content: center;background-color: white;position: relative;}#sk-container-id-8 div.sk-item::before, #sk-container-id-8 div.sk-parallel-item::before {content: \"\";position: absolute;border-left: 1px solid gray;box-sizing: border-box;top: 0;bottom: 0;left: 50%;z-index: -1;}#sk-container-id-8 div.sk-parallel-item {display: flex;flex-direction: column;z-index: 1;position: relative;background-color: white;}#sk-container-id-8 div.sk-parallel-item:first-child::after {align-self: flex-end;width: 50%;}#sk-container-id-8 div.sk-parallel-item:last-child::after {align-self: flex-start;width: 50%;}#sk-container-id-8 div.sk-parallel-item:only-child::after {width: 0;}#sk-container-id-8 div.sk-dashed-wrapped {border: 1px dashed gray;margin: 0 0.4em 0.5em 0.4em;box-sizing: border-box;padding-bottom: 0.4em;background-color: white;}#sk-container-id-8 div.sk-label label {font-family: monospace;font-weight: bold;display: inline-block;line-height: 1.2em;}#sk-container-id-8 div.sk-label-container {text-align: center;}#sk-container-id-8 div.sk-container {/* jupyter's `normalize.less` sets `[hidden] { display: none; }` but bootstrap.min.css set `[hidden] { display: none !important; }` so we also need the `!important` here to be able to override the default hidden behavior on the sphinx rendered scikit-learn.org. See: https://github.com/scikit-learn/scikit-learn/issues/21755 */display: inline-block !important;position: relative;}#sk-container-id-8 div.sk-text-repr-fallback {display: none;}</style><div id=\"sk-container-id-8\" class=\"sk-top-container\"><div class=\"sk-text-repr-fallback\"><pre>DecisionTreeClassifier(criterion=&#x27;entropy&#x27;, max_depth=3)</pre><b>In a Jupyter environment, please rerun this cell to show the HTML representation or trust the notebook. <br />On GitHub, the HTML representation is unable to render, please try loading this page with nbviewer.org.</b></div><div class=\"sk-container\" hidden><div class=\"sk-item\"><div class=\"sk-estimator sk-toggleable\"><input class=\"sk-toggleable__control sk-hidden--visually\" id=\"sk-estimator-id-8\" type=\"checkbox\" checked><label for=\"sk-estimator-id-8\" class=\"sk-toggleable__label sk-toggleable__label-arrow\">DecisionTreeClassifier</label><div class=\"sk-toggleable__content\"><pre>DecisionTreeClassifier(criterion=&#x27;entropy&#x27;, max_depth=3)</pre></div></div></div></div></div>"
            ]
          },
          "metadata": {},
          "execution_count": 157
        }
      ]
    },
    {
      "cell_type": "code",
      "source": [
        "# C5.0 Entropy - Trained Model Accuracy\n",
        "model_entropy.score(x_train,y_train)"
      ],
      "metadata": {
        "colab": {
          "base_uri": "https://localhost:8080/"
        },
        "outputId": "21f9e5db-78b8-494d-9ec8-b147025f4537",
        "id": "HsBQ6yzsuJ3Y"
      },
      "execution_count": null,
      "outputs": [
        {
          "output_type": "execute_result",
          "data": {
            "text/plain": [
              "1.0"
            ]
          },
          "metadata": {},
          "execution_count": 158
        }
      ]
    },
    {
      "cell_type": "code",
      "source": [
        "# Plot the decision tree\n",
        "tree.plot_tree(model_entropy)"
      ],
      "metadata": {
        "colab": {
          "base_uri": "https://localhost:8080/",
          "height": 458
        },
        "outputId": "8506beee-7825-45bc-de08-fe66fd634d1e",
        "id": "Fa0g80MSuJ3Z"
      },
      "execution_count": null,
      "outputs": [
        {
          "output_type": "execute_result",
          "data": {
            "text/plain": [
              "[Text(0.5, 0.75, 'x[0] <= 249.5\\nentropy = 1.0\\nsamples = 400\\nvalue = [198, 202]'),\n",
              " Text(0.25, 0.25, 'entropy = 0.0\\nsamples = 202\\nvalue = [0, 202]'),\n",
              " Text(0.75, 0.25, 'entropy = 0.0\\nsamples = 198\\nvalue = [198, 0]')]"
            ]
          },
          "metadata": {},
          "execution_count": 159
        },
        {
          "output_type": "display_data",
          "data": {
            "text/plain": [
              "<Figure size 640x480 with 1 Axes>"
            ],
            "image/png": "[encoded data removed]"
          },
          "metadata": {}
        }
      ]
    },
    {
      "cell_type": "code",
      "source": [
        "# For better visualization of Decision Tree\n",
        "fig=plt.figure(figsize=(4,4),dpi=300)\n",
        "fn=['age', 'bp', 'sg', 'al','su','rbc','pc','pcc','ba','bgr','bu','sc','sod','pot','hemo','pcv','wbcc','rbcc','htn','dm','cad','appet','pe','ane', 'class']\n",
        "cn=['ckd', 'notckd']\n",
        "tree.plot_tree(model_entropy,feature_names=fn,class_names=cn,filled=True)"
      ],
      "metadata": {
        "colab": {
          "base_uri": "https://localhost:8080/",
          "height": 1000
        },
        "outputId": "1f3dc6d5-15bf-40eb-9434-823323ce94f6",
        "id": "SiS-SVnEuJ3Z"
      },
      "execution_count": null,
      "outputs": [
        {
          "output_type": "execute_result",
          "data": {
            "text/plain": [
              "[Text(0.5, 0.75, 'age <= 249.5\\nentropy = 1.0\\nsamples = 400\\nvalue = [198, 202]\\nclass = notckd'),\n",
              " Text(0.25, 0.25, 'entropy = 0.0\\nsamples = 202\\nvalue = [0, 202]\\nclass = notckd'),\n",
              " Text(0.75, 0.25, 'entropy = 0.0\\nsamples = 198\\nvalue = [198, 0]\\nclass = ckd')]"
            ]
          },
          "metadata": {},
          "execution_count": 160
        },
        {
          "output_type": "display_data",
          "data": {
            "text/plain": [
              "<Figure size 1200x1200 with 1 Axes>"
            ],
            "image/png": "[encoded data removed]"
          },
          "metadata": {}
        }
      ]
    },
    {
      "cell_type": "code",
      "source": [
        "# Predicting on test data\n",
        "pred=model_entropy.predict(x_test)\n",
        "pred"
      ],
      "metadata": {
        "colab": {
          "base_uri": "https://localhost:8080/"
        },
        "outputId": "e813fe5b-e3f2-4336-b136-55f5a6818a24",
        "id": "d8vjoOvduJ3Z"
      },
      "execution_count": null,
      "outputs": [
        {
          "output_type": "execute_result",
          "data": {
            "text/plain": [
              "array([1, 0, 0, 0, 1, 0, 1, 0, 0, 0, 0, 0, 1, 1, 0, 1, 0, 0, 0, 1, 0, 1,\n",
              "       0, 0, 1, 1, 1, 0, 0, 1, 1, 1, 0, 1, 1, 1, 1, 0, 1, 0, 1, 1, 0, 1,\n",
              "       1, 0, 0, 1, 1, 0, 0, 0, 0, 1, 0, 0, 1, 1, 0, 0, 0, 0, 1, 0, 0, 0,\n",
              "       1, 1, 1, 0, 1, 1, 0, 1, 0, 1, 1, 1, 0, 0, 0, 1, 0, 1, 1, 1, 0, 0,\n",
              "       1, 0, 1, 1, 0, 1, 0, 0, 1, 0, 0, 1])"
            ]
          },
          "metadata": {},
          "execution_count": 161
        }
      ]
    },
    {
      "cell_type": "code",
      "source": [
        "pd.Series(pred).value_counts() # For value_count of array"
      ],
      "metadata": {
        "colab": {
          "base_uri": "https://localhost:8080/"
        },
        "outputId": "f66fc90f-4547-47a3-d3cc-578f4575b3da",
        "id": "BsegYlXuuJ3Z"
      },
      "execution_count": null,
      "outputs": [
        {
          "output_type": "execute_result",
          "data": {
            "text/plain": [
              "0    52\n",
              "1    48\n",
              "dtype: int64"
            ]
          },
          "metadata": {},
          "execution_count": 162
        }
      ]
    },
    {
      "cell_type": "code",
      "source": [
        "y_test.value_counts()"
      ],
      "metadata": {
        "colab": {
          "base_uri": "https://localhost:8080/"
        },
        "outputId": "bb3ceeb7-ed1a-4106-a655-d374c126d3dc",
        "id": "stDLdC-cuJ3Z"
      },
      "execution_count": null,
      "outputs": [
        {
          "output_type": "execute_result",
          "data": {
            "text/plain": [
              "0    52\n",
              "1    48\n",
              "Name: class, dtype: int64"
            ]
          },
          "metadata": {},
          "execution_count": 163
        }
      ]
    },
    {
      "cell_type": "code",
      "source": [
        "# getting the 2 way table to understand the correct and wrong predictions\n",
        "pd.crosstab(y_test,pred)"
      ],
      "metadata": {
        "colab": {
          "base_uri": "https://localhost:8080/",
          "height": 143
        },
        "outputId": "e5802d95-8aed-4ef9-c2cf-43ebd67de0fe",
        "id": "ePjkPMNXuJ3Z"
      },
      "execution_count": null,
      "outputs": [
        {
          "output_type": "execute_result",
          "data": {
            "text/plain": [
              "col_0   0   1\n",
              "class        \n",
              "0      52   0\n",
              "1       0  48"
            ],
            "text/html": [
              "\n",
              "  <div id=\"df-b6be7bdf-5e3c-4305-8fb3-78666a8548cc\">\n",
              "    <div class=\"colab-df-container\">\n",
              "      <div>\n",
              "<style scoped>\n",
              "    .dataframe tbody tr th:only-of-type {\n",
              "        vertical-align: middle;\n",
              "    }\n",
              "\n",
              "    .dataframe tbody tr th {\n",
              "        vertical-align: top;\n",
              "    }\n",
              "\n",
              "    .dataframe thead th {\n",
              "        text-align: right;\n",
              "    }\n",
              "</style>\n",
              "<table border=\"1\" class=\"dataframe\">\n",
              "  <thead>\n",
              "    <tr style=\"text-align: right;\">\n",
              "      <th>col_0</th>\n",
              "      <th>0</th>\n",
              "      <th>1</th>\n",
              "    </tr>\n",
              "    <tr>\n",
              "      <th>class</th>\n",
              "      <th></th>\n",
              "      <th></th>\n",
              "    </tr>\n",
              "  </thead>\n",
              "  <tbody>\n",
              "    <tr>\n",
              "      <th>0</th>\n",
              "      <td>52</td>\n",
              "      <td>0</td>\n",
              "    </tr>\n",
              "    <tr>\n",
              "      <th>1</th>\n",
              "      <td>0</td>\n",
              "      <td>48</td>\n",
              "    </tr>\n",
              "  </tbody>\n",
              "</table>\n",
              "</div>\n",
              "      <button class=\"colab-df-convert\" onclick=\"convertToInteractive('df-b6be7bdf-5e3c-4305-8fb3-78666a8548cc')\"\n",
              "              title=\"Convert this dataframe to an interactive table.\"\n",
              "              style=\"display:none;\">\n",
              "        \n",
              "  <svg xmlns=\"http://www.w3.org/2000/svg\" height=\"24px\"viewBox=\"0 0 24 24\"\n",
              "       width=\"24px\">\n",
              "    <path d=\"M0 0h24v24H0V0z\" fill=\"none\"/>\n",
              "    <path d=\"M18.56 5.44l.94 2.06.94-2.06 2.06-.94-2.06-.94-.94-2.06-.94 2.06-2.06.94zm-11 1L8.5 8.5l.94-2.06 2.06-.94-2.06-.94L8.5 2.5l-.94 2.06-2.06.94zm10 10l.94 2.06.94-2.06 2.06-.94-2.06-.94-.94-2.06-.94 2.06-2.06.94z\"/><path d=\"M17.41 7.96l-1.37-1.37c-.4-.4-.92-.59-1.43-.59-.52 0-1.04.2-1.43.59L10.3 9.45l-7.72 7.72c-.78.78-.78 2.05 0 2.83L4 21.41c.39.39.9.59 1.41.59.51 0 1.02-.2 1.41-.59l7.78-7.78 2.81-2.81c.8-.78.8-2.07 0-2.86zM5.41 20L4 18.59l7.72-7.72 1.47 1.35L5.41 20z\"/>\n",
              "  </svg>\n",
              "      </button>\n",
              "      \n",
              "  <style>\n",
              "    .colab-df-container {\n",
              "      display:flex;\n",
              "      flex-wrap:wrap;\n",
              "      gap: 12px;\n",
              "    }\n",
              "\n",
              "    .colab-df-convert {\n",
              "      background-color: #E8F0FE;\n",
              "      border: none;\n",
              "      border-radius: 50%;\n",
              "      cursor: pointer;\n",
              "      display: none;\n",
              "      fill: #1967D2;\n",
              "      height: 32px;\n",
              "      padding: 0 0 0 0;\n",
              "      width: 32px;\n",
              "    }\n",
              "\n",
              "    .colab-df-convert:hover {\n",
              "      background-color: #E2EBFA;\n",
              "      box-shadow: 0px 1px 2px rgba(60, 64, 67, 0.3), 0px 1px 3px 1px rgba(60, 64, 67, 0.15);\n",
              "      fill: #174EA6;\n",
              "    }\n",
              "\n",
              "    [theme=dark] .colab-df-convert {\n",
              "      background-color: #3B4455;\n",
              "      fill: #D2E3FC;\n",
              "    }\n",
              "\n",
              "    [theme=dark] .colab-df-convert:hover {\n",
              "      background-color: #434B5C;\n",
              "      box-shadow: 0px 1px 3px 1px rgba(0, 0, 0, 0.15);\n",
              "      filter: drop-shadow(0px 1px 2px rgba(0, 0, 0, 0.3));\n",
              "      fill: #FFFFFF;\n",
              "    }\n",
              "  </style>\n",
              "\n",
              "      <script>\n",
              "        const buttonEl =\n",
              "          document.querySelector('#df-b6be7bdf-5e3c-4305-8fb3-78666a8548cc button.colab-df-convert');\n",
              "        buttonEl.style.display =\n",
              "          google.colab.kernel.accessAllowed ? 'block' : 'none';\n",
              "\n",
              "        async function convertToInteractive(key) {\n",
              "          const element = document.querySelector('#df-b6be7bdf-5e3c-4305-8fb3-78666a8548cc');\n",
              "          const dataTable =\n",
              "            await google.colab.kernel.invokeFunction('convertToInteractive',\n",
              "                                                     [key], {});\n",
              "          if (!dataTable) return;\n",
              "\n",
              "          const docLinkHtml = 'Like what you see? Visit the ' +\n",
              "            '<a target=\"_blank\" href=https://colab.research.google.com/notebooks/data_table.ipynb>data table notebook</a>'\n",
              "            + ' to learn more about interactive tables.';\n",
              "          element.innerHTML = '';\n",
              "          dataTable['output_type'] = 'display_data';\n",
              "          await google.colab.output.renderOutput(dataTable, element);\n",
              "          const docLink = document.createElement('div');\n",
              "          docLink.innerHTML = docLinkHtml;\n",
              "          element.appendChild(docLink);\n",
              "        }\n",
              "      </script>\n",
              "    </div>\n",
              "  </div>\n",
              "  "
            ]
          },
          "metadata": {},
          "execution_count": 164
        }
      ]
    },
    {
      "cell_type": "code",
      "source": [
        "# C5.0 Entropy - Test Model Accuracy\n",
        "acc = model_entropy.score(x_test,y_test)"
      ],
      "metadata": {
        "id": "pTB6_UO4uJ3Z"
      },
      "execution_count": null,
      "outputs": []
    },
    {
      "cell_type": "code",
      "source": [
        "print(\"Accuracy : \",acc*100,'%')"
      ],
      "metadata": {
        "colab": {
          "base_uri": "https://localhost:8080/"
        },
        "outputId": "c4d08de3-1f81-4da2-814c-12bf9420fb9b",
        "id": "3TH0_63VuJ3a"
      },
      "execution_count": null,
      "outputs": [
        {
          "output_type": "stream",
          "name": "stdout",
          "text": [
            "Accuracy :  100.0 %\n"
          ]
        }
      ]
    },
    {
      "cell_type": "code",
      "source": [
        "from sklearn.metrics import accuracy_score,precision_score,f1_score,roc_auc_score, recall_score\n",
        "accuracy = accuracy_score(y_test, pred)\n",
        "precision = precision_score(y_test, pred, pos_label=1)\n",
        "recall = recall_score(y_test, pred)\n",
        "f_measure = f1_score(y_test, pred)\n",
        "auc = roc_auc_score(y_test, pred)\n",
        "gini_coefficient = 2 * roc_auc_score(y_test, pred) - 1\n",
        "print(\"Accuracy: \", accuracy*100)\n",
        "print(\"Precision: \", precision*100)\n",
        "print(\"Recall: \", recall*100)\n",
        "print(\"F-measure: \", round(f_measure*100,2))\n",
        "print(\"AUC: \", round(auc*100,2))\n",
        "print(\"Gini coefficient: \", round(gini_coefficient*100,2))"
      ],
      "metadata": {
        "colab": {
          "base_uri": "https://localhost:8080/"
        },
        "outputId": "0b8d3941-9065-463f-ce61-7e0cfec9df88",
        "id": "RwWcs-OvuJ3a"
      },
      "execution_count": null,
      "outputs": [
        {
          "output_type": "stream",
          "name": "stdout",
          "text": [
            "Accuracy:  100.0\n",
            "Precision:  100.0\n",
            "Recall:  100.0\n",
            "F-measure:  100.0\n",
            "AUC:  100.0\n",
            "Gini coefficient:  100.0\n"
          ]
        }
      ]
    },
    {
      "cell_type": "markdown",
      "source": [
        "# **KNN**"
      ],
      "metadata": {
        "id": "PJ6f90Z1uJ3a"
      }
    },
    {
      "cell_type": "code",
      "execution_count": null,
      "metadata": {
        "id": "45ZOdvm5uJ3a"
      },
      "outputs": [],
      "source": [
        "import pandas as pd\n",
        "from sklearn.model_selection import train_test_split\n",
        "from sklearn.preprocessing import StandardScaler\n",
        "from sklearn.neighbors import KNeighborsClassifier\n"
      ]
    },
    {
      "cell_type": "code",
      "source": [
        "df=pd.read_csv(\"Lasso_smote.csv\")\n",
        "df.head()"
      ],
      "metadata": {
        "colab": {
          "base_uri": "https://localhost:8080/",
          "height": 206
        },
        "outputId": "208c1707-60dd-419e-8235-7dbcaf00d3e9",
        "id": "kfvf_saZuJ3a"
      },
      "execution_count": null,
      "outputs": [
        {
          "output_type": "execute_result",
          "data": {
            "text/plain": [
              "   Unnamed: 0     sg   al   su       rbc         bgr   sc         sod  hemo  \\\n",
              "0           0  1.020  1.0  0.0  0.810484  121.000000  1.2  137.528754  15.4   \n",
              "1           1  1.020  4.0  0.0  0.810484  148.036517  0.8  137.528754  11.3   \n",
              "2           2  1.010  2.0  3.0  1.000000  423.000000  1.8  137.528754   9.6   \n",
              "3           3  1.005  4.0  0.0  1.000000  117.000000  3.8  111.000000  11.2   \n",
              "4           4  1.010  2.0  0.0  1.000000  106.000000  1.4  137.528754  11.6   \n",
              "\n",
              "    pcv  htn   dm   pe  class  \n",
              "0  44.0  1.0  1.0  0.0      1  \n",
              "1  38.0  0.0  0.0  0.0      1  \n",
              "2  31.0  0.0  1.0  0.0      1  \n",
              "3  32.0  1.0  0.0  1.0      1  \n",
              "4  35.0  0.0  0.0  0.0      1  "
            ],
            "text/html": [
              "\n",
              "  <div id=\"df-11b17da3-5a80-48e0-b3d8-1c56c10c410e\">\n",
              "    <div class=\"colab-df-container\">\n",
              "      <div>\n",
              "<style scoped>\n",
              "    .dataframe tbody tr th:only-of-type {\n",
              "        vertical-align: middle;\n",
              "    }\n",
              "\n",
              "    .dataframe tbody tr th {\n",
              "        vertical-align: top;\n",
              "    }\n",
              "\n",
              "    .dataframe thead th {\n",
              "        text-align: right;\n",
              "    }\n",
              "</style>\n",
              "<table border=\"1\" class=\"dataframe\">\n",
              "  <thead>\n",
              "    <tr style=\"text-align: right;\">\n",
              "      <th></th>\n",
              "      <th>Unnamed: 0</th>\n",
              "      <th>sg</th>\n",
              "      <th>al</th>\n",
              "      <th>su</th>\n",
              "      <th>rbc</th>\n",
              "      <th>bgr</th>\n",
              "      <th>sc</th>\n",
              "      <th>sod</th>\n",
              "      <th>hemo</th>\n",
              "      <th>pcv</th>\n",
              "      <th>htn</th>\n",
              "      <th>dm</th>\n",
              "      <th>pe</th>\n",
              "      <th>class</th>\n",
              "    </tr>\n",
              "  </thead>\n",
              "  <tbody>\n",
              "    <tr>\n",
              "      <th>0</th>\n",
              "      <td>0</td>\n",
              "      <td>1.020</td>\n",
              "      <td>1.0</td>\n",
              "      <td>0.0</td>\n",
              "      <td>0.810484</td>\n",
              "      <td>121.000000</td>\n",
              "      <td>1.2</td>\n",
              "      <td>137.528754</td>\n",
              "      <td>15.4</td>\n",
              "      <td>44.0</td>\n",
              "      <td>1.0</td>\n",
              "      <td>1.0</td>\n",
              "      <td>0.0</td>\n",
              "      <td>1</td>\n",
              "    </tr>\n",
              "    <tr>\n",
              "      <th>1</th>\n",
              "      <td>1</td>\n",
              "      <td>1.020</td>\n",
              "      <td>4.0</td>\n",
              "      <td>0.0</td>\n",
              "      <td>0.810484</td>\n",
              "      <td>148.036517</td>\n",
              "      <td>0.8</td>\n",
              "      <td>137.528754</td>\n",
              "      <td>11.3</td>\n",
              "      <td>38.0</td>\n",
              "      <td>0.0</td>\n",
              "      <td>0.0</td>\n",
              "      <td>0.0</td>\n",
              "      <td>1</td>\n",
              "    </tr>\n",
              "    <tr>\n",
              "      <th>2</th>\n",
              "      <td>2</td>\n",
              "      <td>1.010</td>\n",
              "      <td>2.0</td>\n",
              "      <td>3.0</td>\n",
              "      <td>1.000000</td>\n",
              "      <td>423.000000</td>\n",
              "      <td>1.8</td>\n",
              "      <td>137.528754</td>\n",
              "      <td>9.6</td>\n",
              "      <td>31.0</td>\n",
              "      <td>0.0</td>\n",
              "      <td>1.0</td>\n",
              "      <td>0.0</td>\n",
              "      <td>1</td>\n",
              "    </tr>\n",
              "    <tr>\n",
              "      <th>3</th>\n",
              "      <td>3</td>\n",
              "      <td>1.005</td>\n",
              "      <td>4.0</td>\n",
              "      <td>0.0</td>\n",
              "      <td>1.000000</td>\n",
              "      <td>117.000000</td>\n",
              "      <td>3.8</td>\n",
              "      <td>111.000000</td>\n",
              "      <td>11.2</td>\n",
              "      <td>32.0</td>\n",
              "      <td>1.0</td>\n",
              "      <td>0.0</td>\n",
              "      <td>1.0</td>\n",
              "      <td>1</td>\n",
              "    </tr>\n",
              "    <tr>\n",
              "      <th>4</th>\n",
              "      <td>4</td>\n",
              "      <td>1.010</td>\n",
              "      <td>2.0</td>\n",
              "      <td>0.0</td>\n",
              "      <td>1.000000</td>\n",
              "      <td>106.000000</td>\n",
              "      <td>1.4</td>\n",
              "      <td>137.528754</td>\n",
              "      <td>11.6</td>\n",
              "      <td>35.0</td>\n",
              "      <td>0.0</td>\n",
              "      <td>0.0</td>\n",
              "      <td>0.0</td>\n",
              "      <td>1</td>\n",
              "    </tr>\n",
              "  </tbody>\n",
              "</table>\n",
              "</div>\n",
              "      <button class=\"colab-df-convert\" onclick=\"convertToInteractive('df-11b17da3-5a80-48e0-b3d8-1c56c10c410e')\"\n",
              "              title=\"Convert this dataframe to an interactive table.\"\n",
              "              style=\"display:none;\">\n",
              "        \n",
              "  <svg xmlns=\"http://www.w3.org/2000/svg\" height=\"24px\"viewBox=\"0 0 24 24\"\n",
              "       width=\"24px\">\n",
              "    <path d=\"M0 0h24v24H0V0z\" fill=\"none\"/>\n",
              "    <path d=\"M18.56 5.44l.94 2.06.94-2.06 2.06-.94-2.06-.94-.94-2.06-.94 2.06-2.06.94zm-11 1L8.5 8.5l.94-2.06 2.06-.94-2.06-.94L8.5 2.5l-.94 2.06-2.06.94zm10 10l.94 2.06.94-2.06 2.06-.94-2.06-.94-.94-2.06-.94 2.06-2.06.94z\"/><path d=\"M17.41 7.96l-1.37-1.37c-.4-.4-.92-.59-1.43-.59-.52 0-1.04.2-1.43.59L10.3 9.45l-7.72 7.72c-.78.78-.78 2.05 0 2.83L4 21.41c.39.39.9.59 1.41.59.51 0 1.02-.2 1.41-.59l7.78-7.78 2.81-2.81c.8-.78.8-2.07 0-2.86zM5.41 20L4 18.59l7.72-7.72 1.47 1.35L5.41 20z\"/>\n",
              "  </svg>\n",
              "      </button>\n",
              "      \n",
              "  <style>\n",
              "    .colab-df-container {\n",
              "      display:flex;\n",
              "      flex-wrap:wrap;\n",
              "      gap: 12px;\n",
              "    }\n",
              "\n",
              "    .colab-df-convert {\n",
              "      background-color: #E8F0FE;\n",
              "      border: none;\n",
              "      border-radius: 50%;\n",
              "      cursor: pointer;\n",
              "      display: none;\n",
              "      fill: #1967D2;\n",
              "      height: 32px;\n",
              "      padding: 0 0 0 0;\n",
              "      width: 32px;\n",
              "    }\n",
              "\n",
              "    .colab-df-convert:hover {\n",
              "      background-color: #E2EBFA;\n",
              "      box-shadow: 0px 1px 2px rgba(60, 64, 67, 0.3), 0px 1px 3px 1px rgba(60, 64, 67, 0.15);\n",
              "      fill: #174EA6;\n",
              "    }\n",
              "\n",
              "    [theme=dark] .colab-df-convert {\n",
              "      background-color: #3B4455;\n",
              "      fill: #D2E3FC;\n",
              "    }\n",
              "\n",
              "    [theme=dark] .colab-df-convert:hover {\n",
              "      background-color: #434B5C;\n",
              "      box-shadow: 0px 1px 3px 1px rgba(0, 0, 0, 0.15);\n",
              "      filter: drop-shadow(0px 1px 2px rgba(0, 0, 0, 0.3));\n",
              "      fill: #FFFFFF;\n",
              "    }\n",
              "  </style>\n",
              "\n",
              "      <script>\n",
              "        const buttonEl =\n",
              "          document.querySelector('#df-11b17da3-5a80-48e0-b3d8-1c56c10c410e button.colab-df-convert');\n",
              "        buttonEl.style.display =\n",
              "          google.colab.kernel.accessAllowed ? 'block' : 'none';\n",
              "\n",
              "        async function convertToInteractive(key) {\n",
              "          const element = document.querySelector('#df-11b17da3-5a80-48e0-b3d8-1c56c10c410e');\n",
              "          const dataTable =\n",
              "            await google.colab.kernel.invokeFunction('convertToInteractive',\n",
              "                                                     [key], {});\n",
              "          if (!dataTable) return;\n",
              "\n",
              "          const docLinkHtml = 'Like what you see? Visit the ' +\n",
              "            '<a target=\"_blank\" href=https://colab.research.google.com/notebooks/data_table.ipynb>data table notebook</a>'\n",
              "            + ' to learn more about interactive tables.';\n",
              "          element.innerHTML = '';\n",
              "          dataTable['output_type'] = 'display_data';\n",
              "          await google.colab.output.renderOutput(dataTable, element);\n",
              "          const docLink = document.createElement('div');\n",
              "          docLink.innerHTML = docLinkHtml;\n",
              "          element.appendChild(docLink);\n",
              "        }\n",
              "      </script>\n",
              "    </div>\n",
              "  </div>\n",
              "  "
            ]
          },
          "metadata": {},
          "execution_count": 169
        }
      ]
    },
    {
      "cell_type": "code",
      "source": [
        "df.shape"
      ],
      "metadata": {
        "colab": {
          "base_uri": "https://localhost:8080/"
        },
        "outputId": "c2256626-15f8-4e55-8ef6-86a97e4bb97c",
        "id": "qJAIv676uJ3a"
      },
      "execution_count": null,
      "outputs": [
        {
          "output_type": "execute_result",
          "data": {
            "text/plain": [
              "(500, 14)"
            ]
          },
          "metadata": {},
          "execution_count": 170
        }
      ]
    },
    {
      "cell_type": "code",
      "source": [
        "x=df.drop([\"class\"],axis=1)\n",
        "y=df[\"class\"]"
      ],
      "metadata": {
        "id": "6FOBZ4YSuJ3a"
      },
      "execution_count": null,
      "outputs": []
    },
    {
      "cell_type": "code",
      "source": [
        "x_train,x_test,y_train,y_test = train_test_split(x,y,test_size=0.2,random_state=0)"
      ],
      "metadata": {
        "id": "ftu6KuTuuJ3a"
      },
      "execution_count": null,
      "outputs": []
    },
    {
      "cell_type": "code",
      "source": [
        "classifier=KNeighborsClassifier(n_neighbors=5,p=2,metric='euclidean')"
      ],
      "metadata": {
        "id": "QgcXUfaMuJ3b"
      },
      "execution_count": null,
      "outputs": []
    },
    {
      "cell_type": "code",
      "source": [
        "classifier.fit(x_train,y_train)"
      ],
      "metadata": {
        "colab": {
          "base_uri": "https://localhost:8080/",
          "height": 74
        },
        "outputId": "5ebcff52-37e6-424b-a97a-a3ebc9877440",
        "id": "Rj55PHaUuJ3b"
      },
      "execution_count": null,
      "outputs": [
        {
          "output_type": "execute_result",
          "data": {
            "text/plain": [
              "KNeighborsClassifier(metric='euclidean')"
            ],
            "text/html": [
              "<style>#sk-container-id-9 {color: black;background-color: white;}#sk-container-id-9 pre{padding: 0;}#sk-container-id-9 div.sk-toggleable {background-color: white;}#sk-container-id-9 label.sk-toggleable__label {cursor: pointer;display: block;width: 100%;margin-bottom: 0;padding: 0.3em;box-sizing: border-box;text-align: center;}#sk-container-id-9 label.sk-toggleable__label-arrow:before {content: \"▸\";float: left;margin-right: 0.25em;color: #696969;}#sk-container-id-9 label.sk-toggleable__label-arrow:hover:before {color: black;}#sk-container-id-9 div.sk-estimator:hover label.sk-toggleable__label-arrow:before {color: black;}#sk-container-id-9 div.sk-toggleable__content {max-height: 0;max-width: 0;overflow: hidden;text-align: left;background-color: #f0f8ff;}#sk-container-id-9 div.sk-toggleable__content pre {margin: 0.2em;color: black;border-radius: 0.25em;background-color: #f0f8ff;}#sk-container-id-9 input.sk-toggleable__control:checked~div.sk-toggleable__content {max-height: 200px;max-width: 100%;overflow: auto;}#sk-container-id-9 input.sk-toggleable__control:checked~label.sk-toggleable__label-arrow:before {content: \"▾\";}#sk-container-id-9 div.sk-estimator input.sk-toggleable__control:checked~label.sk-toggleable__label {background-color: #d4ebff;}#sk-container-id-9 div.sk-label input.sk-toggleable__control:checked~label.sk-toggleable__label {background-color: #d4ebff;}#sk-container-id-9 input.sk-hidden--visually {border: 0;clip: rect(1px 1px 1px 1px);clip: rect(1px, 1px, 1px, 1px);height: 1px;margin: -1px;overflow: hidden;padding: 0;position: absolute;width: 1px;}#sk-container-id-9 div.sk-estimator {font-family: monospace;background-color: #f0f8ff;border: 1px dotted black;border-radius: 0.25em;box-sizing: border-box;margin-bottom: 0.5em;}#sk-container-id-9 div.sk-estimator:hover {background-color: #d4ebff;}#sk-container-id-9 div.sk-parallel-item::after {content: \"\";width: 100%;border-bottom: 1px solid gray;flex-grow: 1;}#sk-container-id-9 div.sk-label:hover label.sk-toggleable__label {background-color: #d4ebff;}#sk-container-id-9 div.sk-serial::before {content: \"\";position: absolute;border-left: 1px solid gray;box-sizing: border-box;top: 0;bottom: 0;left: 50%;z-index: 0;}#sk-container-id-9 div.sk-serial {display: flex;flex-direction: column;align-items: center;background-color: white;padding-right: 0.2em;padding-left: 0.2em;position: relative;}#sk-container-id-9 div.sk-item {position: relative;z-index: 1;}#sk-container-id-9 div.sk-parallel {display: flex;align-items: stretch;justify-content: center;background-color: white;position: relative;}#sk-container-id-9 div.sk-item::before, #sk-container-id-9 div.sk-parallel-item::before {content: \"\";position: absolute;border-left: 1px solid gray;box-sizing: border-box;top: 0;bottom: 0;left: 50%;z-index: -1;}#sk-container-id-9 div.sk-parallel-item {display: flex;flex-direction: column;z-index: 1;position: relative;background-color: white;}#sk-container-id-9 div.sk-parallel-item:first-child::after {align-self: flex-end;width: 50%;}#sk-container-id-9 div.sk-parallel-item:last-child::after {align-self: flex-start;width: 50%;}#sk-container-id-9 div.sk-parallel-item:only-child::after {width: 0;}#sk-container-id-9 div.sk-dashed-wrapped {border: 1px dashed gray;margin: 0 0.4em 0.5em 0.4em;box-sizing: border-box;padding-bottom: 0.4em;background-color: white;}#sk-container-id-9 div.sk-label label {font-family: monospace;font-weight: bold;display: inline-block;line-height: 1.2em;}#sk-container-id-9 div.sk-label-container {text-align: center;}#sk-container-id-9 div.sk-container {/* jupyter's `normalize.less` sets `[hidden] { display: none; }` but bootstrap.min.css set `[hidden] { display: none !important; }` so we also need the `!important` here to be able to override the default hidden behavior on the sphinx rendered scikit-learn.org. See: https://github.com/scikit-learn/scikit-learn/issues/21755 */display: inline-block !important;position: relative;}#sk-container-id-9 div.sk-text-repr-fallback {display: none;}</style><div id=\"sk-container-id-9\" class=\"sk-top-container\"><div class=\"sk-text-repr-fallback\"><pre>KNeighborsClassifier(metric=&#x27;euclidean&#x27;)</pre><b>In a Jupyter environment, please rerun this cell to show the HTML representation or trust the notebook. <br />On GitHub, the HTML representation is unable to render, please try loading this page with nbviewer.org.</b></div><div class=\"sk-container\" hidden><div class=\"sk-item\"><div class=\"sk-estimator sk-toggleable\"><input class=\"sk-toggleable__control sk-hidden--visually\" id=\"sk-estimator-id-9\" type=\"checkbox\" checked><label for=\"sk-estimator-id-9\" class=\"sk-toggleable__label sk-toggleable__label-arrow\">KNeighborsClassifier</label><div class=\"sk-toggleable__content\"><pre>KNeighborsClassifier(metric=&#x27;euclidean&#x27;)</pre></div></div></div></div></div>"
            ]
          },
          "metadata": {},
          "execution_count": 174
        }
      ]
    },
    {
      "cell_type": "code",
      "source": [
        "y_pred=classifier.predict(x_test)"
      ],
      "metadata": {
        "id": "s3y1jKeIuJ3b"
      },
      "execution_count": null,
      "outputs": []
    },
    {
      "cell_type": "code",
      "source": [
        "print(y_pred)"
      ],
      "metadata": {
        "colab": {
          "base_uri": "https://localhost:8080/"
        },
        "outputId": "c17142ac-047d-441b-e434-4afd8ec959b7",
        "id": "3YydOEu5uJ3b"
      },
      "execution_count": null,
      "outputs": [
        {
          "output_type": "stream",
          "name": "stdout",
          "text": [
            "[1 0 0 0 0 1 0 0 1 1 1 1 0 0 1 0 0 0 1 1 1 0 1 1 1 0 1 0 1 1 0 1 1 1 0 0 0\n",
            " 0 0 1 0 1 0 1 1 1 1 0 0 1 0 1 0 1 1 1 0 1 1 0 1 0 0 0 0 1 1 0 0 1 1 1 0 0\n",
            " 1 0 0 1 0 0 0 1 0 1 0 0 0 1 0 1 1 0 0 1 1 0 1 0 1 1]\n"
          ]
        }
      ]
    },
    {
      "cell_type": "code",
      "source": [
        "from sklearn.metrics import accuracy_score,precision_score,f1_score,roc_auc_score, recall_score\n",
        "accuracy = accuracy_score(y_test, y_pred)\n",
        "precision = precision_score(y_test, y_pred, pos_label=1)\n",
        "recall = recall_score(y_test, y_pred)\n",
        "f_measure = f1_score(y_test, y_pred)\n",
        "auc = roc_auc_score(y_test, y_pred)\n",
        "gini_coefficient = 2 * roc_auc_score(y_test, y_pred) - 1\n",
        "print(\"Accuracy: \", accuracy*100)\n",
        "print(\"Precision: \", precision*100)\n",
        "print(\"Recall: \", recall*100)\n",
        "print(\"F-measure: \", round(f_measure*100,2))\n",
        "print(\"AUC: \", round(auc*100,2))\n",
        "print(\"Gini coefficient: \", round(gini_coefficient*100,2))"
      ],
      "metadata": {
        "colab": {
          "base_uri": "https://localhost:8080/"
        },
        "outputId": "269ce567-0884-4f9b-ca15-2ea9de2c6d04",
        "id": "Bvt8UGRQuJ3b"
      },
      "execution_count": null,
      "outputs": [
        {
          "output_type": "stream",
          "name": "stdout",
          "text": [
            "Accuracy:  99.0\n",
            "Precision:  98.0\n",
            "Recall:  100.0\n",
            "F-measure:  98.99\n",
            "AUC:  99.02\n",
            "Gini coefficient:  98.04\n"
          ]
        }
      ]
    },
    {
      "cell_type": "markdown",
      "source": [
        "# **RANDOM TREE**"
      ],
      "metadata": {
        "id": "eShFElbzuJ3b"
      }
    },
    {
      "cell_type": "code",
      "execution_count": null,
      "metadata": {
        "id": "FdqD8vg2uJ3b"
      },
      "outputs": [],
      "source": [
        "import pandas as pd\n",
        "from sklearn.model_selection import train_test_split\n",
        "from sklearn.tree import DecisionTreeClassifier"
      ]
    },
    {
      "cell_type": "code",
      "source": [
        "df=pd.read_csv(\"Lasso_smote.csv\")"
      ],
      "metadata": {
        "id": "QxUMhSX4uJ3b"
      },
      "execution_count": null,
      "outputs": []
    },
    {
      "cell_type": "code",
      "source": [
        "X = df.iloc[:, :-1].values\n",
        "y = df.iloc[:, -1].values"
      ],
      "metadata": {
        "id": "nfoeooNuuJ3c"
      },
      "execution_count": null,
      "outputs": []
    },
    {
      "cell_type": "code",
      "source": [
        "X_train, X_test, y_train, y_test = train_test_split(X,y, test_size=0.2, random_state=0)"
      ],
      "metadata": {
        "id": "SYQIb0nQuJ3c"
      },
      "execution_count": null,
      "outputs": []
    },
    {
      "cell_type": "code",
      "source": [
        "tree = DecisionTreeClassifier(max_depth=5, random_state=1)"
      ],
      "metadata": {
        "id": "K0cAT7T9uJ3c"
      },
      "execution_count": null,
      "outputs": []
    },
    {
      "cell_type": "code",
      "source": [
        "tree.fit(X_train, y_train)"
      ],
      "metadata": {
        "colab": {
          "base_uri": "https://localhost:8080/",
          "height": 74
        },
        "outputId": "2e37a95c-dcea-4103-ccdd-fba64eb9a2ec",
        "id": "3-TsJglGuJ3c"
      },
      "execution_count": null,
      "outputs": [
        {
          "output_type": "execute_result",
          "data": {
            "text/plain": [
              "DecisionTreeClassifier(max_depth=5, random_state=1)"
            ],
            "text/html": [
              "<style>#sk-container-id-10 {color: black;background-color: white;}#sk-container-id-10 pre{padding: 0;}#sk-container-id-10 div.sk-toggleable {background-color: white;}#sk-container-id-10 label.sk-toggleable__label {cursor: pointer;display: block;width: 100%;margin-bottom: 0;padding: 0.3em;box-sizing: border-box;text-align: center;}#sk-container-id-10 label.sk-toggleable__label-arrow:before {content: \"▸\";float: left;margin-right: 0.25em;color: #696969;}#sk-container-id-10 label.sk-toggleable__label-arrow:hover:before {color: black;}#sk-container-id-10 div.sk-estimator:hover label.sk-toggleable__label-arrow:before {color: black;}#sk-container-id-10 div.sk-toggleable__content {max-height: 0;max-width: 0;overflow: hidden;text-align: left;background-color: #f0f8ff;}#sk-container-id-10 div.sk-toggleable__content pre {margin: 0.2em;color: black;border-radius: 0.25em;background-color: #f0f8ff;}#sk-container-id-10 input.sk-toggleable__control:checked~div.sk-toggleable__content {max-height: 200px;max-width: 100%;overflow: auto;}#sk-container-id-10 input.sk-toggleable__control:checked~label.sk-toggleable__label-arrow:before {content: \"▾\";}#sk-container-id-10 div.sk-estimator input.sk-toggleable__control:checked~label.sk-toggleable__label {background-color: #d4ebff;}#sk-container-id-10 div.sk-label input.sk-toggleable__control:checked~label.sk-toggleable__label {background-color: #d4ebff;}#sk-container-id-10 input.sk-hidden--visually {border: 0;clip: rect(1px 1px 1px 1px);clip: rect(1px, 1px, 1px, 1px);height: 1px;margin: -1px;overflow: hidden;padding: 0;position: absolute;width: 1px;}#sk-container-id-10 div.sk-estimator {font-family: monospace;background-color: #f0f8ff;border: 1px dotted black;border-radius: 0.25em;box-sizing: border-box;margin-bottom: 0.5em;}#sk-container-id-10 div.sk-estimator:hover {background-color: #d4ebff;}#sk-container-id-10 div.sk-parallel-item::after {content: \"\";width: 100%;border-bottom: 1px solid gray;flex-grow: 1;}#sk-container-id-10 div.sk-label:hover label.sk-toggleable__label {background-color: #d4ebff;}#sk-container-id-10 div.sk-serial::before {content: \"\";position: absolute;border-left: 1px solid gray;box-sizing: border-box;top: 0;bottom: 0;left: 50%;z-index: 0;}#sk-container-id-10 div.sk-serial {display: flex;flex-direction: column;align-items: center;background-color: white;padding-right: 0.2em;padding-left: 0.2em;position: relative;}#sk-container-id-10 div.sk-item {position: relative;z-index: 1;}#sk-container-id-10 div.sk-parallel {display: flex;align-items: stretch;justify-content: center;background-color: white;position: relative;}#sk-container-id-10 div.sk-item::before, #sk-container-id-10 div.sk-parallel-item::before {content: \"\";position: absolute;border-left: 1px solid gray;box-sizing: border-box;top: 0;bottom: 0;left: 50%;z-index: -1;}#sk-container-id-10 div.sk-parallel-item {display: flex;flex-direction: column;z-index: 1;position: relative;background-color: white;}#sk-container-id-10 div.sk-parallel-item:first-child::after {align-self: flex-end;width: 50%;}#sk-container-id-10 div.sk-parallel-item:last-child::after {align-self: flex-start;width: 50%;}#sk-container-id-10 div.sk-parallel-item:only-child::after {width: 0;}#sk-container-id-10 div.sk-dashed-wrapped {border: 1px dashed gray;margin: 0 0.4em 0.5em 0.4em;box-sizing: border-box;padding-bottom: 0.4em;background-color: white;}#sk-container-id-10 div.sk-label label {font-family: monospace;font-weight: bold;display: inline-block;line-height: 1.2em;}#sk-container-id-10 div.sk-label-container {text-align: center;}#sk-container-id-10 div.sk-container {/* jupyter's `normalize.less` sets `[hidden] { display: none; }` but bootstrap.min.css set `[hidden] { display: none !important; }` so we also need the `!important` here to be able to override the default hidden behavior on the sphinx rendered scikit-learn.org. See: https://github.com/scikit-learn/scikit-learn/issues/21755 */display: inline-block !important;position: relative;}#sk-container-id-10 div.sk-text-repr-fallback {display: none;}</style><div id=\"sk-container-id-10\" class=\"sk-top-container\"><div class=\"sk-text-repr-fallback\"><pre>DecisionTreeClassifier(max_depth=5, random_state=1)</pre><b>In a Jupyter environment, please rerun this cell to show the HTML representation or trust the notebook. <br />On GitHub, the HTML representation is unable to render, please try loading this page with nbviewer.org.</b></div><div class=\"sk-container\" hidden><div class=\"sk-item\"><div class=\"sk-estimator sk-toggleable\"><input class=\"sk-toggleable__control sk-hidden--visually\" id=\"sk-estimator-id-10\" type=\"checkbox\" checked><label for=\"sk-estimator-id-10\" class=\"sk-toggleable__label sk-toggleable__label-arrow\">DecisionTreeClassifier</label><div class=\"sk-toggleable__content\"><pre>DecisionTreeClassifier(max_depth=5, random_state=1)</pre></div></div></div></div></div>"
            ]
          },
          "metadata": {},
          "execution_count": 183
        }
      ]
    },
    {
      "cell_type": "code",
      "source": [
        "y_pred = tree.predict(X_test)"
      ],
      "metadata": {
        "id": "YX3RRAfFuJ3c"
      },
      "execution_count": null,
      "outputs": []
    },
    {
      "cell_type": "code",
      "source": [
        "from sklearn.metrics import accuracy_score,precision_score,f1_score,roc_auc_score, recall_score\n",
        "accuracy = accuracy_score(y_test, y_pred)\n",
        "precision = precision_score(y_test, y_pred, pos_label=1)\n",
        "recall = recall_score(y_test, y_pred)\n",
        "f_measure = f1_score(y_test, y_pred)\n",
        "auc = roc_auc_score(y_test, y_pred)\n",
        "gini_coefficient = 2 * roc_auc_score(y_test, y_pred) - 1\n",
        "print(\"Accuracy: \", accuracy*100)\n",
        "print(\"Precision: \", precision*100)\n",
        "print(\"Recall: \", recall*100)\n",
        "print(\"F-measure: \", round(f_measure*100,2))\n",
        "print(\"AUC: \", round(auc*100,2))\n",
        "print(\"Gini coefficient: \", round(gini_coefficient*100,2))"
      ],
      "metadata": {
        "colab": {
          "base_uri": "https://localhost:8080/"
        },
        "outputId": "8e3b0d49-2068-4ea3-b196-92cd0312e947",
        "id": "I27rw3MRuJ3c"
      },
      "execution_count": null,
      "outputs": [
        {
          "output_type": "stream",
          "name": "stdout",
          "text": [
            "Accuracy:  99.0\n",
            "Precision:  98.0\n",
            "Recall:  100.0\n",
            "F-measure:  98.99\n",
            "AUC:  99.02\n",
            "Gini coefficient:  98.04\n"
          ]
        }
      ]
    },
    {
      "cell_type": "markdown",
      "source": [
        "# **DEEP LEARNING MODEL**"
      ],
      "metadata": {
        "id": "2DrNpSCWuvKw"
      }
    },
    {
      "cell_type": "code",
      "execution_count": null,
      "metadata": {
        "id": "RDWvI3EnvBpk"
      },
      "outputs": [],
      "source": [
        "\n",
        "from keras.models import Sequential, load_model\n",
        "import numpy as np\n",
        "import pandas as pd\n",
        "import keras as k\n",
        "from keras.layers import Dense\n",
        "from sklearn.model_selection import train_test_split\n",
        "from sklearn.preprocessing import MinMaxScaler"
      ]
    },
    {
      "cell_type": "code",
      "source": [
        "df=pd.read_csv(\"impckd.csv\")\n",
        "df.head()"
      ],
      "metadata": {
        "colab": {
          "base_uri": "https://localhost:8080/",
          "height": 235
        },
        "outputId": "bde00284-443f-4cca-c0b5-9e52fbc3fe8a",
        "id": "DJAmEgpyvBpk"
      },
      "execution_count": null,
      "outputs": [
        {
          "output_type": "execute_result",
          "data": {
            "text/plain": [
              "    age    bp     sg   al   su       rbc   pc  pcc   ba         bgr  ...  \\\n",
              "0  48.0  80.0  1.020  1.0  0.0  0.810484  1.0  0.0  0.0  121.000000  ...   \n",
              "1   7.0  50.0  1.020  4.0  0.0  0.810484  1.0  0.0  0.0  148.036517  ...   \n",
              "2  62.0  80.0  1.010  2.0  3.0  1.000000  1.0  0.0  0.0  423.000000  ...   \n",
              "3  48.0  70.0  1.005  4.0  0.0  1.000000  0.0  1.0  0.0  117.000000  ...   \n",
              "4  51.0  80.0  1.010  2.0  0.0  1.000000  1.0  0.0  0.0  106.000000  ...   \n",
              "\n",
              "    pcv    wbcc      rbcc  htn   dm  cad  appet   pe  ane  class  \n",
              "0  44.0  7800.0  5.200000  1.0  1.0  0.0    1.0  0.0  0.0      1  \n",
              "1  38.0  6000.0  4.707435  0.0  0.0  0.0    1.0  0.0  0.0      1  \n",
              "2  31.0  7500.0  4.707435  0.0  1.0  0.0    0.0  0.0  1.0      1  \n",
              "3  32.0  6700.0  3.900000  1.0  0.0  0.0    0.0  1.0  1.0      1  \n",
              "4  35.0  7300.0  4.600000  0.0  0.0  0.0    1.0  0.0  0.0      1  \n",
              "\n",
              "[5 rows x 25 columns]"
            ],
            "text/html": [
              "\n",
              "  <div id=\"df-f83f0d16-00cd-4e64-83e6-b1205c04bcf9\">\n",
              "    <div class=\"colab-df-container\">\n",
              "      <div>\n",
              "<style scoped>\n",
              "    .dataframe tbody tr th:only-of-type {\n",
              "        vertical-align: middle;\n",
              "    }\n",
              "\n",
              "    .dataframe tbody tr th {\n",
              "        vertical-align: top;\n",
              "    }\n",
              "\n",
              "    .dataframe thead th {\n",
              "        text-align: right;\n",
              "    }\n",
              "</style>\n",
              "<table border=\"1\" class=\"dataframe\">\n",
              "  <thead>\n",
              "    <tr style=\"text-align: right;\">\n",
              "      <th></th>\n",
              "      <th>age</th>\n",
              "      <th>bp</th>\n",
              "      <th>sg</th>\n",
              "      <th>al</th>\n",
              "      <th>su</th>\n",
              "      <th>rbc</th>\n",
              "      <th>pc</th>\n",
              "      <th>pcc</th>\n",
              "      <th>ba</th>\n",
              "      <th>bgr</th>\n",
              "      <th>...</th>\n",
              "      <th>pcv</th>\n",
              "      <th>wbcc</th>\n",
              "      <th>rbcc</th>\n",
              "      <th>htn</th>\n",
              "      <th>dm</th>\n",
              "      <th>cad</th>\n",
              "      <th>appet</th>\n",
              "      <th>pe</th>\n",
              "      <th>ane</th>\n",
              "      <th>class</th>\n",
              "    </tr>\n",
              "  </thead>\n",
              "  <tbody>\n",
              "    <tr>\n",
              "      <th>0</th>\n",
              "      <td>48.0</td>\n",
              "      <td>80.0</td>\n",
              "      <td>1.020</td>\n",
              "      <td>1.0</td>\n",
              "      <td>0.0</td>\n",
              "      <td>0.810484</td>\n",
              "      <td>1.0</td>\n",
              "      <td>0.0</td>\n",
              "      <td>0.0</td>\n",
              "      <td>121.000000</td>\n",
              "      <td>...</td>\n",
              "      <td>44.0</td>\n",
              "      <td>7800.0</td>\n",
              "      <td>5.200000</td>\n",
              "      <td>1.0</td>\n",
              "      <td>1.0</td>\n",
              "      <td>0.0</td>\n",
              "      <td>1.0</td>\n",
              "      <td>0.0</td>\n",
              "      <td>0.0</td>\n",
              "      <td>1</td>\n",
              "    </tr>\n",
              "    <tr>\n",
              "      <th>1</th>\n",
              "      <td>7.0</td>\n",
              "      <td>50.0</td>\n",
              "      <td>1.020</td>\n",
              "      <td>4.0</td>\n",
              "      <td>0.0</td>\n",
              "      <td>0.810484</td>\n",
              "      <td>1.0</td>\n",
              "      <td>0.0</td>\n",
              "      <td>0.0</td>\n",
              "      <td>148.036517</td>\n",
              "      <td>...</td>\n",
              "      <td>38.0</td>\n",
              "      <td>6000.0</td>\n",
              "      <td>4.707435</td>\n",
              "      <td>0.0</td>\n",
              "      <td>0.0</td>\n",
              "      <td>0.0</td>\n",
              "      <td>1.0</td>\n",
              "      <td>0.0</td>\n",
              "      <td>0.0</td>\n",
              "      <td>1</td>\n",
              "    </tr>\n",
              "    <tr>\n",
              "      <th>2</th>\n",
              "      <td>62.0</td>\n",
              "      <td>80.0</td>\n",
              "      <td>1.010</td>\n",
              "      <td>2.0</td>\n",
              "      <td>3.0</td>\n",
              "      <td>1.000000</td>\n",
              "      <td>1.0</td>\n",
              "      <td>0.0</td>\n",
              "      <td>0.0</td>\n",
              "      <td>423.000000</td>\n",
              "      <td>...</td>\n",
              "      <td>31.0</td>\n",
              "      <td>7500.0</td>\n",
              "      <td>4.707435</td>\n",
              "      <td>0.0</td>\n",
              "      <td>1.0</td>\n",
              "      <td>0.0</td>\n",
              "      <td>0.0</td>\n",
              "      <td>0.0</td>\n",
              "      <td>1.0</td>\n",
              "      <td>1</td>\n",
              "    </tr>\n",
              "    <tr>\n",
              "      <th>3</th>\n",
              "      <td>48.0</td>\n",
              "      <td>70.0</td>\n",
              "      <td>1.005</td>\n",
              "      <td>4.0</td>\n",
              "      <td>0.0</td>\n",
              "      <td>1.000000</td>\n",
              "      <td>0.0</td>\n",
              "      <td>1.0</td>\n",
              "      <td>0.0</td>\n",
              "      <td>117.000000</td>\n",
              "      <td>...</td>\n",
              "      <td>32.0</td>\n",
              "      <td>6700.0</td>\n",
              "      <td>3.900000</td>\n",
              "      <td>1.0</td>\n",
              "      <td>0.0</td>\n",
              "      <td>0.0</td>\n",
              "      <td>0.0</td>\n",
              "      <td>1.0</td>\n",
              "      <td>1.0</td>\n",
              "      <td>1</td>\n",
              "    </tr>\n",
              "    <tr>\n",
              "      <th>4</th>\n",
              "      <td>51.0</td>\n",
              "      <td>80.0</td>\n",
              "      <td>1.010</td>\n",
              "      <td>2.0</td>\n",
              "      <td>0.0</td>\n",
              "      <td>1.000000</td>\n",
              "      <td>1.0</td>\n",
              "      <td>0.0</td>\n",
              "      <td>0.0</td>\n",
              "      <td>106.000000</td>\n",
              "      <td>...</td>\n",
              "      <td>35.0</td>\n",
              "      <td>7300.0</td>\n",
              "      <td>4.600000</td>\n",
              "      <td>0.0</td>\n",
              "      <td>0.0</td>\n",
              "      <td>0.0</td>\n",
              "      <td>1.0</td>\n",
              "      <td>0.0</td>\n",
              "      <td>0.0</td>\n",
              "      <td>1</td>\n",
              "    </tr>\n",
              "  </tbody>\n",
              "</table>\n",
              "<p>5 rows × 25 columns</p>\n",
              "</div>\n",
              "      <button class=\"colab-df-convert\" onclick=\"convertToInteractive('df-f83f0d16-00cd-4e64-83e6-b1205c04bcf9')\"\n",
              "              title=\"Convert this dataframe to an interactive table.\"\n",
              "              style=\"display:none;\">\n",
              "        \n",
              "  <svg xmlns=\"http://www.w3.org/2000/svg\" height=\"24px\"viewBox=\"0 0 24 24\"\n",
              "       width=\"24px\">\n",
              "    <path d=\"M0 0h24v24H0V0z\" fill=\"none\"/>\n",
              "    <path d=\"M18.56 5.44l.94 2.06.94-2.06 2.06-.94-2.06-.94-.94-2.06-.94 2.06-2.06.94zm-11 1L8.5 8.5l.94-2.06 2.06-.94-2.06-.94L8.5 2.5l-.94 2.06-2.06.94zm10 10l.94 2.06.94-2.06 2.06-.94-2.06-.94-.94-2.06-.94 2.06-2.06.94z\"/><path d=\"M17.41 7.96l-1.37-1.37c-.4-.4-.92-.59-1.43-.59-.52 0-1.04.2-1.43.59L10.3 9.45l-7.72 7.72c-.78.78-.78 2.05 0 2.83L4 21.41c.39.39.9.59 1.41.59.51 0 1.02-.2 1.41-.59l7.78-7.78 2.81-2.81c.8-.78.8-2.07 0-2.86zM5.41 20L4 18.59l7.72-7.72 1.47 1.35L5.41 20z\"/>\n",
              "  </svg>\n",
              "      </button>\n",
              "      \n",
              "  <style>\n",
              "    .colab-df-container {\n",
              "      display:flex;\n",
              "      flex-wrap:wrap;\n",
              "      gap: 12px;\n",
              "    }\n",
              "\n",
              "    .colab-df-convert {\n",
              "      background-color: #E8F0FE;\n",
              "      border: none;\n",
              "      border-radius: 50%;\n",
              "      cursor: pointer;\n",
              "      display: none;\n",
              "      fill: #1967D2;\n",
              "      height: 32px;\n",
              "      padding: 0 0 0 0;\n",
              "      width: 32px;\n",
              "    }\n",
              "\n",
              "    .colab-df-convert:hover {\n",
              "      background-color: #E2EBFA;\n",
              "      box-shadow: 0px 1px 2px rgba(60, 64, 67, 0.3), 0px 1px 3px 1px rgba(60, 64, 67, 0.15);\n",
              "      fill: #174EA6;\n",
              "    }\n",
              "\n",
              "    [theme=dark] .colab-df-convert {\n",
              "      background-color: #3B4455;\n",
              "      fill: #D2E3FC;\n",
              "    }\n",
              "\n",
              "    [theme=dark] .colab-df-convert:hover {\n",
              "      background-color: #434B5C;\n",
              "      box-shadow: 0px 1px 3px 1px rgba(0, 0, 0, 0.15);\n",
              "      filter: drop-shadow(0px 1px 2px rgba(0, 0, 0, 0.3));\n",
              "      fill: #FFFFFF;\n",
              "    }\n",
              "  </style>\n",
              "\n",
              "      <script>\n",
              "        const buttonEl =\n",
              "          document.querySelector('#df-f83f0d16-00cd-4e64-83e6-b1205c04bcf9 button.colab-df-convert');\n",
              "        buttonEl.style.display =\n",
              "          google.colab.kernel.accessAllowed ? 'block' : 'none';\n",
              "\n",
              "        async function convertToInteractive(key) {\n",
              "          const element = document.querySelector('#df-f83f0d16-00cd-4e64-83e6-b1205c04bcf9');\n",
              "          const dataTable =\n",
              "            await google.colab.kernel.invokeFunction('convertToInteractive',\n",
              "                                                     [key], {});\n",
              "          if (!dataTable) return;\n",
              "\n",
              "          const docLinkHtml = 'Like what you see? Visit the ' +\n",
              "            '<a target=\"_blank\" href=https://colab.research.google.com/notebooks/data_table.ipynb>data table notebook</a>'\n",
              "            + ' to learn more about interactive tables.';\n",
              "          element.innerHTML = '';\n",
              "          dataTable['output_type'] = 'display_data';\n",
              "          await google.colab.output.renderOutput(dataTable, element);\n",
              "          const docLink = document.createElement('div');\n",
              "          docLink.innerHTML = docLinkHtml;\n",
              "          element.appendChild(docLink);\n",
              "        }\n",
              "      </script>\n",
              "    </div>\n",
              "  </div>\n",
              "  "
            ]
          },
          "metadata": {},
          "execution_count": 187
        }
      ]
    },
    {
      "cell_type": "code",
      "source": [
        "X = df.drop([\"class\"], axis=1)\n",
        "y = df[\"class\"]"
      ],
      "metadata": {
        "id": "_2vR83vovBpk"
      },
      "execution_count": null,
      "outputs": []
    },
    {
      "cell_type": "code",
      "source": [
        "x_scaler = MinMaxScaler()\n",
        "x_scaler.fit(X)\n",
        "column_names = X.columns\n",
        "X[column_names] = x_scaler.transform(X)"
      ],
      "metadata": {
        "id": "tgQRPcVDvBpl"
      },
      "execution_count": null,
      "outputs": []
    },
    {
      "cell_type": "code",
      "source": [
        "X_train,  X_test, y_train, y_test = train_test_split(X, y, test_size= 0.28, random_state=42)"
      ],
      "metadata": {
        "id": "meaNxjzQvBpl"
      },
      "execution_count": null,
      "outputs": []
    },
    {
      "cell_type": "code",
      "source": [
        "\n",
        "\n",
        "model = Sequential()\n",
        "model.add(Dense(16, input_dim=X.shape[1], activation='relu'))\n",
        "model.add(Dense(12, activation='relu'))\n",
        "model.add(Dense(8, activation='relu'))\n",
        "model.add(Dense(1, activation='sigmoid'))"
      ],
      "metadata": {
        "id": "xvC7416JvBpl"
      },
      "execution_count": null,
      "outputs": []
    },
    {
      "cell_type": "code",
      "source": [
        "model.compile(loss='binary_crossentropy',optimizer='adam', metrics=['accuracy'])"
      ],
      "metadata": {
        "id": "njJSUP79vBpl"
      },
      "execution_count": null,
      "outputs": []
    },
    {
      "cell_type": "code",
      "source": [
        "history = model.fit(X_train, y_train,\n",
        "                    epochs=500,\n",
        "                    batch_size=X_train.shape[0])"
      ],
      "metadata": {
        "colab": {
          "base_uri": "https://localhost:8080/"
        },
        "outputId": "3d6a809d-5225-4e74-c168-390279820932",
        "id": "ekOBWgctvBpl"
      },
      "execution_count": null,
      "outputs": [
        {
          "output_type": "stream",
          "name": "stdout",
          "text": [
            "Epoch 1/500\n",
            "1/1 [==============================] - 1s 600ms/step - loss: 0.6690 - accuracy: 0.6098\n",
            "Epoch 2/500\n",
            "1/1 [==============================] - 0s 7ms/step - loss: 0.6654 - accuracy: 0.6132\n",
            "Epoch 3/500\n",
            "1/1 [==============================] - 0s 7ms/step - loss: 0.6617 - accuracy: 0.6132\n",
            "Epoch 4/500\n",
            "1/1 [==============================] - 0s 8ms/step - loss: 0.6581 - accuracy: 0.6132\n",
            "Epoch 5/500\n",
            "1/1 [==============================] - 0s 8ms/step - loss: 0.6545 - accuracy: 0.6132\n",
            "Epoch 6/500\n",
            "1/1 [==============================] - 0s 8ms/step - loss: 0.6508 - accuracy: 0.6132\n",
            "Epoch 7/500\n",
            "1/1 [==============================] - 0s 7ms/step - loss: 0.6472 - accuracy: 0.6132\n",
            "Epoch 8/500\n",
            "1/1 [==============================] - 0s 7ms/step - loss: 0.6436 - accuracy: 0.6132\n",
            "Epoch 9/500\n",
            "1/1 [==============================] - 0s 11ms/step - loss: 0.6399 - accuracy: 0.6132\n",
            "Epoch 10/500\n",
            "1/1 [==============================] - 0s 10ms/step - loss: 0.6362 - accuracy: 0.6132\n",
            "Epoch 11/500\n",
            "1/1 [==============================] - 0s 8ms/step - loss: 0.6325 - accuracy: 0.6132\n",
            "Epoch 12/500\n",
            "1/1 [==============================] - 0s 10ms/step - loss: 0.6288 - accuracy: 0.6132\n",
            "Epoch 13/500\n",
            "1/1 [==============================] - 0s 8ms/step - loss: 0.6250 - accuracy: 0.6132\n",
            "Epoch 14/500\n",
            "1/1 [==============================] - 0s 8ms/step - loss: 0.6212 - accuracy: 0.6132\n",
            "Epoch 15/500\n",
            "1/1 [==============================] - 0s 7ms/step - loss: 0.6175 - accuracy: 0.6132\n",
            "Epoch 16/500\n",
            "1/1 [==============================] - 0s 8ms/step - loss: 0.6138 - accuracy: 0.6132\n",
            "Epoch 17/500\n",
            "1/1 [==============================] - 0s 8ms/step - loss: 0.6101 - accuracy: 0.6132\n",
            "Epoch 18/500\n",
            "1/1 [==============================] - 0s 7ms/step - loss: 0.6066 - accuracy: 0.6132\n",
            "Epoch 19/500\n",
            "1/1 [==============================] - 0s 8ms/step - loss: 0.6031 - accuracy: 0.6132\n",
            "Epoch 20/500\n",
            "1/1 [==============================] - 0s 7ms/step - loss: 0.5996 - accuracy: 0.6132\n",
            "Epoch 21/500\n",
            "1/1 [==============================] - 0s 8ms/step - loss: 0.5960 - accuracy: 0.6132\n",
            "Epoch 22/500\n",
            "1/1 [==============================] - 0s 7ms/step - loss: 0.5924 - accuracy: 0.6132\n",
            "Epoch 23/500\n",
            "1/1 [==============================] - 0s 7ms/step - loss: 0.5887 - accuracy: 0.6132\n",
            "Epoch 24/500\n",
            "1/1 [==============================] - 0s 7ms/step - loss: 0.5851 - accuracy: 0.6132\n",
            "Epoch 25/500\n",
            "1/1 [==============================] - 0s 7ms/step - loss: 0.5815 - accuracy: 0.6132\n",
            "Epoch 26/500\n",
            "1/1 [==============================] - 0s 8ms/step - loss: 0.5780 - accuracy: 0.6132\n",
            "Epoch 27/500\n",
            "1/1 [==============================] - 0s 8ms/step - loss: 0.5745 - accuracy: 0.6132\n",
            "Epoch 28/500\n",
            "1/1 [==============================] - 0s 8ms/step - loss: 0.5711 - accuracy: 0.6132\n",
            "Epoch 29/500\n",
            "1/1 [==============================] - 0s 8ms/step - loss: 0.5677 - accuracy: 0.6132\n",
            "Epoch 30/500\n",
            "1/1 [==============================] - 0s 8ms/step - loss: 0.5644 - accuracy: 0.6132\n",
            "Epoch 31/500\n",
            "1/1 [==============================] - 0s 9ms/step - loss: 0.5611 - accuracy: 0.6132\n",
            "Epoch 32/500\n",
            "1/1 [==============================] - 0s 11ms/step - loss: 0.5579 - accuracy: 0.6132\n",
            "Epoch 33/500\n",
            "1/1 [==============================] - 0s 7ms/step - loss: 0.5548 - accuracy: 0.6132\n",
            "Epoch 34/500\n",
            "1/1 [==============================] - 0s 8ms/step - loss: 0.5516 - accuracy: 0.6132\n",
            "Epoch 35/500\n",
            "1/1 [==============================] - 0s 7ms/step - loss: 0.5484 - accuracy: 0.6132\n",
            "Epoch 36/500\n",
            "1/1 [==============================] - 0s 11ms/step - loss: 0.5452 - accuracy: 0.6132\n",
            "Epoch 37/500\n",
            "1/1 [==============================] - 0s 11ms/step - loss: 0.5420 - accuracy: 0.6132\n",
            "Epoch 38/500\n",
            "1/1 [==============================] - 0s 8ms/step - loss: 0.5388 - accuracy: 0.6132\n",
            "Epoch 39/500\n",
            "1/1 [==============================] - 0s 9ms/step - loss: 0.5355 - accuracy: 0.6132\n",
            "Epoch 40/500\n",
            "1/1 [==============================] - 0s 7ms/step - loss: 0.5322 - accuracy: 0.6132\n",
            "Epoch 41/500\n",
            "1/1 [==============================] - 0s 9ms/step - loss: 0.5288 - accuracy: 0.6132\n",
            "Epoch 42/500\n",
            "1/1 [==============================] - 0s 9ms/step - loss: 0.5253 - accuracy: 0.6132\n",
            "Epoch 43/500\n",
            "1/1 [==============================] - 0s 6ms/step - loss: 0.5218 - accuracy: 0.6132\n",
            "Epoch 44/500\n",
            "1/1 [==============================] - 0s 6ms/step - loss: 0.5182 - accuracy: 0.6132\n",
            "Epoch 45/500\n",
            "1/1 [==============================] - 0s 6ms/step - loss: 0.5145 - accuracy: 0.6132\n",
            "Epoch 46/500\n",
            "1/1 [==============================] - 0s 6ms/step - loss: 0.5108 - accuracy: 0.6132\n",
            "Epoch 47/500\n",
            "1/1 [==============================] - 0s 6ms/step - loss: 0.5069 - accuracy: 0.6132\n",
            "Epoch 48/500\n",
            "1/1 [==============================] - 0s 7ms/step - loss: 0.5030 - accuracy: 0.6132\n",
            "Epoch 49/500\n",
            "1/1 [==============================] - 0s 7ms/step - loss: 0.4991 - accuracy: 0.6132\n",
            "Epoch 50/500\n",
            "1/1 [==============================] - 0s 6ms/step - loss: 0.4950 - accuracy: 0.6132\n",
            "Epoch 51/500\n",
            "1/1 [==============================] - 0s 8ms/step - loss: 0.4910 - accuracy: 0.6132\n",
            "Epoch 52/500\n",
            "1/1 [==============================] - 0s 6ms/step - loss: 0.4869 - accuracy: 0.6132\n",
            "Epoch 53/500\n",
            "1/1 [==============================] - 0s 7ms/step - loss: 0.4828 - accuracy: 0.6132\n",
            "Epoch 54/500\n",
            "1/1 [==============================] - 0s 7ms/step - loss: 0.4786 - accuracy: 0.6132\n",
            "Epoch 55/500\n",
            "1/1 [==============================] - 0s 7ms/step - loss: 0.4745 - accuracy: 0.6132\n",
            "Epoch 56/500\n",
            "1/1 [==============================] - 0s 7ms/step - loss: 0.4702 - accuracy: 0.6132\n",
            "Epoch 57/500\n",
            "1/1 [==============================] - 0s 6ms/step - loss: 0.4660 - accuracy: 0.6132\n",
            "Epoch 58/500\n",
            "1/1 [==============================] - 0s 6ms/step - loss: 0.4617 - accuracy: 0.6132\n",
            "Epoch 59/500\n",
            "1/1 [==============================] - 0s 6ms/step - loss: 0.4573 - accuracy: 0.6132\n",
            "Epoch 60/500\n",
            "1/1 [==============================] - 0s 7ms/step - loss: 0.4530 - accuracy: 0.6411\n",
            "Epoch 61/500\n",
            "1/1 [==============================] - 0s 7ms/step - loss: 0.4486 - accuracy: 0.6760\n",
            "Epoch 62/500\n",
            "1/1 [==============================] - 0s 7ms/step - loss: 0.4443 - accuracy: 0.6969\n",
            "Epoch 63/500\n",
            "1/1 [==============================] - 0s 7ms/step - loss: 0.4399 - accuracy: 0.7387\n",
            "Epoch 64/500\n",
            "1/1 [==============================] - 0s 7ms/step - loss: 0.4356 - accuracy: 0.7596\n",
            "Epoch 65/500\n",
            "1/1 [==============================] - 0s 7ms/step - loss: 0.4313 - accuracy: 0.7979\n",
            "Epoch 66/500\n",
            "1/1 [==============================] - 0s 9ms/step - loss: 0.4271 - accuracy: 0.8258\n",
            "Epoch 67/500\n",
            "1/1 [==============================] - 0s 7ms/step - loss: 0.4232 - accuracy: 0.8606\n",
            "Epoch 68/500\n",
            "1/1 [==============================] - 0s 7ms/step - loss: 0.4193 - accuracy: 0.8641\n",
            "Epoch 69/500\n",
            "1/1 [==============================] - 0s 9ms/step - loss: 0.4156 - accuracy: 0.8815\n",
            "Epoch 70/500\n",
            "1/1 [==============================] - 0s 11ms/step - loss: 0.4120 - accuracy: 0.8920\n",
            "Epoch 71/500\n",
            "1/1 [==============================] - 0s 9ms/step - loss: 0.4085 - accuracy: 0.8990\n",
            "Epoch 72/500\n",
            "1/1 [==============================] - 0s 9ms/step - loss: 0.4050 - accuracy: 0.9164\n",
            "Epoch 73/500\n",
            "1/1 [==============================] - 0s 7ms/step - loss: 0.4015 - accuracy: 0.9233\n",
            "Epoch 74/500\n",
            "1/1 [==============================] - 0s 8ms/step - loss: 0.3981 - accuracy: 0.9338\n",
            "Epoch 75/500\n",
            "1/1 [==============================] - 0s 7ms/step - loss: 0.3947 - accuracy: 0.9338\n",
            "Epoch 76/500\n",
            "1/1 [==============================] - 0s 7ms/step - loss: 0.3913 - accuracy: 0.9338\n",
            "Epoch 77/500\n",
            "1/1 [==============================] - 0s 8ms/step - loss: 0.3879 - accuracy: 0.9373\n",
            "Epoch 78/500\n",
            "1/1 [==============================] - 0s 8ms/step - loss: 0.3846 - accuracy: 0.9443\n",
            "Epoch 79/500\n",
            "1/1 [==============================] - 0s 8ms/step - loss: 0.3814 - accuracy: 0.9443\n",
            "Epoch 80/500\n",
            "1/1 [==============================] - 0s 8ms/step - loss: 0.3782 - accuracy: 0.9512\n",
            "Epoch 81/500\n",
            "1/1 [==============================] - 0s 8ms/step - loss: 0.3750 - accuracy: 0.9512\n",
            "Epoch 82/500\n",
            "1/1 [==============================] - 0s 8ms/step - loss: 0.3718 - accuracy: 0.9547\n",
            "Epoch 83/500\n",
            "1/1 [==============================] - 0s 8ms/step - loss: 0.3687 - accuracy: 0.9547\n",
            "Epoch 84/500\n",
            "1/1 [==============================] - 0s 8ms/step - loss: 0.3655 - accuracy: 0.9547\n",
            "Epoch 85/500\n",
            "1/1 [==============================] - 0s 8ms/step - loss: 0.3623 - accuracy: 0.9617\n",
            "Epoch 86/500\n",
            "1/1 [==============================] - 0s 9ms/step - loss: 0.3590 - accuracy: 0.9582\n",
            "Epoch 87/500\n",
            "1/1 [==============================] - 0s 10ms/step - loss: 0.3558 - accuracy: 0.9547\n",
            "Epoch 88/500\n",
            "1/1 [==============================] - 0s 8ms/step - loss: 0.3525 - accuracy: 0.9547\n",
            "Epoch 89/500\n",
            "1/1 [==============================] - 0s 8ms/step - loss: 0.3493 - accuracy: 0.9547\n",
            "Epoch 90/500\n",
            "1/1 [==============================] - 0s 8ms/step - loss: 0.3461 - accuracy: 0.9547\n",
            "Epoch 91/500\n",
            "1/1 [==============================] - 0s 8ms/step - loss: 0.3429 - accuracy: 0.9547\n",
            "Epoch 92/500\n",
            "1/1 [==============================] - 0s 7ms/step - loss: 0.3397 - accuracy: 0.9547\n",
            "Epoch 93/500\n",
            "1/1 [==============================] - 0s 8ms/step - loss: 0.3365 - accuracy: 0.9547\n",
            "Epoch 94/500\n",
            "1/1 [==============================] - 0s 8ms/step - loss: 0.3332 - accuracy: 0.9547\n",
            "Epoch 95/500\n",
            "1/1 [==============================] - 0s 7ms/step - loss: 0.3299 - accuracy: 0.9547\n",
            "Epoch 96/500\n",
            "1/1 [==============================] - 0s 14ms/step - loss: 0.3265 - accuracy: 0.9547\n",
            "Epoch 97/500\n",
            "1/1 [==============================] - 0s 7ms/step - loss: 0.3232 - accuracy: 0.9582\n",
            "Epoch 98/500\n",
            "1/1 [==============================] - 0s 9ms/step - loss: 0.3201 - accuracy: 0.9617\n",
            "Epoch 99/500\n",
            "1/1 [==============================] - 0s 9ms/step - loss: 0.3170 - accuracy: 0.9617\n",
            "Epoch 100/500\n",
            "1/1 [==============================] - 0s 8ms/step - loss: 0.3139 - accuracy: 0.9617\n",
            "Epoch 101/500\n",
            "1/1 [==============================] - 0s 8ms/step - loss: 0.3109 - accuracy: 0.9652\n",
            "Epoch 102/500\n",
            "1/1 [==============================] - 0s 7ms/step - loss: 0.3078 - accuracy: 0.9652\n",
            "Epoch 103/500\n",
            "1/1 [==============================] - 0s 8ms/step - loss: 0.3047 - accuracy: 0.9652\n",
            "Epoch 104/500\n",
            "1/1 [==============================] - 0s 10ms/step - loss: 0.3017 - accuracy: 0.9652\n",
            "Epoch 105/500\n",
            "1/1 [==============================] - 0s 9ms/step - loss: 0.2986 - accuracy: 0.9652\n",
            "Epoch 106/500\n",
            "1/1 [==============================] - 0s 11ms/step - loss: 0.2956 - accuracy: 0.9652\n",
            "Epoch 107/500\n",
            "1/1 [==============================] - 0s 7ms/step - loss: 0.2925 - accuracy: 0.9652\n",
            "Epoch 108/500\n",
            "1/1 [==============================] - 0s 7ms/step - loss: 0.2895 - accuracy: 0.9652\n",
            "Epoch 109/500\n",
            "1/1 [==============================] - 0s 7ms/step - loss: 0.2865 - accuracy: 0.9652\n",
            "Epoch 110/500\n",
            "1/1 [==============================] - 0s 8ms/step - loss: 0.2834 - accuracy: 0.9652\n",
            "Epoch 111/500\n",
            "1/1 [==============================] - 0s 6ms/step - loss: 0.2803 - accuracy: 0.9652\n",
            "Epoch 112/500\n",
            "1/1 [==============================] - 0s 7ms/step - loss: 0.2772 - accuracy: 0.9652\n",
            "Epoch 113/500\n",
            "1/1 [==============================] - 0s 7ms/step - loss: 0.2740 - accuracy: 0.9652\n",
            "Epoch 114/500\n",
            "1/1 [==============================] - 0s 7ms/step - loss: 0.2708 - accuracy: 0.9652\n",
            "Epoch 115/500\n",
            "1/1 [==============================] - 0s 7ms/step - loss: 0.2676 - accuracy: 0.9652\n",
            "Epoch 116/500\n",
            "1/1 [==============================] - 0s 7ms/step - loss: 0.2643 - accuracy: 0.9652\n",
            "Epoch 117/500\n",
            "1/1 [==============================] - 0s 7ms/step - loss: 0.2610 - accuracy: 0.9652\n",
            "Epoch 118/500\n",
            "1/1 [==============================] - 0s 7ms/step - loss: 0.2577 - accuracy: 0.9652\n",
            "Epoch 119/500\n",
            "1/1 [==============================] - 0s 7ms/step - loss: 0.2542 - accuracy: 0.9652\n",
            "Epoch 120/500\n",
            "1/1 [==============================] - 0s 9ms/step - loss: 0.2508 - accuracy: 0.9652\n",
            "Epoch 121/500\n",
            "1/1 [==============================] - 0s 7ms/step - loss: 0.2472 - accuracy: 0.9652\n",
            "Epoch 122/500\n",
            "1/1 [==============================] - 0s 7ms/step - loss: 0.2437 - accuracy: 0.9652\n",
            "Epoch 123/500\n",
            "1/1 [==============================] - 0s 7ms/step - loss: 0.2401 - accuracy: 0.9652\n",
            "Epoch 124/500\n",
            "1/1 [==============================] - 0s 11ms/step - loss: 0.2365 - accuracy: 0.9686\n",
            "Epoch 125/500\n",
            "1/1 [==============================] - 0s 7ms/step - loss: 0.2328 - accuracy: 0.9686\n",
            "Epoch 126/500\n",
            "1/1 [==============================] - 0s 10ms/step - loss: 0.2291 - accuracy: 0.9686\n",
            "Epoch 127/500\n",
            "1/1 [==============================] - 0s 7ms/step - loss: 0.2253 - accuracy: 0.9686\n",
            "Epoch 128/500\n",
            "1/1 [==============================] - 0s 8ms/step - loss: 0.2215 - accuracy: 0.9686\n",
            "Epoch 129/500\n",
            "1/1 [==============================] - 0s 7ms/step - loss: 0.2177 - accuracy: 0.9686\n",
            "Epoch 130/500\n",
            "1/1 [==============================] - 0s 7ms/step - loss: 0.2139 - accuracy: 0.9721\n",
            "Epoch 131/500\n",
            "1/1 [==============================] - 0s 7ms/step - loss: 0.2100 - accuracy: 0.9721\n",
            "Epoch 132/500\n",
            "1/1 [==============================] - 0s 7ms/step - loss: 0.2063 - accuracy: 0.9721\n",
            "Epoch 133/500\n",
            "1/1 [==============================] - 0s 7ms/step - loss: 0.2025 - accuracy: 0.9721\n",
            "Epoch 134/500\n",
            "1/1 [==============================] - 0s 8ms/step - loss: 0.1988 - accuracy: 0.9756\n",
            "Epoch 135/500\n",
            "1/1 [==============================] - 0s 8ms/step - loss: 0.1951 - accuracy: 0.9756\n",
            "Epoch 136/500\n",
            "1/1 [==============================] - 0s 7ms/step - loss: 0.1915 - accuracy: 0.9756\n",
            "Epoch 137/500\n",
            "1/1 [==============================] - 0s 9ms/step - loss: 0.1879 - accuracy: 0.9756\n",
            "Epoch 138/500\n",
            "1/1 [==============================] - 0s 7ms/step - loss: 0.1843 - accuracy: 0.9756\n",
            "Epoch 139/500\n",
            "1/1 [==============================] - 0s 8ms/step - loss: 0.1807 - accuracy: 0.9756\n",
            "Epoch 140/500\n",
            "1/1 [==============================] - 0s 8ms/step - loss: 0.1771 - accuracy: 0.9756\n",
            "Epoch 141/500\n",
            "1/1 [==============================] - 0s 7ms/step - loss: 0.1736 - accuracy: 0.9756\n",
            "Epoch 142/500\n",
            "1/1 [==============================] - 0s 8ms/step - loss: 0.1701 - accuracy: 0.9791\n",
            "Epoch 143/500\n",
            "1/1 [==============================] - 0s 8ms/step - loss: 0.1667 - accuracy: 0.9791\n",
            "Epoch 144/500\n",
            "1/1 [==============================] - 0s 7ms/step - loss: 0.1634 - accuracy: 0.9791\n",
            "Epoch 145/500\n",
            "1/1 [==============================] - 0s 7ms/step - loss: 0.1601 - accuracy: 0.9791\n",
            "Epoch 146/500\n",
            "1/1 [==============================] - 0s 8ms/step - loss: 0.1569 - accuracy: 0.9791\n",
            "Epoch 147/500\n",
            "1/1 [==============================] - 0s 7ms/step - loss: 0.1537 - accuracy: 0.9791\n",
            "Epoch 148/500\n",
            "1/1 [==============================] - 0s 8ms/step - loss: 0.1506 - accuracy: 0.9791\n",
            "Epoch 149/500\n",
            "1/1 [==============================] - 0s 9ms/step - loss: 0.1475 - accuracy: 0.9791\n",
            "Epoch 150/500\n",
            "1/1 [==============================] - 0s 8ms/step - loss: 0.1445 - accuracy: 0.9791\n",
            "Epoch 151/500\n",
            "1/1 [==============================] - 0s 8ms/step - loss: 0.1415 - accuracy: 0.9791\n",
            "Epoch 152/500\n",
            "1/1 [==============================] - 0s 7ms/step - loss: 0.1387 - accuracy: 0.9791\n",
            "Epoch 153/500\n",
            "1/1 [==============================] - 0s 7ms/step - loss: 0.1359 - accuracy: 0.9791\n",
            "Epoch 154/500\n",
            "1/1 [==============================] - 0s 8ms/step - loss: 0.1331 - accuracy: 0.9756\n",
            "Epoch 155/500\n",
            "1/1 [==============================] - 0s 7ms/step - loss: 0.1305 - accuracy: 0.9756\n",
            "Epoch 156/500\n",
            "1/1 [==============================] - 0s 8ms/step - loss: 0.1279 - accuracy: 0.9756\n",
            "Epoch 157/500\n",
            "1/1 [==============================] - 0s 8ms/step - loss: 0.1253 - accuracy: 0.9756\n",
            "Epoch 158/500\n",
            "1/1 [==============================] - 0s 7ms/step - loss: 0.1229 - accuracy: 0.9756\n",
            "Epoch 159/500\n",
            "1/1 [==============================] - 0s 7ms/step - loss: 0.1204 - accuracy: 0.9756\n",
            "Epoch 160/500\n",
            "1/1 [==============================] - 0s 7ms/step - loss: 0.1181 - accuracy: 0.9756\n",
            "Epoch 161/500\n",
            "1/1 [==============================] - 0s 7ms/step - loss: 0.1157 - accuracy: 0.9756\n",
            "Epoch 162/500\n",
            "1/1 [==============================] - 0s 7ms/step - loss: 0.1135 - accuracy: 0.9756\n",
            "Epoch 163/500\n",
            "1/1 [==============================] - 0s 8ms/step - loss: 0.1113 - accuracy: 0.9756\n",
            "Epoch 164/500\n",
            "1/1 [==============================] - 0s 8ms/step - loss: 0.1092 - accuracy: 0.9756\n",
            "Epoch 165/500\n",
            "1/1 [==============================] - 0s 7ms/step - loss: 0.1071 - accuracy: 0.9756\n",
            "Epoch 166/500\n",
            "1/1 [==============================] - 0s 8ms/step - loss: 0.1050 - accuracy: 0.9756\n",
            "Epoch 167/500\n",
            "1/1 [==============================] - 0s 8ms/step - loss: 0.1030 - accuracy: 0.9756\n",
            "Epoch 168/500\n",
            "1/1 [==============================] - 0s 8ms/step - loss: 0.1011 - accuracy: 0.9756\n",
            "Epoch 169/500\n",
            "1/1 [==============================] - 0s 8ms/step - loss: 0.0992 - accuracy: 0.9756\n",
            "Epoch 170/500\n",
            "1/1 [==============================] - 0s 9ms/step - loss: 0.0973 - accuracy: 0.9791\n",
            "Epoch 171/500\n",
            "1/1 [==============================] - 0s 8ms/step - loss: 0.0955 - accuracy: 0.9791\n",
            "Epoch 172/500\n",
            "1/1 [==============================] - 0s 8ms/step - loss: 0.0938 - accuracy: 0.9826\n",
            "Epoch 173/500\n",
            "1/1 [==============================] - 0s 8ms/step - loss: 0.0921 - accuracy: 0.9826\n",
            "Epoch 174/500\n",
            "1/1 [==============================] - 0s 8ms/step - loss: 0.0904 - accuracy: 0.9826\n",
            "Epoch 175/500\n",
            "1/1 [==============================] - 0s 8ms/step - loss: 0.0888 - accuracy: 0.9826\n",
            "Epoch 176/500\n",
            "1/1 [==============================] - 0s 8ms/step - loss: 0.0872 - accuracy: 0.9826\n",
            "Epoch 177/500\n",
            "1/1 [==============================] - 0s 10ms/step - loss: 0.0857 - accuracy: 0.9826\n",
            "Epoch 178/500\n",
            "1/1 [==============================] - 0s 8ms/step - loss: 0.0842 - accuracy: 0.9826\n",
            "Epoch 179/500\n",
            "1/1 [==============================] - 0s 8ms/step - loss: 0.0827 - accuracy: 0.9826\n",
            "Epoch 180/500\n",
            "1/1 [==============================] - 0s 7ms/step - loss: 0.0813 - accuracy: 0.9826\n",
            "Epoch 181/500\n",
            "1/1 [==============================] - 0s 10ms/step - loss: 0.0799 - accuracy: 0.9826\n",
            "Epoch 182/500\n",
            "1/1 [==============================] - 0s 7ms/step - loss: 0.0785 - accuracy: 0.9826\n",
            "Epoch 183/500\n",
            "1/1 [==============================] - 0s 7ms/step - loss: 0.0772 - accuracy: 0.9826\n",
            "Epoch 184/500\n",
            "1/1 [==============================] - 0s 7ms/step - loss: 0.0759 - accuracy: 0.9826\n",
            "Epoch 185/500\n",
            "1/1 [==============================] - 0s 8ms/step - loss: 0.0746 - accuracy: 0.9826\n",
            "Epoch 186/500\n",
            "1/1 [==============================] - 0s 8ms/step - loss: 0.0733 - accuracy: 0.9861\n",
            "Epoch 187/500\n",
            "1/1 [==============================] - 0s 9ms/step - loss: 0.0721 - accuracy: 0.9861\n",
            "Epoch 188/500\n",
            "1/1 [==============================] - 0s 7ms/step - loss: 0.0709 - accuracy: 0.9861\n",
            "Epoch 189/500\n",
            "1/1 [==============================] - 0s 8ms/step - loss: 0.0697 - accuracy: 0.9861\n",
            "Epoch 190/500\n",
            "1/1 [==============================] - 0s 8ms/step - loss: 0.0686 - accuracy: 0.9861\n",
            "Epoch 191/500\n",
            "1/1 [==============================] - 0s 7ms/step - loss: 0.0675 - accuracy: 0.9861\n",
            "Epoch 192/500\n",
            "1/1 [==============================] - 0s 7ms/step - loss: 0.0664 - accuracy: 0.9861\n",
            "Epoch 193/500\n",
            "1/1 [==============================] - 0s 7ms/step - loss: 0.0653 - accuracy: 0.9861\n",
            "Epoch 194/500\n",
            "1/1 [==============================] - 0s 7ms/step - loss: 0.0642 - accuracy: 0.9861\n",
            "Epoch 195/500\n",
            "1/1 [==============================] - 0s 8ms/step - loss: 0.0632 - accuracy: 0.9861\n",
            "Epoch 196/500\n",
            "1/1 [==============================] - 0s 7ms/step - loss: 0.0622 - accuracy: 0.9861\n",
            "Epoch 197/500\n",
            "1/1 [==============================] - 0s 7ms/step - loss: 0.0612 - accuracy: 0.9861\n",
            "Epoch 198/500\n",
            "1/1 [==============================] - 0s 7ms/step - loss: 0.0603 - accuracy: 0.9861\n",
            "Epoch 199/500\n",
            "1/1 [==============================] - 0s 7ms/step - loss: 0.0593 - accuracy: 0.9861\n",
            "Epoch 200/500\n",
            "1/1 [==============================] - 0s 7ms/step - loss: 0.0584 - accuracy: 0.9861\n",
            "Epoch 201/500\n",
            "1/1 [==============================] - 0s 7ms/step - loss: 0.0575 - accuracy: 0.9861\n",
            "Epoch 202/500\n",
            "1/1 [==============================] - 0s 7ms/step - loss: 0.0566 - accuracy: 0.9861\n",
            "Epoch 203/500\n",
            "1/1 [==============================] - 0s 7ms/step - loss: 0.0558 - accuracy: 0.9861\n",
            "Epoch 204/500\n",
            "1/1 [==============================] - 0s 9ms/step - loss: 0.0549 - accuracy: 0.9861\n",
            "Epoch 205/500\n",
            "1/1 [==============================] - 0s 8ms/step - loss: 0.0541 - accuracy: 0.9861\n",
            "Epoch 206/500\n",
            "1/1 [==============================] - 0s 8ms/step - loss: 0.0533 - accuracy: 0.9861\n",
            "Epoch 207/500\n",
            "1/1 [==============================] - 0s 8ms/step - loss: 0.0525 - accuracy: 0.9861\n",
            "Epoch 208/500\n",
            "1/1 [==============================] - 0s 7ms/step - loss: 0.0517 - accuracy: 0.9861\n",
            "Epoch 209/500\n",
            "1/1 [==============================] - 0s 8ms/step - loss: 0.0509 - accuracy: 0.9861\n",
            "Epoch 210/500\n",
            "1/1 [==============================] - 0s 7ms/step - loss: 0.0502 - accuracy: 0.9861\n",
            "Epoch 211/500\n",
            "1/1 [==============================] - 0s 7ms/step - loss: 0.0495 - accuracy: 0.9861\n",
            "Epoch 212/500\n",
            "1/1 [==============================] - 0s 8ms/step - loss: 0.0487 - accuracy: 0.9861\n",
            "Epoch 213/500\n",
            "1/1 [==============================] - 0s 8ms/step - loss: 0.0480 - accuracy: 0.9861\n",
            "Epoch 214/500\n",
            "1/1 [==============================] - 0s 8ms/step - loss: 0.0473 - accuracy: 0.9861\n",
            "Epoch 215/500\n",
            "1/1 [==============================] - 0s 7ms/step - loss: 0.0467 - accuracy: 0.9861\n",
            "Epoch 216/500\n",
            "1/1 [==============================] - 0s 7ms/step - loss: 0.0460 - accuracy: 0.9861\n",
            "Epoch 217/500\n",
            "1/1 [==============================] - 0s 7ms/step - loss: 0.0453 - accuracy: 0.9861\n",
            "Epoch 218/500\n",
            "1/1 [==============================] - 0s 7ms/step - loss: 0.0447 - accuracy: 0.9861\n",
            "Epoch 219/500\n",
            "1/1 [==============================] - 0s 7ms/step - loss: 0.0441 - accuracy: 0.9861\n",
            "Epoch 220/500\n",
            "1/1 [==============================] - 0s 7ms/step - loss: 0.0434 - accuracy: 0.9861\n",
            "Epoch 221/500\n",
            "1/1 [==============================] - 0s 8ms/step - loss: 0.0428 - accuracy: 0.9861\n",
            "Epoch 222/500\n",
            "1/1 [==============================] - 0s 8ms/step - loss: 0.0422 - accuracy: 0.9861\n",
            "Epoch 223/500\n",
            "1/1 [==============================] - 0s 7ms/step - loss: 0.0417 - accuracy: 0.9861\n",
            "Epoch 224/500\n",
            "1/1 [==============================] - 0s 11ms/step - loss: 0.0411 - accuracy: 0.9861\n",
            "Epoch 225/500\n",
            "1/1 [==============================] - 0s 10ms/step - loss: 0.0405 - accuracy: 0.9861\n",
            "Epoch 226/500\n",
            "1/1 [==============================] - 0s 8ms/step - loss: 0.0400 - accuracy: 0.9861\n",
            "Epoch 227/500\n",
            "1/1 [==============================] - 0s 10ms/step - loss: 0.0394 - accuracy: 0.9861\n",
            "Epoch 228/500\n",
            "1/1 [==============================] - 0s 8ms/step - loss: 0.0389 - accuracy: 0.9861\n",
            "Epoch 229/500\n",
            "1/1 [==============================] - 0s 8ms/step - loss: 0.0384 - accuracy: 0.9861\n",
            "Epoch 230/500\n",
            "1/1 [==============================] - 0s 7ms/step - loss: 0.0379 - accuracy: 0.9895\n",
            "Epoch 231/500\n",
            "1/1 [==============================] - 0s 7ms/step - loss: 0.0374 - accuracy: 0.9930\n",
            "Epoch 232/500\n",
            "1/1 [==============================] - 0s 7ms/step - loss: 0.0369 - accuracy: 0.9930\n",
            "Epoch 233/500\n",
            "1/1 [==============================] - 0s 8ms/step - loss: 0.0364 - accuracy: 0.9930\n",
            "Epoch 234/500\n",
            "1/1 [==============================] - 0s 9ms/step - loss: 0.0359 - accuracy: 0.9930\n",
            "Epoch 235/500\n",
            "1/1 [==============================] - 0s 7ms/step - loss: 0.0355 - accuracy: 0.9930\n",
            "Epoch 236/500\n",
            "1/1 [==============================] - 0s 7ms/step - loss: 0.0350 - accuracy: 0.9930\n",
            "Epoch 237/500\n",
            "1/1 [==============================] - 0s 7ms/step - loss: 0.0346 - accuracy: 0.9930\n",
            "Epoch 238/500\n",
            "1/1 [==============================] - 0s 7ms/step - loss: 0.0341 - accuracy: 0.9930\n",
            "Epoch 239/500\n",
            "1/1 [==============================] - 0s 7ms/step - loss: 0.0337 - accuracy: 0.9930\n",
            "Epoch 240/500\n",
            "1/1 [==============================] - 0s 6ms/step - loss: 0.0333 - accuracy: 0.9930\n",
            "Epoch 241/500\n",
            "1/1 [==============================] - 0s 7ms/step - loss: 0.0329 - accuracy: 0.9930\n",
            "Epoch 242/500\n",
            "1/1 [==============================] - 0s 7ms/step - loss: 0.0324 - accuracy: 0.9930\n",
            "Epoch 243/500\n",
            "1/1 [==============================] - 0s 7ms/step - loss: 0.0320 - accuracy: 0.9930\n",
            "Epoch 244/500\n",
            "1/1 [==============================] - 0s 8ms/step - loss: 0.0316 - accuracy: 0.9930\n",
            "Epoch 245/500\n",
            "1/1 [==============================] - 0s 7ms/step - loss: 0.0313 - accuracy: 0.9930\n",
            "Epoch 246/500\n",
            "1/1 [==============================] - 0s 8ms/step - loss: 0.0309 - accuracy: 0.9965\n",
            "Epoch 247/500\n",
            "1/1 [==============================] - 0s 8ms/step - loss: 0.0305 - accuracy: 0.9965\n",
            "Epoch 248/500\n",
            "1/1 [==============================] - 0s 8ms/step - loss: 0.0301 - accuracy: 0.9965\n",
            "Epoch 249/500\n",
            "1/1 [==============================] - 0s 8ms/step - loss: 0.0298 - accuracy: 0.9965\n",
            "Epoch 250/500\n",
            "1/1 [==============================] - 0s 7ms/step - loss: 0.0294 - accuracy: 1.0000\n",
            "Epoch 251/500\n",
            "1/1 [==============================] - 0s 8ms/step - loss: 0.0291 - accuracy: 1.0000\n",
            "Epoch 252/500\n",
            "1/1 [==============================] - 0s 9ms/step - loss: 0.0287 - accuracy: 1.0000\n",
            "Epoch 253/500\n",
            "1/1 [==============================] - 0s 8ms/step - loss: 0.0284 - accuracy: 1.0000\n",
            "Epoch 254/500\n",
            "1/1 [==============================] - 0s 8ms/step - loss: 0.0280 - accuracy: 1.0000\n",
            "Epoch 255/500\n",
            "1/1 [==============================] - 0s 8ms/step - loss: 0.0277 - accuracy: 1.0000\n",
            "Epoch 256/500\n",
            "1/1 [==============================] - 0s 8ms/step - loss: 0.0274 - accuracy: 1.0000\n",
            "Epoch 257/500\n",
            "1/1 [==============================] - 0s 7ms/step - loss: 0.0271 - accuracy: 1.0000\n",
            "Epoch 258/500\n",
            "1/1 [==============================] - 0s 7ms/step - loss: 0.0268 - accuracy: 1.0000\n",
            "Epoch 259/500\n",
            "1/1 [==============================] - 0s 8ms/step - loss: 0.0264 - accuracy: 1.0000\n",
            "Epoch 260/500\n",
            "1/1 [==============================] - 0s 8ms/step - loss: 0.0261 - accuracy: 1.0000\n",
            "Epoch 261/500\n",
            "1/1 [==============================] - 0s 8ms/step - loss: 0.0258 - accuracy: 1.0000\n",
            "Epoch 262/500\n",
            "1/1 [==============================] - 0s 7ms/step - loss: 0.0255 - accuracy: 1.0000\n",
            "Epoch 263/500\n",
            "1/1 [==============================] - 0s 8ms/step - loss: 0.0253 - accuracy: 1.0000\n",
            "Epoch 264/500\n",
            "1/1 [==============================] - 0s 8ms/step - loss: 0.0250 - accuracy: 1.0000\n",
            "Epoch 265/500\n",
            "1/1 [==============================] - 0s 8ms/step - loss: 0.0247 - accuracy: 1.0000\n",
            "Epoch 266/500\n",
            "1/1 [==============================] - 0s 7ms/step - loss: 0.0244 - accuracy: 1.0000\n",
            "Epoch 267/500\n",
            "1/1 [==============================] - 0s 7ms/step - loss: 0.0241 - accuracy: 1.0000\n",
            "Epoch 268/500\n",
            "1/1 [==============================] - 0s 7ms/step - loss: 0.0239 - accuracy: 1.0000\n",
            "Epoch 269/500\n",
            "1/1 [==============================] - 0s 8ms/step - loss: 0.0236 - accuracy: 1.0000\n",
            "Epoch 270/500\n",
            "1/1 [==============================] - 0s 8ms/step - loss: 0.0234 - accuracy: 1.0000\n",
            "Epoch 271/500\n",
            "1/1 [==============================] - 0s 8ms/step - loss: 0.0231 - accuracy: 1.0000\n",
            "Epoch 272/500\n",
            "1/1 [==============================] - 0s 8ms/step - loss: 0.0228 - accuracy: 1.0000\n",
            "Epoch 273/500\n",
            "1/1 [==============================] - 0s 8ms/step - loss: 0.0226 - accuracy: 1.0000\n",
            "Epoch 274/500\n",
            "1/1 [==============================] - 0s 8ms/step - loss: 0.0224 - accuracy: 1.0000\n",
            "Epoch 275/500\n",
            "1/1 [==============================] - 0s 8ms/step - loss: 0.0221 - accuracy: 1.0000\n",
            "Epoch 276/500\n",
            "1/1 [==============================] - 0s 8ms/step - loss: 0.0219 - accuracy: 1.0000\n",
            "Epoch 277/500\n",
            "1/1 [==============================] - 0s 8ms/step - loss: 0.0216 - accuracy: 1.0000\n",
            "Epoch 278/500\n",
            "1/1 [==============================] - 0s 8ms/step - loss: 0.0214 - accuracy: 1.0000\n",
            "Epoch 279/500\n",
            "1/1 [==============================] - 0s 8ms/step - loss: 0.0212 - accuracy: 1.0000\n",
            "Epoch 280/500\n",
            "1/1 [==============================] - 0s 8ms/step - loss: 0.0210 - accuracy: 1.0000\n",
            "Epoch 281/500\n",
            "1/1 [==============================] - 0s 8ms/step - loss: 0.0207 - accuracy: 1.0000\n",
            "Epoch 282/500\n",
            "1/1 [==============================] - 0s 7ms/step - loss: 0.0205 - accuracy: 1.0000\n",
            "Epoch 283/500\n",
            "1/1 [==============================] - 0s 9ms/step - loss: 0.0203 - accuracy: 1.0000\n",
            "Epoch 284/500\n",
            "1/1 [==============================] - 0s 9ms/step - loss: 0.0201 - accuracy: 1.0000\n",
            "Epoch 285/500\n",
            "1/1 [==============================] - 0s 8ms/step - loss: 0.0199 - accuracy: 1.0000\n",
            "Epoch 286/500\n",
            "1/1 [==============================] - 0s 7ms/step - loss: 0.0197 - accuracy: 1.0000\n",
            "Epoch 287/500\n",
            "1/1 [==============================] - 0s 7ms/step - loss: 0.0195 - accuracy: 1.0000\n",
            "Epoch 288/500\n",
            "1/1 [==============================] - 0s 8ms/step - loss: 0.0193 - accuracy: 1.0000\n",
            "Epoch 289/500\n",
            "1/1 [==============================] - 0s 8ms/step - loss: 0.0191 - accuracy: 1.0000\n",
            "Epoch 290/500\n",
            "1/1 [==============================] - 0s 9ms/step - loss: 0.0189 - accuracy: 1.0000\n",
            "Epoch 291/500\n",
            "1/1 [==============================] - 0s 10ms/step - loss: 0.0187 - accuracy: 1.0000\n",
            "Epoch 292/500\n",
            "1/1 [==============================] - 0s 9ms/step - loss: 0.0185 - accuracy: 1.0000\n",
            "Epoch 293/500\n",
            "1/1 [==============================] - 0s 8ms/step - loss: 0.0183 - accuracy: 1.0000\n",
            "Epoch 294/500\n",
            "1/1 [==============================] - 0s 7ms/step - loss: 0.0182 - accuracy: 1.0000\n",
            "Epoch 295/500\n",
            "1/1 [==============================] - 0s 9ms/step - loss: 0.0180 - accuracy: 1.0000\n",
            "Epoch 296/500\n",
            "1/1 [==============================] - 0s 8ms/step - loss: 0.0178 - accuracy: 1.0000\n",
            "Epoch 297/500\n",
            "1/1 [==============================] - 0s 8ms/step - loss: 0.0176 - accuracy: 1.0000\n",
            "Epoch 298/500\n",
            "1/1 [==============================] - 0s 8ms/step - loss: 0.0174 - accuracy: 1.0000\n",
            "Epoch 299/500\n",
            "1/1 [==============================] - 0s 9ms/step - loss: 0.0173 - accuracy: 1.0000\n",
            "Epoch 300/500\n",
            "1/1 [==============================] - 0s 8ms/step - loss: 0.0171 - accuracy: 1.0000\n",
            "Epoch 301/500\n",
            "1/1 [==============================] - 0s 8ms/step - loss: 0.0169 - accuracy: 1.0000\n",
            "Epoch 302/500\n",
            "1/1 [==============================] - 0s 8ms/step - loss: 0.0168 - accuracy: 1.0000\n",
            "Epoch 303/500\n",
            "1/1 [==============================] - 0s 8ms/step - loss: 0.0166 - accuracy: 1.0000\n",
            "Epoch 304/500\n",
            "1/1 [==============================] - 0s 7ms/step - loss: 0.0164 - accuracy: 1.0000\n",
            "Epoch 305/500\n",
            "1/1 [==============================] - 0s 7ms/step - loss: 0.0163 - accuracy: 1.0000\n",
            "Epoch 306/500\n",
            "1/1 [==============================] - 0s 8ms/step - loss: 0.0161 - accuracy: 1.0000\n",
            "Epoch 307/500\n",
            "1/1 [==============================] - 0s 7ms/step - loss: 0.0160 - accuracy: 1.0000\n",
            "Epoch 308/500\n",
            "1/1 [==============================] - 0s 7ms/step - loss: 0.0158 - accuracy: 1.0000\n",
            "Epoch 309/500\n",
            "1/1 [==============================] - 0s 7ms/step - loss: 0.0157 - accuracy: 1.0000\n",
            "Epoch 310/500\n",
            "1/1 [==============================] - 0s 7ms/step - loss: 0.0155 - accuracy: 1.0000\n",
            "Epoch 311/500\n",
            "1/1 [==============================] - 0s 7ms/step - loss: 0.0154 - accuracy: 1.0000\n",
            "Epoch 312/500\n",
            "1/1 [==============================] - 0s 7ms/step - loss: 0.0152 - accuracy: 1.0000\n",
            "Epoch 313/500\n",
            "1/1 [==============================] - 0s 7ms/step - loss: 0.0151 - accuracy: 1.0000\n",
            "Epoch 314/500\n",
            "1/1 [==============================] - 0s 7ms/step - loss: 0.0150 - accuracy: 1.0000\n",
            "Epoch 315/500\n",
            "1/1 [==============================] - 0s 8ms/step - loss: 0.0148 - accuracy: 1.0000\n",
            "Epoch 316/500\n",
            "1/1 [==============================] - 0s 6ms/step - loss: 0.0147 - accuracy: 1.0000\n",
            "Epoch 317/500\n",
            "1/1 [==============================] - 0s 7ms/step - loss: 0.0145 - accuracy: 1.0000\n",
            "Epoch 318/500\n",
            "1/1 [==============================] - 0s 7ms/step - loss: 0.0144 - accuracy: 1.0000\n",
            "Epoch 319/500\n",
            "1/1 [==============================] - 0s 7ms/step - loss: 0.0143 - accuracy: 1.0000\n",
            "Epoch 320/500\n",
            "1/1 [==============================] - 0s 7ms/step - loss: 0.0141 - accuracy: 1.0000\n",
            "Epoch 321/500\n",
            "1/1 [==============================] - 0s 7ms/step - loss: 0.0140 - accuracy: 1.0000\n",
            "Epoch 322/500\n",
            "1/1 [==============================] - 0s 7ms/step - loss: 0.0139 - accuracy: 1.0000\n",
            "Epoch 323/500\n",
            "1/1 [==============================] - 0s 10ms/step - loss: 0.0138 - accuracy: 1.0000\n",
            "Epoch 324/500\n",
            "1/1 [==============================] - 0s 7ms/step - loss: 0.0136 - accuracy: 1.0000\n",
            "Epoch 325/500\n",
            "1/1 [==============================] - 0s 7ms/step - loss: 0.0135 - accuracy: 1.0000\n",
            "Epoch 326/500\n",
            "1/1 [==============================] - 0s 7ms/step - loss: 0.0134 - accuracy: 1.0000\n",
            "Epoch 327/500\n",
            "1/1 [==============================] - 0s 7ms/step - loss: 0.0133 - accuracy: 1.0000\n",
            "Epoch 328/500\n",
            "1/1 [==============================] - 0s 7ms/step - loss: 0.0131 - accuracy: 1.0000\n",
            "Epoch 329/500\n",
            "1/1 [==============================] - 0s 7ms/step - loss: 0.0130 - accuracy: 1.0000\n",
            "Epoch 330/500\n",
            "1/1 [==============================] - 0s 7ms/step - loss: 0.0129 - accuracy: 1.0000\n",
            "Epoch 331/500\n",
            "1/1 [==============================] - 0s 7ms/step - loss: 0.0128 - accuracy: 1.0000\n",
            "Epoch 332/500\n",
            "1/1 [==============================] - 0s 7ms/step - loss: 0.0127 - accuracy: 1.0000\n",
            "Epoch 333/500\n",
            "1/1 [==============================] - 0s 7ms/step - loss: 0.0126 - accuracy: 1.0000\n",
            "Epoch 334/500\n",
            "1/1 [==============================] - 0s 8ms/step - loss: 0.0125 - accuracy: 1.0000\n",
            "Epoch 335/500\n",
            "1/1 [==============================] - 0s 8ms/step - loss: 0.0124 - accuracy: 1.0000\n",
            "Epoch 336/500\n",
            "1/1 [==============================] - 0s 7ms/step - loss: 0.0122 - accuracy: 1.0000\n",
            "Epoch 337/500\n",
            "1/1 [==============================] - 0s 8ms/step - loss: 0.0121 - accuracy: 1.0000\n",
            "Epoch 338/500\n",
            "1/1 [==============================] - 0s 8ms/step - loss: 0.0120 - accuracy: 1.0000\n",
            "Epoch 339/500\n",
            "1/1 [==============================] - 0s 7ms/step - loss: 0.0119 - accuracy: 1.0000\n",
            "Epoch 340/500\n",
            "1/1 [==============================] - 0s 7ms/step - loss: 0.0118 - accuracy: 1.0000\n",
            "Epoch 341/500\n",
            "1/1 [==============================] - 0s 7ms/step - loss: 0.0117 - accuracy: 1.0000\n",
            "Epoch 342/500\n",
            "1/1 [==============================] - 0s 7ms/step - loss: 0.0116 - accuracy: 1.0000\n",
            "Epoch 343/500\n",
            "1/1 [==============================] - 0s 8ms/step - loss: 0.0115 - accuracy: 1.0000\n",
            "Epoch 344/500\n",
            "1/1 [==============================] - 0s 8ms/step - loss: 0.0114 - accuracy: 1.0000\n",
            "Epoch 345/500\n",
            "1/1 [==============================] - 0s 7ms/step - loss: 0.0113 - accuracy: 1.0000\n",
            "Epoch 346/500\n",
            "1/1 [==============================] - 0s 8ms/step - loss: 0.0112 - accuracy: 1.0000\n",
            "Epoch 347/500\n",
            "1/1 [==============================] - 0s 8ms/step - loss: 0.0111 - accuracy: 1.0000\n",
            "Epoch 348/500\n",
            "1/1 [==============================] - 0s 7ms/step - loss: 0.0111 - accuracy: 1.0000\n",
            "Epoch 349/500\n",
            "1/1 [==============================] - 0s 9ms/step - loss: 0.0110 - accuracy: 1.0000\n",
            "Epoch 350/500\n",
            "1/1 [==============================] - 0s 8ms/step - loss: 0.0109 - accuracy: 1.0000\n",
            "Epoch 351/500\n",
            "1/1 [==============================] - 0s 7ms/step - loss: 0.0108 - accuracy: 1.0000\n",
            "Epoch 352/500\n",
            "1/1 [==============================] - 0s 8ms/step - loss: 0.0107 - accuracy: 1.0000\n",
            "Epoch 353/500\n",
            "1/1 [==============================] - 0s 10ms/step - loss: 0.0106 - accuracy: 1.0000\n",
            "Epoch 354/500\n",
            "1/1 [==============================] - 0s 7ms/step - loss: 0.0105 - accuracy: 1.0000\n",
            "Epoch 355/500\n",
            "1/1 [==============================] - 0s 8ms/step - loss: 0.0104 - accuracy: 1.0000\n",
            "Epoch 356/500\n",
            "1/1 [==============================] - 0s 8ms/step - loss: 0.0103 - accuracy: 1.0000\n",
            "Epoch 357/500\n",
            "1/1 [==============================] - 0s 7ms/step - loss: 0.0103 - accuracy: 1.0000\n",
            "Epoch 358/500\n",
            "1/1 [==============================] - 0s 7ms/step - loss: 0.0102 - accuracy: 1.0000\n",
            "Epoch 359/500\n",
            "1/1 [==============================] - 0s 8ms/step - loss: 0.0101 - accuracy: 1.0000\n",
            "Epoch 360/500\n",
            "1/1 [==============================] - 0s 7ms/step - loss: 0.0100 - accuracy: 1.0000\n",
            "Epoch 361/500\n",
            "1/1 [==============================] - 0s 7ms/step - loss: 0.0099 - accuracy: 1.0000\n",
            "Epoch 362/500\n",
            "1/1 [==============================] - 0s 7ms/step - loss: 0.0099 - accuracy: 1.0000\n",
            "Epoch 363/500\n",
            "1/1 [==============================] - 0s 7ms/step - loss: 0.0098 - accuracy: 1.0000\n",
            "Epoch 364/500\n",
            "1/1 [==============================] - 0s 7ms/step - loss: 0.0097 - accuracy: 1.0000\n",
            "Epoch 365/500\n",
            "1/1 [==============================] - 0s 7ms/step - loss: 0.0096 - accuracy: 1.0000\n",
            "Epoch 366/500\n",
            "1/1 [==============================] - 0s 11ms/step - loss: 0.0095 - accuracy: 1.0000\n",
            "Epoch 367/500\n",
            "1/1 [==============================] - 0s 9ms/step - loss: 0.0095 - accuracy: 1.0000\n",
            "Epoch 368/500\n",
            "1/1 [==============================] - 0s 9ms/step - loss: 0.0094 - accuracy: 1.0000\n",
            "Epoch 369/500\n",
            "1/1 [==============================] - 0s 11ms/step - loss: 0.0093 - accuracy: 1.0000\n",
            "Epoch 370/500\n",
            "1/1 [==============================] - 0s 10ms/step - loss: 0.0092 - accuracy: 1.0000\n",
            "Epoch 371/500\n",
            "1/1 [==============================] - 0s 6ms/step - loss: 0.0092 - accuracy: 1.0000\n",
            "Epoch 372/500\n",
            "1/1 [==============================] - 0s 9ms/step - loss: 0.0091 - accuracy: 1.0000\n",
            "Epoch 373/500\n",
            "1/1 [==============================] - 0s 9ms/step - loss: 0.0090 - accuracy: 1.0000\n",
            "Epoch 374/500\n",
            "1/1 [==============================] - 0s 11ms/step - loss: 0.0090 - accuracy: 1.0000\n",
            "Epoch 375/500\n",
            "1/1 [==============================] - 0s 10ms/step - loss: 0.0089 - accuracy: 1.0000\n",
            "Epoch 376/500\n",
            "1/1 [==============================] - 0s 10ms/step - loss: 0.0088 - accuracy: 1.0000\n",
            "Epoch 377/500\n",
            "1/1 [==============================] - 0s 10ms/step - loss: 0.0088 - accuracy: 1.0000\n",
            "Epoch 378/500\n",
            "1/1 [==============================] - 0s 8ms/step - loss: 0.0087 - accuracy: 1.0000\n",
            "Epoch 379/500\n",
            "1/1 [==============================] - 0s 7ms/step - loss: 0.0086 - accuracy: 1.0000\n",
            "Epoch 380/500\n",
            "1/1 [==============================] - 0s 11ms/step - loss: 0.0086 - accuracy: 1.0000\n",
            "Epoch 381/500\n",
            "1/1 [==============================] - 0s 11ms/step - loss: 0.0085 - accuracy: 1.0000\n",
            "Epoch 382/500\n",
            "1/1 [==============================] - 0s 7ms/step - loss: 0.0084 - accuracy: 1.0000\n",
            "Epoch 383/500\n",
            "1/1 [==============================] - 0s 8ms/step - loss: 0.0084 - accuracy: 1.0000\n",
            "Epoch 384/500\n",
            "1/1 [==============================] - 0s 8ms/step - loss: 0.0083 - accuracy: 1.0000\n",
            "Epoch 385/500\n",
            "1/1 [==============================] - 0s 10ms/step - loss: 0.0082 - accuracy: 1.0000\n",
            "Epoch 386/500\n",
            "1/1 [==============================] - 0s 11ms/step - loss: 0.0082 - accuracy: 1.0000\n",
            "Epoch 387/500\n",
            "1/1 [==============================] - 0s 7ms/step - loss: 0.0081 - accuracy: 1.0000\n",
            "Epoch 388/500\n",
            "1/1 [==============================] - 0s 10ms/step - loss: 0.0081 - accuracy: 1.0000\n",
            "Epoch 389/500\n",
            "1/1 [==============================] - 0s 10ms/step - loss: 0.0080 - accuracy: 1.0000\n",
            "Epoch 390/500\n",
            "1/1 [==============================] - 0s 10ms/step - loss: 0.0079 - accuracy: 1.0000\n",
            "Epoch 391/500\n",
            "1/1 [==============================] - 0s 13ms/step - loss: 0.0079 - accuracy: 1.0000\n",
            "Epoch 392/500\n",
            "1/1 [==============================] - 0s 9ms/step - loss: 0.0078 - accuracy: 1.0000\n",
            "Epoch 393/500\n",
            "1/1 [==============================] - 0s 7ms/step - loss: 0.0078 - accuracy: 1.0000\n",
            "Epoch 394/500\n",
            "1/1 [==============================] - 0s 8ms/step - loss: 0.0077 - accuracy: 1.0000\n",
            "Epoch 395/500\n",
            "1/1 [==============================] - 0s 10ms/step - loss: 0.0077 - accuracy: 1.0000\n",
            "Epoch 396/500\n",
            "1/1 [==============================] - 0s 7ms/step - loss: 0.0076 - accuracy: 1.0000\n",
            "Epoch 397/500\n",
            "1/1 [==============================] - 0s 7ms/step - loss: 0.0075 - accuracy: 1.0000\n",
            "Epoch 398/500\n",
            "1/1 [==============================] - 0s 6ms/step - loss: 0.0075 - accuracy: 1.0000\n",
            "Epoch 399/500\n",
            "1/1 [==============================] - 0s 7ms/step - loss: 0.0074 - accuracy: 1.0000\n",
            "Epoch 400/500\n",
            "1/1 [==============================] - 0s 8ms/step - loss: 0.0074 - accuracy: 1.0000\n",
            "Epoch 401/500\n",
            "1/1 [==============================] - 0s 6ms/step - loss: 0.0073 - accuracy: 1.0000\n",
            "Epoch 402/500\n",
            "1/1 [==============================] - 0s 9ms/step - loss: 0.0073 - accuracy: 1.0000\n",
            "Epoch 403/500\n",
            "1/1 [==============================] - 0s 7ms/step - loss: 0.0072 - accuracy: 1.0000\n",
            "Epoch 404/500\n",
            "1/1 [==============================] - 0s 10ms/step - loss: 0.0072 - accuracy: 1.0000\n",
            "Epoch 405/500\n",
            "1/1 [==============================] - 0s 7ms/step - loss: 0.0071 - accuracy: 1.0000\n",
            "Epoch 406/500\n",
            "1/1 [==============================] - 0s 11ms/step - loss: 0.0071 - accuracy: 1.0000\n",
            "Epoch 407/500\n",
            "1/1 [==============================] - 0s 9ms/step - loss: 0.0070 - accuracy: 1.0000\n",
            "Epoch 408/500\n",
            "1/1 [==============================] - 0s 8ms/step - loss: 0.0070 - accuracy: 1.0000\n",
            "Epoch 409/500\n",
            "1/1 [==============================] - 0s 8ms/step - loss: 0.0069 - accuracy: 1.0000\n",
            "Epoch 410/500\n",
            "1/1 [==============================] - 0s 13ms/step - loss: 0.0069 - accuracy: 1.0000\n",
            "Epoch 411/500\n",
            "1/1 [==============================] - 0s 15ms/step - loss: 0.0068 - accuracy: 1.0000\n",
            "Epoch 412/500\n",
            "1/1 [==============================] - 0s 8ms/step - loss: 0.0068 - accuracy: 1.0000\n",
            "Epoch 413/500\n",
            "1/1 [==============================] - 0s 9ms/step - loss: 0.0067 - accuracy: 1.0000\n",
            "Epoch 414/500\n",
            "1/1 [==============================] - 0s 8ms/step - loss: 0.0067 - accuracy: 1.0000\n",
            "Epoch 415/500\n",
            "1/1 [==============================] - 0s 13ms/step - loss: 0.0066 - accuracy: 1.0000\n",
            "Epoch 416/500\n",
            "1/1 [==============================] - 0s 12ms/step - loss: 0.0066 - accuracy: 1.0000\n",
            "Epoch 417/500\n",
            "1/1 [==============================] - 0s 11ms/step - loss: 0.0066 - accuracy: 1.0000\n",
            "Epoch 418/500\n",
            "1/1 [==============================] - 0s 14ms/step - loss: 0.0065 - accuracy: 1.0000\n",
            "Epoch 419/500\n",
            "1/1 [==============================] - 0s 11ms/step - loss: 0.0065 - accuracy: 1.0000\n",
            "Epoch 420/500\n",
            "1/1 [==============================] - 0s 9ms/step - loss: 0.0064 - accuracy: 1.0000\n",
            "Epoch 421/500\n",
            "1/1 [==============================] - 0s 9ms/step - loss: 0.0064 - accuracy: 1.0000\n",
            "Epoch 422/500\n",
            "1/1 [==============================] - 0s 7ms/step - loss: 0.0063 - accuracy: 1.0000\n",
            "Epoch 423/500\n",
            "1/1 [==============================] - 0s 7ms/step - loss: 0.0063 - accuracy: 1.0000\n",
            "Epoch 424/500\n",
            "1/1 [==============================] - 0s 11ms/step - loss: 0.0062 - accuracy: 1.0000\n",
            "Epoch 425/500\n",
            "1/1 [==============================] - 0s 7ms/step - loss: 0.0062 - accuracy: 1.0000\n",
            "Epoch 426/500\n",
            "1/1 [==============================] - 0s 12ms/step - loss: 0.0062 - accuracy: 1.0000\n",
            "Epoch 427/500\n",
            "1/1 [==============================] - 0s 6ms/step - loss: 0.0061 - accuracy: 1.0000\n",
            "Epoch 428/500\n",
            "1/1 [==============================] - 0s 11ms/step - loss: 0.0061 - accuracy: 1.0000\n",
            "Epoch 429/500\n",
            "1/1 [==============================] - 0s 11ms/step - loss: 0.0060 - accuracy: 1.0000\n",
            "Epoch 430/500\n",
            "1/1 [==============================] - 0s 12ms/step - loss: 0.0060 - accuracy: 1.0000\n",
            "Epoch 431/500\n",
            "1/1 [==============================] - 0s 12ms/step - loss: 0.0060 - accuracy: 1.0000\n",
            "Epoch 432/500\n",
            "1/1 [==============================] - 0s 12ms/step - loss: 0.0059 - accuracy: 1.0000\n",
            "Epoch 433/500\n",
            "1/1 [==============================] - 0s 10ms/step - loss: 0.0059 - accuracy: 1.0000\n",
            "Epoch 434/500\n",
            "1/1 [==============================] - 0s 11ms/step - loss: 0.0058 - accuracy: 1.0000\n",
            "Epoch 435/500\n",
            "1/1 [==============================] - 0s 7ms/step - loss: 0.0058 - accuracy: 1.0000\n",
            "Epoch 436/500\n",
            "1/1 [==============================] - 0s 7ms/step - loss: 0.0058 - accuracy: 1.0000\n",
            "Epoch 437/500\n",
            "1/1 [==============================] - 0s 8ms/step - loss: 0.0057 - accuracy: 1.0000\n",
            "Epoch 438/500\n",
            "1/1 [==============================] - 0s 10ms/step - loss: 0.0057 - accuracy: 1.0000\n",
            "Epoch 439/500\n",
            "1/1 [==============================] - 0s 7ms/step - loss: 0.0057 - accuracy: 1.0000\n",
            "Epoch 440/500\n",
            "1/1 [==============================] - 0s 13ms/step - loss: 0.0056 - accuracy: 1.0000\n",
            "Epoch 441/500\n",
            "1/1 [==============================] - 0s 8ms/step - loss: 0.0056 - accuracy: 1.0000\n",
            "Epoch 442/500\n",
            "1/1 [==============================] - 0s 7ms/step - loss: 0.0055 - accuracy: 1.0000\n",
            "Epoch 443/500\n",
            "1/1 [==============================] - 0s 11ms/step - loss: 0.0055 - accuracy: 1.0000\n",
            "Epoch 444/500\n",
            "1/1 [==============================] - 0s 8ms/step - loss: 0.0055 - accuracy: 1.0000\n",
            "Epoch 445/500\n",
            "1/1 [==============================] - 0s 10ms/step - loss: 0.0054 - accuracy: 1.0000\n",
            "Epoch 446/500\n",
            "1/1 [==============================] - 0s 11ms/step - loss: 0.0054 - accuracy: 1.0000\n",
            "Epoch 447/500\n",
            "1/1 [==============================] - 0s 13ms/step - loss: 0.0054 - accuracy: 1.0000\n",
            "Epoch 448/500\n",
            "1/1 [==============================] - 0s 9ms/step - loss: 0.0053 - accuracy: 1.0000\n",
            "Epoch 449/500\n",
            "1/1 [==============================] - 0s 9ms/step - loss: 0.0053 - accuracy: 1.0000\n",
            "Epoch 450/500\n",
            "1/1 [==============================] - 0s 10ms/step - loss: 0.0053 - accuracy: 1.0000\n",
            "Epoch 451/500\n",
            "1/1 [==============================] - 0s 10ms/step - loss: 0.0052 - accuracy: 1.0000\n",
            "Epoch 452/500\n",
            "1/1 [==============================] - 0s 7ms/step - loss: 0.0052 - accuracy: 1.0000\n",
            "Epoch 453/500\n",
            "1/1 [==============================] - 0s 7ms/step - loss: 0.0052 - accuracy: 1.0000\n",
            "Epoch 454/500\n",
            "1/1 [==============================] - 0s 9ms/step - loss: 0.0051 - accuracy: 1.0000\n",
            "Epoch 455/500\n",
            "1/1 [==============================] - 0s 8ms/step - loss: 0.0051 - accuracy: 1.0000\n",
            "Epoch 456/500\n",
            "1/1 [==============================] - 0s 9ms/step - loss: 0.0051 - accuracy: 1.0000\n",
            "Epoch 457/500\n",
            "1/1 [==============================] - 0s 7ms/step - loss: 0.0050 - accuracy: 1.0000\n",
            "Epoch 458/500\n",
            "1/1 [==============================] - 0s 10ms/step - loss: 0.0050 - accuracy: 1.0000\n",
            "Epoch 459/500\n",
            "1/1 [==============================] - 0s 8ms/step - loss: 0.0050 - accuracy: 1.0000\n",
            "Epoch 460/500\n",
            "1/1 [==============================] - 0s 6ms/step - loss: 0.0050 - accuracy: 1.0000\n",
            "Epoch 461/500\n",
            "1/1 [==============================] - 0s 9ms/step - loss: 0.0049 - accuracy: 1.0000\n",
            "Epoch 462/500\n",
            "1/1 [==============================] - 0s 7ms/step - loss: 0.0049 - accuracy: 1.0000\n",
            "Epoch 463/500\n",
            "1/1 [==============================] - 0s 7ms/step - loss: 0.0049 - accuracy: 1.0000\n",
            "Epoch 464/500\n",
            "1/1 [==============================] - 0s 7ms/step - loss: 0.0048 - accuracy: 1.0000\n",
            "Epoch 465/500\n",
            "1/1 [==============================] - 0s 7ms/step - loss: 0.0048 - accuracy: 1.0000\n",
            "Epoch 466/500\n",
            "1/1 [==============================] - 0s 7ms/step - loss: 0.0048 - accuracy: 1.0000\n",
            "Epoch 467/500\n",
            "1/1 [==============================] - 0s 8ms/step - loss: 0.0047 - accuracy: 1.0000\n",
            "Epoch 468/500\n",
            "1/1 [==============================] - 0s 6ms/step - loss: 0.0047 - accuracy: 1.0000\n",
            "Epoch 469/500\n",
            "1/1 [==============================] - 0s 7ms/step - loss: 0.0047 - accuracy: 1.0000\n",
            "Epoch 470/500\n",
            "1/1 [==============================] - 0s 9ms/step - loss: 0.0047 - accuracy: 1.0000\n",
            "Epoch 471/500\n",
            "1/1 [==============================] - 0s 7ms/step - loss: 0.0046 - accuracy: 1.0000\n",
            "Epoch 472/500\n",
            "1/1 [==============================] - 0s 10ms/step - loss: 0.0046 - accuracy: 1.0000\n",
            "Epoch 473/500\n",
            "1/1 [==============================] - 0s 8ms/step - loss: 0.0046 - accuracy: 1.0000\n",
            "Epoch 474/500\n",
            "1/1 [==============================] - 0s 8ms/step - loss: 0.0045 - accuracy: 1.0000\n",
            "Epoch 475/500\n",
            "1/1 [==============================] - 0s 9ms/step - loss: 0.0045 - accuracy: 1.0000\n",
            "Epoch 476/500\n",
            "1/1 [==============================] - 0s 7ms/step - loss: 0.0045 - accuracy: 1.0000\n",
            "Epoch 477/500\n",
            "1/1 [==============================] - 0s 8ms/step - loss: 0.0045 - accuracy: 1.0000\n",
            "Epoch 478/500\n",
            "1/1 [==============================] - 0s 7ms/step - loss: 0.0044 - accuracy: 1.0000\n",
            "Epoch 479/500\n",
            "1/1 [==============================] - 0s 9ms/step - loss: 0.0044 - accuracy: 1.0000\n",
            "Epoch 480/500\n",
            "1/1 [==============================] - 0s 5ms/step - loss: 0.0044 - accuracy: 1.0000\n",
            "Epoch 481/500\n",
            "1/1 [==============================] - 0s 9ms/step - loss: 0.0044 - accuracy: 1.0000\n",
            "Epoch 482/500\n",
            "1/1 [==============================] - 0s 10ms/step - loss: 0.0043 - accuracy: 1.0000\n",
            "Epoch 483/500\n",
            "1/1 [==============================] - 0s 6ms/step - loss: 0.0043 - accuracy: 1.0000\n",
            "Epoch 484/500\n",
            "1/1 [==============================] - 0s 6ms/step - loss: 0.0043 - accuracy: 1.0000\n",
            "Epoch 485/500\n",
            "1/1 [==============================] - 0s 8ms/step - loss: 0.0043 - accuracy: 1.0000\n",
            "Epoch 486/500\n",
            "1/1 [==============================] - 0s 7ms/step - loss: 0.0042 - accuracy: 1.0000\n",
            "Epoch 487/500\n",
            "1/1 [==============================] - 0s 7ms/step - loss: 0.0042 - accuracy: 1.0000\n",
            "Epoch 488/500\n",
            "1/1 [==============================] - 0s 9ms/step - loss: 0.0042 - accuracy: 1.0000\n",
            "Epoch 489/500\n",
            "1/1 [==============================] - 0s 8ms/step - loss: 0.0042 - accuracy: 1.0000\n",
            "Epoch 490/500\n",
            "1/1 [==============================] - 0s 8ms/step - loss: 0.0041 - accuracy: 1.0000\n",
            "Epoch 491/500\n",
            "1/1 [==============================] - 0s 7ms/step - loss: 0.0041 - accuracy: 1.0000\n",
            "Epoch 492/500\n",
            "1/1 [==============================] - 0s 8ms/step - loss: 0.0041 - accuracy: 1.0000\n",
            "Epoch 493/500\n",
            "1/1 [==============================] - 0s 7ms/step - loss: 0.0041 - accuracy: 1.0000\n",
            "Epoch 494/500\n",
            "1/1 [==============================] - 0s 9ms/step - loss: 0.0040 - accuracy: 1.0000\n",
            "Epoch 495/500\n",
            "1/1 [==============================] - 0s 10ms/step - loss: 0.0040 - accuracy: 1.0000\n",
            "Epoch 496/500\n",
            "1/1 [==============================] - 0s 7ms/step - loss: 0.0040 - accuracy: 1.0000\n",
            "Epoch 497/500\n",
            "1/1 [==============================] - 0s 7ms/step - loss: 0.0040 - accuracy: 1.0000\n",
            "Epoch 498/500\n",
            "1/1 [==============================] - 0s 8ms/step - loss: 0.0039 - accuracy: 1.0000\n",
            "Epoch 499/500\n",
            "1/1 [==============================] - 0s 6ms/step - loss: 0.0039 - accuracy: 1.0000\n",
            "Epoch 500/500\n",
            "1/1 [==============================] - 0s 6ms/step - loss: 0.0039 - accuracy: 1.0000\n"
          ]
        }
      ]
    },
    {
      "cell_type": "code",
      "source": [
        "model.save(\"ckd.model\")"
      ],
      "metadata": {
        "colab": {
          "base_uri": "https://localhost:8080/"
        },
        "outputId": "a93ab26a-6bbe-4f7e-cb50-3b556f76c9c8",
        "id": "e5T4d1oavBpl"
      },
      "execution_count": null,
      "outputs": [
        {
          "output_type": "stream",
          "name": "stderr",
          "text": [
            "WARNING:absl:Found untraced functions such as _update_step_xla while saving (showing 1 of 1). These functions will not be directly callable after loading.\n"
          ]
        }
      ]
    },
    {
      "cell_type": "code",
      "source": [
        "y_pred=model.predict(X_test)\n"
      ],
      "metadata": {
        "colab": {
          "base_uri": "https://localhost:8080/"
        },
        "outputId": "0a0061c2-a9ca-4ea3-cca0-7674c5c97997",
        "id": "9VEcOqYhvBpm"
      },
      "execution_count": null,
      "outputs": [
        {
          "output_type": "stream",
          "name": "stdout",
          "text": [
            "4/4 [==============================] - 0s 2ms/step\n"
          ]
        }
      ]
    },
    {
      "cell_type": "code",
      "source": [
        "y_pred = (y_pred >= 0.5).astype(int)\n"
      ],
      "metadata": {
        "id": "K8mb_l4jvBpm"
      },
      "execution_count": null,
      "outputs": []
    },
    {
      "cell_type": "code",
      "source": [
        "for i in y_pred:\n",
        "  if i<=0.5:\n",
        "    y_pred[i]=0"
      ],
      "metadata": {
        "id": "wjtmoEDxvBpm"
      },
      "execution_count": null,
      "outputs": []
    },
    {
      "cell_type": "code",
      "source": [
        "from sklearn.metrics import accuracy_score,precision_score,f1_score,roc_auc_score, recall_score\n",
        "accuracy = accuracy_score(y_test, y_pred)\n",
        "precision = precision_score(y_test, y_pred, pos_label=1)\n",
        "recall = recall_score(y_test, y_pred)\n",
        "f_measure = f1_score(y_test, y_pred)\n",
        "auc = roc_auc_score(y_test, y_pred)\n",
        "gini_coefficient = 2 * roc_auc_score(y_test, y_pred) - 1\n",
        "print(\"Accuracy: \", accuracy*100)\n",
        "print(\"Precision: \", precision*100)\n",
        "print(\"Recall: \", recall*100)\n",
        "print(\"F-measure: \", round(f_measure*100,2))\n",
        "print(\"AUC: \", round(auc*100,2))\n",
        "print(\"Gini coefficient: \", round(gini_coefficient*100,2))"
      ],
      "metadata": {
        "colab": {
          "base_uri": "https://localhost:8080/"
        },
        "outputId": "903b3f3a-95f0-4ce3-f917-5cecc32f0435",
        "id": "dTi9JO_mvBpm"
      },
      "execution_count": null,
      "outputs": [
        {
          "output_type": "stream",
          "name": "stdout",
          "text": [
            "Accuracy:  99.11504424778761\n",
            "Precision:  100.0\n",
            "Recall:  98.64864864864865\n",
            "F-measure:  99.32\n",
            "AUC:  99.32\n",
            "Gini coefficient:  98.65\n"
          ]
        }
      ]
    },
    {
      "cell_type": "code",
      "source": [],
      "metadata": {
        "id": "T8QT89xvWQjN"
      },
      "execution_count": null,
      "outputs": []
    }
  ]
}